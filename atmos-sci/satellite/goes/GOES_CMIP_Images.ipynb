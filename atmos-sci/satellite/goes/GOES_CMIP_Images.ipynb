{
 "cells": [
  {
   "cell_type": "markdown",
   "metadata": {},
   "source": [
    "# GOES Infrared Satellite Images\n",
    "### Channels avaliable in this notebook are:\n",
    "* 13 - Clean Longwave IR:  10.3 $\\mu m$"
   ]
  },
  {
   "cell_type": "markdown",
   "metadata": {},
   "source": [
    "## Justin Richling\n",
    "## 09/20/18"
   ]
  },
  {
   "cell_type": "markdown",
   "metadata": {},
   "source": [
    "http://home.chpc.utah.edu/~u0553130/Brian_Blaylock/cgi-bin/goes16_download.cgi"
   ]
  },
  {
   "cell_type": "markdown",
   "metadata": {},
   "source": [
    "## Imports"
   ]
  },
  {
   "cell_type": "code",
   "execution_count": 1,
   "metadata": {},
   "outputs": [],
   "source": [
    "# Random Library Imports\n",
    "import subprocess,os,glob\n",
    "\n",
    "# Importing Datetime Libraries\n",
    "from datetime import datetime, date\n",
    "\n",
    "# CartoPy Map Plotting Libraires\n",
    "import cartopy.crs as ccrs\n",
    "import cartopy.feature as cfeature\n",
    "\n",
    "# Numerical and Scientific Libraries\n",
    "import numpy as np\n",
    "\n",
    "# NetCDF Libraries\n",
    "from netCDF4 import Dataset\n",
    "from netCDF4 import num2date\n",
    "\n",
    "# Matplotlib Plotting Libraries\n",
    "#import matplotlib\n",
    "import matplotlib.pyplot as plt\n",
    "from matplotlib.colors import LinearSegmentedColormap\n",
    "from matplotlib import patheffects\n",
    "\n",
    "import cartopy.io.shapereader as shpreader\n",
    "import cartopy.feature as cfeat"
   ]
  },
  {
   "cell_type": "code",
   "execution_count": 60,
   "metadata": {},
   "outputs": [],
   "source": [
    "from satpy import Scene, DatasetID\n",
    "from satpy.writers import get_enhanced_image"
   ]
  },
  {
   "cell_type": "code",
   "execution_count": 61,
   "metadata": {},
   "outputs": [],
   "source": [
    "filename = glob.glob(\"*L1b*\")\n",
    "scn = Scene(reader='abi_l1b', filenames=filename)\n",
    "product=\"C01\"\n",
    "scn.load([product])\n",
    " \n",
    "new_scn = scn.resample(resampler='native') #scn.min_area(),\n",
    "var = get_enhanced_image(new_scn[product]).data\n",
    "\n",
    "    # Get true color data to use later and reorder the dimensions so matplotlib can use the image\n",
    "    # Sadly, this operation is not lazy (bad performance) in xarray at the time of writing\n",
    "var = var.transpose('y', 'x', 'bands')\n",
    "abi_crs = var.attrs['area'].to_cartopy_crs()"
   ]
  },
  {
   "cell_type": "code",
   "execution_count": 56,
   "metadata": {},
   "outputs": [],
   "source": [
    "import pandas as pd\n",
    "ir = pd.read_csv(\"/Users/chowdahead/Documents/ir_cmap.csv\")\n",
    "ir_colors = []\n",
    "for i in range(0,256):\n",
    "    ir_colors.append((float(ir[\"r\"][i]),\n",
    "                               float(ir[\"g\"][i]),\n",
    "                               float(ir[\"b\"][i]),\n",
    "                               float(ir[\"a\"][i])\n",
    "                             ))\n",
    "cmap_name=\"ir\"\n",
    "ir_cmap = LinearSegmentedColormap.from_list(\n",
    "            cmap_name, ir_colors)"
   ]
  },
  {
   "cell_type": "code",
   "execution_count": 2,
   "metadata": {},
   "outputs": [],
   "source": [
    "# Set the font \n",
    "font = {'family': 'serif',\n",
    "        'color':  'darkred',\n",
    "        'weight': 'normal',\n",
    "        'size': 18,\n",
    "        }"
   ]
  },
  {
   "cell_type": "code",
   "execution_count": 3,
   "metadata": {},
   "outputs": [],
   "source": [
    "# Unidata/MetPy Dictionary of GOES channels\n",
    "\n",
    "channel_list = {u'1 - Blue Band 0.47 \\u03BCm': 1,\n",
    "                u'2 - Red Band 0.64 \\u03BCm': 2,\n",
    "                u'3 - Veggie Band 0.86 \\u03BCm': 3,\n",
    "                u'4 - Cirrus Band 1.37 \\u03BCm': 4,\n",
    "                u'5 - Snow/Ice Band 1.6 \\u03BCm': 5,\n",
    "                u'6 - Cloud Particle Size Band 2.2 \\u03BCm': 6,\n",
    "                u'7 - Shortwave Window Band 3.9 \\u03BCm': 7,\n",
    "                u'8 - Upper-Level Tropo. WV Band 6.2 \\u03BCm': 8,\n",
    "                u'9 - Mid-Level Tropo. WV Band 6.9 \\u03BCm': 9,\n",
    "                u'10 - Low-Level WV Band 7.3 \\u03BCm': 10,\n",
    "                u'11 - Cloud-Top Phase Band 8.4 \\u03BCm': 11,\n",
    "                u'12 - Ozone Band 9.6 \\u03BCm': 12,\n",
    "                u'13 - Clean IR Longwave Band 10.3 \\u03BCm': 13,\n",
    "                u'14 - IR Longwave Band 11.2 \\u03BCm': 14,\n",
    "                u'15 - Dirty Longwave Band 12.3 \\u03BCm': 15,\n",
    "                u'16 - CO2 Longwave IR 13.3 \\u03BCm': 16}"
   ]
  },
  {
   "cell_type": "markdown",
   "metadata": {},
   "source": [
    "# Archived Data"
   ]
  },
  {
   "cell_type": "code",
   "execution_count": 5,
   "metadata": {},
   "outputs": [
    {
     "name": "stdout",
     "output_type": "stream",
     "text": [
      "date: 2019-08-25 0008Z\n",
      "Julian number:  237\n"
     ]
    }
   ],
   "source": [
    "# Set the date you want to convert\n",
    "dt = datetime(2019, 8, 25)\n",
    "#dt = now\n",
    "\n",
    "# Start of year for reference\n",
    "d0 = datetime(2019, 1, 1)\n",
    "\n",
    "# Find the difference and add one to get the day number of the calander year\n",
    "delta = dt - d0\n",
    "Julian_Day = delta.days+1\n",
    "if Julian_Day < 100:\n",
    "    Julian_Day = \"0\"+str(Julian_Day)\n",
    "    if int(Julian_Day) < 10:\n",
    "        Julian_Day = \"0\"+str(Julian_Day)\n",
    "\n",
    "Year = str('{0:%Y}'.format(dt))\n",
    "Month = str('{0:%m}'.format(dt))\n",
    "Day = str('{0:%d}'.format(dt))\n",
    "Hour = str('{0:%H}'.format(dt))\n",
    "Minute = str('{0:%m}'.format(dt))\n",
    "\n",
    "#'{0:%Y}'.format(dt)+\"-\"+'{0:%m}'.format(dt)+\"-\"+'{0:%d}'.format(dt)+\"-\"+'{0:%H}'.format(dt)\n",
    "print(f\"date: {Year}-{Month}-{Day} {Hour}{Minute}Z\")\n",
    "\n",
    "# Julian day (Day)\n",
    "print(\"Julian number: \",Julian_Day)"
   ]
  },
  {
   "cell_type": "raw",
   "metadata": {},
   "source": [
    "Julian_Day = 139"
   ]
  },
  {
   "cell_type": "raw",
   "metadata": {},
   "source": [
    "! rclone ls Public-AWS:noaa-goes16/ABI-L2-CMIPC/2020/130/18"
   ]
  },
  {
   "cell_type": "code",
   "execution_count": 35,
   "metadata": {},
   "outputs": [
    {
     "name": "stdout",
     "output_type": "stream",
     "text": [
      "CPU times: user 306 ms, sys: 102 ms, total: 408 ms\n",
      "Wall time: 14.9 s\n"
     ]
    }
   ],
   "source": [
    "%%time\n",
    "\n",
    "# rclone AWS data access via remote server\n",
    "# Day must be Julian day number\n",
    "! rclone --include \"OR_*-M6C13*.nc\" copy Public-AWS:noaa-goes16/ABI-L2-CMIPC/2020/130/00/ ./\n"
   ]
  },
  {
   "cell_type": "code",
   "execution_count": 15,
   "metadata": {},
   "outputs": [
    {
     "data": {
      "text/plain": [
       "'/Users/chowdahead/Downloads/WX_Data/GOES_Data'"
      ]
     },
     "execution_count": 15,
     "metadata": {},
     "output_type": "execute_result"
    }
   ],
   "source": [
    "# Check to make sure the data went to the right path\n",
    "GOES_file_path = \"/Users/chowdahead/Downloads/WX_Data/GOES_Data\"\n",
    "#GOES_file_path = \"GOES_Data\"\n",
    "GOES_file_path"
   ]
  },
  {
   "cell_type": "markdown",
   "metadata": {},
   "source": [
    "# --------------------------------------------------------------------------------------------"
   ]
  },
  {
   "cell_type": "markdown",
   "metadata": {},
   "source": [
    "# Populate the Lists for Different Channels"
   ]
  },
  {
   "cell_type": "code",
   "execution_count": 10,
   "metadata": {},
   "outputs": [],
   "source": [
    "os.chdir(\"/Users/chowdahead/Downloads/WX_Data/GOES_Data\")"
   ]
  },
  {
   "cell_type": "code",
   "execution_count": 41,
   "metadata": {},
   "outputs": [
    {
     "name": "stdout",
     "output_type": "stream",
     "text": [
      "12\n",
      "/Users/chowdahead/Downloads/WX_Data/GOES_Data/OR_ABI-L2-CMIPC-M6C13_G16_s20201300001113_e20201300003497_c20201300004017.nc\n"
     ]
    }
   ],
   "source": [
    "GOES_files = []\n",
    "\n",
    "for name in glob.glob(GOES_file_path+'/*CMIPC*M6C13*.nc'):\n",
    "    GOES_files.append(name)\n",
    "    #for name in glob.glob(GOES_sample_path+'OR*L2*RadC*C09*G16*s'+Year+str(Julian_Day)+'*.nc'):\n",
    "    #    GOES16_samples_9.append(name)\n",
    "\n",
    "GOES_files = sorted(GOES_files)\n",
    "print(len(GOES_files))\n",
    "print(GOES_files[0])"
   ]
  },
  {
   "cell_type": "markdown",
   "metadata": {},
   "source": [
    "# Single images here; loops are further down in the notebook"
   ]
  },
  {
   "cell_type": "markdown",
   "metadata": {},
   "source": [
    "### Set the lat/lon extent of the map"
   ]
  },
  {
   "cell_type": "code",
   "execution_count": 51,
   "metadata": {},
   "outputs": [],
   "source": [
    "# Lon/Lat Box\n",
    "\n",
    "# [Lon_0, Lon_1, Lat_0, Lat_1]\n",
    "# CONUS\n",
    "extent = [-120., -70, 20., 50.] \n",
    "#extent = [-102.97, -96.97, 35.75, 39.75]"
   ]
  },
  {
   "cell_type": "markdown",
   "metadata": {},
   "source": [
    "## IR - Channel 13\n",
    "With the help of searching through some Unidata public emails, I was able to find the color table for the NESDIS IR colorbar. \n",
    "* https://www.unidata.ucar.edu/mailing_lists/archives/ldm-users/2018/msg00055.html"
   ]
  },
  {
   "cell_type": "code",
   "execution_count": 67,
   "metadata": {},
   "outputs": [
    {
     "name": "stdout",
     "output_type": "stream",
     "text": [
      "/Users/chowdahead\n"
     ]
    }
   ],
   "source": [
    "cd ~/"
   ]
  },
  {
   "cell_type": "code",
   "execution_count": 69,
   "metadata": {},
   "outputs": [
    {
     "name": "stdout",
     "output_type": "stream",
     "text": [
      "Addition.java\r\n",
      "\u001b[1m\u001b[34mApplications\u001b[m\u001b[m/\r\n",
      "BUFR_draft-Copy1.ipynb\r\n",
      "BUFR_draft.ipynb\r\n",
      "Bokeh_geospatial_data_draft-Copy1.ipynb\r\n",
      "Bokeh_geospatial_data_draft.ipynb\r\n",
      "COMET_glm_2020_1min.ipynb\r\n",
      "COMET_glm_2020_5min_FED.ipynb\r\n",
      "\u001b[1m\u001b[34mCountyLevel_Data_Sets_Download_Data__18026\u001b[m\u001b[m/\r\n",
      "Da_Sun_yayur.png\r\n",
      "Decorator_Example.ipynb\r\n",
      "\u001b[1m\u001b[34mDesktop\u001b[m\u001b[m/\r\n",
      "DesktopSounding_DNR_2020_3_10_12Z.png\r\n",
      "DesktopSounding_GJT_2020_3_10_12Z.png\r\n",
      "\u001b[1m\u001b[34mDocuments\u001b[m\u001b[m/\r\n",
      "\u001b[1m\u001b[34mDownloads\u001b[m\u001b[m/\r\n",
      "\u001b[1m\u001b[34mDynamics-Project\u001b[m\u001b[m/\r\n",
      "EarthLab_Tutorial.ipynb\r\n",
      "Enumerate_example.ipynb\r\n",
      "\u001b[1m\u001b[34mExample-Repo\u001b[m\u001b[m/\r\n",
      "GFS_20km_Forecast_Daily.ipynb\r\n",
      "GFS_20km_Forecast_Daily_10m_Winds.ipynb\r\n",
      "GFS_20km_Forecast_Daily_Vert_Velocity.ipynb\r\n",
      "GFS_20km_Forecast_Daily_WetBulb_Temp.ipynb\r\n",
      "GFS_20km_Forecast_Daily_WetBulb_Temp_broken.ipynb\r\n",
      "GFS_Daily_One_Notebook_Py.py\r\n",
      "GOES_Daily-Copy1.ipynb\r\n",
      "GOES_Daily.ipynb\r\n",
      "\u001b[1m\u001b[34mGOES_Data\u001b[m\u001b[m/\r\n",
      "GOES_SUVI_FITS.ipynb\r\n",
      "\u001b[1m\u001b[34mGitHub-Classroom\u001b[m\u001b[m/\r\n",
      "\u001b[1m\u001b[34mHelloWorld\u001b[m\u001b[m/\r\n",
      "HouseBoat\r\n",
      "HouseBoat.class\r\n",
      "HouseBoat.java\r\n",
      "\u001b[1m\u001b[34mJupyter_Notebooks\u001b[m\u001b[m/\r\n",
      "\u001b[1m\u001b[34mJustin-Student\u001b[m\u001b[m/\r\n",
      "\u001b[1m\u001b[34mLibrary\u001b[m\u001b[m/\r\n",
      "\u001b[1m\u001b[34mMOD02QKM\u001b[m\u001b[m/\r\n",
      "Maps_Forecast_Daily.ipynb\r\n",
      "\u001b[1m\u001b[34mMergeConflict\u001b[m\u001b[m/\r\n",
      "MetPy_Frontogenesis_Example_NOT_WORKING.ipynb\r\n",
      "\u001b[1m\u001b[34mModule_1p4\u001b[m\u001b[m/\r\n",
      "\u001b[1m\u001b[34mMovies\u001b[m\u001b[m/\r\n",
      "\u001b[1m\u001b[34mMusic\u001b[m\u001b[m/\r\n",
      "NHL_Data_draft.ipynb\r\n",
      "NHL_Data_draft_Plotly.ipynb\r\n",
      "\u001b[1m\u001b[34mNWS-Watch-Warn\u001b[m\u001b[m/\r\n",
      "OR_ABI-L1b-RadC-M6C01_G16_s20201341801116_e20201341803489_c20201341803533.nc\r\n",
      "\u001b[1m\u001b[34mPictures\u001b[m\u001b[m/\r\n",
      "\u001b[1m\u001b[34mPublic\u001b[m\u001b[m/\r\n",
      "PyNio_Basics.ipynb\r\n",
      "\u001b[1m\u001b[34mPycharmProjects\u001b[m\u001b[m/\r\n",
      "Python_Class_THREDDS_Example.ipynb\r\n",
      "\u001b[1m\u001b[34mPython_Scripts\u001b[m\u001b[m/\r\n",
      "RAP_13km_Forecast_Daily.ipynb\r\n",
      "Simple.class\r\n",
      "Simple.java\r\n",
      "THREDDS_Class_Example-Copy1.ipynb\r\n",
      "THREDDS_Class_Example.ipynb\r\n",
      "THREDDS_Class_Example_draft.ipynb\r\n",
      "UWyo_Upper_Air_Text_Scrape_cmd.py\r\n",
      "Untitled.ipynb\r\n",
      "Untitled1.ipynb\r\n",
      "Untitled2.ipynb\r\n",
      "User_Input.java\r\n",
      "\u001b[1m\u001b[34mVirtualBox VMs\u001b[m\u001b[m/\r\n",
      "\u001b[1m\u001b[34mWPC-SigWx-Shapefile\u001b[m\u001b[m/\r\n",
      "\u001b[1m\u001b[34mWRF\u001b[m\u001b[m/\r\n",
      "\u001b[1m\u001b[34mWX_Images\u001b[m\u001b[m/\r\n",
      "\u001b[1m\u001b[34manaconda3\u001b[m\u001b[m/\r\n",
      "\u001b[1m\u001b[34mbasic-board\u001b[m\u001b[m/\r\n",
      "bokeh_tile_example.html\r\n",
      "c2f.py\r\n",
      "\u001b[1m\u001b[34mcampus-advisor-training-MethaneRain\u001b[m\u001b[m/\r\n",
      "cdsapirc\r\n",
      "default.profraw\r\n",
      "\u001b[1m\u001b[34mdoodle\u001b[m\u001b[m/\r\n",
      "\u001b[1m\u001b[34mearth-analytics\u001b[m\u001b[m/\r\n",
      "\u001b[1m\u001b[34meclipse\u001b[m\u001b[m/\r\n",
      "\u001b[1m\u001b[34meclipse-workspace\u001b[m\u001b[m/\r\n",
      "\u001b[1m\u001b[34mflask-app\u001b[m\u001b[m/\r\n",
      "\u001b[1m\u001b[34mgempak\u001b[m\u001b[m/\r\n",
      "gempak-7.5.1.tar.gz\r\n",
      "\u001b[1m\u001b[34mglmtools\u001b[m\u001b[m/\r\n",
      "h5py.ipynb\r\n",
      "hello.ipynb\r\n",
      "\u001b[1m\u001b[34mhelloapp\u001b[m\u001b[m/\r\n",
      "hgt.2016_timeconvert.nc\r\n",
      "hvplot_bokeh_tornado_reports.ipynb\r\n",
      "hvplot_tornado_ahhh.ipynb\r\n",
      "javascript-example-broken.html\r\n",
      "javascript-example.html\r\n",
      "javascript_button_html_example.html\r\n",
      "javascript_buttons_htmlcode.html\r\n",
      "javascript_example.js\r\n",
      "\u001b[1m\u001b[34mjr-wx-nerd\u001b[m\u001b[m/\r\n",
      "line_hvplot.html\r\n",
      "long_range_river_flood_risk_data.csv\r\n",
      "long_range_river_flood_risk_data2.csv\r\n",
      "magic.py\r\n",
      "merged_netcdf_files_verify.ipynb\r\n",
      "\u001b[1m\u001b[34mmy-app\u001b[m\u001b[m/\r\n",
      "\u001b[1m\u001b[34mmy-app2\u001b[m\u001b[m/\r\n",
      "\u001b[1m\u001b[34mmyproject\u001b[m\u001b[m/\r\n",
      "netcdf_example.ipynb\r\n",
      "netcdf_open_example.c\r\n",
      "\u001b[1m\u001b[34mrclone_data_examples\u001b[m\u001b[m/\r\n",
      "scikit_learn_basics.ipynb\r\n",
      "scotty_11_11.py\r\n",
      "shapefile_workbook.ipynb\r\n",
      "string_int_float_format_examples.ipynb\r\n",
      "test-ncl-girb.ipynb\r\n",
      "test-node.js\r\n",
      "tile.html\r\n",
      "tornado_report_hvplot.html\r\n",
      "untitled0.py\r\n",
      "untitled1.py\r\n",
      "untitled11.py\r\n",
      "untitled2.py\r\n",
      "untitled3.py\r\n",
      "untitled4.py\r\n",
      "untitled5.py\r\n",
      "untitled6.py\r\n",
      "untitled7.py\r\n",
      "\u001b[1m\u001b[34mwrfoutput\u001b[m\u001b[m/\r\n"
     ]
    }
   ],
   "source": [
    "ls"
   ]
  },
  {
   "cell_type": "code",
   "execution_count": 68,
   "metadata": {},
   "outputs": [
    {
     "ename": "ModuleNotFoundError",
     "evalue": "No module named 'GOES_IR_ColorMap'",
     "output_type": "error",
     "traceback": [
      "\u001b[0;31m---------------------------------------------------------------------------\u001b[0m",
      "\u001b[0;31mModuleNotFoundError\u001b[0m                       Traceback (most recent call last)",
      "\u001b[0;32m<ipython-input-68-cc0f6d8ebc24>\u001b[0m in \u001b[0;36m<module>\u001b[0;34m\u001b[0m\n\u001b[0;32m----> 1\u001b[0;31m \u001b[0;32mimport\u001b[0m \u001b[0mGOES_IR_ColorMap\u001b[0m \u001b[0;32mas\u001b[0m \u001b[0mIR\u001b[0m\u001b[0;34m\u001b[0m\u001b[0;34m\u001b[0m\u001b[0m\n\u001b[0m",
      "\u001b[0;31mModuleNotFoundError\u001b[0m: No module named 'GOES_IR_ColorMap'"
     ]
    }
   ],
   "source": [
    "import GOES_IR_ColorMap as IR"
   ]
  },
  {
   "cell_type": "markdown",
   "metadata": {},
   "source": [
    "<h1>We can also define a map projection function that can take details of the different channels</h1>\n",
    "\n",
    "* path - data file location\n",
    "* savepath - image save location\n",
    "* my_cmap - (optional) desired color table\n",
    "* vmin - (optional) min value for plotting\n",
    "* vmax - (optional) max value for plotting"
   ]
  },
  {
   "cell_type": "raw",
   "metadata": {},
   "source": [
    "def plot_goes(path,savepath,extent,my_cmap=None,vmin=None,vmax=None):\n",
    "    vis_name = path[-76:]\n",
    "    title = \"GOES-\"+vis_name[23:25]+\" Ch \"+str(channel)+\" - IR\"\n",
    "    nc = Dataset(path)\n",
    "    data = nc.variables['CMI'][:]\n",
    "            #ch2nc.close()\n",
    "            #ch2nc = None\n",
    "        \n",
    "    sat_h = nc.variables['goes_imager_projection'].perspective_point_height\n",
    "    \n",
    "    X = nc.variables['x'][:] * sat_h\n",
    "    Y = nc.variables['y'][:] * sat_h\n",
    "\n",
    "    proj_var = nc.variables['goes_imager_projection']\n",
    "    sat_height = proj_var.perspective_point_height\n",
    "    central_lon = proj_var.longitude_of_projection_origin\n",
    "    semi_major = proj_var.semi_major_axis\n",
    "    semi_minor = proj_var.semi_minor_axis\n",
    "\n",
    "# Create new figure\n",
    "    #fig = plt.figure(figsize=(17., 11.))\n",
    "    fig = plt.figure(figsize=(17,11))\n",
    "\n",
    "# Add state boundaries to plot\n",
    "    states_boundaries = cfeature.NaturalEarthFeature(category='cultural',\n",
    "        name='admin_1_states_provinces_lakes',scale='50m', facecolor='none')\n",
    "\n",
    "    country_borders = cfeature.NaturalEarthFeature(category='cultural',\n",
    "        name='admin_0_countries',scale='50m', facecolor='none')\n",
    "    \n",
    "# Set Projection of Plot\n",
    "    globe = ccrs.Globe(semimajor_axis=semi_major, semiminor_axis=semi_minor)\n",
    "    crs = ccrs.Geostationary(central_longitude=central_lon, satellite_height=sat_height, globe=globe)\n",
    "    #plotcrs = ccrs.LambertConformal(central_latitude=[30, 60], central_longitude=-100)\n",
    "    plotcrs = ccrs.LambertConformal(central_longitude=-99.969 ,central_latitude=37.761)\n",
    "\n",
    "# Add the map and set the extent\n",
    "    ax = plt.subplot(111, projection=plotcrs) \n",
    "        \n",
    "    #reader = shpreader.Reader('/Users/chowdahead/Documents/shapefiles/countyl010g_shp_nt00964/countyl010g.shp')\n",
    "    #counties = list(reader.geometries())\n",
    "    #COUNTIES = cfeat.ShapelyFeature(counties,ccrs.PlateCarree())\n",
    "    #ax.add_feature(COUNTIES, facecolor='none',edgecolor='r')\n",
    "# Find and convert Julian day to date    \n",
    "    import datetime as DT\n",
    "    dt = datetime(2019,1,1)\n",
    "    #print(vis_name[31:34])\n",
    "    dtdelta = DT.timedelta(days=int(vis_name[31:34])-1)\n",
    "    Day = dt + dtdelta\n",
    "    im_file = vis_name[27:31]+\"_\"+'{0:%m_%d}'.format(Day)+\"_\"+vis_name[34:36]+vis_name[36:38]\n",
    "    title_date = vis_name[27:31]+\" \"+'{0:%B %d}'.format(Day)+\" \"+vis_name[34:36]+\"\"+vis_name[36:38]+\"Z\"\n",
    "    im_file = vis_name[27:31]+\"_\"+'{0:%m_%d}'.format(Day)+\"_\"+vis_name[34:36]+vis_name[36:38]\n",
    "\n",
    "# Set the plot title    \n",
    "    #plt.title(title,loc='left',fontdict=font)\n",
    "    #plt.title(title_date,loc='right',fontdict=font)\n",
    "    \n",
    "    text_time = ax.text(.995, 0.01, \n",
    "        vis_name[27:31]+\" \"+'{0:%B %d}'.format(Day)+\" \"+vis_name[34:36]+\"\"+vis_name[36:38]+\"Z\",\n",
    "        horizontalalignment='right', transform=ax.transAxes,\n",
    "        color='white', fontsize=20, weight='bold')\n",
    "\n",
    "    text_time2 = ax.text(0.005, 0.01, \n",
    "        title,\n",
    "        horizontalalignment='left', transform=ax.transAxes,\n",
    "        color='white', fontsize=20, weight='bold')\n",
    "\n",
    "    outline_effect = [patheffects.withStroke(linewidth=5, foreground='black')]\n",
    "    text_time.set_path_effects(outline_effect)\n",
    "    text_time2.set_path_effects(outline_effect)\n",
    "\n",
    "# Add state boundaries to plot\n",
    "    ax.add_feature(states_boundaries, edgecolor='blue', linewidth=1)\n",
    "\n",
    "# Add country borders to plot\n",
    "    ax.add_feature(country_borders, edgecolor='black', linewidth=1)\n",
    "\n",
    "# Set the plotting extent    \n",
    "    #ax.set_extent(extent, ccrs.PlateCarree()) # Eastern Pacific\n",
    "\n",
    "# Plot the image\n",
    "    #img = ax.imshow(data[:],origin='upper',vmin=vmin,vmax=vmax,extent=(X.min(), X.max(), Y.min(), Y.max()),\n",
    "    #    interpolation='nearest',transform=crs,cmap=my_cmap) \n",
    "\n",
    "    ax.set_extent(extent)\n",
    "\n",
    "    ax.gridlines(color=\"w\", linestyle=\"dotted\",alpha=0.5)\n",
    "\n",
    "    im = plt.imshow(data[:],origin='upper',extent=(X.min(), X.max(), Y.min(), Y.max()),\n",
    "                interpolation='nearest',vmin=162.,vmax=330.,cmap=my_cmap, transform=crs) #,vmin=vmin,vmax=vmax\n",
    "    cbar = plt.colorbar(im, orientation='vertical',pad=0.005,aspect=50)\n",
    "    \n",
    "# Display the figure\n",
    "    #plt.show()\n",
    "    \n",
    "# Set the name for saved figure, and save it \n",
    "\n",
    "    \n",
    "    #day_path = savepath+'{0:%m_%d}'.format(Day)+\"/\"\n",
    "    #if not os.path.isdir(day_path):\n",
    "    #    os.makedirs(day_path)\n",
    "    #print(day_path)\n",
    "    #fig.savefig(outfile,bbox_inches='tight',dpi=120)\n",
    "    outfile = \"GOES\"+vis_name[23:25]+\"_Ch\"+str(channel)+\"_\"+str(im_file)+\".png\"\n",
    "    fig.savefig(save_path+outfile,bbox_inches='tight')#,dpi=120\n",
    "    plt.close(fig)"
   ]
  },
  {
   "cell_type": "code",
   "execution_count": null,
   "metadata": {},
   "outputs": [],
   "source": [
    "def make_text_time_right(ax,end,title_time,dataset,\n",
    "                         color=\"w\",\n",
    "                       fontsize=12):  \n",
    "    \n",
    "    text_time = ax.text(.995, 0.01, \n",
    "            f\"{dataset} (dbz)\"+\"\\n\"+title_time,\n",
    "            horizontalalignment='right', transform=ax.transAxes,\n",
    "            color=color, fontsize=fontsize, weight='bold',zorder=15)\n",
    "    outline_effect = [patheffects.withStroke(linewidth=5, foreground='black')]\n",
    "    text_time.set_path_effects(outline_effect)\n",
    "    return text_time,ax\n",
    "\n",
    "def make_text_time_left(ax,station, prod_name,product,\n",
    "                        color=\"w\",\n",
    "                       fontsize=12):  \n",
    "    \n",
    "    text_time2 = ax.text(0.005, 0.01, \n",
    "                \"Station: \"+station+\"\\n\"+prod_name+\" (\"+product+\")\",\n",
    "                horizontalalignment='left', transform=ax.transAxes,\n",
    "                color=color, fontsize=fontsize, weight='bold',zorder=15)\n",
    "    outline_effect = [patheffects.withStroke(linewidth=5, foreground='black')]\n",
    "    text_time2.set_path_effects(outline_effect)\n",
    "    return text_time2,ax\n",
    "\n",
    "\n",
    "\n",
    "\n",
    "text_time = ax.text(.995, 0.01, \n",
    "        vis_name[27:31]+\" \"+'{0:%B %d}'.format(Day)+\" \"+vis_name[34:36]+\"\"+vis_name[36:38]+\"Z\",\n",
    "        horizontalalignment='right', transform=ax.transAxes,\n",
    "        color='white', fontsize=20, weight='bold')\n",
    "\n",
    "    text_time2 = ax.text(0.005, 0.01, \n",
    "        title,\n",
    "        horizontalalignment='left', transform=ax.transAxes,\n",
    "        color='white', fontsize=20, weight='bold')\n",
    "\n",
    "    outline_effect = [patheffects.withStroke(linewidth=5, foreground='black')]\n",
    "    text_time.set_path_effects(outline_effect)\n",
    "    text_time2.set_path_effects(outline_effect)"
   ]
  },
  {
   "cell_type": "code",
   "execution_count": 45,
   "metadata": {},
   "outputs": [],
   "source": [
    "def get_sat_data(GOES_file):\n",
    "    nc = Dataset(GOES_file)\n",
    "    data = nc.variables['CMI'][:]\n",
    "        \n",
    "    proj_var = nc.variables['goes_imager_projection']\n",
    "    sat_h = nc.variables['goes_imager_projection'].perspective_point_height\n",
    "\n",
    "    Time = str(datetime.strptime(nc.time_coverage_start[:-6], '%Y-%m-%dT%H:%M'))\n",
    "    Time = Time[0:10]+Time[11:16]\n",
    "    timestamp = datetime.strptime(Time, '%Y-%m-%d%H:%M')\n",
    "    file_time = timestamp.strftime('%Y_%m_%d_%H%M')\n",
    "    title_time = timestamp.strftime('%d %B %Y %H:%MZ')\n",
    "\n",
    "    \n",
    "    X = nc.variables['x'][:] * sat_h\n",
    "    Y = nc.variables['y'][:] * sat_h\n",
    "        #ch2nc.close()\n",
    "        #ch2nc = None\n",
    "    return X,Y,title_time,file_time,data,proj_var,sat_h"
   ]
  },
  {
   "cell_type": "code",
   "execution_count": null,
   "metadata": {},
   "outputs": [],
   "source": []
  },
  {
   "cell_type": "code",
   "execution_count": 46,
   "metadata": {},
   "outputs": [],
   "source": [
    "X,Y,title_time,file_time,data,proj_var,sat_h = get_sat_data(GOES_files[0])"
   ]
  },
  {
   "cell_type": "code",
   "execution_count": 47,
   "metadata": {},
   "outputs": [
    {
     "data": {
      "text/plain": [
       "'09 May 2020 00:01Z'"
      ]
     },
     "execution_count": 47,
     "metadata": {},
     "output_type": "execute_result"
    }
   ],
   "source": [
    "title_time"
   ]
  },
  {
   "cell_type": "code",
   "execution_count": null,
   "metadata": {},
   "outputs": [],
   "source": [
    "    \n",
    "    vmin = 164\n",
    "    vmax = 330"
   ]
  },
  {
   "cell_type": "code",
   "execution_count": 48,
   "metadata": {},
   "outputs": [],
   "source": [
    "def get_product_cbar_args(sat_name,cbar,outline_effect):\n",
    "    if sat_name == \"ch13\":\n",
    "        ticks = np.arange(170,331,40)\n",
    "       \n",
    "    if sat_name == \"ch2\":\n",
    "        ticks = [-60,-45,-20,0,20,45,60]    \n",
    "    \n",
    "    Y = 240    \n",
    "    for count,ele in enumerate(ticks,0): \n",
    "        cbar.ax.text(ele, Y, ticks[count], ha='center', va='center',\n",
    "                     path_effects=outline_effect,color=\"w\",fontsize=6)\n"
   ]
  },
  {
   "cell_type": "code",
   "execution_count": null,
   "metadata": {},
   "outputs": [],
   "source": [
    "GOES_samples[0]\n",
    "plot_goes(sat_file,savepath,extent,my_cmap=None,vmin=None,vmax=None)"
   ]
  },
  {
   "cell_type": "code",
   "execution_count": 64,
   "metadata": {},
   "outputs": [],
   "source": [
    "def plot_goes(GOES_file,savepath,extent,my_cmap=None,vmin=None,vmax=None):\n",
    "    \n",
    "        \n",
    "   \n",
    "    X,Y,title_time,file_time,data,proj_var,sat_h = get_sat_data(GOES_file)\n",
    "    #sat_height = proj_var.perspective_point_height\n",
    "    #central_lon = proj_var.longitude_of_projection_origin\n",
    "    #semi_major = proj_var.semi_major_axis\n",
    "    #semi_minor = proj_var.semi_minor_axis\n",
    "\n",
    "# Create new figure\n",
    "    #fig = plt.figure(figsize=(17., 11.))\n",
    "    fig = plt.figure(figsize=(17,11))\n",
    "\n",
    "# Add state boundaries to plot\n",
    "    states_boundaries = cfeature.NaturalEarthFeature(category='cultural',\n",
    "        name='admin_1_states_provinces_lakes',scale='50m', facecolor='none')\n",
    "\n",
    "    country_borders = cfeature.NaturalEarthFeature(category='cultural',\n",
    "        name='admin_0_countries',scale='50m', facecolor='none')\n",
    "    \n",
    "# Set Projection of Plot\n",
    "    #globe = ccrs.Globe(semimajor_axis=semi_major, semiminor_axis=semi_minor)\n",
    "    #crs = ccrs.Geostationary(central_longitude=central_lon, satellite_height=sat_height, globe=globe)\n",
    "    #plotcrs = ccrs.LambertConformal(central_latitude=[30, 60], central_longitude=-100)\n",
    "    plotcrs = ccrs.LambertConformal(central_longitude=-99.969 ,central_latitude=37.761)\n",
    "\n",
    "# Add the map and set the extent\n",
    "    ax = plt.subplot(111, projection=abi_crs) \n",
    "        \n",
    "    #reader = shpreader.Reader('/Users/chowdahead/Documents/shapefiles/countyl010g_shp_nt00964/countyl010g.shp')\n",
    "    #counties = list(reader.geometries())\n",
    "    #COUNTIES = cfeat.ShapelyFeature(counties,ccrs.PlateCarree())\n",
    "    #ax.add_feature(COUNTIES, facecolor='none',edgecolor='r')\n",
    "    \n",
    "# Find and convert Julian day to date    \n",
    "    \n",
    "# Set the plot title    \n",
    "    \n",
    "\n",
    "# Add state boundaries to plot\n",
    "    ax.add_feature(states_boundaries, edgecolor='blue', linewidth=1)\n",
    "\n",
    "# Add country borders to plot\n",
    "    ax.add_feature(country_borders, edgecolor='black', linewidth=1)\n",
    "\n",
    "# Set the plotting extent    \n",
    "    #ax.set_extent(extent, ccrs.PlateCarree()) # Eastern Pacific\n",
    "\n",
    "# Plot the image\n",
    "    #img = ax.imshow(data[:],origin='upper',vmin=vmin,vmax=vmax,extent=(X.min(), X.max(), Y.min(), Y.max()),\n",
    "    #    interpolation='nearest',transform=crs,cmap=my_cmap) \n",
    "\n",
    "    ax.set_extent(extent)\n",
    "\n",
    "    #ax.gridlines(color=\"w\", linestyle=\"dotted\",alpha=0.5)\n",
    "\n",
    "    im = plt.imshow(data,origin='upper',extent=(X.min(), X.max(), Y.min(), Y.max()),\n",
    "                interpolation='nearest',vmin=vmin,vmax=vmax,cmap=my_cmap, transform=abi_crs) #,vmin=vmin,vmax=vmax\n",
    "    \n",
    "    #ticks = np.arange(170,331,40)\n",
    "    outline_effect = [patheffects.withStroke(linewidth=3, foreground='black')]\n",
    "    #outline_effect2 = [patheffects.withStroke(linewidth=2, foreground='w')]\n",
    "\n",
    "\n",
    "    cbar = plt.colorbar(im,orientation=\"horizontal\") #,ticks=ticks\n",
    "    posn = ax.get_position()\n",
    "    cbar.ax.set_position([posn.x0+0.001, posn.y0-0.001,\n",
    "                            (posn.x1-posn.x0)/2, posn.height])\n",
    "    \n",
    "    get_product_cbar_args(\"ch13\",cbar,outline_effect)\n",
    "    \n",
    "    \n",
    "    cbar.set_ticks([])\n",
    "    cbar.ax.set_xticklabels([])\n",
    "    \n",
    "    #Y = 240\n",
    "    #for count,ele in enumerate(ticks,0): \n",
    "    #    cbar.ax.text(ele, Y, ticks[count], ha='center', va='center',path_effects=outline_effect,color=\"w\",fontsize=6)\n",
    "    #cbar.ax.text(170, Y, ticks[0], ha='center', va='center',path_effects=outline_effect,color=\"w\") #RF\n",
    "    #cbar.ax.text(210, Y, ticks[1], ha='center', va='center',path_effects=outline_effect,color=\"w\") #-20\n",
    "    #cbar.ax.text(250, Y, ticks[2], ha='center', va='center',path_effects=outline_effect,color=\"w\")#20\n",
    "    #cbar.ax.text(290, Y, ticks[3], ha='center', va='center',path_effects=outline_effect,color=\"w\")#45\n",
    "    #cbar.ax.text(330, Y, ticks[4], ha='center', va='center',path_effects=outline_effect,color=\"w\")#80\n",
    "# Display the figure\n",
    "    #plt.show()\n",
    "    \n",
    "# Set the name for saved figure, and save it \n",
    "    #outfile = f\"GOES{vis_name[23:25]}_Ch13_{im_file}.png\"\n",
    "    outfile = \"goes.png\"\n",
    "        \n",
    "    fig.savefig(f\"{save_path}{outfile}\",bbox_inches=\"tight\",dpi=100)\n",
    "    plt.close(fig)"
   ]
  },
  {
   "cell_type": "markdown",
   "metadata": {},
   "source": [
    "## We can now imput data from the different channels and have our generic map maker function run on each to produce our satellite images!"
   ]
  },
  {
   "cell_type": "markdown",
   "metadata": {},
   "source": [
    "### Map Arguments: Map(path, channel, title, savepath, my_cmap, vmin=None, vmax=None)"
   ]
  },
  {
   "cell_type": "code",
   "execution_count": 65,
   "metadata": {},
   "outputs": [
    {
     "data": {
      "text/plain": [
       "'/Users/chowdahead/Desktop/'"
      ]
     },
     "execution_count": 65,
     "metadata": {},
     "output_type": "execute_result"
    }
   ],
   "source": [
    "save_path = \"/Users/chowdahead/Desktop/\"\n",
    "save_path"
   ]
  },
  {
   "cell_type": "code",
   "execution_count": 66,
   "metadata": {
    "scrolled": false
   },
   "outputs": [],
   "source": [
    "# Map(path,channel,title,savepath,extent,my_cmap=None,vmin=None,vmax=None)\n",
    "\n",
    "i = 2\n",
    "#Map(GOES16_samples_13[i],channel,title,save_path,extent,IR_cmap,vmin=162.,vmax=330.)\n",
    "plot_goes(GOES_files[i],save_path,extent,my_cmap=ir_cmap,vmax=330,vmin=164)"
   ]
  },
  {
   "cell_type": "markdown",
   "metadata": {},
   "source": [
    "<h2>----------------------------------------------//---------------------------------------------------------</h2>\n",
    "<h2>----------------------------------------------//---------------------------------------------------------</h2>"
   ]
  }
 ],
 "metadata": {
  "kernelspec": {
   "display_name": "Python 3",
   "language": "python",
   "name": "python3"
  },
  "language_info": {
   "codemirror_mode": {
    "name": "ipython",
    "version": 3
   },
   "file_extension": ".py",
   "mimetype": "text/x-python",
   "name": "python",
   "nbconvert_exporter": "python",
   "pygments_lexer": "ipython3",
   "version": "3.7.6"
  }
 },
 "nbformat": 4,
 "nbformat_minor": 1
}
