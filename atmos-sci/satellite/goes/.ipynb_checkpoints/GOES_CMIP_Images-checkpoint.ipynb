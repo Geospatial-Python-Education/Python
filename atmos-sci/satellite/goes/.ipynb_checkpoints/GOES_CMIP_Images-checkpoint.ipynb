{
 "cells": [
  {
   "cell_type": "markdown",
   "metadata": {},
   "source": [
    "# GOES Infrared Satellite Images\n",
    "### Channels avaliable in this notebook are:\n",
    "* 13 - Clean Longwave IR:  10.3 $\\mu m$"
   ]
  },
  {
   "cell_type": "markdown",
   "metadata": {},
   "source": [
    "## Justin Richling\n",
    "## 09/20/18"
   ]
  },
  {
   "cell_type": "markdown",
   "metadata": {},
   "source": [
    "http://home.chpc.utah.edu/~u0553130/Brian_Blaylock/cgi-bin/goes16_download.cgi"
   ]
  },
  {
   "cell_type": "markdown",
   "metadata": {},
   "source": [
    "## Imports"
   ]
  },
  {
   "cell_type": "code",
   "execution_count": 1,
   "metadata": {},
   "outputs": [
    {
     "name": "stderr",
     "output_type": "stream",
     "text": [
      "/Users/chowdahead/anaconda3/lib/python3.7/site-packages/nbformat/current.py:19: UserWarning: nbformat.current is deprecated.\n",
      "\n",
      "- use nbformat for read/write/validate public API\n",
      "- use nbformat.vX directly to composing notebooks of a particular version\n",
      "\n",
      "  \"\"\")\n"
     ]
    }
   ],
   "source": [
    "# Random Library Imports\n",
    "import subprocess,os,glob\n",
    "\n",
    "# Importing Datetime Libraries\n",
    "from datetime import datetime, date\n",
    "\n",
    "# CartoPy Map Plotting Libraires\n",
    "import cartopy.crs as ccrs\n",
    "import cartopy.feature as cfeature\n",
    "\n",
    "# Numerical and Scientific Libraries\n",
    "import numpy as np\n",
    "\n",
    "# Accessing Data from External Databases via XLM Catalog\n",
    "from siphon.ncss import NCSS\n",
    "from siphon.catalog import TDSCatalog\n",
    "\n",
    "# MetPy Libraries\n",
    "import metpy\n",
    "import metpy.calc as mpcalc\n",
    "from metpy.units import units\n",
    "from metpy.plots import ctables\n",
    "from metpy.plots import add_metpy_logo\n",
    "from metpy.plots.ctables import registry\n",
    "from metpy.plots import add_timestamp\n",
    "\n",
    "# NetCDF Libraries\n",
    "from netCDF4 import Dataset\n",
    "from netCDF4 import num2date\n",
    "\n",
    "# Matplotlib Plotting Libraries\n",
    "#import matplotlib\n",
    "import matplotlib.pyplot as plt\n",
    "from matplotlib.cm import get_cmap\n",
    "import matplotlib.colors as mcolors\n",
    "from matplotlib.colors import LogNorm, Normalize\n",
    "import matplotlib as mpl\n",
    "from mpl_toolkits.axes_grid1 import make_axes_locatable, axes_size\n",
    "from matplotlib.colors import LinearSegmentedColormap\n",
    "from matplotlib import patheffects\n",
    "\n"
   ]
  },
  {
   "cell_type": "code",
   "execution_count": 2,
   "metadata": {},
   "outputs": [],
   "source": [
    "import cartopy.io.shapereader as shpreader\n",
    "import cartopy.feature as cfeat"
   ]
  },
  {
   "cell_type": "code",
   "execution_count": 2,
   "metadata": {},
   "outputs": [],
   "source": [
    "# Pull the current time\n",
    "now = datetime.now()"
   ]
  },
  {
   "cell_type": "code",
   "execution_count": 3,
   "metadata": {},
   "outputs": [],
   "source": [
    "# Set the font \n",
    "font = {'family': 'serif',\n",
    "        'color':  'darkred',\n",
    "        'weight': 'normal',\n",
    "        'size': 18,\n",
    "        }"
   ]
  },
  {
   "cell_type": "code",
   "execution_count": 4,
   "metadata": {},
   "outputs": [],
   "source": [
    "# Unidata/MetPy Dictionary of GOES channels\n",
    "\n",
    "channel_list = {u'1 - Blue Band 0.47 \\u03BCm': 1,\n",
    "                u'2 - Red Band 0.64 \\u03BCm': 2,\n",
    "                u'3 - Veggie Band 0.86 \\u03BCm': 3,\n",
    "                u'4 - Cirrus Band 1.37 \\u03BCm': 4,\n",
    "                u'5 - Snow/Ice Band 1.6 \\u03BCm': 5,\n",
    "                u'6 - Cloud Particle Size Band 2.2 \\u03BCm': 6,\n",
    "                u'7 - Shortwave Window Band 3.9 \\u03BCm': 7,\n",
    "                u'8 - Upper-Level Tropo. WV Band 6.2 \\u03BCm': 8,\n",
    "                u'9 - Mid-Level Tropo. WV Band 6.9 \\u03BCm': 9,\n",
    "                u'10 - Low-Level WV Band 7.3 \\u03BCm': 10,\n",
    "                u'11 - Cloud-Top Phase Band 8.4 \\u03BCm': 11,\n",
    "                u'12 - Ozone Band 9.6 \\u03BCm': 12,\n",
    "                u'13 - Clean IR Longwave Band 10.3 \\u03BCm': 13,\n",
    "                u'14 - IR Longwave Band 11.2 \\u03BCm': 14,\n",
    "                u'15 - Dirty Longwave Band 12.3 \\u03BCm': 15,\n",
    "                u'16 - CO2 Longwave IR 13.3 \\u03BCm': 16}"
   ]
  },
  {
   "cell_type": "markdown",
   "metadata": {},
   "source": [
    "# Archived Data"
   ]
  },
  {
   "cell_type": "code",
   "execution_count": 51,
   "metadata": {},
   "outputs": [
    {
     "name": "stdout",
     "output_type": "stream",
     "text": [
      "date:  2019-08-25-00-08\n",
      "Julian number:  237\n"
     ]
    }
   ],
   "source": [
    "# Set the date you want to convert\n",
    "dt = datetime(2019, 8, 25)\n",
    "#dt = now\n",
    "\n",
    "# Start of year for reference\n",
    "d0 = datetime(2019, 1, 1)\n",
    "\n",
    "# Find the difference and add one to get the day number of the calander year\n",
    "delta = dt - d0\n",
    "Julian_Day = delta.days+1\n",
    "if Julian_Day < 100:\n",
    "    Julian_Day = \"0\"+str(Julian_Day)\n",
    "    if int(Julian_Day) < 10:\n",
    "        Julian_Day = \"0\"+str(Julian_Day)\n",
    "\n",
    "Year = str('{0:%Y}'.format(dt))\n",
    "Month = str('{0:%m}'.format(dt))\n",
    "Day = str('{0:%d}'.format(dt))\n",
    "Hour = str('{0:%H}'.format(dt))\n",
    "Minute = str('{0:%m}'.format(dt))\n",
    "\n",
    "#'{0:%Y}'.format(dt)+\"-\"+'{0:%m}'.format(dt)+\"-\"+'{0:%d}'.format(dt)+\"-\"+'{0:%H}'.format(dt)\n",
    "print(\"date: \",Year+\"-\"+Month+\"-\"+Day+\"-\"+Hour+\"-\"+Minute)\n",
    "\n",
    "# Julian day (Day)\n",
    "print(\"Julian number: \",Julian_Day)"
   ]
  },
  {
   "cell_type": "raw",
   "metadata": {},
   "source": [
    "Julian_Day = 139"
   ]
  },
  {
   "cell_type": "code",
   "execution_count": 34,
   "metadata": {},
   "outputs": [
    {
     "data": {
      "text/plain": [
       "'/Users/chowdahead/Downloads/WX_Data/GOES_Data'"
      ]
     },
     "execution_count": 34,
     "metadata": {},
     "output_type": "execute_result"
    }
   ],
   "source": [
    "pwd"
   ]
  },
  {
   "cell_type": "code",
   "execution_count": 35,
   "metadata": {},
   "outputs": [
    {
     "name": "stdout",
     "output_type": "stream",
     "text": [
      "CPU times: user 306 ms, sys: 102 ms, total: 408 ms\n",
      "Wall time: 14.9 s\n"
     ]
    }
   ],
   "source": [
    "%%time\n",
    "\n",
    "# rclone AWS data access via remote server\n",
    "# Day must be Julian day number\n",
    "! rclone --include \"OR_*-M6C13*.nc\" copy Public-AWS:noaa-goes16/ABI-L2-CMIPC/2020/130/00/ ./\n"
   ]
  },
  {
   "cell_type": "code",
   "execution_count": 27,
   "metadata": {},
   "outputs": [
    {
     "name": "stdout",
     "output_type": "stream",
     "text": [
      " 15555786 OR_ABI-L2-CMIPC-M6C01_G16_s20201301801114_e20201301803487_c20201301803577.nc\r\n",
      " 15567695 OR_ABI-L2-CMIPC-M6C01_G16_s20201301806114_e20201301808487_c20201301808555.nc\r\n",
      " 15583160 OR_ABI-L2-CMIPC-M6C01_G16_s20201301811114_e20201301813487_c20201301813552.nc\r\n",
      " 15598996 OR_ABI-L2-CMIPC-M6C01_G16_s20201301816114_e20201301818487_c20201301818555.nc\r\n",
      " 15610755 OR_ABI-L2-CMIPC-M6C01_G16_s20201301821114_e20201301823487_c20201301823552.nc\r\n",
      " 15625654 OR_ABI-L2-CMIPC-M6C01_G16_s20201301826114_e20201301828487_c20201301828558.nc\r\n",
      " 15641194 OR_ABI-L2-CMIPC-M6C01_G16_s20201301831114_e20201301833487_c20201301833555.nc\r\n",
      " 15655779 OR_ABI-L2-CMIPC-M6C01_G16_s20201301836114_e20201301838487_c20201301838560.nc\r\n",
      " 15665920 OR_ABI-L2-CMIPC-M6C01_G16_s20201301841114_e20201301843487_c20201301843550.nc\r\n",
      " 15673546 OR_ABI-L2-CMIPC-M6C01_G16_s20201301846114_e20201301848487_c20201301848551.nc\r\n",
      " 15674913 OR_ABI-L2-CMIPC-M6C01_G16_s20201301851114_e20201301853487_c20201301853555.nc\r\n",
      " 15669447 OR_ABI-L2-CMIPC-M6C01_G16_s20201301856114_e20201301858487_c20201301858570.nc\r\n",
      " 79857860 OR_ABI-L2-CMIPC-M6C02_G16_s20201301801114_e20201301803487_c20201301804026.nc\r\n",
      " 79886160 OR_ABI-L2-CMIPC-M6C02_G16_s20201301806114_e20201301808487_c20201301808593.nc\r\n",
      " 79914537 OR_ABI-L2-CMIPC-M6C02_G16_s20201301811114_e20201301813487_c20201301814001.nc\r\n",
      " 79950150 OR_ABI-L2-CMIPC-M6C02_G16_s20201301816114_e20201301818487_c20201301819014.nc\r\n",
      " 79976864 OR_ABI-L2-CMIPC-M6C02_G16_s20201301821114_e20201301823487_c20201301823591.nc\r\n",
      " 80003705 OR_ABI-L2-CMIPC-M6C02_G16_s20201301826114_e20201301828487_c20201301829003.nc\r\n",
      " 80029098 OR_ABI-L2-CMIPC-M6C02_G16_s20201301831114_e20201301833487_c20201301834002.nc\r\n",
      " 80053432 OR_ABI-L2-CMIPC-M6C02_G16_s20201301836114_e20201301838487_c20201301838590.nc\r\n",
      " 80063599 OR_ABI-L2-CMIPC-M6C02_G16_s20201301841114_e20201301843487_c20201301843589.nc\r\n",
      " 80068642 OR_ABI-L2-CMIPC-M6C02_G16_s20201301846114_e20201301848487_c20201301849004.nc\r\n",
      " 80068228 OR_ABI-L2-CMIPC-M6C02_G16_s20201301851114_e20201301853487_c20201301853592.nc\r\n",
      " 80054726 OR_ABI-L2-CMIPC-M6C02_G16_s20201301856114_e20201301858487_c20201301859006.nc\r\n",
      " 17606826 OR_ABI-L2-CMIPC-M6C03_G16_s20201301801114_e20201301803487_c20201301803578.nc\r\n",
      " 17617101 OR_ABI-L2-CMIPC-M6C03_G16_s20201301806114_e20201301808487_c20201301808555.nc\r\n",
      " 17630949 OR_ABI-L2-CMIPC-M6C03_G16_s20201301811114_e20201301813487_c20201301813553.nc\r\n",
      " 17643934 OR_ABI-L2-CMIPC-M6C03_G16_s20201301816114_e20201301818487_c20201301818560.nc\r\n",
      " 17655443 OR_ABI-L2-CMIPC-M6C03_G16_s20201301821114_e20201301823488_c20201301823552.nc\r\n",
      " 17667309 OR_ABI-L2-CMIPC-M6C03_G16_s20201301826114_e20201301828487_c20201301828563.nc\r\n",
      " 17677915 OR_ABI-L2-CMIPC-M6C03_G16_s20201301831114_e20201301833487_c20201301833553.nc\r\n",
      " 17685969 OR_ABI-L2-CMIPC-M6C03_G16_s20201301836114_e20201301838487_c20201301838555.nc\r\n",
      " 17693562 OR_ABI-L2-CMIPC-M6C03_G16_s20201301841114_e20201301843487_c20201301843556.nc\r\n",
      " 17695583 OR_ABI-L2-CMIPC-M6C03_G16_s20201301846114_e20201301848487_c20201301848554.nc\r\n",
      " 17696162 OR_ABI-L2-CMIPC-M6C03_G16_s20201301851114_e20201301853487_c20201301853557.nc\r\n",
      " 17693588 OR_ABI-L2-CMIPC-M6C03_G16_s20201301856114_e20201301858487_c20201301858570.nc\r\n",
      "  3342799 OR_ABI-L2-CMIPC-M6C04_G16_s20201301801114_e20201301803486_c20201301803569.nc\r\n",
      "  3346686 OR_ABI-L2-CMIPC-M6C04_G16_s20201301806114_e20201301808487_c20201301808543.nc\r\n",
      "  3352599 OR_ABI-L2-CMIPC-M6C04_G16_s20201301811114_e20201301813487_c20201301813541.nc\r\n",
      "  3357053 OR_ABI-L2-CMIPC-M6C04_G16_s20201301816114_e20201301818487_c20201301818541.nc\r\n",
      "  3362148 OR_ABI-L2-CMIPC-M6C04_G16_s20201301821114_e20201301823487_c20201301823556.nc\r\n",
      "  3367450 OR_ABI-L2-CMIPC-M6C04_G16_s20201301826114_e20201301828487_c20201301828542.nc\r\n",
      "  3370256 OR_ABI-L2-CMIPC-M6C04_G16_s20201301831114_e20201301833487_c20201301833542.nc\r\n",
      "  3376216 OR_ABI-L2-CMIPC-M6C04_G16_s20201301836114_e20201301838487_c20201301838545.nc\r\n",
      "  3379552 OR_ABI-L2-CMIPC-M6C04_G16_s20201301841114_e20201301843487_c20201301843540.nc\r\n",
      "  3383604 OR_ABI-L2-CMIPC-M6C04_G16_s20201301846114_e20201301848487_c20201301848541.nc\r\n",
      "  3385693 OR_ABI-L2-CMIPC-M6C04_G16_s20201301851114_e20201301853487_c20201301853545.nc\r\n",
      "  3387482 OR_ABI-L2-CMIPC-M6C04_G16_s20201301856114_e20201301858487_c20201301858553.nc\r\n",
      " 16851679 OR_ABI-L2-CMIPC-M6C05_G16_s20201301801114_e20201301803487_c20201301803577.nc\r\n",
      " 16859696 OR_ABI-L2-CMIPC-M6C05_G16_s20201301806114_e20201301808487_c20201301808552.nc\r\n",
      " 16866954 OR_ABI-L2-CMIPC-M6C05_G16_s20201301811114_e20201301813487_c20201301813555.nc\r\n",
      " 16872579 OR_ABI-L2-CMIPC-M6C05_G16_s20201301816114_e20201301818487_c20201301818585.nc\r\n",
      " 16877121 OR_ABI-L2-CMIPC-M6C05_G16_s20201301821114_e20201301823487_c20201301823584.nc\r\n",
      " 16881951 OR_ABI-L2-CMIPC-M6C05_G16_s20201301826114_e20201301828487_c20201301828565.nc\r\n",
      " 16883751 OR_ABI-L2-CMIPC-M6C05_G16_s20201301831114_e20201301833487_c20201301833566.nc\r\n",
      " 16882508 OR_ABI-L2-CMIPC-M6C05_G16_s20201301836114_e20201301838487_c20201301838557.nc\r\n",
      " 16878942 OR_ABI-L2-CMIPC-M6C05_G16_s20201301841114_e20201301843487_c20201301843556.nc\r\n",
      " 16872862 OR_ABI-L2-CMIPC-M6C05_G16_s20201301846114_e20201301848487_c20201301848555.nc\r\n",
      " 16869250 OR_ABI-L2-CMIPC-M6C05_G16_s20201301851114_e20201301853487_c20201301853560.nc\r\n",
      " 16860889 OR_ABI-L2-CMIPC-M6C05_G16_s20201301856114_e20201301858487_c20201301858568.nc\r\n",
      "  4167152 OR_ABI-L2-CMIPC-M6C06_G16_s20201301801114_e20201301803492_c20201301803570.nc\r\n",
      "  4168711 OR_ABI-L2-CMIPC-M6C06_G16_s20201301806114_e20201301808492_c20201301808544.nc\r\n",
      "  4170621 OR_ABI-L2-CMIPC-M6C06_G16_s20201301811114_e20201301813492_c20201301813585.nc\r\n",
      "  4172814 OR_ABI-L2-CMIPC-M6C06_G16_s20201301816114_e20201301818492_c20201301818544.nc\r\n",
      "  4174101 OR_ABI-L2-CMIPC-M6C06_G16_s20201301821114_e20201301823492_c20201301824030.nc\r\n",
      "  4175442 OR_ABI-L2-CMIPC-M6C06_G16_s20201301826114_e20201301828493_c20201301828543.nc\r\n",
      "  4176637 OR_ABI-L2-CMIPC-M6C06_G16_s20201301831114_e20201301833492_c20201301833544.nc\r\n",
      "  4177290 OR_ABI-L2-CMIPC-M6C06_G16_s20201301836114_e20201301838492_c20201301838545.nc\r\n",
      "  4176835 OR_ABI-L2-CMIPC-M6C06_G16_s20201301841114_e20201301843493_c20201301843543.nc\r\n",
      "  4177947 OR_ABI-L2-CMIPC-M6C06_G16_s20201301846114_e20201301848492_c20201301848543.nc\r\n",
      "  4176238 OR_ABI-L2-CMIPC-M6C06_G16_s20201301851114_e20201301853492_c20201301853545.nc\r\n",
      "  4176262 OR_ABI-L2-CMIPC-M6C06_G16_s20201301856114_e20201301858493_c20201301858558.nc\r\n",
      "  4903547 OR_ABI-L2-CMIPC-M6C07_G16_s20201301801114_e20201301803498_c20201301803599.nc\r\n",
      "  4902781 OR_ABI-L2-CMIPC-M6C07_G16_s20201301806114_e20201301808498_c20201301808584.nc\r\n",
      "  4903342 OR_ABI-L2-CMIPC-M6C07_G16_s20201301811114_e20201301813498_c20201301813592.nc\r\n",
      "  4902252 OR_ABI-L2-CMIPC-M6C07_G16_s20201301816114_e20201301818498_c20201301818564.nc\r\n",
      "  4900771 OR_ABI-L2-CMIPC-M6C07_G16_s20201301821114_e20201301823498_c20201301823591.nc\r\n",
      "  4898322 OR_ABI-L2-CMIPC-M6C07_G16_s20201301826114_e20201301828498_c20201301828587.nc\r\n",
      "  4896093 OR_ABI-L2-CMIPC-M6C07_G16_s20201301831114_e20201301833498_c20201301833597.nc\r\n",
      "  4893449 OR_ABI-L2-CMIPC-M6C07_G16_s20201301836114_e20201301838498_c20201301838581.nc\r\n",
      "  4890531 OR_ABI-L2-CMIPC-M6C07_G16_s20201301841114_e20201301843499_c20201301843588.nc\r\n",
      "  4887944 OR_ABI-L2-CMIPC-M6C07_G16_s20201301846114_e20201301848498_c20201301848561.nc\r\n",
      "  4884884 OR_ABI-L2-CMIPC-M6C07_G16_s20201301851114_e20201301853498_c20201301853572.nc\r\n",
      "  4881870 OR_ABI-L2-CMIPC-M6C07_G16_s20201301856114_e20201301858498_c20201301858594.nc\r\n",
      "  3292606 OR_ABI-L2-CMIPC-M6C08_G16_s20201301801114_e20201301803487_c20201301803583.nc\r\n",
      "  3293288 OR_ABI-L2-CMIPC-M6C08_G16_s20201301806114_e20201301808487_c20201301808594.nc\r\n",
      "  3295277 OR_ABI-L2-CMIPC-M6C08_G16_s20201301811114_e20201301813487_c20201301813595.nc\r\n",
      "  3295540 OR_ABI-L2-CMIPC-M6C08_G16_s20201301816114_e20201301818487_c20201301819016.nc\r\n",
      "  3298207 OR_ABI-L2-CMIPC-M6C08_G16_s20201301821114_e20201301823487_c20201301823595.nc\r\n",
      "  3299216 OR_ABI-L2-CMIPC-M6C08_G16_s20201301826114_e20201301828487_c20201301829014.nc\r\n",
      "  3300074 OR_ABI-L2-CMIPC-M6C08_G16_s20201301831114_e20201301833487_c20201301834007.nc\r\n",
      "  3302389 OR_ABI-L2-CMIPC-M6C08_G16_s20201301836114_e20201301838487_c20201301839019.nc\r\n",
      "  3303711 OR_ABI-L2-CMIPC-M6C08_G16_s20201301841114_e20201301843487_c20201301843597.nc\r\n",
      "  3306249 OR_ABI-L2-CMIPC-M6C08_G16_s20201301846114_e20201301848487_c20201301848585.nc\r\n",
      "  3307831 OR_ABI-L2-CMIPC-M6C08_G16_s20201301851114_e20201301853487_c20201301853592.nc\r\n",
      "  3309490 OR_ABI-L2-CMIPC-M6C08_G16_s20201301856114_e20201301858487_c20201301858582.nc\r\n",
      "  3229222 OR_ABI-L2-CMIPC-M6C09_G16_s20201301801114_e20201301803492_c20201301803589.nc\r\n",
      "  3232184 OR_ABI-L2-CMIPC-M6C09_G16_s20201301806114_e20201301808493_c20201301809007.nc\r\n",
      "  3234511 OR_ABI-L2-CMIPC-M6C09_G16_s20201301811114_e20201301813492_c20201301814006.nc\r\n",
      "  3235472 OR_ABI-L2-CMIPC-M6C09_G16_s20201301816114_e20201301818492_c20201301818588.nc\r\n",
      "  3239877 OR_ABI-L2-CMIPC-M6C09_G16_s20201301821114_e20201301823492_c20201301824008.nc\r\n",
      "  3242006 OR_ABI-L2-CMIPC-M6C09_G16_s20201301826114_e20201301828492_c20201301829002.nc\r\n",
      "  3244408 OR_ABI-L2-CMIPC-M6C09_G16_s20201301831114_e20201301833492_c20201301834017.nc\r\n",
      "  3246825 OR_ABI-L2-CMIPC-M6C09_G16_s20201301836114_e20201301838492_c20201301839009.nc\r\n",
      "  3250423 OR_ABI-L2-CMIPC-M6C09_G16_s20201301841114_e20201301843493_c20201301843564.nc\r\n",
      "  3254191 OR_ABI-L2-CMIPC-M6C09_G16_s20201301846114_e20201301848492_c20201301849005.nc\r\n",
      "  3255786 OR_ABI-L2-CMIPC-M6C09_G16_s20201301851114_e20201301853492_c20201301854027.nc\r\n",
      "  3259128 OR_ABI-L2-CMIPC-M6C09_G16_s20201301856114_e20201301858493_c20201301859007.nc\r\n",
      "  3998261 OR_ABI-L2-CMIPC-M6C10_G16_s20201301801114_e20201301803498_c20201301804018.nc\r\n",
      "  4001578 OR_ABI-L2-CMIPC-M6C10_G16_s20201301806114_e20201301808498_c20201301808560.nc\r\n",
      "  4005306 OR_ABI-L2-CMIPC-M6C10_G16_s20201301811114_e20201301813498_c20201301813580.nc\r\n",
      "  4009477 OR_ABI-L2-CMIPC-M6C10_G16_s20201301816114_e20201301818498_c20201301818584.nc\r\n",
      "  4012328 OR_ABI-L2-CMIPC-M6C10_G16_s20201301821114_e20201301823498_c20201301823561.nc\r\n",
      "  4016525 OR_ABI-L2-CMIPC-M6C10_G16_s20201301826114_e20201301828498_c20201301829027.nc\r\n",
      "  4020673 OR_ABI-L2-CMIPC-M6C10_G16_s20201301831114_e20201301833498_c20201301833592.nc\r\n",
      "  4025036 OR_ABI-L2-CMIPC-M6C10_G16_s20201301836114_e20201301838498_c20201301838585.nc\r\n",
      "  4028504 OR_ABI-L2-CMIPC-M6C10_G16_s20201301841114_e20201301843498_c20201301843582.nc\r\n",
      "  4032967 OR_ABI-L2-CMIPC-M6C10_G16_s20201301846114_e20201301848498_c20201301848583.nc\r\n",
      "  4036345 OR_ABI-L2-CMIPC-M6C10_G16_s20201301851114_e20201301853498_c20201301853580.nc\r\n",
      "  4040374 OR_ABI-L2-CMIPC-M6C10_G16_s20201301856114_e20201301858498_c20201301859003.nc\r\n",
      "  4842420 OR_ABI-L2-CMIPC-M6C11_G16_s20201301801114_e20201301803487_c20201301804025.nc\r\n",
      "  4845904 OR_ABI-L2-CMIPC-M6C11_G16_s20201301806114_e20201301808487_c20201301809000.nc\r\n",
      "  4848694 OR_ABI-L2-CMIPC-M6C11_G16_s20201301811114_e20201301813487_c20201301813568.nc\r\n",
      "  4851846 OR_ABI-L2-CMIPC-M6C11_G16_s20201301816114_e20201301818487_c20201301819000.nc\r\n",
      "  4854208 OR_ABI-L2-CMIPC-M6C11_G16_s20201301821114_e20201301823487_c20201301823585.nc\r\n",
      "  4857441 OR_ABI-L2-CMIPC-M6C11_G16_s20201301826114_e20201301828487_c20201301828581.nc\r\n",
      "  4860130 OR_ABI-L2-CMIPC-M6C11_G16_s20201301831114_e20201301833487_c20201301833577.nc\r\n",
      "  4862371 OR_ABI-L2-CMIPC-M6C11_G16_s20201301836114_e20201301838487_c20201301838579.nc\r\n",
      "  4865343 OR_ABI-L2-CMIPC-M6C11_G16_s20201301841114_e20201301843487_c20201301844007.nc\r\n",
      "  4868628 OR_ABI-L2-CMIPC-M6C11_G16_s20201301846114_e20201301848487_c20201301848585.nc\r\n",
      "  4871733 OR_ABI-L2-CMIPC-M6C11_G16_s20201301851114_e20201301853487_c20201301853586.nc\r\n",
      "  4873371 OR_ABI-L2-CMIPC-M6C11_G16_s20201301856114_e20201301858487_c20201301858572.nc\r\n",
      "  4291815 OR_ABI-L2-CMIPC-M6C12_G16_s20201301801114_e20201301803492_c20201301803583.nc\r\n",
      "  4294842 OR_ABI-L2-CMIPC-M6C12_G16_s20201301806114_e20201301808493_c20201301808576.nc\r\n",
      "  4297699 OR_ABI-L2-CMIPC-M6C12_G16_s20201301811114_e20201301813492_c20201301813560.nc\r\n",
      "  4300122 OR_ABI-L2-CMIPC-M6C12_G16_s20201301816114_e20201301818492_c20201301818590.nc\r\n",
      "  4302553 OR_ABI-L2-CMIPC-M6C12_G16_s20201301821114_e20201301823492_c20201301823567.nc\r\n",
      "  4306829 OR_ABI-L2-CMIPC-M6C12_G16_s20201301826114_e20201301828492_c20201301828586.nc\r\n",
      "  4309409 OR_ABI-L2-CMIPC-M6C12_G16_s20201301831114_e20201301833492_c20201301833586.nc\r\n",
      "  4311393 OR_ABI-L2-CMIPC-M6C12_G16_s20201301836114_e20201301838493_c20201301838590.nc\r\n",
      "  4314475 OR_ABI-L2-CMIPC-M6C12_G16_s20201301841114_e20201301843492_c20201301843583.nc\r\n",
      "  4317737 OR_ABI-L2-CMIPC-M6C12_G16_s20201301846114_e20201301848493_c20201301848590.nc\r\n",
      "  4320634 OR_ABI-L2-CMIPC-M6C12_G16_s20201301851114_e20201301853492_c20201301853585.nc\r\n",
      "  4323392 OR_ABI-L2-CMIPC-M6C12_G16_s20201301856114_e20201301858492_c20201301858583.nc\r\n",
      "  4784535 OR_ABI-L2-CMIPC-M6C13_G16_s20201301801114_e20201301803498_c20201301804013.nc\r\n",
      "  4788186 OR_ABI-L2-CMIPC-M6C13_G16_s20201301806114_e20201301808498_c20201301809014.nc\r\n",
      "  4790881 OR_ABI-L2-CMIPC-M6C13_G16_s20201301811114_e20201301813498_c20201301814025.nc\r\n",
      "  4793640 OR_ABI-L2-CMIPC-M6C13_G16_s20201301816114_e20201301818498_c20201301819016.nc\r\n",
      "  4796712 OR_ABI-L2-CMIPC-M6C13_G16_s20201301821114_e20201301823498_c20201301824019.nc\r\n",
      "  4799049 OR_ABI-L2-CMIPC-M6C13_G16_s20201301826114_e20201301828498_c20201301828598.nc\r\n",
      "  4802404 OR_ABI-L2-CMIPC-M6C13_G16_s20201301831114_e20201301833498_c20201301834012.nc\r\n",
      "  4804635 OR_ABI-L2-CMIPC-M6C13_G16_s20201301836114_e20201301838498_c20201301839005.nc\r\n",
      "  4807625 OR_ABI-L2-CMIPC-M6C13_G16_s20201301841114_e20201301843498_c20201301844014.nc\r\n",
      "  4810610 OR_ABI-L2-CMIPC-M6C13_G16_s20201301846114_e20201301848498_c20201301849019.nc\r\n",
      "  4813579 OR_ABI-L2-CMIPC-M6C13_G16_s20201301851114_e20201301853498_c20201301854001.nc\r\n",
      "  4816362 OR_ABI-L2-CMIPC-M6C13_G16_s20201301856114_e20201301858498_c20201301859020.nc\r\n",
      "  4819944 OR_ABI-L2-CMIPC-M6C14_G16_s20201301801114_e20201301803487_c20201301804031.nc\r\n",
      "  4822921 OR_ABI-L2-CMIPC-M6C14_G16_s20201301806114_e20201301808487_c20201301809001.nc\r\n",
      "  4825805 OR_ABI-L2-CMIPC-M6C14_G16_s20201301811114_e20201301813487_c20201301814015.nc\r\n",
      "  4828951 OR_ABI-L2-CMIPC-M6C14_G16_s20201301816114_e20201301818487_c20201301819022.nc\r\n",
      "  4831426 OR_ABI-L2-CMIPC-M6C14_G16_s20201301821114_e20201301823487_c20201301824038.nc\r\n",
      "  4834678 OR_ABI-L2-CMIPC-M6C14_G16_s20201301826114_e20201301828487_c20201301828594.nc\r\n",
      "  4837547 OR_ABI-L2-CMIPC-M6C14_G16_s20201301831114_e20201301833487_c20201301834027.nc\r\n",
      "  4840132 OR_ABI-L2-CMIPC-M6C14_G16_s20201301836114_e20201301838487_c20201301838599.nc\r\n",
      "  4842076 OR_ABI-L2-CMIPC-M6C14_G16_s20201301841114_e20201301843487_c20201301844028.nc\r\n",
      "  4845810 OR_ABI-L2-CMIPC-M6C14_G16_s20201301846114_e20201301848487_c20201301849010.nc\r\n",
      "  4849348 OR_ABI-L2-CMIPC-M6C14_G16_s20201301851114_e20201301853487_c20201301854013.nc\r\n",
      "  4851472 OR_ABI-L2-CMIPC-M6C14_G16_s20201301856114_e20201301858487_c20201301859015.nc\r\n",
      "  4800982 OR_ABI-L2-CMIPC-M6C15_G16_s20201301801114_e20201301803493_c20201301804039.nc\r\n",
      "  4803323 OR_ABI-L2-CMIPC-M6C15_G16_s20201301806114_e20201301808492_c20201301809023.nc\r\n",
      "  4806600 OR_ABI-L2-CMIPC-M6C15_G16_s20201301811114_e20201301813492_c20201301814016.nc\r\n",
      "  4810087 OR_ABI-L2-CMIPC-M6C15_G16_s20201301816114_e20201301818492_c20201301819037.nc\r\n",
      "  4812111 OR_ABI-L2-CMIPC-M6C15_G16_s20201301821114_e20201301823492_c20201301824024.nc\r\n",
      "  4815472 OR_ABI-L2-CMIPC-M6C15_G16_s20201301826114_e20201301828493_c20201301829024.nc\r\n",
      "  4818033 OR_ABI-L2-CMIPC-M6C15_G16_s20201301831114_e20201301833492_c20201301834038.nc\r\n",
      "  4821897 OR_ABI-L2-CMIPC-M6C15_G16_s20201301836114_e20201301838492_c20201301839025.nc\r\n",
      "  4825321 OR_ABI-L2-CMIPC-M6C15_G16_s20201301841114_e20201301843492_c20201301844024.nc\r\n",
      "  4827518 OR_ABI-L2-CMIPC-M6C15_G16_s20201301846114_e20201301848493_c20201301849015.nc\r\n",
      "  4830467 OR_ABI-L2-CMIPC-M6C15_G16_s20201301851114_e20201301853492_c20201301854025.nc\r\n",
      "  4834040 OR_ABI-L2-CMIPC-M6C15_G16_s20201301856114_e20201301858493_c20201301859032.nc\r\n",
      "  3838622 OR_ABI-L2-CMIPC-M6C16_G16_s20201301801114_e20201301803498_c20201301804020.nc\r\n",
      "  3841002 OR_ABI-L2-CMIPC-M6C16_G16_s20201301806114_e20201301808498_c20201301808581.nc\r\n",
      "  3845014 OR_ABI-L2-CMIPC-M6C16_G16_s20201301811114_e20201301813498_c20201301814027.nc\r\n",
      "  3847902 OR_ABI-L2-CMIPC-M6C16_G16_s20201301816114_e20201301818498_c20201301819007.nc\r\n",
      "  3851468 OR_ABI-L2-CMIPC-M6C16_G16_s20201301821114_e20201301823498_c20201301824012.nc\r\n",
      "  3855403 OR_ABI-L2-CMIPC-M6C16_G16_s20201301826114_e20201301828498_c20201301829011.nc\r\n",
      "  3858751 OR_ABI-L2-CMIPC-M6C16_G16_s20201301831114_e20201301833498_c20201301834010.nc\r\n",
      "  3862290 OR_ABI-L2-CMIPC-M6C16_G16_s20201301836114_e20201301838498_c20201301839041.nc\r\n",
      "  3865969 OR_ABI-L2-CMIPC-M6C16_G16_s20201301841114_e20201301843498_c20201301844005.nc\r\n",
      "  3869746 OR_ABI-L2-CMIPC-M6C16_G16_s20201301846114_e20201301848498_c20201301848599.nc\r\n",
      "  3871932 OR_ABI-L2-CMIPC-M6C16_G16_s20201301851114_e20201301853498_c20201301854013.nc\r\n",
      "  3876422 OR_ABI-L2-CMIPC-M6C16_G16_s20201301856114_e20201301858498_c20201301858597.nc\r\n"
     ]
    }
   ],
   "source": [
    "! rclone ls Public-AWS:noaa-goes16/ABI-L2-CMIPC/2020/130/18"
   ]
  },
  {
   "cell_type": "markdown",
   "metadata": {},
   "source": [
    "# --------------------------------------------------------------------------------------------"
   ]
  },
  {
   "cell_type": "markdown",
   "metadata": {},
   "source": [
    "# Populate the Lists for Different Channels"
   ]
  },
  {
   "cell_type": "code",
   "execution_count": 36,
   "metadata": {},
   "outputs": [
    {
     "data": {
      "text/plain": [
       "'/Users/chowdahead/Downloads/WX_Data/GOES_Data'"
      ]
     },
     "execution_count": 36,
     "metadata": {},
     "output_type": "execute_result"
    }
   ],
   "source": [
    "# Check to make sure the data went to the right path\n",
    "GOES_sample_path = \"/Users/chowdahead/Downloads/WX_Data/GOES_Data\"\n",
    "GOES_sample_path"
   ]
  },
  {
   "cell_type": "code",
   "execution_count": 37,
   "metadata": {},
   "outputs": [
    {
     "name": "stdout",
     "output_type": "stream",
     "text": [
      "\u001b[1m\u001b[34mAirmass\u001b[m\u001b[m/\r\n",
      "\u001b[1m\u001b[34mDust\u001b[m\u001b[m/\r\n",
      "GOES_rgb_airmass.png\r\n",
      "GOES_rgb_convection.png\r\n",
      "GOES_rgb_true_color.png\r\n",
      "OR_ABI-L1b-RadC-M6C01_G16_s20201391801120_e20201391803493_c20201391803545.nc\r\n",
      "OR_ABI-L1b-RadC-M6C02_G16_s20201391801120_e20201391803493_c20201391803522.nc\r\n",
      "OR_ABI-L1b-RadC-M6C03_G16_s20201391801120_e20201391803493_c20201391804023.nc\r\n",
      "OR_ABI-L1b-RadC-M6C05_G16_s20201391801120_e20201391803493_c20201391803585.nc\r\n",
      "OR_ABI-L1b-RadC-M6C07_G16_s20201391801120_e20201391803505_c20201391803557.nc\r\n",
      "OR_ABI-L1b-RadC-M6C08_G16_s20201391801120_e20201391803493_c20201391803599.nc\r\n",
      "OR_ABI-L1b-RadC-M6C10_G16_s20201391801120_e20201391803504_c20201391803579.nc\r\n",
      "OR_ABI-L1b-RadC-M6C11_G16_s20201391801120_e20201391803493_c20201391803570.nc\r\n",
      "OR_ABI-L1b-RadC-M6C12_G16_s20201391801120_e20201391803498_c20201391803551.nc\r\n",
      "OR_ABI-L1b-RadC-M6C13_G16_s20201391801120_e20201391803504_c20201391804013.nc\r\n",
      "OR_ABI-L1b-RadC-M6C14_G16_s20201391801120_e20201391803493_c20201391803590.nc\r\n",
      "OR_ABI-L1b-RadC-M6C15_G16_s20201391801120_e20201391803499_c20201391804029.nc\r\n",
      "OR_ABI-L1b-RadC-M6C16_G16_s20201391801120_e20201391803505_c20201391803564.nc\r\n",
      "OR_ABI-L2-CMIPC-M6C13_G16_s20201300001113_e20201300003497_c20201300004017.nc\r\n",
      "OR_ABI-L2-CMIPC-M6C13_G16_s20201300006113_e20201300008498_c20201300009019.nc\r\n",
      "OR_ABI-L2-CMIPC-M6C13_G16_s20201300011113_e20201300013498_c20201300014030.nc\r\n",
      "OR_ABI-L2-CMIPC-M6C13_G16_s20201300016113_e20201300018497_c20201300019025.nc\r\n",
      "OR_ABI-L2-CMIPC-M6C13_G16_s20201300021113_e20201300023498_c20201300024016.nc\r\n",
      "OR_ABI-L2-CMIPC-M6C13_G16_s20201300026113_e20201300028498_c20201300028585.nc\r\n",
      "OR_ABI-L2-CMIPC-M6C13_G16_s20201300031113_e20201300033498_c20201300034027.nc\r\n",
      "OR_ABI-L2-CMIPC-M6C13_G16_s20201300036113_e20201300038498_c20201300039007.nc\r\n",
      "OR_ABI-L2-CMIPC-M6C13_G16_s20201300041113_e20201300043498_c20201300044025.nc\r\n",
      "OR_ABI-L2-CMIPC-M6C13_G16_s20201300046113_e20201300048498_c20201300048598.nc\r\n",
      "OR_ABI-L2-CMIPC-M6C13_G16_s20201300051113_e20201300053498_c20201300054017.nc\r\n",
      "OR_ABI-L2-CMIPC-M6C13_G16_s20201300056113_e20201300058498_c20201300059000.nc\r\n",
      "\u001b[1m\u001b[34mTrue_Color\u001b[m\u001b[m/\r\n",
      "\u001b[1m\u001b[34mUsers\u001b[m\u001b[m/\r\n",
      "true_color_20200512_150111.mp4\r\n"
     ]
    }
   ],
   "source": [
    "ls"
   ]
  },
  {
   "cell_type": "code",
   "execution_count": 51,
   "metadata": {},
   "outputs": [
    {
     "name": "stdout",
     "output_type": "stream",
     "text": [
      "12\n",
      "/Users/chowdahead/Downloads/WX_Data/GOES_Data/OR_ABI-L2-CMIPC-M6C13_G16_s20201300001113_e20201300003497_c20201300004017.nc\n"
     ]
    }
   ],
   "source": [
    "GOES_samples = []\n",
    "\n",
    "for name in glob.glob(GOES_sample_path+'/*CMIPC*M6C13*.nc'):\n",
    "    GOES_samples.append(name)\n",
    "    #for name in glob.glob(GOES_sample_path+'OR*L2*RadC*C09*G16*s'+Year+str(Julian_Day)+'*.nc'):\n",
    "    #    GOES16_samples_9.append(name)\n",
    "\n",
    "GOES_samples = sorted(GOES_samples)\n",
    "print(len(GOES_samples))\n",
    "print(GOES_samples[0])"
   ]
  },
  {
   "cell_type": "markdown",
   "metadata": {},
   "source": [
    "# Single images here; loops are further down in the notebook"
   ]
  },
  {
   "cell_type": "markdown",
   "metadata": {},
   "source": [
    "### Set the lat/lon extent of the map"
   ]
  },
  {
   "cell_type": "code",
   "execution_count": 47,
   "metadata": {},
   "outputs": [],
   "source": [
    "# Lon/Lat Box\n",
    "\n",
    "# [Lon_0, Lon_1, Lat_0, Lat_1]\n",
    "# CONUS\n",
    "extent = [-120., -70, 20., 50.] \n",
    "#extent = [-102.97, -96.97, 35.75, 39.75]"
   ]
  },
  {
   "cell_type": "markdown",
   "metadata": {},
   "source": [
    "## IR - Channel 13\n",
    "With the help of searching through some Unidata public emails, I was able to find the color table for the NESDIS IR colorbar. \n",
    "* https://www.unidata.ucar.edu/mailing_lists/archives/ldm-users/2018/msg00055.html"
   ]
  },
  {
   "cell_type": "code",
   "execution_count": 12,
   "metadata": {},
   "outputs": [
    {
     "name": "stdout",
     "output_type": "stream",
     "text": [
      "/Users/chowdahead\n"
     ]
    }
   ],
   "source": [
    "cd ~/"
   ]
  },
  {
   "cell_type": "code",
   "execution_count": 40,
   "metadata": {},
   "outputs": [
    {
     "name": "stdout",
     "output_type": "stream",
     "text": [
      "For plotting (ie pcolormesh, imshow, etc.) set the max/min:\n",
      "vmin=162.  vmax=330.\n"
     ]
    }
   ],
   "source": [
    "import GOES_IR_ColorMap as IR"
   ]
  },
  {
   "cell_type": "markdown",
   "metadata": {},
   "source": [
    "<h1>We can also define a map projection function that can take details of the different channels</h1>\n",
    "\n",
    "* path - data file location\n",
    "* channel - which GOES channel number\n",
    "* title - plot title\n",
    "* savepath - image save location\n",
    "* my_cmap - (optional) desired color table\n",
    "* vmin - (optional) min value for plotting\n",
    "* vmax - (optional) max value for plotting"
   ]
  },
  {
   "cell_type": "code",
   "execution_count": 49,
   "metadata": {},
   "outputs": [],
   "source": [
    "def Map(path,channel,savepath,extent,my_cmap=None,vmin=None,vmax=None):\n",
    "    vis_name = path[-76:]\n",
    "    title = \"GOES-\"+vis_name[23:25]+\" Ch \"+str(channel)+\" - IR\"\n",
    "    nc = Dataset(path)\n",
    "    data = nc.variables['CMI'][:]\n",
    "            #ch2nc.close()\n",
    "            #ch2nc = None\n",
    "        \n",
    "    sat_h = nc.variables['goes_imager_projection'].perspective_point_height\n",
    "    \n",
    "    X = nc.variables['x'][:] * sat_h\n",
    "    Y = nc.variables['y'][:] * sat_h\n",
    "\n",
    "    proj_var = nc.variables['goes_imager_projection']\n",
    "    sat_height = proj_var.perspective_point_height\n",
    "    central_lon = proj_var.longitude_of_projection_origin\n",
    "    semi_major = proj_var.semi_major_axis\n",
    "    semi_minor = proj_var.semi_minor_axis\n",
    "\n",
    "# Create new figure\n",
    "    #fig = plt.figure(figsize=(17., 11.))\n",
    "    fig = plt.figure(figsize=(17,11))\n",
    "\n",
    "# Add state boundaries to plot\n",
    "    states_boundaries = cfeature.NaturalEarthFeature(category='cultural',\n",
    "        name='admin_1_states_provinces_lakes',scale='50m', facecolor='none')\n",
    "\n",
    "    country_borders = cfeature.NaturalEarthFeature(category='cultural',\n",
    "        name='admin_0_countries',scale='50m', facecolor='none')\n",
    "    \n",
    "# Set Projection of Plot\n",
    "    globe = ccrs.Globe(semimajor_axis=semi_major, semiminor_axis=semi_minor)\n",
    "    crs = ccrs.Geostationary(central_longitude=central_lon, satellite_height=sat_height, globe=globe)\n",
    "    #plotcrs = ccrs.LambertConformal(central_latitude=[30, 60], central_longitude=-100)\n",
    "    plotcrs = ccrs.LambertConformal(central_longitude=-99.969 ,central_latitude=37.761)\n",
    "\n",
    "# Add the map and set the extent\n",
    "    ax = plt.subplot(111, projection=plotcrs) \n",
    "        \n",
    "    #reader = shpreader.Reader('/Users/chowdahead/Documents/shapefiles/countyl010g_shp_nt00964/countyl010g.shp')\n",
    "    #counties = list(reader.geometries())\n",
    "    #COUNTIES = cfeat.ShapelyFeature(counties,ccrs.PlateCarree())\n",
    "    #ax.add_feature(COUNTIES, facecolor='none',edgecolor='r')\n",
    "# Find and convert Julian day to date    \n",
    "    import datetime as DT\n",
    "    dt = datetime(2019,1,1)\n",
    "    #print(vis_name[31:34])\n",
    "    dtdelta = DT.timedelta(days=int(vis_name[31:34])-1)\n",
    "    Day = dt + dtdelta\n",
    "    im_file = vis_name[27:31]+\"_\"+'{0:%m_%d}'.format(Day)+\"_\"+vis_name[34:36]+vis_name[36:38]\n",
    "    title_date = vis_name[27:31]+\" \"+'{0:%B %d}'.format(Day)+\" \"+vis_name[34:36]+\"\"+vis_name[36:38]+\"Z\"\n",
    "    im_file = vis_name[27:31]+\"_\"+'{0:%m_%d}'.format(Day)+\"_\"+vis_name[34:36]+vis_name[36:38]\n",
    "\n",
    "# Set the plot title    \n",
    "    #plt.title(title,loc='left',fontdict=font)\n",
    "    #plt.title(title_date,loc='right',fontdict=font)\n",
    "    \n",
    "    text_time = ax.text(.995, 0.01, \n",
    "        vis_name[27:31]+\" \"+'{0:%B %d}'.format(Day)+\" \"+vis_name[34:36]+\"\"+vis_name[36:38]+\"Z\",\n",
    "        horizontalalignment='right', transform=ax.transAxes,\n",
    "        color='white', fontsize=20, weight='bold')\n",
    "\n",
    "    text_time2 = ax.text(0.005, 0.01, \n",
    "        title,\n",
    "        horizontalalignment='left', transform=ax.transAxes,\n",
    "        color='white', fontsize=20, weight='bold')\n",
    "\n",
    "    outline_effect = [patheffects.withStroke(linewidth=5, foreground='black')]\n",
    "    text_time.set_path_effects(outline_effect)\n",
    "    text_time2.set_path_effects(outline_effect)\n",
    "\n",
    "# Add state boundaries to plot\n",
    "    ax.add_feature(states_boundaries, edgecolor='blue', linewidth=1)\n",
    "\n",
    "# Add country borders to plot\n",
    "    ax.add_feature(country_borders, edgecolor='black', linewidth=1)\n",
    "\n",
    "# Set the plotting extent    \n",
    "    #ax.set_extent(extent, ccrs.PlateCarree()) # Eastern Pacific\n",
    "\n",
    "# Plot the image\n",
    "    #img = ax.imshow(data[:],origin='upper',vmin=vmin,vmax=vmax,extent=(X.min(), X.max(), Y.min(), Y.max()),\n",
    "    #    interpolation='nearest',transform=crs,cmap=my_cmap) \n",
    "\n",
    "    ax.set_extent(extent)\n",
    "\n",
    "    ax.gridlines(color=\"w\", linestyle=\"dotted\",alpha=0.5)\n",
    "\n",
    "    im = plt.imshow(data[:],origin='upper',extent=(X.min(), X.max(), Y.min(), Y.max()),\n",
    "                interpolation='nearest',vmin=162.,vmax=330.,cmap=my_cmap, transform=crs) #,vmin=vmin,vmax=vmax\n",
    "    cbar = plt.colorbar(im, orientation='vertical',pad=0.005,aspect=50)\n",
    "    \n",
    "# Display the figure\n",
    "    #plt.show()\n",
    "    \n",
    "# Set the name for saved figure, and save it \n",
    "\n",
    "    \n",
    "    #day_path = savepath+'{0:%m_%d}'.format(Day)+\"/\"\n",
    "    #if not os.path.isdir(day_path):\n",
    "    #    os.makedirs(day_path)\n",
    "    #print(day_path)\n",
    "    #fig.savefig(outfile,bbox_inches='tight',dpi=120)\n",
    "    outfile = \"GOES\"+vis_name[23:25]+\"_Ch\"+str(channel)+\"_\"+str(im_file)+\".png\"\n",
    "    fig.savefig(save_path+outfile,bbox_inches='tight')#,dpi=120\n",
    "    plt.close(fig)"
   ]
  },
  {
   "cell_type": "code",
   "execution_count": 43,
   "metadata": {},
   "outputs": [],
   "source": [
    "save_path = \"/Users/chowdahead/Desktop/\""
   ]
  },
  {
   "cell_type": "markdown",
   "metadata": {},
   "source": [
    "## We can now imput data from the different channels and have our generic map maker function run on each to produce our satellite images!"
   ]
  },
  {
   "cell_type": "markdown",
   "metadata": {},
   "source": [
    "### Map Arguments: Map(path, channel, title, savepath, my_cmap, vmin=None, vmax=None)"
   ]
  },
  {
   "cell_type": "code",
   "execution_count": null,
   "metadata": {},
   "outputs": [],
   "source": [
    "save_path"
   ]
  },
  {
   "cell_type": "code",
   "execution_count": 50,
   "metadata": {
    "scrolled": false
   },
   "outputs": [],
   "source": [
    "# Map(path,channel,title,savepath,extent,my_cmap=None,vmin=None,vmax=None)\n",
    "\n",
    "i = 2\n",
    "channel=13\n",
    "#Map(GOES16_samples_13[i],channel,title,save_path,extent,IR_cmap,vmin=162.,vmax=330.)\n",
    "Map(GOES16_samples_13[i],channel,save_path,extent,my_cmap=IR.IR_Colormap())"
   ]
  },
  {
   "cell_type": "markdown",
   "metadata": {},
   "source": [
    "<h2>----------------------------------------------//---------------------------------------------------------</h2>\n",
    "<h2>----------------------------------------------//---------------------------------------------------------</h2>"
   ]
  },
  {
   "cell_type": "markdown",
   "metadata": {},
   "source": [
    "<h1>We can also take the lists of files we created earlier to plot multiple timesteps and create animated gifs</h1>"
   ]
  },
  {
   "cell_type": "markdown",
   "metadata": {},
   "source": [
    "## Ch 13"
   ]
  },
  {
   "cell_type": "code",
   "execution_count": 44,
   "metadata": {},
   "outputs": [
    {
     "data": {
      "text/plain": [
       "['/Users/chowdahead/Downloads/GOES_Data/2019/237/OR_ABI-L1b-RadC-M6C13_G16_s20192370101185_e20192370103570_c20192370104093.nc',\n",
       " '/Users/chowdahead/Downloads/GOES_Data/2019/237/OR_ABI-L1b-RadC-M6C13_G16_s20192370106185_e20192370108570_c20192370109085.nc',\n",
       " '/Users/chowdahead/Downloads/GOES_Data/2019/237/OR_ABI-L1b-RadC-M6C13_G16_s20192370111185_e20192370113570_c20192370114059.nc',\n",
       " '/Users/chowdahead/Downloads/GOES_Data/2019/237/OR_ABI-L1b-RadC-M6C13_G16_s20192370116185_e20192370118570_c20192370119087.nc',\n",
       " '/Users/chowdahead/Downloads/GOES_Data/2019/237/OR_ABI-L1b-RadC-M6C13_G16_s20192370121185_e20192370123570_c20192370124056.nc',\n",
       " '/Users/chowdahead/Downloads/GOES_Data/2019/237/OR_ABI-L1b-RadC-M6C13_G16_s20192370126185_e20192370128570_c20192370129092.nc',\n",
       " '/Users/chowdahead/Downloads/GOES_Data/2019/237/OR_ABI-L1b-RadC-M6C13_G16_s20192370131185_e20192370133570_c20192370134058.nc',\n",
       " '/Users/chowdahead/Downloads/GOES_Data/2019/237/OR_ABI-L1b-RadC-M6C13_G16_s20192370136185_e20192370138570_c20192370139073.nc',\n",
       " '/Users/chowdahead/Downloads/GOES_Data/2019/237/OR_ABI-L1b-RadC-M6C13_G16_s20192370141185_e20192370143570_c20192370144086.nc',\n",
       " '/Users/chowdahead/Downloads/GOES_Data/2019/237/OR_ABI-L1b-RadC-M6C13_G16_s20192370146185_e20192370148570_c20192370149068.nc',\n",
       " '/Users/chowdahead/Downloads/GOES_Data/2019/237/OR_ABI-L1b-RadC-M6C13_G16_s20192370151185_e20192370153570_c20192370154072.nc',\n",
       " '/Users/chowdahead/Downloads/GOES_Data/2019/237/OR_ABI-L1b-RadC-M6C13_G16_s20192370156185_e20192370158569_c20192370159091.nc']"
      ]
     },
     "execution_count": 44,
     "metadata": {},
     "output_type": "execute_result"
    }
   ],
   "source": [
    "GOES16_samples_13"
   ]
  },
  {
   "cell_type": "code",
   "execution_count": 61,
   "metadata": {},
   "outputs": [
    {
     "name": "stdout",
     "output_type": "stream",
     "text": [
      "Here we go...\n",
      "Images done\n",
      "CPU times: user 9min 59s, sys: 33.8 s, total: 10min 32s\n",
      "Wall time: 9min 12s\n"
     ]
    }
   ],
   "source": [
    "%%time\n",
    "print(\"Here we go...\")\n",
    "channel=13\n",
    "\n",
    "\n",
    "for i in GOES16_samples_13[:]:\n",
    "#for i in range(len(GOES16_samples_13[:])):\n",
    "\n",
    "    #Map(i,channel,save_path,extent,IR_cmap,vmin=162.,vmax=330.)\n",
    "    Map(i,channel,save_path,extent,my_cmap=IR.IR_Colormap())\n",
    "    \n",
    "print(\"Images done\")\n"
   ]
  },
  {
   "cell_type": "code",
   "execution_count": null,
   "metadata": {},
   "outputs": [],
   "source": [
    "print \"gif activated...\"\n",
    "\n",
    "# Set a new list to hold all the images for this channel\n",
    "files = []\n",
    "# searching for the files with * \n",
    "for name in glob.glob(VISPATH+'*.png'):\n",
    "    #print name\n",
    "    files.append(name)\n",
    "\n",
    "# Make sure our files are in chronological order so our animation is accurate\n",
    "files = sorted(files, key=lambda x: int(re.sub('\\D', '', x)))\n",
    "    \n",
    "# Set a new list full of the images so we can create an animation\n",
    "images = []\n",
    "for filename in files:\n",
    "    images.append(imageio.imread(filename))\n",
    "imageio.mimsave(VISPATH+\"VIS_\"+IR_path[55:59]+\"_\"+IR_path[59:62]+\".gif\", \n",
    "                images,duration=0.3)\n",
    "print \"gif done.\""
   ]
  },
  {
   "cell_type": "markdown",
   "metadata": {},
   "source": [
    "<h2>----------------------------------------------//---------------------------------------------------------</h2>"
   ]
  },
  {
   "cell_type": "markdown",
   "metadata": {},
   "source": [
    "## Resize the images if needed"
   ]
  },
  {
   "cell_type": "code",
   "execution_count": null,
   "metadata": {},
   "outputs": [],
   "source": [
    "%cd $save_path"
   ]
  },
  {
   "cell_type": "code",
   "execution_count": null,
   "metadata": {},
   "outputs": [],
   "source": [
    "import glob\n",
    "from PIL import Image\n",
    "\n",
    "List = glob.glob(\"*.png\")\n",
    "for i in List:\n",
    "    #print(i)\n",
    "    basewidth = 600\n",
    "    img = Image.open(i)\n",
    "    wpercent = (basewidth/float(img.size[0]))\n",
    "    hsize = int((float(img.size[1])*float(wpercent)))\n",
    "    img = img.resize((basewidth,hsize), Image.ANTIALIAS)\n",
    "    img.save('Resized_'+i) \n",
    "print(basewidth,hsize)\n",
    "#img = Image.new('RGB', (basewidth,hsize), (0, 0, 0))\n",
    "#img.save(\"GOES_blank_image_Resized.png\", \"PNG\")"
   ]
  },
  {
   "cell_type": "code",
   "execution_count": null,
   "metadata": {},
   "outputs": [],
   "source": []
  },
  {
   "cell_type": "code",
   "execution_count": null,
   "metadata": {},
   "outputs": [],
   "source": []
  },
  {
   "cell_type": "code",
   "execution_count": null,
   "metadata": {},
   "outputs": [],
   "source": []
  },
  {
   "cell_type": "code",
   "execution_count": null,
   "metadata": {},
   "outputs": [],
   "source": []
  },
  {
   "cell_type": "code",
   "execution_count": null,
   "metadata": {},
   "outputs": [],
   "source": []
  },
  {
   "cell_type": "code",
   "execution_count": null,
   "metadata": {},
   "outputs": [],
   "source": []
  },
  {
   "cell_type": "code",
   "execution_count": null,
   "metadata": {},
   "outputs": [],
   "source": []
  },
  {
   "cell_type": "code",
   "execution_count": null,
   "metadata": {},
   "outputs": [],
   "source": []
  },
  {
   "cell_type": "code",
   "execution_count": null,
   "metadata": {},
   "outputs": [],
   "source": [
    "Year = 2019\n",
    "Julian_Day = 190\n",
    "# Where the data is supposed to be\n",
    "GOES_sample_path = '/Users/chowdahead/Downloads/GOES_Data/'+str(Year)+'/'+str(Julian_Day)+'/' # Use full path to file\n",
    "print(\"Data path:\",GOES_sample_path)\n",
    "# Check to see if the folder already exists, if not create it\n",
    "if not os.path.isdir(GOES_sample_path):\n",
    "    os.makedirs(GOES_sample_path)\n",
    "    \n",
    "# Set a path to save the plots with string format for the date to set the month and day\n",
    "# This will be where the images will be saved\n",
    "save_path_190 = \"/Users/chowdahead/Desktop/Weather_Blog/GOES/\"+str(Year)+'/'+str(Julian_Day)+'/'\n",
    "save_path_190 = save_path_190+\"IR/\"\n",
    "\n",
    "print(\"save path:\",save_path_190)\n",
    "\n",
    "# Check to see if the folder already exists, if not create it\n",
    "if not os.path.isdir(save_path_190):\n",
    "    os.makedirs(save_path_190)\n",
    "    \n",
    "GOES16_samples_13_190 = []\n",
    "for i in range(0,24):\n",
    "    if i < 10:\n",
    "        hour = \"0\"+str(i)\n",
    "    else:\n",
    "        hour = i\n",
    "    #print(hour)\n",
    "    for name in glob.glob(GOES_sample_path+str(hour)+'/*RadC*M6C13*.nc'):\n",
    "        GOES16_samples_13_190.append(name)\n",
    "    #for name in glob.glob(GOES_sample_path+'OR*L2*RadC*C09*G16*s'+Year+str(Julian_Day)+'*.nc'):\n",
    "    #    GOES16_samples_9.append(name)\n",
    "    GOES16_samples_13_190 = [os.path.join(GOES_sample_path, s) for s in GOES16_samples_13_190]\n",
    "    GOES16_samples_13_190 = sorted(GOES16_samples_13_190, key=lambda x: int(re.sub('\\D', '', x)))\n",
    "\n",
    "    \n",
    "print(len(GOES16_samples_13_190))\n",
    "print(GOES16_samples_13_190[-1])"
   ]
  },
  {
   "cell_type": "code",
   "execution_count": null,
   "metadata": {},
   "outputs": [],
   "source": [
    "Year = 2019\n",
    "Julian_Day = 189\n",
    "# Where the data is supposed to be\n",
    "GOES_sample_path = '/Users/chowdahead/Downloads/GOES_Data/'+str(Year)+'/'+str(Julian_Day)+'/' # Use full path to file\n",
    "print(\"Data path:\",GOES_sample_path)\n",
    "# Check to see if the folder already exists, if not create it\n",
    "if not os.path.isdir(GOES_sample_path):\n",
    "    os.makedirs(GOES_sample_path)\n",
    "    \n",
    "# Set a path to save the plots with string format for the date to set the month and day\n",
    "# This will be where the images will be saved\n",
    "save_path_189 = \"/Users/chowdahead/Desktop/Weather_Blog/GOES/\"+str(Year)+'/'+str(Julian_Day)+'/'\n",
    "save_path_189 = save_path_189+\"IR/\"\n",
    "\n",
    "print(\"save path:\",save_path_189)\n",
    "\n",
    "# Check to see if the folder already exists, if not create it\n",
    "if not os.path.isdir(save_path_189):\n",
    "    os.makedirs(save_path_189)\n",
    "    \n",
    "GOES16_samples_13_189 = []\n",
    "for i in range(0,24):\n",
    "    if i < 10:\n",
    "        hour = \"0\"+str(i)\n",
    "    else:\n",
    "        hour = i\n",
    "    #print(hour)\n",
    "    for name in glob.glob(GOES_sample_path+str(hour)+'/*RadC*M6C13*.nc'):\n",
    "        GOES16_samples_13_189.append(name)\n",
    "    #for name in glob.glob(GOES_sample_path+'OR*L2*RadC*C09*G16*s'+Year+str(Julian_Day)+'*.nc'):\n",
    "    #    GOES16_samples_9.append(name)\n",
    "    GOES16_samples_13_189 = [os.path.join(GOES_sample_path, s) for s in GOES16_samples_13_189]\n",
    "    GOES16_samples_13_189 = sorted(GOES16_samples_13_189, key=lambda x: int(re.sub('\\D', '', x)))\n",
    "\n",
    "    \n",
    "print(len(GOES16_samples_13_189))\n",
    "print(GOES16_samples_13_189[-1])"
   ]
  },
  {
   "cell_type": "code",
   "execution_count": null,
   "metadata": {},
   "outputs": [],
   "source": [
    "for i in range(len(GOES16_samples_13_189[:])):\n",
    "\n",
    "    Map(GOES16_samples_13_189[i],channel,save_path_189,extent,IR_cmap,vmin=162.,vmax=330.)\n",
    "    Map(GOES16_samples_13_190[i],channel,save_path_190,extent,IR_cmap,vmin=162.,vmax=330.)\n",
    "    \n",
    "print(\"Images done\")"
   ]
  },
  {
   "cell_type": "code",
   "execution_count": null,
   "metadata": {},
   "outputs": [],
   "source": []
  }
 ],
 "metadata": {
  "kernelspec": {
   "display_name": "Python 3",
   "language": "python",
   "name": "python3"
  },
  "language_info": {
   "codemirror_mode": {
    "name": "ipython",
    "version": 3
   },
   "file_extension": ".py",
   "mimetype": "text/x-python",
   "name": "python",
   "nbconvert_exporter": "python",
   "pygments_lexer": "ipython3",
   "version": "3.7.6"
  }
 },
 "nbformat": 4,
 "nbformat_minor": 1
}
