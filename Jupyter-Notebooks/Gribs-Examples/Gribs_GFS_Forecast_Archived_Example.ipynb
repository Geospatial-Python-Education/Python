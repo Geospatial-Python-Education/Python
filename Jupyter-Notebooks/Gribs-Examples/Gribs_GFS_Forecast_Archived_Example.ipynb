{
 "cells": [
  {
   "cell_type": "markdown",
   "metadata": {},
   "source": [
    "<img src=\"https://www.earthsystemcog.org/site_media/logos/gfs4c.png\">"
   ]
  },
  {
   "cell_type": "markdown",
   "metadata": {},
   "source": [
    "## Archive GFS Forecast Grib Files\n",
    "Some days are missing...\n",
    "\n",
    "Roughly 10 days behind current date \n",
    "\n",
    "* https://www.ncdc.noaa.gov/data-access/model-data/model-datasets/global-forcast-system-gfs"
   ]
  },
  {
   "cell_type": "code",
   "execution_count": 1,
   "metadata": {},
   "outputs": [
    {
     "name": "stdout",
     "output_type": "stream",
     "text": [
      "done.\n"
     ]
    }
   ],
   "source": [
    "\n",
    "import pygrib\n",
    "\n",
    "# Random Library Imports\n",
    "import os,glob,re,time\n",
    "\n",
    "# Importing Datetime Libraries\n",
    "from datetime import datetime, timedelta\n",
    "\n",
    "# CartoPy Map Plotting Libraires\n",
    "import cartopy.crs as ccrs\n",
    "import cartopy.feature as cfeature\n",
    "from cartopy.mpl.gridliner import LONGITUDE_FORMATTER, LATITUDE_FORMATTER\n",
    "\n",
    "\n",
    "# Numerical and Scientific Libraries\n",
    "import numpy as np\n",
    "from scipy.ndimage import gaussian_filter\n",
    "\n",
    "# MetPy Libraries\n",
    "from metpy.plots import add_metpy_logo\n",
    "\n",
    "# Matplotlib Plotting Libraries\n",
    "import matplotlib.pyplot as plt\n",
    "from mpl_toolkits.axes_grid1 import make_axes_locatable, axes_size\n",
    "from matplotlib.colors import LinearSegmentedColormap\n",
    "import matplotlib.ticker as mticker\n",
    "\n",
    "# Warnings\n",
    "import warnings\n",
    "warnings.filterwarnings('ignore')\n",
    "\n",
    "import matplotlib.gridspec as gridspec\n",
    "print(\"done.\")\n"
   ]
  },
  {
   "cell_type": "code",
   "execution_count": 2,
   "metadata": {},
   "outputs": [],
   "source": [
    "# Set the font \n",
    "font = {'family': 'serif',\n",
    "        'color':  'darkred',\n",
    "        'weight': 'normal',\n",
    "        'size': 18,\n",
    "        }"
   ]
  },
  {
   "cell_type": "code",
   "execution_count": 3,
   "metadata": {},
   "outputs": [
    {
     "name": "stdout",
     "output_type": "stream",
     "text": [
      "/Users/chowdahead/Downloads\n"
     ]
    }
   ],
   "source": [
    "cd ~/Downloads/"
   ]
  },
  {
   "cell_type": "code",
   "execution_count": 4,
   "metadata": {},
   "outputs": [],
   "source": [
    "import Vorticity_Color_Bar as vort_cmap\n",
    "vort_cmapz = vort_cmap.my_cmap"
   ]
  },
  {
   "cell_type": "markdown",
   "metadata": {},
   "source": [
    "## Search the current working drive for files that start with gfs"
   ]
  },
  {
   "cell_type": "code",
   "execution_count": 15,
   "metadata": {},
   "outputs": [
    {
     "name": "stdout",
     "output_type": "stream",
     "text": [
      "gfs_4_20191115_0000_000.grb2  gfs_4_20191115_0000_003.grb2\r\n"
     ]
    }
   ],
   "source": [
    "ls gfs_*"
   ]
  },
  {
   "cell_type": "markdown",
   "metadata": {},
   "source": [
    "## Use ```glob``` to grab the names of all the gfs files"
   ]
  },
  {
   "cell_type": "code",
   "execution_count": 17,
   "metadata": {},
   "outputs": [
    {
     "name": "stdout",
     "output_type": "stream",
     "text": [
      "['gfs_4_20191115_0000_003.grb2']\n"
     ]
    }
   ],
   "source": [
    "grib_list = glob.glob('gfs_*003.grb2')\n",
    "grib_list = sorted(grib_list, key=lambda x: int(re.sub('\\D', '', x)))\n",
    "print(grib_list)"
   ]
  },
  {
   "cell_type": "markdown",
   "metadata": {},
   "source": [
    "## Grabbing the first grib file from our list will allow us to explore the data\n",
    "* Each entry of the file is a different variable (specified at different heights for most)\n",
    "* There are over 500 variables for a GFS grib file!!"
   ]
  },
  {
   "cell_type": "code",
   "execution_count": 18,
   "metadata": {},
   "outputs": [],
   "source": [
    "#grib = \"gfsanl_3_20190129_1200_000.grb2\" # Set the file name of your input GRIB file\n",
    "grbs = pygrib.open(grib_list[0])\n",
    "grb = grbs.read()"
   ]
  },
  {
   "cell_type": "markdown",
   "metadata": {},
   "source": [
    "### Since there's so many variables, lets just print out the first 10 to get an idea of what the file looks like"
   ]
  },
  {
   "cell_type": "code",
   "execution_count": 19,
   "metadata": {},
   "outputs": [
    {
     "data": {
      "text/plain": [
       "[1:Cloud mixing ratio:kg kg**-1 (instant):regular_ll:hybrid:level 1:fcst time 3 hrs:from 201911150000,\n",
       " 2:Ice water mixing ratio:kg kg**-1 (instant):regular_ll:hybrid:level 1:fcst time 3 hrs:from 201911150000,\n",
       " 3:Rain mixing ratio:kg kg**-1 (instant):regular_ll:hybrid:level 1:fcst time 3 hrs:from 201911150000,\n",
       " 4:Snow mixing ratio:kg kg**-1 (instant):regular_ll:hybrid:level 1:fcst time 3 hrs:from 201911150000,\n",
       " 5:Graupel (snow pellets):kg kg**-1 (instant):regular_ll:hybrid:level 1:fcst time 3 hrs:from 201911150000,\n",
       " 6:Maximum/Composite radar reflectivity:dB (instant):regular_ll:atmosphere:level 0 -:fcst time 3 hrs:from 201911150000,\n",
       " 7:Visibility:m (instant):regular_ll:surface:level 0:fcst time 3 hrs:from 201911150000,\n",
       " 8:U component of wind:m s**-1 (instant):regular_ll:unknown:level 0:fcst time 3 hrs:from 201911150000,\n",
       " 9:V component of wind:m s**-1 (instant):regular_ll:unknown:level 0:fcst time 3 hrs:from 201911150000,\n",
       " 10:Ventilation Rate:m**2 s**-1 (instant):regular_ll:unknown:level 0:fcst time 3 hrs:from 201911150000]"
      ]
     },
     "execution_count": 19,
     "metadata": {},
     "output_type": "execute_result"
    }
   ],
   "source": [
    "grb[0:10]"
   ]
  },
  {
   "cell_type": "markdown",
   "metadata": {},
   "source": [
    "### There is a built in search by name function, but the exact name has be specified"
   ]
  },
  {
   "cell_type": "code",
   "execution_count": 20,
   "metadata": {},
   "outputs": [
    {
     "ename": "ValueError",
     "evalue": "no matches found",
     "output_type": "error",
     "traceback": [
      "\u001b[0;31m---------------------------------------------------------------------------\u001b[0m",
      "\u001b[0;31mValueError\u001b[0m                                Traceback (most recent call last)",
      "\u001b[0;32m<ipython-input-20-ec68fde650b7>\u001b[0m in \u001b[0;36m<module>\u001b[0;34m\u001b[0m\n\u001b[0;32m----> 1\u001b[0;31m \u001b[0mgrbs\u001b[0m\u001b[0;34m.\u001b[0m\u001b[0mselect\u001b[0m\u001b[0;34m(\u001b[0m\u001b[0mname\u001b[0m\u001b[0;34m=\u001b[0m\u001b[0;34m\"MSLP\"\u001b[0m\u001b[0;34m)\u001b[0m\u001b[0;34m\u001b[0m\u001b[0;34m\u001b[0m\u001b[0m\n\u001b[0m",
      "\u001b[0;32mpygrib.pyx\u001b[0m in \u001b[0;36mpygrib.open.select\u001b[0;34m()\u001b[0m\n",
      "\u001b[0;31mValueError\u001b[0m: no matches found"
     ]
    }
   ],
   "source": [
    "grbs.select(name=\"MSLP\")"
   ]
  },
  {
   "cell_type": "code",
   "execution_count": 41,
   "metadata": {},
   "outputs": [
    {
     "data": {
      "text/plain": [
       "[419:MSLP (Eta model reduction):Pa (instant):regular_ll:meanSea:level 0:fcst time 3 hrs:from 201911150000]"
      ]
     },
     "execution_count": 41,
     "metadata": {},
     "output_type": "execute_result"
    }
   ],
   "source": [
    "grbs.select(name=\"MSLP (Eta model reduction)\")"
   ]
  },
  {
   "cell_type": "code",
   "execution_count": 42,
   "metadata": {},
   "outputs": [
    {
     "data": {
      "text/plain": [
       "list"
      ]
     },
     "execution_count": 42,
     "metadata": {},
     "output_type": "execute_result"
    }
   ],
   "source": [
    "type(grbs.select(name=\"MSLP (Eta model reduction)\"))"
   ]
  },
  {
   "cell_type": "code",
   "execution_count": 48,
   "metadata": {},
   "outputs": [
    {
     "data": {
      "text/plain": [
       "230:Absolute vorticity:s**-1 (instant):regular_ll:isobaricInhPa:level 50000 Pa:fcst time 3 hrs:from 201911150000"
      ]
     },
     "execution_count": 48,
     "metadata": {},
     "output_type": "execute_result"
    }
   ],
   "source": [
    "grbs.select(name=\"Absolute vorticity\",level=500)[0]"
   ]
  },
  {
   "cell_type": "code",
   "execution_count": 51,
   "metadata": {},
   "outputs": [
    {
     "data": {
      "text/plain": [
       "(array([[ 90. ,  90. ,  90. , ...,  90. ,  90. ,  90. ],\n",
       "        [ 89.5,  89.5,  89.5, ...,  89.5,  89.5,  89.5],\n",
       "        [ 89. ,  89. ,  89. , ...,  89. ,  89. ,  89. ],\n",
       "        ...,\n",
       "        [-89. , -89. , -89. , ..., -89. , -89. , -89. ],\n",
       "        [-89.5, -89.5, -89.5, ..., -89.5, -89.5, -89.5],\n",
       "        [-90. , -90. , -90. , ..., -90. , -90. , -90. ]]),\n",
       " array([[  0. ,   0.5,   1. , ..., 358.5, 359. , 359.5],\n",
       "        [  0. ,   0.5,   1. , ..., 358.5, 359. , 359.5],\n",
       "        [  0. ,   0.5,   1. , ..., 358.5, 359. , 359.5],\n",
       "        ...,\n",
       "        [  0. ,   0.5,   1. , ..., 358.5, 359. , 359.5],\n",
       "        [  0. ,   0.5,   1. , ..., 358.5, 359. , 359.5],\n",
       "        [  0. ,   0.5,   1. , ..., 358.5, 359. , 359.5]]))"
      ]
     },
     "execution_count": 51,
     "metadata": {},
     "output_type": "execute_result"
    }
   ],
   "source": [
    "hgt_500 = grbs.select(name=\"Geopotential Height\",level=500)[0]\n",
    "lat, lon = hgt_500.latlons()\n",
    "lat, lon"
   ]
  },
  {
   "cell_type": "code",
   "execution_count": 23,
   "metadata": {},
   "outputs": [],
   "source": [
    "hgt_500 = grbs.select(name=\"Geopotential Height\",level=500)[0].values\n",
    "vort_500 = grbs.select(name=\"Absolute vorticity\",level=500)[0].values"
   ]
  },
  {
   "cell_type": "code",
   "execution_count": 24,
   "metadata": {},
   "outputs": [
    {
     "data": {
      "text/plain": [
       "array([[5221.7383, 5221.7383, 5221.7383, ..., 5221.7383, 5221.7383,\n",
       "        5221.7383],\n",
       "       [5218.3384, 5218.3784, 5218.3984, ..., 5218.2583, 5218.2983,\n",
       "        5218.3184],\n",
       "       [5215.058 , 5215.098 , 5215.138 , ..., 5214.9185, 5214.9585,\n",
       "        5215.0186],\n",
       "       ...,\n",
       "       [5100.058 , 5100.158 , 5100.2583, ..., 5099.7583, 5099.8584,\n",
       "        5099.9585],\n",
       "       [5097.058 , 5097.098 , 5097.138 , ..., 5096.9185, 5096.9585,\n",
       "        5097.0186],\n",
       "       [5093.4985, 5093.4985, 5093.4985, ..., 5093.4985, 5093.4985,\n",
       "        5093.4985]], dtype=float32)"
      ]
     },
     "execution_count": 24,
     "metadata": {},
     "output_type": "execute_result"
    }
   ],
   "source": [
    "hgt_500"
   ]
  },
  {
   "cell_type": "markdown",
   "metadata": {},
   "source": [
    "## Grab subsets of data based off variable name:\n",
    "\n",
    "### Geopotential Heights:"
   ]
  },
  {
   "cell_type": "code",
   "execution_count": 14,
   "metadata": {},
   "outputs": [
    {
     "data": {
      "text/plain": [
       "12:Geopotential Height:gpm (instant):regular_ll:isobaricInPa:level 40 Pa:fcst time 0 hrs:from 201911150000"
      ]
     },
     "execution_count": 14,
     "metadata": {},
     "output_type": "execute_result"
    }
   ],
   "source": [
    "GeoHeight = [i for i in grbs.select(name=\"Geopotential Height\")]\n",
    "GeoHeight[0]"
   ]
  },
  {
   "cell_type": "code",
   "execution_count": 15,
   "metadata": {},
   "outputs": [
    {
     "data": {
      "text/plain": [
       "[13:Temperature:K (instant):regular_ll:isobaricInPa:level 40 Pa:fcst time 0 hrs:from 201911150000,\n",
       " 17:Temperature:K (instant):regular_ll:isobaricInhPa:level 100 Pa:fcst time 0 hrs:from 201911150000,\n",
       " 23:Temperature:K (instant):regular_ll:isobaricInhPa:level 200 Pa:fcst time 0 hrs:from 201911150000,\n",
       " 29:Temperature:K (instant):regular_ll:isobaricInhPa:level 300 Pa:fcst time 0 hrs:from 201911150000,\n",
       " 35:Temperature:K (instant):regular_ll:isobaricInhPa:level 500 Pa:fcst time 0 hrs:from 201911150000]"
      ]
     },
     "execution_count": 15,
     "metadata": {},
     "output_type": "execute_result"
    }
   ],
   "source": [
    "Temp = [i for i in grbs.select(name=\"Temperature\")]\n",
    "Temp[0:5]"
   ]
  },
  {
   "cell_type": "code",
   "execution_count": 16,
   "metadata": {},
   "outputs": [
    {
     "data": {
      "text/plain": [
       "[14:Absolute vorticity:s**-1 (instant):regular_ll:isobaricInPa:level 40 Pa:fcst time 0 hrs:from 201911150000,\n",
       " 51:Absolute vorticity:s**-1 (instant):regular_ll:isobaricInhPa:level 1000 Pa:fcst time 0 hrs:from 201911150000,\n",
       " 55:Absolute vorticity:s**-1 (instant):regular_ll:isobaricInhPa:level 1500 Pa:fcst time 0 hrs:from 201911150000,\n",
       " 62:Absolute vorticity:s**-1 (instant):regular_ll:isobaricInhPa:level 2000 Pa:fcst time 0 hrs:from 201911150000,\n",
       " 69:Absolute vorticity:s**-1 (instant):regular_ll:isobaricInhPa:level 3000 Pa:fcst time 0 hrs:from 201911150000]"
      ]
     },
     "execution_count": 16,
     "metadata": {},
     "output_type": "execute_result"
    }
   ],
   "source": [
    "AbVort = [i for i in grbs.select(name=\"Absolute vorticity\")]\n",
    "AbVort[0:5]\n"
   ]
  },
  {
   "cell_type": "markdown",
   "metadata": {},
   "source": [
    "## Each entry in our new list is a ```pygrib.gribmessage```\n",
    "\n",
    "* https://jswhit.github.io/pygrib/docs/pygrib.gribmessage-class.html"
   ]
  },
  {
   "cell_type": "code",
   "execution_count": 17,
   "metadata": {},
   "outputs": [
    {
     "data": {
      "text/plain": [
       "pygrib.gribmessage"
      ]
     },
     "execution_count": 17,
     "metadata": {},
     "output_type": "execute_result"
    }
   ],
   "source": [
    "type(GeoHeight[0])"
   ]
  },
  {
   "cell_type": "markdown",
   "metadata": {},
   "source": [
    "## Analysis datetime ```analDate```"
   ]
  },
  {
   "cell_type": "code",
   "execution_count": 18,
   "metadata": {},
   "outputs": [
    {
     "data": {
      "text/plain": [
       "datetime.datetime(2019, 11, 15, 0, 0)"
      ]
     },
     "execution_count": 18,
     "metadata": {},
     "output_type": "execute_result"
    }
   ],
   "source": [
    "GeoHeight[0].analDate"
   ]
  },
  {
   "cell_type": "markdown",
   "metadata": {},
   "source": [
    "### Since it is easier to call the variables from the grib file by the entry index, the ```.messagenumber``` instance varibale will find that for us:"
   ]
  },
  {
   "cell_type": "code",
   "execution_count": 19,
   "metadata": {},
   "outputs": [
    {
     "data": {
      "text/plain": [
       "(12,\n",
       " 12:Geopotential Height:gpm (instant):regular_ll:isobaricInPa:level 40 Pa:fcst time 0 hrs:from 201911150000)"
      ]
     },
     "execution_count": 19,
     "metadata": {},
     "output_type": "execute_result"
    }
   ],
   "source": [
    "GeoHeight[0].messagenumber,grbs[GeoHeight[0].messagenumber]"
   ]
  },
  {
   "cell_type": "markdown",
   "metadata": {},
   "source": [
    "## Looking to find which index in the whole ```grib``` file is 500mb Geopotential Heights:\n",
    "* Note: in the pygrib.gribmessage, the level is indicated with Pa, yet when calling the ```pygrib.gribmessage[\"level\"]``` key, it has to be called with hPa. I have no idea why this is, and would have to dive a bit further into the docs..."
   ]
  },
  {
   "cell_type": "markdown",
   "metadata": {},
   "source": [
    "Find the level of ```GeoHeight[0]```:"
   ]
  },
  {
   "cell_type": "code",
   "execution_count": 20,
   "metadata": {},
   "outputs": [
    {
     "data": {
      "text/plain": [
       "40"
      ]
     },
     "execution_count": 20,
     "metadata": {},
     "output_type": "execute_result"
    }
   ],
   "source": [
    "GeoHeight[0][\"level\"]"
   ]
  },
  {
   "cell_type": "code",
   "execution_count": 21,
   "metadata": {},
   "outputs": [
    {
     "name": "stdout",
     "output_type": "stream",
     "text": [
      "214:Geopotential Height:gpm (instant):regular_ll:isobaricInhPa:level 50000 Pa:fcst time 0 hrs:from 201911150000 \n",
      "Grib variable index: 214\n"
     ]
    }
   ],
   "source": [
    "for i in GeoHeight:\n",
    "    if i[\"level\"] == 500: # !!Look for the 500 hPa not 50000 Pa!!\n",
    "        mb500_lev_index = i.messagenumber\n",
    "        print(i,f\"\\nGrib variable index: {i.messagenumber}\")\n"
   ]
  },
  {
   "cell_type": "markdown",
   "metadata": {},
   "source": [
    "### The data values, lats, and lons are in different entries of each variable speficied at a height"
   ]
  },
  {
   "cell_type": "code",
   "execution_count": 22,
   "metadata": {
    "scrolled": true
   },
   "outputs": [
    {
     "data": {
      "text/plain": [
       "(array([[50009.05 , 50009.05 , 50009.05 , ..., 50009.05 , 50009.05 ,\n",
       "         50009.05 ],\n",
       "        [49947.61 , 49948.09 , 49948.41 , ..., 49946.33 , 49946.81 ,\n",
       "         49947.13 ],\n",
       "        [49897.367, 49898.008, 49898.81 , ..., 49895.45 , 49895.93 ,\n",
       "         49896.73 ],\n",
       "        ...,\n",
       "        [56323.29 , 56323.29 , 56323.29 , ..., 56323.45 , 56323.29 ,\n",
       "         56323.29 ],\n",
       "        [56347.77 , 56347.77 , 56347.61 , ..., 56348.09 , 56348.09 ,\n",
       "         56347.93 ],\n",
       "        [56365.848, 56365.848, 56365.848, ..., 56365.848, 56365.848,\n",
       "         56365.848]], dtype=float32),\n",
       " array([[ 90.,  90.,  90., ...,  90.,  90.,  90.],\n",
       "        [ 89.,  89.,  89., ...,  89.,  89.,  89.],\n",
       "        [ 88.,  88.,  88., ...,  88.,  88.,  88.],\n",
       "        ...,\n",
       "        [-88., -88., -88., ..., -88., -88., -88.],\n",
       "        [-89., -89., -89., ..., -89., -89., -89.],\n",
       "        [-90., -90., -90., ..., -90., -90., -90.]]),\n",
       " array([[  0.,   1.,   2., ..., 357., 358., 359.],\n",
       "        [  0.,   1.,   2., ..., 357., 358., 359.],\n",
       "        [  0.,   1.,   2., ..., 357., 358., 359.],\n",
       "        ...,\n",
       "        [  0.,   1.,   2., ..., 357., 358., 359.],\n",
       "        [  0.,   1.,   2., ..., 357., 358., 359.],\n",
       "        [  0.,   1.,   2., ..., 357., 358., 359.]]))"
      ]
     },
     "execution_count": 22,
     "metadata": {},
     "output_type": "execute_result"
    }
   ],
   "source": [
    "GeoHeight[0].data() # comes out as arrays"
   ]
  },
  {
   "cell_type": "markdown",
   "metadata": {},
   "source": [
    "# With this data now parsed, we can try plotting"
   ]
  },
  {
   "cell_type": "markdown",
   "metadata": {},
   "source": [
    "### Clean up some of the variables we will plot by taking a lat/lon subset:"
   ]
  },
  {
   "cell_type": "code",
   "execution_count": 53,
   "metadata": {},
   "outputs": [],
   "source": [
    "mslp = grbs.select(name=\"MSLP (Eta model reduction)\")[0] # [0] since MSLP is a list?\n",
    "mslp_data, lats, lons = mslp.data(lat1=20,lat2=70,lon1=220,lon2=320)\n",
    "mslp_data = gaussian_filter(mslp_data, 3)/100\n",
    "\n",
    "hgt_500 = grbs.select(name=\"Geopotential Height\",level=500)[0].data(lat1=20,lat2=70,lon1=220,lon2=320)\n",
    "vort_500 = grbs.select(name=\"Absolute vorticity\",level=500)[0].data(lat1=20,lat2=70,lon1=220,lon2=320)"
   ]
  },
  {
   "cell_type": "markdown",
   "metadata": {},
   "source": [
    "### The date can be grabbed from the data as well:"
   ]
  },
  {
   "cell_type": "code",
   "execution_count": 54,
   "metadata": {},
   "outputs": [
    {
     "name": "stdout",
     "output_type": "stream",
     "text": [
      "Data Date: 20191115\n",
      "Hour: 0\n",
      "Minute: 0\n",
      "Forecast Time: 3\n",
      "Data Time: 0\n",
      "<class 'int'>\n"
     ]
    },
    {
     "data": {
      "text/plain": [
       "('20191115_0000Z_F003', '2019-11-15', '00')"
      ]
     },
     "execution_count": 54,
     "metadata": {},
     "output_type": "execute_result"
    }
   ],
   "source": [
    "print(f\"Data Date: {mslp['dataDate']}\")\n",
    "print(f\"Hour: {mslp['hour']}\")\n",
    "print(f\"Minute: {mslp['minute']}\")\n",
    "print(f\"Forecast Time: {mslp['forecastTime']}\")\n",
    "print(f\"Data Time: {mslp['dataTime']}\")\n",
    "#file_time = str(mslp['dataDate'])+\"_\"+str(mslp['hour'])+str(mslp['hour'])\n",
    "      \n",
    "Date = mslp['dataDate']\n",
    "Year = mslp['year']\n",
    "Month = mslp['month']  \n",
    "Day = mslp['day']\n",
    "Hour = mslp['hour']\n",
    "Minute = mslp['minute']\n",
    "InitHour = mslp['dataTime']\n",
    "ForecastHour = mslp['forecastTime']\n",
    "print(type(Minute))    \n",
    "\n",
    "if Hour < 10:\n",
    "    Hour = f\"0{Hour}\"\n",
    "if Minute < 10:\n",
    "    Minute = f\"0{Minute}\"\n",
    "if InitHour < 10:\n",
    "    InitHour = f\"0{InitHour}\"\n",
    "if ForecastHour < 10:\n",
    "    ForecastHour = f\"00{ForecastHour}\"\n",
    "if 10 < int(ForecastHour) < 100:\n",
    "    ForecastHour = f\"0{ForecastHour}\"\n",
    "      \n",
    "title_date = f\"{Year}-{Month}-{Day}\"  \n",
    "#forecast_hour = \n",
    "file_time = f\"{Date}_{InitHour}00Z_F{ForecastHour}\"\n",
    "file_time, title_date,InitHour"
   ]
  },
  {
   "cell_type": "code",
   "execution_count": 55,
   "metadata": {},
   "outputs": [],
   "source": [
    "# Add Map Features\n",
    "states_provinces = cfeature.NaturalEarthFeature(category='cultural',\n",
    "    name='admin_1_states_provinces_lakes',scale='50m', facecolor='none')\n",
    "\n",
    "country_borders = cfeature.NaturalEarthFeature(category='cultural',\n",
    "    name='admin_0_countries',scale='50m', facecolor='none')\n",
    "\n",
    "# Colorbar Axis Placement (under figure)\n",
    "colorbar_axis = [0.218, 0.01, 0.589, 0.03] # [left, bottom, width, height]\n",
    "\n",
    "# Lat/Lon Extents [lon0,lon1,lat0,lat1]\n",
    "extent = [-180., -60, 20., 70.]\n",
    "\n",
    "kw_clabels = {'fontsize': 11, 'inline': True, 'inline_spacing': 5, 'fmt': '%i',\n",
    "              'rightside_up': True, 'use_clabeltext': True}"
   ]
  },
  {
   "cell_type": "code",
   "execution_count": null,
   "metadata": {
    "scrolled": false
   },
   "outputs": [],
   "source": [
    "# Create new figure\n",
    "datacrs = ccrs.PlateCarree()\n",
    "plotcrs = ccrs.NorthPolarStereo(central_longitude=-100.0)\n",
    "\n",
    "fig = plt.figure(figsize=(17., 11.))\n",
    "\n",
    "add_metpy_logo(fig, 30, 925, size='small')\n",
    "\n",
    "# Add the map and set the extent\n",
    "ax = plt.subplot(111, projection=plotcrs)\n",
    "\n",
    "ax.set_extent([-125, -70, 20, 55], ccrs.PlateCarree())\n",
    "\n",
    "# Add state boundaries to plot\n",
    "ax.add_feature(states_provinces, edgecolor='blue', linewidth=1,zorder=10)\n",
    "\n",
    "# Add country borders to plot\n",
    "ax.add_feature(country_borders, edgecolor='black', linewidth=1,zorder=10)\n",
    "\n",
    "# Plot Title\n",
    "ax.set_title('GFS ($0.5^o$) Forecast: MSLP, 500mb Heights and Abs Vorticity '+ \"(\"+\"$\\mathregular{s^{-1}}$\"+\")\", \n",
    "                 size=16, loc='left',fontdict=font)\n",
    "    \n",
    "ax.set_title(f\"Init Hour: {InitHour}Z {title_date}\\nForecast Hour: F{ForecastHour} {title_date}\",\n",
    "                 size=16, loc='right',fontdict=font)\n",
    "\n",
    "'''\n",
    "gl = ax.gridlines(crs=ccrs.PlateCarree(), draw_labels=True,\n",
    "                  linewidth=2, color='gray', alpha=0.5, linestyle='--')\n",
    "gl.xlabels_top = False\n",
    "gl.ylabels_left = True\n",
    "gl.xlines = True\n",
    "#gl.xlocator = mticker.FixedLocator([-125, -110, -95, -80, -70])\n",
    "gl.xformatter = LONGITUDE_FORMATTER\n",
    "gl.yformatter = LATITUDE_FORMATTER\n",
    "\n",
    "gl.ylabel_style = {'size': 15, 'color': 'gray'}\n",
    "gl.ylabel_style = {'color': 'red', 'weight': 'bold'}\n",
    "\n",
    "gl.xlabel_style = {'size': 15, 'color': 'gray'}\n",
    "gl.xlabel_style = {'color': 'red', 'weight': 'bold'}\n",
    "'''\n",
    "\n",
    "vort_levels = vort_cmap.vort_levels\n",
    "\n",
    "cs = ax.contour(lons, lats, mslp_data,np.arange(970,1040,4),colors='k',linestyles='dashed',transform=datacrs)#cmap='nipy_spectral'\n",
    "plt.clabel(cs, **kw_clabels)\n",
    "\n",
    "cs2 = ax.contour(lons, lats, hgt_500[0],np.arange(5000,6000,75),transform=datacrs,colors=\"k\",linewidth=1.5)\n",
    "\n",
    "cs3 = ax.contourf(lons, lats, vort_500[0],vort_levels,transform=datacrs,cmap=vort_cmapz)\n",
    "#cbaxes = fig.add_axes(colorbar_axis) # [left, bottom, width, height]\n",
    "#cbar = plt.colorbar(cs2, orientation='horizontal',cax=cbaxes)\n",
    "\n",
    "plt.show()\n",
    "outfile=f\"/Users/chowdahead/Documents/GitHub/Python-Jupyter/Jupyter-Notebooks/Gribs-Examples/GFS_4_mslp_500_hgts_vort_{file_time}_F{ForecastHour}.png\"\n",
    "fig.savefig(outfile,bbox_inches='tight',dpi=120)"
   ]
  },
  {
   "cell_type": "code",
   "execution_count": null,
   "metadata": {},
   "outputs": [],
   "source": []
  }
 ],
 "metadata": {
  "kernelspec": {
   "display_name": "Python 3",
   "language": "python",
   "name": "python3"
  },
  "language_info": {
   "codemirror_mode": {
    "name": "ipython",
    "version": 3
   },
   "file_extension": ".py",
   "mimetype": "text/x-python",
   "name": "python",
   "nbconvert_exporter": "python",
   "pygments_lexer": "ipython3",
   "version": "3.7.3"
  }
 },
 "nbformat": 4,
 "nbformat_minor": 2
}
