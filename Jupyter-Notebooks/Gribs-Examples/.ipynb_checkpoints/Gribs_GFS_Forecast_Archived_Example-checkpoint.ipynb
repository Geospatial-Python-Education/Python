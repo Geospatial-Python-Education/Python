{
 "cells": [
  {
   "cell_type": "markdown",
   "metadata": {},
   "source": [
    "<img src=\"https://www.earthsystemcog.org/site_media/logos/gfs4c.png\">"
   ]
  },
  {
   "cell_type": "markdown",
   "metadata": {},
   "source": [
    "## Archive GFS Forecast Grib Files\n",
    "Some days are missing...\n",
    "\n",
    "Roughly 10 days behind current date \n",
    "\n",
    "* https://www.ncdc.noaa.gov/data-access/model-data/model-datasets/global-forcast-system-gfs"
   ]
  },
  {
   "cell_type": "code",
   "execution_count": 1,
   "metadata": {},
   "outputs": [
    {
     "name": "stdout",
     "output_type": "stream",
     "text": [
      "done.\n"
     ]
    }
   ],
   "source": [
    "\n",
    "import pygrib\n",
    "\n",
    "# Random Library Imports\n",
    "import os,glob,re,time\n",
    "\n",
    "# Importing Datetime Libraries\n",
    "from datetime import datetime, timedelta\n",
    "\n",
    "# CartoPy Map Plotting Libraires\n",
    "import cartopy.crs as ccrs\n",
    "import cartopy.feature as cfeature\n",
    "from cartopy.mpl.gridliner import LONGITUDE_FORMATTER, LATITUDE_FORMATTER\n",
    "\n",
    "\n",
    "# Numerical and Scientific Libraries\n",
    "import numpy as np\n",
    "from scipy.ndimage import gaussian_filter\n",
    "\n",
    "# Matplotlib Plotting Libraries\n",
    "import matplotlib.pyplot as plt\n",
    "from mpl_toolkits.axes_grid1 import make_axes_locatable, axes_size\n",
    "from matplotlib.colors import LinearSegmentedColormap\n",
    "import matplotlib.ticker as mticker\n",
    "\n",
    "# Warnings\n",
    "import warnings\n",
    "warnings.filterwarnings('ignore')\n",
    "\n",
    "import matplotlib.gridspec as gridspec\n",
    "print(\"done.\")\n"
   ]
  },
  {
   "cell_type": "code",
   "execution_count": 2,
   "metadata": {},
   "outputs": [],
   "source": [
    "# Set the font \n",
    "font = {'family': 'serif',\n",
    "        'color':  'darkred',\n",
    "        'weight': 'normal',\n",
    "        'size': 18,\n",
    "        }"
   ]
  },
  {
   "cell_type": "code",
   "execution_count": 3,
   "metadata": {},
   "outputs": [
    {
     "name": "stdout",
     "output_type": "stream",
     "text": [
      "/Users/chowdahead/Downloads\n"
     ]
    }
   ],
   "source": [
    "cd ~/Downloads/"
   ]
  },
  {
   "cell_type": "code",
   "execution_count": 4,
   "metadata": {},
   "outputs": [],
   "source": [
    "import Vorticity_Color_Bar as vort_cmap\n",
    "vort_cmapz = vort_cmap.my_cmap"
   ]
  },
  {
   "cell_type": "markdown",
   "metadata": {},
   "source": [
    "## Use curl to download grib file from https://nomads.ncdc.noaa.gov/data/"
   ]
  },
  {
   "cell_type": "code",
   "execution_count": 27,
   "metadata": {},
   "outputs": [
    {
     "name": "stdout",
     "output_type": "stream",
     "text": [
      "  % Total    % Received % Xferd  Average Speed   Time    Time     Time  Current\n",
      "                                 Dload  Upload   Total   Spent    Left  Speed\n",
      "100 96.4M  100 96.4M    0     0  5209k      0  0:00:18  0:00:18 --:--:-- 1382k\n"
     ]
    }
   ],
   "source": [
    "year = \"2019\"\n",
    "month = \"11\"\n",
    "day = \"10\"\n",
    "init_hour = \"0000\"\n",
    "f_hour = \"012\"\n",
    "\n",
    "! curl https://nomads.ncdc.noaa.gov/data/gfs4/{year}{month}/{year}{month}{day}/gfs_4_{year}{month}{day}_{init_hour}_{f_hour}.grb2 --output gfs_4_{year}{month}{day}_{init_hour}_{f_hour}.grb2"
   ]
  },
  {
   "cell_type": "markdown",
   "metadata": {},
   "source": [
    "## Search the current working drive for files that start with gfs"
   ]
  },
  {
   "cell_type": "code",
   "execution_count": 28,
   "metadata": {},
   "outputs": [
    {
     "name": "stdout",
     "output_type": "stream",
     "text": [
      "gfs_4_20191110_0000_012.grb2  gfs_4_20191115_0000_027.grb2\r\n",
      "gfs_4_20191115_0000_000.grb2  gfs_4_20191115_0600_003.grb2\r\n",
      "gfs_4_20191115_0000_003.grb2  gfs_4_20191115_0600_030.grb2\r\n",
      "gfs_4_20191115_0000_012.grb2\r\n"
     ]
    }
   ],
   "source": [
    "ls gfs_*"
   ]
  },
  {
   "cell_type": "markdown",
   "metadata": {},
   "source": [
    "## Use ```glob``` to grab the names of all the gfs files"
   ]
  },
  {
   "cell_type": "code",
   "execution_count": 47,
   "metadata": {},
   "outputs": [
    {
     "name": "stdout",
     "output_type": "stream",
     "text": [
      "['gfs_4_20191115_0600_030.grb2']\n"
     ]
    }
   ],
   "source": [
    "grib_list = glob.glob('gfs_4_20191115_0600_030.grb2')\n",
    "grib_list = sorted(grib_list, key=lambda x: int(re.sub('\\D', '', x)))\n",
    "print(grib_list)"
   ]
  },
  {
   "cell_type": "markdown",
   "metadata": {},
   "source": [
    "## Grabbing the first grib file from our list will allow us to explore the data\n",
    "* Each entry of the file is a different variable (specified at different heights for most)\n",
    "* There are over 500 variables for a GFS grib file!!"
   ]
  },
  {
   "cell_type": "code",
   "execution_count": 48,
   "metadata": {},
   "outputs": [],
   "source": [
    "#grib = \"gfsanl_3_20190129_1200_000.grb2\" # Set the file name of your input GRIB file\n",
    "grbs = pygrib.open(grib_list[0])\n",
    "grb = grbs.read()"
   ]
  },
  {
   "cell_type": "markdown",
   "metadata": {},
   "source": [
    "### Since there's so many variables, lets just print out the first 10 to get an idea of what the file looks like"
   ]
  },
  {
   "cell_type": "code",
   "execution_count": null,
   "metadata": {},
   "outputs": [],
   "source": [
    "grb[0:10]"
   ]
  },
  {
   "cell_type": "markdown",
   "metadata": {},
   "source": [
    "### There is a built in search by name function, but the exact name has be specified"
   ]
  },
  {
   "cell_type": "code",
   "execution_count": null,
   "metadata": {},
   "outputs": [],
   "source": [
    "grbs.select(name=\"MSLP\")"
   ]
  },
  {
   "cell_type": "code",
   "execution_count": null,
   "metadata": {},
   "outputs": [],
   "source": [
    "grbs.select(name=\"MSLP (Eta model reduction)\")"
   ]
  },
  {
   "cell_type": "code",
   "execution_count": null,
   "metadata": {},
   "outputs": [],
   "source": [
    "type(grbs.select(name=\"MSLP (Eta model reduction)\"))"
   ]
  },
  {
   "cell_type": "code",
   "execution_count": null,
   "metadata": {},
   "outputs": [],
   "source": [
    "grbs.select(name=\"Absolute vorticity\",level=500)[0]"
   ]
  },
  {
   "cell_type": "markdown",
   "metadata": {},
   "source": [
    "## Grab subsets of data based off variable name:\n",
    "\n",
    "### Geopotential Heights:"
   ]
  },
  {
   "cell_type": "code",
   "execution_count": null,
   "metadata": {},
   "outputs": [],
   "source": [
    "GeoHeight = [i for i in grbs.select(name=\"Geopotential Height\")]\n",
    "GeoHeight[0]"
   ]
  },
  {
   "cell_type": "code",
   "execution_count": null,
   "metadata": {},
   "outputs": [],
   "source": [
    "Temp = [i for i in grbs.select(name=\"Temperature\")]\n",
    "Temp[0:5]"
   ]
  },
  {
   "cell_type": "code",
   "execution_count": null,
   "metadata": {},
   "outputs": [],
   "source": [
    "AbVort = [i for i in grbs.select(name=\"Absolute vorticity\")]\n",
    "AbVort[0:5]\n"
   ]
  },
  {
   "cell_type": "markdown",
   "metadata": {},
   "source": [
    "## Each entry in our new list is a ```pygrib.gribmessage```\n",
    "\n",
    "* https://jswhit.github.io/pygrib/docs/pygrib.gribmessage-class.html"
   ]
  },
  {
   "cell_type": "code",
   "execution_count": null,
   "metadata": {},
   "outputs": [],
   "source": [
    "type(GeoHeight[0])"
   ]
  },
  {
   "cell_type": "markdown",
   "metadata": {},
   "source": [
    "## Analysis datetime ```analDate```"
   ]
  },
  {
   "cell_type": "code",
   "execution_count": null,
   "metadata": {},
   "outputs": [],
   "source": [
    "GeoHeight[0].analDate"
   ]
  },
  {
   "cell_type": "code",
   "execution_count": null,
   "metadata": {
    "scrolled": false
   },
   "outputs": [],
   "source": [
    "GeoHeight[0].keys()"
   ]
  },
  {
   "cell_type": "markdown",
   "metadata": {},
   "source": [
    "### Since it is easier to call the variables from the grib file by the entry index, the ```.messagenumber``` instance varibale will find that for us:"
   ]
  },
  {
   "cell_type": "code",
   "execution_count": null,
   "metadata": {},
   "outputs": [],
   "source": [
    "GeoHeight[0].messagenumber,grbs[GeoHeight[0].messagenumber]"
   ]
  },
  {
   "cell_type": "markdown",
   "metadata": {},
   "source": [
    "## Looking to find which index in the whole ```grib``` file is 500mb Geopotential Heights:\n",
    "* Note: in the pygrib.gribmessage, the level is indicated with Pa, yet when calling the ```pygrib.gribmessage[\"level\"]``` key, it has to be called with hPa. I have no idea why this is, and would have to dive a bit further into the docs..."
   ]
  },
  {
   "cell_type": "markdown",
   "metadata": {},
   "source": [
    "Find the level of ```GeoHeight[0]```:"
   ]
  },
  {
   "cell_type": "code",
   "execution_count": null,
   "metadata": {},
   "outputs": [],
   "source": [
    "GeoHeight[0][\"level\"]"
   ]
  },
  {
   "cell_type": "code",
   "execution_count": null,
   "metadata": {},
   "outputs": [],
   "source": [
    "for i in GeoHeight:\n",
    "    if i[\"level\"] == 500: # !!Look for the 500 hPa not 50000 Pa!!\n",
    "        mb500_lev_index = i.messagenumber\n",
    "        print(i,f\"\\nGrib variable index: {i.messagenumber}\")\n"
   ]
  },
  {
   "cell_type": "markdown",
   "metadata": {},
   "source": [
    "### The data values, lats, and lons are in different entries of each variable speficied at a height"
   ]
  },
  {
   "cell_type": "code",
   "execution_count": null,
   "metadata": {
    "scrolled": true
   },
   "outputs": [],
   "source": [
    "GeoHeight[0].data() # comes out as arrays"
   ]
  },
  {
   "cell_type": "markdown",
   "metadata": {},
   "source": [
    "# With this data now parsed, we can try plotting"
   ]
  },
  {
   "cell_type": "markdown",
   "metadata": {},
   "source": [
    "### Clean up some of the variables we will plot by taking a lat/lon subset:"
   ]
  },
  {
   "cell_type": "code",
   "execution_count": 49,
   "metadata": {},
   "outputs": [
    {
     "data": {
      "text/plain": [
       "(array([[5150.7676, 5150.7676, 5150.7676, ..., 5150.7676, 5150.7676,\n",
       "         5150.7676],\n",
       "        [5155.8076, 5155.9272, 5156.0474, ..., 5155.4272, 5155.5474,\n",
       "         5155.6675],\n",
       "        [5162.7476, 5163.0273, 5163.3076, ..., 5161.887 , 5162.1875,\n",
       "         5162.4673],\n",
       "        ...,\n",
       "        [5104.5073, 5104.6875, 5104.847 , ..., 5103.9873, 5104.1675,\n",
       "         5104.347 ],\n",
       "        [5102.3076, 5102.367 , 5102.4673, ..., 5102.0474, 5102.1274,\n",
       "         5102.2075],\n",
       "        [5099.7476, 5099.7476, 5099.7476, ..., 5099.7476, 5099.7476,\n",
       "         5099.7476]], dtype=float32),\n",
       " array([[ 90. ,  90. ,  90. , ...,  90. ,  90. ,  90. ],\n",
       "        [ 89.5,  89.5,  89.5, ...,  89.5,  89.5,  89.5],\n",
       "        [ 89. ,  89. ,  89. , ...,  89. ,  89. ,  89. ],\n",
       "        ...,\n",
       "        [-89. , -89. , -89. , ..., -89. , -89. , -89. ],\n",
       "        [-89.5, -89.5, -89.5, ..., -89.5, -89.5, -89.5],\n",
       "        [-90. , -90. , -90. , ..., -90. , -90. , -90. ]]),\n",
       " array([[  0. ,   0.5,   1. , ..., 358.5, 359. , 359.5],\n",
       "        [  0. ,   0.5,   1. , ..., 358.5, 359. , 359.5],\n",
       "        [  0. ,   0.5,   1. , ..., 358.5, 359. , 359.5],\n",
       "        ...,\n",
       "        [  0. ,   0.5,   1. , ..., 358.5, 359. , 359.5],\n",
       "        [  0. ,   0.5,   1. , ..., 358.5, 359. , 359.5],\n",
       "        [  0. ,   0.5,   1. , ..., 358.5, 359. , 359.5]]))"
      ]
     },
     "execution_count": 49,
     "metadata": {},
     "output_type": "execute_result"
    }
   ],
   "source": [
    "hgt_500 = grbs.select(name=\"Geopotential Height\",level=500)[0].data()\n",
    "hgt_500"
   ]
  },
  {
   "cell_type": "code",
   "execution_count": 50,
   "metadata": {},
   "outputs": [],
   "source": [
    "mslp = grbs.select(name=\"MSLP (Eta model reduction)\")[0] # [0] since MSLP is a list?\n",
    "mslp_data, lats, lons = mslp.data(lat1=20,lat2=70,lon1=220,lon2=320)\n",
    "mslp_data = gaussian_filter(mslp_data, 3)/100\n",
    "\n",
    "hgt_500 = grbs.select(name=\"Geopotential Height\",level=500)[0].data(lat1=20,lat2=70,lon1=220,lon2=320)\n",
    "vort_500 = grbs.select(name=\"Absolute vorticity\",level=500)[0].data(lat1=20,lat2=70,lon1=220,lon2=320)"
   ]
  },
  {
   "cell_type": "markdown",
   "metadata": {},
   "source": [
    "### The date can be grabbed from the data as well:"
   ]
  },
  {
   "cell_type": "code",
   "execution_count": 32,
   "metadata": {},
   "outputs": [
    {
     "name": "stdout",
     "output_type": "stream",
     "text": [
      "Data Date: 20191110\n",
      "Hour: 0\n",
      "Minute: 0\n",
      "Forecast Time: 12\n",
      "Data Time: 0\n",
      "0\n",
      "2019-11-10\n",
      "12Z\n",
      "12Z 2019-11-10\n",
      "12\n"
     ]
    },
    {
     "data": {
      "text/plain": [
       "('20191110_0000Z_F012', '2019-11-10', '00', '12Z 2019-11-10')"
      ]
     },
     "execution_count": 32,
     "metadata": {},
     "output_type": "execute_result"
    }
   ],
   "source": [
    "print(f\"Data Date: {mslp['dataDate']}\")\n",
    "print(f\"Hour: {mslp['hour']}\")\n",
    "print(f\"Minute: {mslp['minute']}\")\n",
    "print(f\"Forecast Time: {mslp['forecastTime']}\")\n",
    "print(f\"Data Time: {mslp['dataTime']}\")\n",
    "\n",
    "Date = mslp['dataDate']\n",
    "InitDate = Date\n",
    "Year = mslp['year']\n",
    "Month = mslp['month']  \n",
    "Day = mslp['day']\n",
    "\n",
    "InitHour = int(str(mslp['dataTime'])[0])\n",
    "print(InitHour)\n",
    "ForecastStep = mslp['forecastTime']\n",
    "ForecastDateTime = str(datetime(int(Year),int(Month),int(Day),int(InitHour)) + timedelta(hours=ForecastStep))\n",
    "ForecastDateTime = ForecastDateTime[:-6]\n",
    "\n",
    "ForecastDate = ForecastDateTime[:-3]\n",
    "print(ForecastDate)\n",
    "ForecastTime = ForecastDateTime[-2:]+\"Z\"\n",
    "print(ForecastTime)\n",
    "forecast_title_time = f'{ForecastTime} {ForecastDate}'\n",
    "print(forecast_title_time)    \n",
    "\n",
    "\n",
    "if InitHour < 10:\n",
    "    InitHour = f\"0{InitHour}\"\n",
    "if ForecastStep < 10:\n",
    "    ForecastStep = f\"00{ForecastStep}\"\n",
    "print(int(ForecastStep))      \n",
    "if 10 < int(ForecastStep) < 100:\n",
    "    ForecastStep = f\"0{ForecastStep}\"\n",
    "\n",
    "      \n",
    "title_date = f\"{Year}-{Month}-{Day}\" \n",
    "#if 24 < int(ForecastStep) < 48:\n",
    "#    ForecastDay = Day + 1\n",
    "#    forecast_hour = int(ForecastStep) - 24\n",
    "#    if forecast_hour < 10:\n",
    "#        forecast_hour = f\"0{forecast_hour}\"\n",
    "\n",
    "#forecast_date = \n",
    "file_time = f\"{InitDate}_{InitHour}00Z_F{ForecastStep}\"\n",
    "\n",
    "file_time, title_date,InitHour,forecast_title_time"
   ]
  },
  {
   "cell_type": "code",
   "execution_count": null,
   "metadata": {},
   "outputs": [],
   "source": [
    "print(datetime(int(Year),int(Month),int(Day),int(InitHour)) + timedelta(hours=ForecastStep))"
   ]
  },
  {
   "cell_type": "code",
   "execution_count": 20,
   "metadata": {},
   "outputs": [],
   "source": [
    "# Add Map Features\n",
    "states_provinces = cfeature.NaturalEarthFeature(category='cultural',\n",
    "    name='admin_1_states_provinces_lakes',scale='50m', facecolor='none')\n",
    "\n",
    "country_borders = cfeature.NaturalEarthFeature(category='cultural',\n",
    "    name='admin_0_countries',scale='50m', facecolor='none')\n",
    "\n",
    "# Colorbar Axis Placement (under figure)\n",
    "colorbar_axis = [0.218, 0.01, 0.589, 0.03] # [left, bottom, width, height]\n",
    "\n",
    "# Lat/Lon Extents [lon0,lon1,lat0,lat1]\n",
    "extent = [-180., -60, 20., 70.]\n",
    "\n",
    "kw_clabels = {'fontsize': 11, 'inline': True, 'inline_spacing': 5, 'fmt': '%i',\n",
    "              'rightside_up': True, 'use_clabeltext': True}"
   ]
  },
  {
   "cell_type": "code",
   "execution_count": null,
   "metadata": {
    "scrolled": false
   },
   "outputs": [],
   "source": [
    "# Create new figure\n",
    "datacrs = ccrs.PlateCarree()\n",
    "plotcrs = ccrs.NorthPolarStereo(central_longitude=-100.0)\n",
    "\n",
    "fig = plt.figure(figsize=(17., 11.))\n",
    "\n",
    "# Add the map and set the extent\n",
    "ax = plt.subplot(111, projection=plotcrs)\n",
    "\n",
    "ax.set_extent([-125, -70, 20, 55], ccrs.PlateCarree())\n",
    "\n",
    "# Add state boundaries to plot\n",
    "ax.add_feature(states_provinces, edgecolor='blue', linewidth=1,zorder=10)\n",
    "\n",
    "# Add country borders to plot\n",
    "ax.add_feature(country_borders, edgecolor='black', linewidth=1,zorder=10)\n",
    "\n",
    "# Plot Title\n",
    "ax.set_title('GFS ($0.5^o$) Forecast: MSLP, 500mb Heights and Abs Vorticity '+ \"(\"+\"$\\mathregular{s^{-1}}$\"+\")\", \n",
    "                 size=16, loc='left',fontdict=font)\n",
    "    \n",
    "ax.set_title(f\"Init Hour: {InitHour}Z {title_date}\\nForecast Hour: F{ForecastStep} - {forecast_title_time}\",\n",
    "                 size=16, loc='right',fontdict=font)\n",
    "\n",
    "'''\n",
    "gl = ax.gridlines(crs=ccrs.PlateCarree(), draw_labels=True,\n",
    "                  linewidth=2, color='gray', alpha=0.5, linestyle='--')\n",
    "gl.xlabels_top = False\n",
    "gl.ylabels_left = True\n",
    "gl.xlines = True\n",
    "#gl.xlocator = mticker.FixedLocator([-125, -110, -95, -80, -70])\n",
    "gl.xformatter = LONGITUDE_FORMATTER\n",
    "gl.yformatter = LATITUDE_FORMATTER\n",
    "\n",
    "gl.ylabel_style = {'size': 15, 'color': 'gray'}\n",
    "gl.ylabel_style = {'color': 'red', 'weight': 'bold'}\n",
    "\n",
    "gl.xlabel_style = {'size': 15, 'color': 'gray'}\n",
    "gl.xlabel_style = {'color': 'red', 'weight': 'bold'}\n",
    "'''\n",
    "\n",
    "vort_levels = vort_cmap.vort_levels\n",
    "\n",
    "cs = ax.contour(lons, lats, mslp_data,np.arange(970,1040,4),colors='k',linestyles='dashed',transform=datacrs)#cmap='nipy_spectral'\n",
    "plt.clabel(cs, **kw_clabels)\n",
    "\n",
    "cs2 = ax.contour(lons, lats, hgt_500[0],np.arange(5000,6000,75),transform=datacrs,colors=\"k\",linewidth=1.5)\n",
    "\n",
    "cs3 = ax.contourf(lons, lats, vort_500[0],vort_levels,transform=datacrs,cmap=vort_cmapz)\n",
    "#cbaxes = fig.add_axes(colorbar_axis) # [left, bottom, width, height]\n",
    "#cbar = plt.colorbar(cs2, orientation='horizontal',cax=cbaxes)\n",
    "\n",
    "plt.show()\n",
    "outfile=f\"/Users/chowdahead/Documents/GitHub/Python-Jupyter/Jupyter-Notebooks/Gribs-Examples/GFS_4_mslp_500_hgts_vort_{file_time}.png\"\n",
    "fig.savefig(outfile,bbox_inches='tight',dpi=120)"
   ]
  },
  {
   "cell_type": "code",
   "execution_count": null,
   "metadata": {},
   "outputs": [],
   "source": []
  }
 ],
 "metadata": {
  "kernelspec": {
   "display_name": "Python 3",
   "language": "python",
   "name": "python3"
  },
  "language_info": {
   "codemirror_mode": {
    "name": "ipython",
    "version": 3
   },
   "file_extension": ".py",
   "mimetype": "text/x-python",
   "name": "python",
   "nbconvert_exporter": "python",
   "pygments_lexer": "ipython3",
   "version": "3.7.3"
  }
 },
 "nbformat": 4,
 "nbformat_minor": 2
}
