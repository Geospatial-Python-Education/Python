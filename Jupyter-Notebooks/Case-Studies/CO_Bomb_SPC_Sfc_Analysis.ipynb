{
 "cells": [
  {
   "cell_type": "code",
   "execution_count": 1,
   "metadata": {},
   "outputs": [],
   "source": [
    "# Random Library Imports\n",
    "import os,glob,webbrowser,imageio,re\n",
    "\n",
    "import urllib.request\n",
    "from urllib.request import urlopen\n",
    "\n",
    "# Importing Datetime Libraries\n",
    "from datetime import datetime, timedelta\n",
    "\n",
    "# More Image Manipulation Options\n",
    "from PIL import Image as PILImage\n",
    "\n",
    "# Matplotlib Plotting Libraries\n",
    "import matplotlib.pyplot as plt\n",
    "\n",
    "#import Image_Capture as fuck"
   ]
  },
  {
   "cell_type": "code",
   "execution_count": 2,
   "metadata": {},
   "outputs": [
    {
     "name": "stdout",
     "output_type": "stream",
     "text": [
      "[WinError 2] The system cannot find the file specified: 'Desktop/'\n",
      "C:\\Users\\admin\\Documents\\GitHub\\Weather-Jupyter-Notebooks\\Case-Studies\n"
     ]
    }
   ],
   "source": [
    "cd Desktop/"
   ]
  },
  {
   "cell_type": "code",
   "execution_count": 5,
   "metadata": {},
   "outputs": [
    {
     "ename": "IndexError",
     "evalue": "list index out of range",
     "output_type": "error",
     "traceback": [
      "\u001b[1;31m---------------------------------------------------------------------------\u001b[0m",
      "\u001b[1;31mIndexError\u001b[0m                                Traceback (most recent call last)",
      "\u001b[1;32m<ipython-input-5-e532ce12ad2a>\u001b[0m in \u001b[0;36m<module>\u001b[1;34m\u001b[0m\n\u001b[1;32m----> 1\u001b[1;33m \u001b[0mscreenshot\u001b[0m \u001b[1;33m=\u001b[0m \u001b[0mglob\u001b[0m\u001b[1;33m.\u001b[0m\u001b[0mglob\u001b[0m\u001b[1;33m(\u001b[0m\u001b[1;34m\"namussfc2019031200.gif\"\u001b[0m\u001b[1;33m)\u001b[0m\u001b[1;33m[\u001b[0m\u001b[1;36m0\u001b[0m\u001b[1;33m]\u001b[0m\u001b[1;33m\u001b[0m\u001b[1;33m\u001b[0m\u001b[0m\n\u001b[0m\u001b[0;32m      2\u001b[0m \u001b[1;31m#print screenshot\u001b[0m\u001b[1;33m\u001b[0m\u001b[1;33m\u001b[0m\u001b[1;33m\u001b[0m\u001b[0m\n\u001b[0;32m      3\u001b[0m \u001b[0mimg\u001b[0m \u001b[1;33m=\u001b[0m \u001b[0mPILImage\u001b[0m\u001b[1;33m.\u001b[0m\u001b[0mopen\u001b[0m\u001b[1;33m(\u001b[0m\u001b[0mscreenshot\u001b[0m\u001b[1;33m)\u001b[0m\u001b[1;33m\u001b[0m\u001b[1;33m\u001b[0m\u001b[0m\n\u001b[0;32m      4\u001b[0m \u001b[1;31m#height = img.shape[0]\u001b[0m\u001b[1;33m\u001b[0m\u001b[1;33m\u001b[0m\u001b[1;33m\u001b[0m\u001b[0m\n\u001b[0;32m      5\u001b[0m \u001b[1;31m#width = img.shape[1]\u001b[0m\u001b[1;33m\u001b[0m\u001b[1;33m\u001b[0m\u001b[1;33m\u001b[0m\u001b[0m\n",
      "\u001b[1;31mIndexError\u001b[0m: list index out of range"
     ]
    }
   ],
   "source": [
    "screenshot = glob.glob(\"namussfc2019031200.gif\")[0]\n",
    "#print screenshot\n",
    "img = PILImage.open(screenshot)\n",
    "#height = img.shape[0]\n",
    "#width = img.shape[1]\n",
    "print(img.size)\n",
    "\n",
    "# Trying to crop an area of just the warnings legend\n",
    "area = (0, 475, 280, 562) #left, top, right, bottom\n",
    "cropped_img = img.crop(area)\n",
    "#cropped_img.show()\n",
    "cropped_img.save(\"Timestamp.gif\")\n",
    "PILImage.open(\"Timestamp.gif\")"
   ]
  },
  {
   "cell_type": "code",
   "execution_count": 67,
   "metadata": {},
   "outputs": [
    {
     "name": "stdout",
     "output_type": "stream",
     "text": [
      "['namussfc2019031318.gif', 'namussfc2019031309.gif', 'namussfc2019031321.gif', 'namussfc2019031218.gif', 'namussfc2019031409.gif', 'namussfc2019031209.gif', 'namussfc2019031221.gif', 'namussfc2019031403.gif', 'namussfc2019031415.gif', 'namussfc2019031400.gif', 'namussfc2019031206.gif', 'namussfc2019031212.gif', 'namussfc2019031203.gif', 'namussfc2019031215.gif', 'namussfc2019031406.gif', 'namussfc2019031412.gif', 'namussfc2019031200.gif', 'namussfc2019031312.gif', 'namussfc2019031315.gif', 'namussfc2019031300.gif', 'namussfc2019031303.gif']\n",
      "(750, 562)\n",
      "(750, 562)\n",
      "(750, 562)\n",
      "(750, 562)\n",
      "(750, 562)\n",
      "(750, 562)\n",
      "(750, 562)\n",
      "(750, 562)\n",
      "(750, 562)\n",
      "(750, 562)\n",
      "(750, 562)\n",
      "(750, 562)\n",
      "(750, 562)\n",
      "(750, 562)\n",
      "(750, 562)\n",
      "(750, 562)\n",
      "(750, 562)\n",
      "(750, 562)\n",
      "(750, 562)\n",
      "(750, 562)\n",
      "(750, 562)\n"
     ]
    }
   ],
   "source": [
    "List = glob.glob(\"namussfc*.gif\")\n",
    "print(List)\n",
    "for i in List:\n",
    "    screenshot = i\n",
    "    #print screenshot\n",
    "    img = PILImage.open(screenshot)\n",
    "    #height = img.shape[0]\n",
    "    #width = img.shape[1]\n",
    "    print(img.size)\n",
    "\n",
    "    # Trying to crop an area of just the warnings legend\n",
    "    area = (100, 150, 450, 400) #left, top, right, bottom\n",
    "    cropped_img = img.crop(area)\n",
    "    #cropped_img.show()\n",
    "    cropped_img.save(\"crop_\"+i)\n",
    "    #PILImage.open(\"crop_\"+i)"
   ]
  },
  {
   "cell_type": "code",
   "execution_count": 26,
   "metadata": {},
   "outputs": [
    {
     "name": "stdout",
     "output_type": "stream",
     "text": [
      "['namussfc2019031318.gif', 'namussfc2019031309.gif', 'namussfc2019031321.gif', 'namussfc2019031218.gif', 'namussfc2019031409.gif', 'namussfc2019031209.gif', 'namussfc2019031221.gif', 'namussfc2019031403.gif', 'namussfc2019031415.gif', 'namussfc2019031400.gif', 'namussfc2019031206.gif', 'namussfc2019031212.gif', 'namussfc2019031203.gif', 'namussfc2019031215.gif', 'namussfc2019031406.gif', 'namussfc2019031412.gif', 'namussfc2019031200.gif', 'namussfc2019031312.gif', 'namussfc2019031315.gif', 'namussfc2019031300.gif', 'namussfc2019031303.gif']\n",
      "(750, 562)\n",
      "(750, 562)\n",
      "(750, 562)\n",
      "(750, 562)\n",
      "(750, 562)\n",
      "(750, 562)\n",
      "(750, 562)\n",
      "(750, 562)\n",
      "(750, 562)\n",
      "(750, 562)\n",
      "(750, 562)\n",
      "(750, 562)\n",
      "(750, 562)\n",
      "(750, 562)\n",
      "(750, 562)\n",
      "(750, 562)\n",
      "(750, 562)\n",
      "(750, 562)\n",
      "(750, 562)\n",
      "(750, 562)\n",
      "(750, 562)\n"
     ]
    }
   ],
   "source": [
    "List = glob.glob(\"namussfc*.gif\")\n",
    "print(List)\n",
    "for i in List:\n",
    "    screenshot = i\n",
    "    #print screenshot\n",
    "    img = PILImage.open(screenshot)\n",
    "    #height = img.shape[0]\n",
    "    #width = img.shape[1]\n",
    "    print(img.size)\n",
    "\n",
    "    # Trying to crop an area of just the warnings legend\n",
    "    area = (225, 200, 350, 300) #left, top, right, bottom\n",
    "    cropped_img = img.crop(area)\n",
    "    #cropped_img.show()\n",
    "    cropped_img.save(\"CO_\"+i)\n",
    "    #PILImage.open(\"crop_\"+i)"
   ]
  },
  {
   "cell_type": "code",
   "execution_count": 42,
   "metadata": {},
   "outputs": [
    {
     "name": "stdout",
     "output_type": "stream",
     "text": [
      "['namussfc2019031318.gif', 'namussfc2019031309.gif', 'namussfc2019031321.gif', 'namussfc2019031218.gif', 'namussfc2019031409.gif', 'namussfc2019031209.gif', 'namussfc2019031221.gif', 'namussfc2019031403.gif', 'namussfc2019031415.gif', 'namussfc2019031400.gif', 'namussfc2019031206.gif', 'namussfc2019031212.gif', 'namussfc2019031203.gif', 'namussfc2019031215.gif', 'namussfc2019031406.gif', 'namussfc2019031412.gif', 'namussfc2019031200.gif', 'namussfc2019031312.gif', 'namussfc2019031315.gif', 'namussfc2019031300.gif', 'namussfc2019031303.gif']\n",
      "(750, 562)\n",
      "(750, 562)\n",
      "(750, 562)\n",
      "(750, 562)\n",
      "(750, 562)\n",
      "(750, 562)\n",
      "(750, 562)\n",
      "(750, 562)\n",
      "(750, 562)\n",
      "(750, 562)\n",
      "(750, 562)\n",
      "(750, 562)\n",
      "(750, 562)\n",
      "(750, 562)\n",
      "(750, 562)\n",
      "(750, 562)\n",
      "(750, 562)\n",
      "(750, 562)\n",
      "(750, 562)\n",
      "(750, 562)\n",
      "(750, 562)\n"
     ]
    }
   ],
   "source": [
    "List = glob.glob(\"namussfc*.gif\")\n",
    "print(List)\n",
    "for i in List:\n",
    "    screenshot = i\n",
    "    #print screenshot\n",
    "    img = PILImage.open(screenshot)\n",
    "    #height = img.shape[0]\n",
    "    #width = img.shape[1]\n",
    "    print(img.size)\n",
    "\n",
    "    # Trying to crop an area of just the warnings legend\n",
    "    area = (10, 475, 290, 530) #left, top, right, bottom\n",
    "    cropped_img = img.crop(area)\n",
    "    #cropped_img.show()\n",
    "    cropped_img.save(\"Timestamp_\"+i)\n",
    "    #PILImage.open(\"crop_\"+i)"
   ]
  },
  {
   "cell_type": "code",
   "execution_count": 48,
   "metadata": {},
   "outputs": [
    {
     "name": "stdout",
     "output_type": "stream",
     "text": [
      "(350, 250)\n",
      "(350, 250)\n"
     ]
    }
   ],
   "source": [
    "Map = (\"crop_namussfc2019031203.gif\")\n",
    "#print screenshot\n",
    "img = PILImage.open(Map)\n",
    "#height = img.shape[0]\n",
    "#width = img.shape[1]\n",
    "print(img.size)\n",
    "Mapp = imageio.imread(str(Map))\n",
    "\n",
    "\n",
    "Legend = (\"Timestamp_namussfc2019031203.gif\")\n",
    "#print screenshot\n",
    "img2 = PILImage.open(Legend)\n",
    "#height = img.shape[0]\n",
    "#width = img.shape[1]\n",
    "print(img.size)\n",
    "\n",
    "legend = imageio.imread(str(Legend))\n",
    "height = Mapp.shape[0]\n",
    "width = Mapp.shape[1]\n",
    "#print \"Map width, height:\",width,height\n",
    "\n",
    "height_l = legend.shape[0]\n",
    "width_l = legend.shape[1]\n",
    "#print \"Legend width, height:\",width,height\n",
    "\n",
    "new_im2 = PILImage.new('RGB', (width,height+height_l))\n",
    "\n",
    "top = PILImage.open(Map)\n",
    "bottom = PILImage.open(Legend)\n",
    "new_im2.paste(top, (0,0))\n",
    "new_im2.paste(bottom,(36,height))\n",
    "\n",
    "new_im2.save(\"Map\"+\"_Finished.png\",bbox_inches='tight',pad_inches=0.0)"
   ]
  },
  {
   "cell_type": "code",
   "execution_count": 73,
   "metadata": {},
   "outputs": [
    {
     "name": "stdout",
     "output_type": "stream",
     "text": [
      "['crop_namussfc2019031200.gif', 'crop_namussfc2019031203.gif', 'crop_namussfc2019031206.gif', 'crop_namussfc2019031209.gif', 'crop_namussfc2019031212.gif', 'crop_namussfc2019031215.gif', 'crop_namussfc2019031218.gif', 'crop_namussfc2019031221.gif', 'crop_namussfc2019031300.gif', 'crop_namussfc2019031303.gif', 'crop_namussfc2019031309.gif', 'crop_namussfc2019031312.gif', 'crop_namussfc2019031315.gif', 'crop_namussfc2019031318.gif', 'crop_namussfc2019031321.gif', 'crop_namussfc2019031400.gif', 'crop_namussfc2019031403.gif', 'crop_namussfc2019031406.gif', 'crop_namussfc2019031409.gif', 'crop_namussfc2019031412.gif', 'crop_namussfc2019031415.gif']\n",
      "2019031200\n",
      "crop_namussfc2019031200.gif Timestamp_namussfc2019031200.gif\n",
      "2019031203\n",
      "crop_namussfc2019031203.gif Timestamp_namussfc2019031203.gif\n",
      "2019031206\n",
      "crop_namussfc2019031206.gif Timestamp_namussfc2019031206.gif\n",
      "2019031209\n",
      "crop_namussfc2019031209.gif Timestamp_namussfc2019031209.gif\n",
      "2019031212\n",
      "crop_namussfc2019031212.gif Timestamp_namussfc2019031212.gif\n",
      "2019031215\n",
      "crop_namussfc2019031215.gif Timestamp_namussfc2019031215.gif\n",
      "2019031218\n",
      "crop_namussfc2019031218.gif Timestamp_namussfc2019031218.gif\n",
      "2019031221\n",
      "crop_namussfc2019031221.gif Timestamp_namussfc2019031221.gif\n",
      "2019031300\n",
      "crop_namussfc2019031300.gif Timestamp_namussfc2019031300.gif\n",
      "2019031303\n",
      "crop_namussfc2019031303.gif Timestamp_namussfc2019031303.gif\n",
      "2019031309\n",
      "crop_namussfc2019031309.gif Timestamp_namussfc2019031309.gif\n",
      "2019031312\n",
      "crop_namussfc2019031312.gif Timestamp_namussfc2019031312.gif\n",
      "2019031315\n",
      "crop_namussfc2019031315.gif Timestamp_namussfc2019031315.gif\n",
      "2019031318\n",
      "crop_namussfc2019031318.gif Timestamp_namussfc2019031318.gif\n",
      "2019031321\n",
      "crop_namussfc2019031321.gif Timestamp_namussfc2019031321.gif\n",
      "2019031400\n",
      "crop_namussfc2019031400.gif Timestamp_namussfc2019031400.gif\n",
      "2019031403\n",
      "crop_namussfc2019031403.gif Timestamp_namussfc2019031403.gif\n",
      "2019031406\n",
      "crop_namussfc2019031406.gif Timestamp_namussfc2019031406.gif\n",
      "2019031409\n",
      "crop_namussfc2019031409.gif Timestamp_namussfc2019031409.gif\n",
      "2019031412\n",
      "crop_namussfc2019031412.gif Timestamp_namussfc2019031412.gif\n",
      "2019031415\n",
      "crop_namussfc2019031415.gif Timestamp_namussfc2019031415.gif\n"
     ]
    }
   ],
   "source": [
    "List = []\n",
    "List2=[]\n",
    "List = glob.glob(\"crop_namussfc*.gif\")\n",
    "List = sorted(List,key=lambda x: os.path.splitext(x)[0])\n",
    "List2 = glob.glob(\"Timestamp*.gif\")\n",
    "List2 = sorted(List2,key=lambda x: os.path.splitext(x)[0])\n",
    "print(List)\n",
    "for i in range(len(List)):\n",
    "    print(List[i][13:23])\n",
    "    print(List[i],List2[i])\n",
    "    Map = (List[i])\n",
    "    #print screenshot\n",
    "    img = PILImage.open(Map)\n",
    "    #height = img.shape[0]\n",
    "    #width = img.shape[1]\n",
    "    #print(img.size)\n",
    "    Mapp = imageio.imread(str(Map))\n",
    "\n",
    "\n",
    "    Legend = (List2[i])\n",
    "    #print screenshot\n",
    "    img2 = PILImage.open(Legend)\n",
    "    #height = img.shape[0]\n",
    "    #width = img.shape[1]\n",
    "    #print(img.size)\n",
    "\n",
    "    legend = imageio.imread(str(Legend))\n",
    "    height = Mapp.shape[0]\n",
    "    width = Mapp.shape[1]\n",
    "    #print \"Map width, height:\",width,height\n",
    "\n",
    "    height_l = legend.shape[0]\n",
    "    width_l = legend.shape[1]\n",
    "    #print \"Legend width, height:\",width,height\n",
    "\n",
    "    new_im2 = PILImage.new('RGB', (width,height+height_l))\n",
    "\n",
    "    top = PILImage.open(Map)\n",
    "    bottom = PILImage.open(Legend)\n",
    "    new_im2.paste(top, (0,0))\n",
    "    new_im2.paste(bottom,(36,height))\n",
    "\n",
    "    new_im2.save(List[i][13:23]+\"_Finished.png\",bbox_inches='tight',pad_inches=0.0)"
   ]
  },
  {
   "cell_type": "code",
   "execution_count": null,
   "metadata": {},
   "outputs": [],
   "source": []
  },
  {
   "cell_type": "code",
   "execution_count": null,
   "metadata": {},
   "outputs": [],
   "source": []
  },
  {
   "cell_type": "raw",
   "metadata": {},
   "source": [
    "screenshot = glob.glob(\"namussfc2019031200.gif\")\n",
    "#print screenshot\n",
    "img = PILImage.open(screenshot)\n",
    "\n",
    "#print img.size\n",
    "\n",
    "# Trying to crop an area of just the warnings legend\n",
    "area = (430, 580, 1160, 760) #left, top, right, bottom\n",
    "cropped_img = img.crop(area)\n",
    "#cropped_img.show()\n",
    "cropped_img.save(\"Warnings_legend.png\")\n",
    "Legend = glob.glob(\"Warnings_legend.png\")[0]\n",
    "legend = imageio.imread(str(Legend))\n",
    "\n",
    "Warnings = glob.glob(\"*Warnings.png\")[0]\n",
    "warnings = imageio.imread(str(Warnings))\n",
    "    \n",
    "mapname = '{0:%Y-%m-%d-%H-%M}'.format(now)+\"_\"+USWarnings_FileEnd[:-4]\n",
    "#print \"map name:\",mapname\n",
    "\n",
    "height = warnings.shape[0]\n",
    "width = warnings.shape[1]\n",
    "#print \"Map width, height:\",width,height\n",
    "\n",
    "height_l = legend.shape[0]\n",
    "width_l = legend.shape[1]\n",
    "#print \"Legend width, height:\",width,height\n",
    "\n",
    "new_im2 = PILImage.new('RGB', (width,height+height_l))\n",
    "\n",
    "top = PILImage.open(Warnings)\n",
    "bottom = PILImage.open(Legend)\n",
    "new_im2.paste(top, (0,0))\n",
    "new_im2.paste(bottom,(36,height))\n",
    "\n",
    "new_im2.save(im_save_path+mapname+\"_Finished.png\",bbox_inches='tight',pad_inches=0.0)"
   ]
  }
 ],
 "metadata": {
  "kernelspec": {
   "display_name": "Python 3",
   "language": "python",
   "name": "python3"
  },
  "language_info": {
   "codemirror_mode": {
    "name": "ipython",
    "version": 3
   },
   "file_extension": ".py",
   "mimetype": "text/x-python",
   "name": "python",
   "nbconvert_exporter": "python",
   "pygments_lexer": "ipython3",
   "version": "3.7.3"
  }
 },
 "nbformat": 4,
 "nbformat_minor": 2
}
