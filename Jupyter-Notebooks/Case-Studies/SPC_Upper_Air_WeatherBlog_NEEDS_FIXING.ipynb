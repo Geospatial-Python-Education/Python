{
 "cells": [
  {
   "cell_type": "markdown",
   "metadata": {},
   "source": [
    "# SPC Upper Air Maps\n",
    "\n",
    "<div style=\"float:right; width:98px; height:90px\">\n",
    "<img src=\"https://www.spc.noaa.gov/exper/archive/spclogo.gif\">   \n",
    "</div>"
   ]
  },
  {
   "cell_type": "markdown",
   "metadata": {},
   "source": [
    "## Justin Richling\n",
    "## 01/19/19"
   ]
  },
  {
   "cell_type": "markdown",
   "metadata": {},
   "source": [
    "\n",
    "# Saved Images from Snow Probablility Website\n",
    "\n",
    "\n",
    "Search through different forecast hours and inch totals and retreive the current images\n",
    "\n",
    "There are several handy maps that we can grab here:\n",
    "* inch totals: 1,2,4,6,8,12, and/or 18\n",
    "* forecast hours: 24\n"
   ]
  },
  {
   "cell_type": "markdown",
   "metadata": {},
   "source": [
    "Imports\n",
    "\n"
   ]
  },
  {
   "cell_type": "code",
   "execution_count": 1,
   "metadata": {},
   "outputs": [],
   "source": [
    "# Random Library Imports\n",
    "import os,glob,webbrowser\n",
    "\n",
    "# Importing Datetime Libraries\n",
    "from datetime import datetime, timedelta\n",
    "\n",
    "# More Image Manipulation Options\n",
    "from PIL import Image as PILImage\n",
    "\n",
    "# Matplotlib Plotting Libraries\n",
    "import matplotlib.pyplot as plt\n",
    "\n",
    "# Widgets\n",
    "import ipywidgets as widgets\n",
    "\n",
    "from urllib.request import urlopen\n",
    "from io import StringIO"
   ]
  },
  {
   "cell_type": "markdown",
   "metadata": {},
   "source": [
    "## Figuring out where you want the files..."
   ]
  },
  {
   "cell_type": "code",
   "execution_count": 2,
   "metadata": {},
   "outputs": [
    {
     "name": "stdout",
     "output_type": "stream",
     "text": [
      "/Users/ChowdaHead/Desktop/Weather_Blog/02_06/\n"
     ]
    }
   ],
   "source": [
    "# Pull the current time\n",
    "now = datetime.now() \n",
    "\n",
    "# Set a path to save the plots with string format for the date to set the month and day \n",
    "im_save_path =\"/Users/ChowdaHead/Desktop/Weather_Blog/\"+'{0:%m_%d}'.format(now)+\"/\"\n",
    "print(im_save_path)\n",
    "\n",
    "# Check to see if the folder already exists, if not create it\n",
    "if not os.path.isdir(im_save_path):\n",
    "    os.makedirs(im_save_path)\n",
    "\n",
    "# Uncomment if you want to automatically change to the map folder    \n",
    "#os.chdir(im_save_path)\n",
    "\n",
    "desktop = im_save_path[:26]\n",
    "#print desktop"
   ]
  },
  {
   "cell_type": "markdown",
   "metadata": {},
   "source": [
    "### Generic Image Capture from Website\n",
    "#### Arguments: \n",
    "* loc - Location where you want the saved image to be placed\n"
   ]
  },
  {
   "cell_type": "code",
   "execution_count": 3,
   "metadata": {},
   "outputs": [],
   "source": [
    "def CurrentMap(loc):\n",
    "    \n",
    "    inch = x.kwargs['inch']\n",
    "    inch = inch.value\n",
    "    print(inch)\n",
    "    hour = x.kwargs['step']\n",
    "    hour = str(hour.value)\n",
    "    #try:   \n",
    "    if inch < 10:\n",
    "        inch = \"0\"+str(inch )\n",
    "    else:\n",
    "        inch = str(inch)\n",
    "    print(inch)\n",
    "    page = \"http://origin.wpc.ncep.noaa.gov/pwpf_24hr/prb_24hsnow_ge\"+inch+\"_\"+\\\n",
    "                     '{0:%Y%m%d}'.format(now)+\"12f0\"+hour+\".gif\"\n",
    "    print(page)\n",
    "    #webbrowser.open(picture_page) \n",
    "\n",
    "# open the web page picture and read it into a variable\n",
    "    #opener = urllib.build_opener()\n",
    "        # .open() will fetch the URL\n",
    "    #webpage = opener.open(page)\n",
    "    #urlopen(page)\n",
    "        # page.read() \n",
    "    #my_picture = webpage.read()\n",
    "    \n",
    "    # Your code where you can use urlopen\n",
    "    with urlopen(page) as url:\n",
    "        my_picture = url.read()\n",
    "\n",
    "# open file for binary write and save picture\n",
    "# picture_page[-4:] extracts extension eg. .gif\n",
    "# (most image file extensions have three letters, otherwise modify)\n",
    "    #Filename = str(Year)+\"_\"+str(Month)+\\\n",
    "    #\"_\"+str(Day)+\"_\"+str(Hour)+\"_\"+str(Minute)+\"_\"+FileEnd \n",
    "    FileEnd=\"_ChceSnow_\"+inch+\"in_hr\"+hour+\".png\"\n",
    "    Filename = '{0:%Y_%m_%d}'.format(now)+FileEnd\n",
    "    \n",
    "    # fout will create and write to a new image file\n",
    "    fout = open(loc+\"/\"+Filename, \"wb\")\n",
    "    fout.write(my_picture)\n",
    "    fout.close()\n",
    "# test to see if it saved correctly\n",
    "    #webbrowser.open(Filename)  \n",
    "    \n",
    "    #except urllib2.HTTPError, err:\n",
    "    #    if err.code == 404:\n",
    "    #        logging.exception(\"No Data from website\")\n",
    "    #        pass\n",
    "    #    else:\n",
    "    #        raise\n",
    "\n",
    "    \n",
    "    #file = StringIO(urllib.urlopen(page).read())\n",
    "    \n",
    "    import urllib.request\n",
    "\n",
    "    urllib.request.urlretrieve(page, \"local-filename.jpg\")\n",
    "    img = PILImage.open(\"local-filename.jpg\")\n",
    "    fig, ax = plt.subplots(figsize=(15, 8))\n",
    "    #ax.set_title(AxisTitle+\" \"'{0:%Y %m %d %H}'.format(now))\n",
    "    ax.imshow(img, interpolation='nearest')\n",
    "    #plt.show()\n",
    "    plt.close()\n",
    "    #print Filename\n",
    "    #return Filename"
   ]
  },
  {
   "cell_type": "markdown",
   "metadata": {},
   "source": [
    "# Pull Images from Website\n",
    "---------------------------------------------\n",
    "### Credit to NOAA\n"
   ]
  },
  {
   "cell_type": "code",
   "execution_count": 4,
   "metadata": {},
   "outputs": [],
   "source": [
    "inch_widget = widgets.Dropdown(description='inch', options=[1,2,4,6,8,12,18])\n",
    "\n",
    "hour_widget = widgets.Dropdown(description='Step', options=[24,30,36,42,48,54,60,66,72])\n"
   ]
  },
  {
   "cell_type": "code",
   "execution_count": 5,
   "metadata": {},
   "outputs": [
    {
     "data": {
      "application/vnd.jupyter.widget-view+json": {
       "model_id": "08230aa0f4e24aa591c4e0fd7f65379e",
       "version_major": 2,
       "version_minor": 0
      },
      "text/plain": [
       "Dropdown(description='inch', options=(1, 2, 4, 6, 8, 12, 18), value=1)"
      ]
     },
     "metadata": {},
     "output_type": "display_data"
    }
   ],
   "source": [
    "x = widgets.interact_manual(inch=inch_widget,step=hour_widget)\n",
    "x.kwargs[\"inch\"]\n"
   ]
  },
  {
   "cell_type": "code",
   "execution_count": 6,
   "metadata": {},
   "outputs": [
    {
     "data": {
      "application/vnd.jupyter.widget-view+json": {
       "model_id": "9160646ec7b64e86ad7a01f363b6f9ab",
       "version_major": 2,
       "version_minor": 0
      },
      "text/plain": [
       "Dropdown(description='Step', options=(24, 30, 36, 42, 48, 54, 60, 66, 72), value=24)"
      ]
     },
     "metadata": {},
     "output_type": "display_data"
    }
   ],
   "source": [
    "x.kwargs[\"step\"]"
   ]
  },
  {
   "cell_type": "code",
   "execution_count": 15,
   "metadata": {},
   "outputs": [
    {
     "name": "stdout",
     "output_type": "stream",
     "text": [
      "4\n",
      "04\n",
      "http://origin.wpc.ncep.noaa.gov/pwpf_24hr/prb_24hsnow_ge04_2019020612f036.gif\n"
     ]
    },
    {
     "data": {
      "text/plain": [
       "<ipywidgets.widgets.interaction._InteractFactory at 0x1108b04e0>"
      ]
     },
     "execution_count": 15,
     "metadata": {},
     "output_type": "execute_result"
    }
   ],
   "source": [
    "widgets.interact_manual(CurrentMap(im_save_path))"
   ]
  },
  {
   "cell_type": "code",
   "execution_count": null,
   "metadata": {},
   "outputs": [],
   "source": []
  }
 ],
 "metadata": {
  "kernelspec": {
   "display_name": "Python 3",
   "language": "python",
   "name": "python3"
  },
  "language_info": {
   "codemirror_mode": {
    "name": "ipython",
    "version": 3
   },
   "file_extension": ".py",
   "mimetype": "text/x-python",
   "name": "python",
   "nbconvert_exporter": "python",
   "pygments_lexer": "ipython3",
   "version": "3.7.2"
  }
 },
 "nbformat": 4,
 "nbformat_minor": 1
}
