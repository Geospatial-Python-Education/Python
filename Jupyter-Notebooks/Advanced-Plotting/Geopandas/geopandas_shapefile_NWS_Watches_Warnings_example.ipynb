{
 "cells": [
  {
   "cell_type": "markdown",
   "metadata": {},
   "source": [
    "## Using Geopandas for National Weather Service to plot Watch/Warnings shapefiles"
   ]
  },
  {
   "cell_type": "markdown",
   "metadata": {},
   "source": [
    "Import necessary libraries"
   ]
  },
  {
   "cell_type": "code",
   "execution_count": 1,
   "metadata": {},
   "outputs": [],
   "source": [
    "import geopandas as gpd\n",
    "import requests\n",
    "import zipfile\n",
    "import io\n",
    "import matplotlib.pyplot as plt\n",
    "import contextily as ctx\n",
    "import numpy as np"
   ]
  },
  {
   "cell_type": "markdown",
   "metadata": {},
   "source": [
    "Use command line argument `curl` to grab the latest shapefile"
   ]
  },
  {
   "cell_type": "code",
   "execution_count": 3,
   "metadata": {},
   "outputs": [
    {
     "name": "stdout",
     "output_type": "stream",
     "text": [
      "  % Total    % Received % Xferd  Average Speed   Time    Time     Time  Current\n",
      "                                 Dload  Upload   Total   Spent    Left  Speed\n",
      "  0     0    0     0    0     0      0      0 --:--:-- --:--:-- --:--:--     0\n",
      "100 13.6M  100 13.6M    0     0  1722k      0  0:00:08  0:00:08 --:--:-- 1829k\n",
      "x current_all.shp\n",
      "x current_all.shx\n",
      "x current_all.dbf\n",
      "x current_all.cpg\n",
      "x current_all.prj\n"
     ]
    }
   ],
   "source": [
    "! curl -L http://tgftp.nws.noaa.gov/SL.us008001/DF.sha/DC.cap/DS.WWA/current_all.tar.gz > current_all.tar.gz\n",
    "! tar xvzf current_all.tar.gz"
   ]
  },
  {
   "cell_type": "code",
   "execution_count": 4,
   "metadata": {},
   "outputs": [
    {
     "name": "stdout",
     "output_type": "stream",
     "text": [
      "Shape of the dataframe: (1220, 11)\n",
      "Projection of dataframe: {'init': 'epsg:4326'}\n"
     ]
    },
    {
     "data": {
      "text/html": [
       "<div>\n",
       "<style scoped>\n",
       "    .dataframe tbody tr th:only-of-type {\n",
       "        vertical-align: middle;\n",
       "    }\n",
       "\n",
       "    .dataframe tbody tr th {\n",
       "        vertical-align: top;\n",
       "    }\n",
       "\n",
       "    .dataframe thead th {\n",
       "        text-align: right;\n",
       "    }\n",
       "</style>\n",
       "<table border=\"1\" class=\"dataframe\">\n",
       "  <thead>\n",
       "    <tr style=\"text-align: right;\">\n",
       "      <th></th>\n",
       "      <th>EXPIRATION</th>\n",
       "      <th>SIG</th>\n",
       "      <th>WFO</th>\n",
       "      <th>MSG_TYPE</th>\n",
       "      <th>PHENOM</th>\n",
       "      <th>URL</th>\n",
       "      <th>PROD_TYPE</th>\n",
       "      <th>ISSUANCE</th>\n",
       "      <th>WARNID</th>\n",
       "      <th>EVENT</th>\n",
       "      <th>geometry</th>\n",
       "    </tr>\n",
       "  </thead>\n",
       "  <tbody>\n",
       "    <tr>\n",
       "      <th>0</th>\n",
       "      <td>2020-01-22T16:30:00+00:00</td>\n",
       "      <td>W</td>\n",
       "      <td>KPAH</td>\n",
       "      <td>FLS</td>\n",
       "      <td>FL</td>\n",
       "      <td>https://alerts-v2.weather.gov/products/NWS-IDP...</td>\n",
       "      <td>Flood Warning</td>\n",
       "      <td>2020-01-13T15:25:00+00:00</td>\n",
       "      <td>O.EXT.KPAH.FL.W.0009.1578929100</td>\n",
       "      <td>0009</td>\n",
       "      <td>POLYGON ((-87.70000 38.42000, -87.47000 38.430...</td>\n",
       "    </tr>\n",
       "    <tr>\n",
       "      <th>1</th>\n",
       "      <td>None</td>\n",
       "      <td>W</td>\n",
       "      <td>KJAX</td>\n",
       "      <td>FLS</td>\n",
       "      <td>FL</td>\n",
       "      <td>https://alerts-v2.weather.gov/products/NWS-IDP...</td>\n",
       "      <td>Flood Warning</td>\n",
       "      <td>2020-01-13T15:24:00+00:00</td>\n",
       "      <td>O.CON.KJAX.FL.W.0016.1578929040</td>\n",
       "      <td>0016</td>\n",
       "      <td>POLYGON ((-82.43000 32.00000, -82.13000 31.930...</td>\n",
       "    </tr>\n",
       "    <tr>\n",
       "      <th>2</th>\n",
       "      <td>None</td>\n",
       "      <td>W</td>\n",
       "      <td>KCHS</td>\n",
       "      <td>FLS</td>\n",
       "      <td>FL</td>\n",
       "      <td>https://alerts-v2.weather.gov/products/NWS-IDP...</td>\n",
       "      <td>Flood Warning</td>\n",
       "      <td>2020-01-13T15:22:00+00:00</td>\n",
       "      <td>O.CON.KCHS.FL.W.0017.1578928920</td>\n",
       "      <td>0017</td>\n",
       "      <td>POLYGON ((-82.25000 32.16000, -82.17000 32.170...</td>\n",
       "    </tr>\n",
       "    <tr>\n",
       "      <th>3</th>\n",
       "      <td>2020-01-15T08:24:00+00:00</td>\n",
       "      <td>W</td>\n",
       "      <td>KEAX</td>\n",
       "      <td>FLS</td>\n",
       "      <td>FL</td>\n",
       "      <td>https://alerts-v2.weather.gov/products/NWS-IDP...</td>\n",
       "      <td>Flood Warning</td>\n",
       "      <td>2020-01-13T15:22:00+00:00</td>\n",
       "      <td>O.EXT.KEAX.FL.W.0002.1578928920</td>\n",
       "      <td>0002</td>\n",
       "      <td>POLYGON ((-93.42000 38.94000, -93.48000 38.990...</td>\n",
       "    </tr>\n",
       "    <tr>\n",
       "      <th>4</th>\n",
       "      <td>None</td>\n",
       "      <td>W</td>\n",
       "      <td>KMPX</td>\n",
       "      <td>FLW</td>\n",
       "      <td>FL</td>\n",
       "      <td>https://alerts-v2.weather.gov/products/NWS-IDP...</td>\n",
       "      <td>Flood Warning</td>\n",
       "      <td>2020-01-13T15:18:00+00:00</td>\n",
       "      <td>O.NEW.KMPX.FL.W.0001.1578928680</td>\n",
       "      <td>0001</td>\n",
       "      <td>POLYGON ((-93.57000 45.25000, -93.51000 45.270...</td>\n",
       "    </tr>\n",
       "    <tr>\n",
       "      <th>...</th>\n",
       "      <td>...</td>\n",
       "      <td>...</td>\n",
       "      <td>...</td>\n",
       "      <td>...</td>\n",
       "      <td>...</td>\n",
       "      <td>...</td>\n",
       "      <td>...</td>\n",
       "      <td>...</td>\n",
       "      <td>...</td>\n",
       "      <td>...</td>\n",
       "      <td>...</td>\n",
       "    </tr>\n",
       "    <tr>\n",
       "      <th>1215</th>\n",
       "      <td>None</td>\n",
       "      <td>None</td>\n",
       "      <td>None</td>\n",
       "      <td>ESF</td>\n",
       "      <td>None</td>\n",
       "      <td>https://alerts-v2.weather.gov/products/NWS-IDP...</td>\n",
       "      <td>Hydrologic Outlook</td>\n",
       "      <td>2020-01-06T21:17:00+00:00</td>\n",
       "      <td>None</td>\n",
       "      <td>None</td>\n",
       "      <td>POLYGON ((-85.86380 40.56501, -85.86400 40.561...</td>\n",
       "    </tr>\n",
       "    <tr>\n",
       "      <th>1216</th>\n",
       "      <td>None</td>\n",
       "      <td>None</td>\n",
       "      <td>None</td>\n",
       "      <td>ESF</td>\n",
       "      <td>None</td>\n",
       "      <td>https://alerts-v2.weather.gov/products/NWS-IDP...</td>\n",
       "      <td>Hydrologic Outlook</td>\n",
       "      <td>2020-01-06T21:17:00+00:00</td>\n",
       "      <td>None</td>\n",
       "      <td>None</td>\n",
       "      <td>POLYGON ((-87.09039 39.95321, -87.09109 39.945...</td>\n",
       "    </tr>\n",
       "    <tr>\n",
       "      <th>1217</th>\n",
       "      <td>None</td>\n",
       "      <td>None</td>\n",
       "      <td>None</td>\n",
       "      <td>ESF</td>\n",
       "      <td>None</td>\n",
       "      <td>https://alerts-v2.weather.gov/products/NWS-IDP...</td>\n",
       "      <td>Hydrologic Outlook</td>\n",
       "      <td>2020-01-06T21:17:00+00:00</td>\n",
       "      <td>None</td>\n",
       "      <td>None</td>\n",
       "      <td>POLYGON ((-86.68310 38.68721, -86.68300 38.666...</td>\n",
       "    </tr>\n",
       "    <tr>\n",
       "      <th>1218</th>\n",
       "      <td>None</td>\n",
       "      <td>None</td>\n",
       "      <td>None</td>\n",
       "      <td>ESF</td>\n",
       "      <td>None</td>\n",
       "      <td>https://alerts-v2.weather.gov/products/NWS-IDP...</td>\n",
       "      <td>Hydrologic Outlook</td>\n",
       "      <td>2020-01-06T21:17:00+00:00</td>\n",
       "      <td>None</td>\n",
       "      <td>None</td>\n",
       "      <td>POLYGON ((-85.29800 39.52561, -85.29870 39.523...</td>\n",
       "    </tr>\n",
       "    <tr>\n",
       "      <th>1219</th>\n",
       "      <td>None</td>\n",
       "      <td>None</td>\n",
       "      <td>None</td>\n",
       "      <td>ESF</td>\n",
       "      <td>None</td>\n",
       "      <td>https://alerts-v2.weather.gov/products/NWS-IDP...</td>\n",
       "      <td>Hydrologic Outlook</td>\n",
       "      <td>2020-01-06T21:17:00+00:00</td>\n",
       "      <td>None</td>\n",
       "      <td>None</td>\n",
       "      <td>POLYGON ((-86.31760 38.99091, -86.29819 38.990...</td>\n",
       "    </tr>\n",
       "  </tbody>\n",
       "</table>\n",
       "<p>1220 rows × 11 columns</p>\n",
       "</div>"
      ],
      "text/plain": [
       "                     EXPIRATION   SIG   WFO MSG_TYPE PHENOM  \\\n",
       "0     2020-01-22T16:30:00+00:00     W  KPAH      FLS     FL   \n",
       "1                          None     W  KJAX      FLS     FL   \n",
       "2                          None     W  KCHS      FLS     FL   \n",
       "3     2020-01-15T08:24:00+00:00     W  KEAX      FLS     FL   \n",
       "4                          None     W  KMPX      FLW     FL   \n",
       "...                         ...   ...   ...      ...    ...   \n",
       "1215                       None  None  None      ESF   None   \n",
       "1216                       None  None  None      ESF   None   \n",
       "1217                       None  None  None      ESF   None   \n",
       "1218                       None  None  None      ESF   None   \n",
       "1219                       None  None  None      ESF   None   \n",
       "\n",
       "                                                    URL           PROD_TYPE  \\\n",
       "0     https://alerts-v2.weather.gov/products/NWS-IDP...       Flood Warning   \n",
       "1     https://alerts-v2.weather.gov/products/NWS-IDP...       Flood Warning   \n",
       "2     https://alerts-v2.weather.gov/products/NWS-IDP...       Flood Warning   \n",
       "3     https://alerts-v2.weather.gov/products/NWS-IDP...       Flood Warning   \n",
       "4     https://alerts-v2.weather.gov/products/NWS-IDP...       Flood Warning   \n",
       "...                                                 ...                 ...   \n",
       "1215  https://alerts-v2.weather.gov/products/NWS-IDP...  Hydrologic Outlook   \n",
       "1216  https://alerts-v2.weather.gov/products/NWS-IDP...  Hydrologic Outlook   \n",
       "1217  https://alerts-v2.weather.gov/products/NWS-IDP...  Hydrologic Outlook   \n",
       "1218  https://alerts-v2.weather.gov/products/NWS-IDP...  Hydrologic Outlook   \n",
       "1219  https://alerts-v2.weather.gov/products/NWS-IDP...  Hydrologic Outlook   \n",
       "\n",
       "                       ISSUANCE                           WARNID EVENT  \\\n",
       "0     2020-01-13T15:25:00+00:00  O.EXT.KPAH.FL.W.0009.1578929100  0009   \n",
       "1     2020-01-13T15:24:00+00:00  O.CON.KJAX.FL.W.0016.1578929040  0016   \n",
       "2     2020-01-13T15:22:00+00:00  O.CON.KCHS.FL.W.0017.1578928920  0017   \n",
       "3     2020-01-13T15:22:00+00:00  O.EXT.KEAX.FL.W.0002.1578928920  0002   \n",
       "4     2020-01-13T15:18:00+00:00  O.NEW.KMPX.FL.W.0001.1578928680  0001   \n",
       "...                         ...                              ...   ...   \n",
       "1215  2020-01-06T21:17:00+00:00                             None  None   \n",
       "1216  2020-01-06T21:17:00+00:00                             None  None   \n",
       "1217  2020-01-06T21:17:00+00:00                             None  None   \n",
       "1218  2020-01-06T21:17:00+00:00                             None  None   \n",
       "1219  2020-01-06T21:17:00+00:00                             None  None   \n",
       "\n",
       "                                               geometry  \n",
       "0     POLYGON ((-87.70000 38.42000, -87.47000 38.430...  \n",
       "1     POLYGON ((-82.43000 32.00000, -82.13000 31.930...  \n",
       "2     POLYGON ((-82.25000 32.16000, -82.17000 32.170...  \n",
       "3     POLYGON ((-93.42000 38.94000, -93.48000 38.990...  \n",
       "4     POLYGON ((-93.57000 45.25000, -93.51000 45.270...  \n",
       "...                                                 ...  \n",
       "1215  POLYGON ((-85.86380 40.56501, -85.86400 40.561...  \n",
       "1216  POLYGON ((-87.09039 39.95321, -87.09109 39.945...  \n",
       "1217  POLYGON ((-86.68310 38.68721, -86.68300 38.666...  \n",
       "1218  POLYGON ((-85.29800 39.52561, -85.29870 39.523...  \n",
       "1219  POLYGON ((-86.31760 38.99091, -86.29819 38.990...  \n",
       "\n",
       "[1220 rows x 11 columns]"
      ]
     },
     "execution_count": 4,
     "metadata": {},
     "output_type": "execute_result"
    }
   ],
   "source": [
    "#dbf, prj, shp, shx = [filename for filename in filenames]\n",
    "shp =  \"current_all.shp\"\n",
    "\"\"\"\n",
    " current_all.shp\n",
    "x current_all.shx\n",
    "x current_all.dbf\n",
    "x current_all.cpg\n",
    "x current_all.prj\n",
    "\"\"\"\n",
    "usa = gpd.read_file(shp)\n",
    "print(\"Shape of the dataframe: {}\".format(usa.shape))\n",
    "print(\"Projection of dataframe: {}\".format(usa.crs))\n",
    "usa #last 5 records in dataframe"
   ]
  },
  {
   "cell_type": "code",
   "execution_count": 5,
   "metadata": {},
   "outputs": [],
   "source": [
    "NWS = gpd.read_file(\"current_all.shp\")"
   ]
  },
  {
   "cell_type": "code",
   "execution_count": 6,
   "metadata": {},
   "outputs": [],
   "source": [
    "gdf = gpd.GeoDataFrame(\n",
    "    NWS)"
   ]
  },
  {
   "cell_type": "code",
   "execution_count": 7,
   "metadata": {},
   "outputs": [
    {
     "data": {
      "text/plain": [
       "<matplotlib.axes._subplots.AxesSubplot at 0x1208ea3c8>"
      ]
     },
     "execution_count": 7,
     "metadata": {},
     "output_type": "execute_result"
    },
    {
     "data": {
      "image/png": "[encoded data removed]",
      "text/plain": [
       "<Figure size 432x288 with 1 Axes>"
      ]
     },
     "metadata": {
      "needs_background": "light"
     },
     "output_type": "display_data"
    }
   ],
   "source": [
    "gdf.plot()"
   ]
  },
  {
   "cell_type": "code",
   "execution_count": 8,
   "metadata": {},
   "outputs": [
    {
     "name": "stderr",
     "output_type": "stream",
     "text": [
      "/Users/chowdahead/anaconda3/envs/test4gdal/lib/python3.6/site-packages/pyproj/crs.py:77: FutureWarning: '+init=<authority>:<code>' syntax is deprecated. '<authority>:<code>' is the preferred initialization method.\n",
      "  return _prepare_from_string(\" \".join(pjargs))\n"
     ]
    }
   ],
   "source": [
    "NWS = NWS[NWS.geometry.notnull()]\n",
    "NWS = NWS.to_crs(epsg=3857)\n"
   ]
  },
  {
   "cell_type": "code",
   "execution_count": null,
   "metadata": {},
   "outputs": [],
   "source": [
    "ax = NWS.plot(figsize=(20, 20), alpha=0.5, edgecolor='k',column=\"PROD_TYPE\",\n",
    "                legend=True)\n",
    "\n",
    "\n",
    "ctx.add_basemap(ax)\n",
    "ax.set_xlim(-14500000, -5000000)\n",
    "ax.set_ylim(2500000, 6500000)\n",
    "ax.axes.get_xaxis().set_visible(False)\n",
    "ax.axes.get_yaxis().set_visible(False)\n",
    "plt.savefig(\"US_Warning_geopandas_2020_01_02.png\",bbox_inches=\"tight\")"
   ]
  },
  {
   "cell_type": "code",
   "execution_count": null,
   "metadata": {},
   "outputs": [],
   "source": []
  }
 ],
 "metadata": {
  "kernelspec": {
   "display_name": "Python 3",
   "language": "python",
   "name": "python3"
  },
  "language_info": {
   "codemirror_mode": {
    "name": "ipython",
    "version": 3
   },
   "file_extension": ".py",
   "mimetype": "text/x-python",
   "name": "python",
   "nbconvert_exporter": "python",
   "pygments_lexer": "ipython3",
   "version": "3.6.7"
  }
 },
 "nbformat": 4,
 "nbformat_minor": 2
}
