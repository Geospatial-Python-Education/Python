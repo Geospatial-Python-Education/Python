{
 "cells": [
  {
   "cell_type": "code",
   "execution_count": null,
   "metadata": {},
   "outputs": [],
   "source": []
  },
  {
   "cell_type": "code",
   "execution_count": null,
   "metadata": {},
   "outputs": [],
   "source": [
    "def create_colormap(colors, position=None, bit=False, reverse=False, name='custom_colormap'):\n",
    "    \"\"\"\n",
    "    returns a linear custom colormap\n",
    "    Parameters\n",
    "    ----------\n",
    "    colors : array-like\n",
    "        contain RGB values. The RGB values may either be in 8-bit [0 to 255]\n",
    "        or arithmetic [0 to 1] (default).\n",
    "        Arrange your tuples so that the first color is the lowest value for the\n",
    "        colorbar and the last is the highest.\n",
    "    position : array like\n",
    "        contains values from 0 to 1 to dictate the location of each color.\n",
    "    bit : Boolean\n",
    "        8-bit [0 to 255] (in which bit must be set to\n",
    "        True when called) or arithmetic [0 to 1] (default)\n",
    "    reverse : Boolean\n",
    "        If you want to flip the scheme\n",
    "    name : string\n",
    "        name of the scheme if you plan to save it\n",
    "    Returns\n",
    "    -------\n",
    "    cmap : matplotlib.colors.LinearSegmentedColormap\n",
    "        cmap with equally spaced colors\n",
    "    \"\"\"\n",
    "    from matplotlib.colors import LinearSegmentedColormap\n",
    "    import numpy as np\n",
    "    if not isinstance(colors, np.ndarray):\n",
    "        colors = np.array(colors, dtype='f')\n",
    "    if reverse:\n",
    "        colors = colors[::-1]\n",
    "    if position is not None and not isinstance(position, np.ndarray):\n",
    "        position = np.array(position)\n",
    "    elif position is None:\n",
    "        position = np.linspace(0, 1, colors.shape[0])\n",
    "    else:\n",
    "        if position.size != colors.shape[0]:\n",
    "            raise ValueError(\"position length must be the same as colors\")\n",
    "        elif not np.isclose(position[0], 0) and not np.isclose(position[-1], 1):\n",
    "            raise ValueError(\"position must start with 0 and end with 1\")\n",
    "    if bit:\n",
    "        colors[:] = [tuple(map(lambda x: x / 255., color)) for color in colors]\n",
    "    cdict = {'red':[], 'green':[], 'blue':[]}\n",
    "    for pos, color in zip(position, colors):\n",
    "        cdict['red'].append((pos, color[0], color[0]))\n",
    "        cdict['green'].append((pos, color[1], color[1]))\n",
    "        cdict['blue'].append((pos, color[2], color[2]))\n",
    "    return LinearSegmentedColormap(name, cdict, 256)"
   ]
  },
  {
   "cell_type": "code",
   "execution_count": null,
   "metadata": {},
   "outputs": [],
   "source": [
    "colors=[(30,30,30),(50,50,50),(65,65,65),(80,80,80),(90,90,90),(100,100,100),(108,108,108),(114,114,114),\n",
    "        (120,120,120),(130,130,130),(150,150,150),(180,180,180),(190,190,190),(200,200,200),(211,211,211),\n",
    "        (220,220,220),(230,230,230),(244,244,244),(255, 255, 255),(255, 255, 255),(255, 255, 255),\n",
    "        (230,250,230),(0, 100, 0),(50,200,50),(200,255,47),(255,255,0),(255,200,50),(255,150,80),\n",
    "        (255,100,50),(255,0,0),(180,0,0),(140,0,0),(100,0,0),(150,10,0),(208,32,144),(150,32,144),\n",
    "        (108,32,144),(0,0,100),(0,0,255),(0,150,150),(135,206,250)]\n",
    "\n",
    "my_cmap = create_colormap(colors, bit=True)"
   ]
  },
  {
   "cell_type": "code",
   "execution_count": null,
   "metadata": {},
   "outputs": [],
   "source": [
    "import numpy as np\n",
    "vort_levels = np.arange(-.00055,.0007,0.00001)"
   ]
  }
 ],
 "metadata": {
  "kernelspec": {
   "display_name": "Python 3",
   "language": "python",
   "name": "python3"
  },
  "language_info": {
   "codemirror_mode": {
    "name": "ipython",
    "version": 3
   },
   "file_extension": ".py",
   "mimetype": "text/x-python",
   "name": "python",
   "nbconvert_exporter": "python",
   "pygments_lexer": "ipython3",
   "version": "3.7.2"
  }
 },
 "nbformat": 4,
 "nbformat_minor": 2
}
