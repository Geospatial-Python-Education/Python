{
 "cells": [
  {
   "cell_type": "code",
   "execution_count": 4,
   "metadata": {},
   "outputs": [],
   "source": [
    "from satpy import Scene\n",
    "from glob import glob\n",
    " "
   ]
  },
  {
   "cell_type": "code",
   "execution_count": 9,
   "metadata": {},
   "outputs": [],
   "source": [
    "Year = 2019\n",
    "Hour = 20\n",
    "Julian_Day = 228"
   ]
  },
  {
   "cell_type": "code",
   "execution_count": 12,
   "metadata": {},
   "outputs": [
    {
     "name": "stdout",
     "output_type": "stream",
     "text": [
      "CPU times: user 519 ms, sys: 142 ms, total: 661 ms\n",
      "Wall time: 23.7 s\n"
     ]
    }
   ],
   "source": [
    "%%time\n",
    "\n",
    "# rclone AWS data access via remote server\n",
    "\n",
    "# Copy all the times for this hour for all 16 channels\n",
    "# Day must be Julian day number\n",
    "! rclone --include \"*C03*\" copy publicAWS:noaa-goes16/ABI-L1b-RadC/{Year}/{Julian_Day}/{Hour}/ /Users/chowdahead/Downloads/GOES_Data/{Year}/{Julian_Day}/\n",
    "\n",
    "# Change to the data directory    \n",
    "! cd /Users/chowdahead/Downloads/GOES_Data/{Year}/{Julian_Day}/"
   ]
  },
  {
   "cell_type": "code",
   "execution_count": 13,
   "metadata": {},
   "outputs": [],
   "source": [
    "filenames = []\n"
   ]
  },
  {
   "cell_type": "code",
   "execution_count": 25,
   "metadata": {},
   "outputs": [
    {
     "data": {
      "text/plain": [
       "['/Users/chowdahead/Downloads/GOES_Data/2019/228/OR_ABI-L1b-RadC-M6C01_G16_s20192282016563_e20192282019336_c20192282019412.nc',\n",
       " '/Users/chowdahead/Downloads/GOES_Data/2019/228/OR_ABI-L1b-RadC-M6C01_G16_s20192282021563_e20192282024336_c20192282024398.nc',\n",
       " '/Users/chowdahead/Downloads/GOES_Data/2019/228/OR_ABI-L1b-RadC-M6C01_G16_s20192282041563_e20192282044336_c20192282044397.nc',\n",
       " '/Users/chowdahead/Downloads/GOES_Data/2019/228/OR_ABI-L1b-RadC-M6C01_G16_s20192282051563_e20192282054336_c20192282054396.nc',\n",
       " '/Users/chowdahead/Downloads/GOES_Data/2019/228/OR_ABI-L1b-RadC-M6C01_G16_s20192282036563_e20192282039336_c20192282039410.nc',\n",
       " '/Users/chowdahead/Downloads/GOES_Data/2019/228/OR_ABI-L1b-RadC-M6C01_G16_s20192282011563_e20192282014336_c20192282014413.nc',\n",
       " '/Users/chowdahead/Downloads/GOES_Data/2019/228/OR_ABI-L1b-RadC-M6C01_G16_s20192282031563_e20192282034336_c20192282034438.nc',\n",
       " '/Users/chowdahead/Downloads/GOES_Data/2019/228/OR_ABI-L1b-RadC-M6C01_G16_s20192282046563_e20192282049336_c20192282049407.nc',\n",
       " '/Users/chowdahead/Downloads/GOES_Data/2019/228/OR_ABI-L1b-RadC-M6C01_G16_s20192282026563_e20192282029336_c20192282029427.nc',\n",
       " '/Users/chowdahead/Downloads/GOES_Data/2019/228/OR_ABI-L1b-RadC-M6C01_G16_s20192282006563_e20192282009336_c20192282009401.nc',\n",
       " '/Users/chowdahead/Downloads/GOES_Data/2019/228/OR_ABI-L1b-RadC-M6C01_G16_s20192282056563_e20192282059336_c20192282059394.nc',\n",
       " '/Users/chowdahead/Downloads/GOES_Data/2019/228/OR_ABI-L1b-RadC-M6C01_G16_s20192282001563_e20192282004336_c20192282004396.nc',\n",
       " ['/Users/chowdahead/Downloads/GOES_Data/2019/228/OR_ABI-L1b-RadC-M6C01_G16_s20192282016563_e20192282019336_c20192282019412.nc',\n",
       "  '/Users/chowdahead/Downloads/GOES_Data/2019/228/OR_ABI-L1b-RadC-M6C01_G16_s20192282021563_e20192282024336_c20192282024398.nc',\n",
       "  '/Users/chowdahead/Downloads/GOES_Data/2019/228/OR_ABI-L1b-RadC-M6C01_G16_s20192282041563_e20192282044336_c20192282044397.nc',\n",
       "  '/Users/chowdahead/Downloads/GOES_Data/2019/228/OR_ABI-L1b-RadC-M6C01_G16_s20192282051563_e20192282054336_c20192282054396.nc',\n",
       "  '/Users/chowdahead/Downloads/GOES_Data/2019/228/OR_ABI-L1b-RadC-M6C01_G16_s20192282036563_e20192282039336_c20192282039410.nc',\n",
       "  '/Users/chowdahead/Downloads/GOES_Data/2019/228/OR_ABI-L1b-RadC-M6C01_G16_s20192282011563_e20192282014336_c20192282014413.nc',\n",
       "  '/Users/chowdahead/Downloads/GOES_Data/2019/228/OR_ABI-L1b-RadC-M6C01_G16_s20192282031563_e20192282034336_c20192282034438.nc',\n",
       "  '/Users/chowdahead/Downloads/GOES_Data/2019/228/OR_ABI-L1b-RadC-M6C01_G16_s20192282046563_e20192282049336_c20192282049407.nc',\n",
       "  '/Users/chowdahead/Downloads/GOES_Data/2019/228/OR_ABI-L1b-RadC-M6C01_G16_s20192282026563_e20192282029336_c20192282029427.nc',\n",
       "  '/Users/chowdahead/Downloads/GOES_Data/2019/228/OR_ABI-L1b-RadC-M6C01_G16_s20192282006563_e20192282009336_c20192282009401.nc',\n",
       "  '/Users/chowdahead/Downloads/GOES_Data/2019/228/OR_ABI-L1b-RadC-M6C01_G16_s20192282056563_e20192282059336_c20192282059394.nc',\n",
       "  '/Users/chowdahead/Downloads/GOES_Data/2019/228/OR_ABI-L1b-RadC-M6C01_G16_s20192282001563_e20192282004336_c20192282004396.nc'],\n",
       " ['/Users/chowdahead/Downloads/GOES_Data/2019/228/OR_ABI-L1b-RadC-M6C02_G16_s20192282011563_e20192282014336_c20192282014386.nc',\n",
       "  '/Users/chowdahead/Downloads/GOES_Data/2019/228/OR_ABI-L1b-RadC-M6C02_G16_s20192282021563_e20192282024336_c20192282024379.nc',\n",
       "  '/Users/chowdahead/Downloads/GOES_Data/2019/228/OR_ABI-L1b-RadC-M6C02_G16_s20192282006563_e20192282009336_c20192282009396.nc',\n",
       "  '/Users/chowdahead/Downloads/GOES_Data/2019/228/OR_ABI-L1b-RadC-M6C02_G16_s20192282051563_e20192282054336_c20192282054385.nc',\n",
       "  '/Users/chowdahead/Downloads/GOES_Data/2019/228/OR_ABI-L1b-RadC-M6C02_G16_s20192282041563_e20192282044336_c20192282044384.nc',\n",
       "  '/Users/chowdahead/Downloads/GOES_Data/2019/228/OR_ABI-L1b-RadC-M6C02_G16_s20192282016563_e20192282019336_c20192282019383.nc',\n",
       "  '/Users/chowdahead/Downloads/GOES_Data/2019/228/OR_ABI-L1b-RadC-M6C02_G16_s20192282026563_e20192282029336_c20192282029405.nc',\n",
       "  '/Users/chowdahead/Downloads/GOES_Data/2019/228/OR_ABI-L1b-RadC-M6C02_G16_s20192282046563_e20192282049336_c20192282049400.nc',\n",
       "  '/Users/chowdahead/Downloads/GOES_Data/2019/228/OR_ABI-L1b-RadC-M6C02_G16_s20192282036563_e20192282039336_c20192282039386.nc',\n",
       "  '/Users/chowdahead/Downloads/GOES_Data/2019/228/OR_ABI-L1b-RadC-M6C02_G16_s20192282031563_e20192282034336_c20192282034389.nc',\n",
       "  '/Users/chowdahead/Downloads/GOES_Data/2019/228/OR_ABI-L1b-RadC-M6C02_G16_s20192282056563_e20192282059336_c20192282059382.nc',\n",
       "  '/Users/chowdahead/Downloads/GOES_Data/2019/228/OR_ABI-L1b-RadC-M6C02_G16_s20192282001563_e20192282004336_c20192282004384.nc'],\n",
       " ['/Users/chowdahead/Downloads/GOES_Data/2019/228/OR_ABI-L1b-RadC-M6C03_G16_s20192282031563_e20192282034336_c20192282034395.nc',\n",
       "  '/Users/chowdahead/Downloads/GOES_Data/2019/228/OR_ABI-L1b-RadC-M6C03_G16_s20192282021563_e20192282024336_c20192282024394.nc',\n",
       "  '/Users/chowdahead/Downloads/GOES_Data/2019/228/OR_ABI-L1b-RadC-M6C03_G16_s20192282056563_e20192282059336_c20192282059406.nc',\n",
       "  '/Users/chowdahead/Downloads/GOES_Data/2019/228/OR_ABI-L1b-RadC-M6C03_G16_s20192282041563_e20192282044336_c20192282044409.nc',\n",
       "  '/Users/chowdahead/Downloads/GOES_Data/2019/228/OR_ABI-L1b-RadC-M6C03_G16_s20192282001563_e20192282004336_c20192282004391.nc',\n",
       "  '/Users/chowdahead/Downloads/GOES_Data/2019/228/OR_ABI-L1b-RadC-M6C03_G16_s20192282006563_e20192282009336_c20192282009407.nc',\n",
       "  '/Users/chowdahead/Downloads/GOES_Data/2019/228/OR_ABI-L1b-RadC-M6C03_G16_s20192282011563_e20192282014336_c20192282014429.nc',\n",
       "  '/Users/chowdahead/Downloads/GOES_Data/2019/228/OR_ABI-L1b-RadC-M6C03_G16_s20192282026563_e20192282029336_c20192282029421.nc',\n",
       "  '/Users/chowdahead/Downloads/GOES_Data/2019/228/OR_ABI-L1b-RadC-M6C03_G16_s20192282046563_e20192282049336_c20192282049454.nc',\n",
       "  '/Users/chowdahead/Downloads/GOES_Data/2019/228/OR_ABI-L1b-RadC-M6C03_G16_s20192282036563_e20192282039336_c20192282039401.nc',\n",
       "  '/Users/chowdahead/Downloads/GOES_Data/2019/228/OR_ABI-L1b-RadC-M6C03_G16_s20192282016563_e20192282019336_c20192282019418.nc',\n",
       "  '/Users/chowdahead/Downloads/GOES_Data/2019/228/OR_ABI-L1b-RadC-M6C03_G16_s20192282051563_e20192282054336_c20192282054392.nc']]"
      ]
     },
     "execution_count": 25,
     "metadata": {},
     "output_type": "execute_result"
    }
   ],
   "source": [
    "filenames.append(glob('/Users/chowdahead/Downloads/GOES_Data/2019/228/*M6C01*.nc'))\n",
    "\n",
    "filenames.append(glob('/Users/chowdahead/Downloads/GOES_Data/2019/228/*M6C02*.nc'))\n",
    "\n",
    "filenames.append(glob('/Users/chowdahead/Downloads/GOES_Data/2019/228/*M6C03*.nc'))\n",
    "filenames"
   ]
  },
  {
   "cell_type": "code",
   "execution_count": 31,
   "metadata": {},
   "outputs": [
    {
     "name": "stdout",
     "output_type": "stream",
     "text": [
      "/Users/chowdahead/Downloads/GOES_Data/2019/228\n"
     ]
    }
   ],
   "source": [
    "cd /Users/chowdahead/Downloads/GOES_Data/2019/228/"
   ]
  },
  {
   "cell_type": "code",
   "execution_count": 44,
   "metadata": {},
   "outputs": [],
   "source": [
    "scn.resample?"
   ]
  },
  {
   "cell_type": "code",
   "execution_count": 42,
   "metadata": {},
   "outputs": [
    {
     "ename": "ValueError",
     "evalue": "No dataset areas available",
     "output_type": "error",
     "traceback": [
      "\u001b[0;31m---------------------------------------------------------------------------\u001b[0m",
      "\u001b[0;31mValueError\u001b[0m                                Traceback (most recent call last)",
      "\u001b[0;32m<ipython-input-42-924a36aed799>\u001b[0m in \u001b[0;36m<module>\u001b[0;34m\u001b[0m\n\u001b[1;32m      4\u001b[0m \u001b[0;31m#scn.load(['true_color'])\u001b[0m\u001b[0;34m\u001b[0m\u001b[0;34m\u001b[0m\u001b[0;34m\u001b[0m\u001b[0m\n\u001b[1;32m      5\u001b[0m \u001b[0;34m\u001b[0m\u001b[0m\n\u001b[0;32m----> 6\u001b[0;31m \u001b[0mnew_scn\u001b[0m \u001b[0;34m=\u001b[0m \u001b[0mscn\u001b[0m\u001b[0;34m.\u001b[0m\u001b[0mresample\u001b[0m\u001b[0;34m(\u001b[0m\u001b[0mscn\u001b[0m\u001b[0;34m.\u001b[0m\u001b[0mmin_area\u001b[0m\u001b[0;34m(\u001b[0m\u001b[0;34m)\u001b[0m\u001b[0;34m,\u001b[0m \u001b[0mresampler\u001b[0m\u001b[0;34m=\u001b[0m\u001b[0;34m'native'\u001b[0m\u001b[0;34m)\u001b[0m\u001b[0;34m\u001b[0m\u001b[0;34m\u001b[0m\u001b[0m\n\u001b[0m\u001b[1;32m      7\u001b[0m \u001b[0;31m#new_scn.save_dataset('true_color', filename='true_color'+'.png')\u001b[0m\u001b[0;34m\u001b[0m\u001b[0;34m\u001b[0m\u001b[0;34m\u001b[0m\u001b[0m\n",
      "\u001b[0;32m~/miniconda3/lib/python3.7/site-packages/satpy/scene.py\u001b[0m in \u001b[0;36mmin_area\u001b[0;34m(self, datasets)\u001b[0m\n\u001b[1;32m    287\u001b[0m \u001b[0;34m\u001b[0m\u001b[0m\n\u001b[1;32m    288\u001b[0m         \"\"\"\n\u001b[0;32m--> 289\u001b[0;31m         \u001b[0;32mreturn\u001b[0m \u001b[0mself\u001b[0m\u001b[0;34m.\u001b[0m\u001b[0m_compare_areas\u001b[0m\u001b[0;34m(\u001b[0m\u001b[0mdatasets\u001b[0m\u001b[0;34m=\u001b[0m\u001b[0mdatasets\u001b[0m\u001b[0;34m,\u001b[0m \u001b[0mcompare_func\u001b[0m\u001b[0;34m=\u001b[0m\u001b[0mmin\u001b[0m\u001b[0;34m)\u001b[0m\u001b[0;34m\u001b[0m\u001b[0;34m\u001b[0m\u001b[0m\n\u001b[0m\u001b[1;32m    290\u001b[0m \u001b[0;34m\u001b[0m\u001b[0m\n\u001b[1;32m    291\u001b[0m     \u001b[0;32mdef\u001b[0m \u001b[0mavailable_dataset_ids\u001b[0m\u001b[0;34m(\u001b[0m\u001b[0mself\u001b[0m\u001b[0;34m,\u001b[0m \u001b[0mreader_name\u001b[0m\u001b[0;34m=\u001b[0m\u001b[0;32mNone\u001b[0m\u001b[0;34m,\u001b[0m \u001b[0mcomposites\u001b[0m\u001b[0;34m=\u001b[0m\u001b[0;32mFalse\u001b[0m\u001b[0;34m)\u001b[0m\u001b[0;34m:\u001b[0m\u001b[0;34m\u001b[0m\u001b[0;34m\u001b[0m\u001b[0m\n",
      "\u001b[0;32m~/miniconda3/lib/python3.7/site-packages/satpy/scene.py\u001b[0m in \u001b[0;36m_compare_areas\u001b[0;34m(self, datasets, compare_func)\u001b[0m\n\u001b[1;32m    245\u001b[0m         \u001b[0mareas\u001b[0m \u001b[0;34m=\u001b[0m \u001b[0;34m[\u001b[0m\u001b[0mx\u001b[0m \u001b[0;32mfor\u001b[0m \u001b[0mx\u001b[0m \u001b[0;32min\u001b[0m \u001b[0mareas\u001b[0m \u001b[0;32mif\u001b[0m \u001b[0mx\u001b[0m \u001b[0;32mis\u001b[0m \u001b[0;32mnot\u001b[0m \u001b[0;32mNone\u001b[0m\u001b[0;34m]\u001b[0m\u001b[0;34m\u001b[0m\u001b[0;34m\u001b[0m\u001b[0m\n\u001b[1;32m    246\u001b[0m         \u001b[0;32mif\u001b[0m \u001b[0;32mnot\u001b[0m \u001b[0mareas\u001b[0m\u001b[0;34m:\u001b[0m\u001b[0;34m\u001b[0m\u001b[0;34m\u001b[0m\u001b[0m\n\u001b[0;32m--> 247\u001b[0;31m             \u001b[0;32mraise\u001b[0m \u001b[0mValueError\u001b[0m\u001b[0;34m(\u001b[0m\u001b[0;34m\"No dataset areas available\"\u001b[0m\u001b[0;34m)\u001b[0m\u001b[0;34m\u001b[0m\u001b[0;34m\u001b[0m\u001b[0m\n\u001b[0m\u001b[1;32m    248\u001b[0m \u001b[0;34m\u001b[0m\u001b[0m\n\u001b[1;32m    249\u001b[0m         if not all(isinstance(x, type(areas[0]))\n",
      "\u001b[0;31mValueError\u001b[0m: No dataset areas available"
     ]
    }
   ],
   "source": [
    "# Need to have channel 1, 2, and 3 data files in path\n",
    "scn = Scene(reader='abi_l1b', filenames=glob('*M6C0*.nc'))\n",
    "\n",
    "#scn.load(['true_color'])\n",
    " \n",
    "new_scn = scn.resample(scn.min_area(), resampler='native')\n",
    "#new_scn.save_dataset('true_color', filename='true_color'+'.png')"
   ]
  },
  {
   "cell_type": "code",
   "execution_count": 45,
   "metadata": {},
   "outputs": [
    {
     "ename": "ValueError",
     "evalue": "No dataset areas available",
     "output_type": "error",
     "traceback": [
      "\u001b[0;31m---------------------------------------------------------------------------\u001b[0m",
      "\u001b[0;31mValueError\u001b[0m                                Traceback (most recent call last)",
      "\u001b[0;32m<ipython-input-45-e8b5029641ac>\u001b[0m in \u001b[0;36m<module>\u001b[0;34m\u001b[0m\n\u001b[1;32m      1\u001b[0m \u001b[0;34m\u001b[0m\u001b[0m\n\u001b[1;32m      2\u001b[0m \u001b[0mscn\u001b[0m \u001b[0;34m=\u001b[0m \u001b[0mScene\u001b[0m\u001b[0;34m(\u001b[0m\u001b[0mreader\u001b[0m\u001b[0;34m=\u001b[0m\u001b[0;34m'ABI_L1b'\u001b[0m\u001b[0;34m,\u001b[0m \u001b[0mfilenames\u001b[0m\u001b[0;34m=\u001b[0m\u001b[0mglob\u001b[0m\u001b[0;34m(\u001b[0m\u001b[0;34m'/Users/chowdahead/Downloads/GOES_Data/2019/228/*M6C0*.nc'\u001b[0m\u001b[0;34m)\u001b[0m\u001b[0;34m)\u001b[0m\u001b[0;34m\u001b[0m\u001b[0;34m\u001b[0m\u001b[0m\n\u001b[0;32m----> 3\u001b[0;31m \u001b[0mnew_scn\u001b[0m \u001b[0;34m=\u001b[0m \u001b[0mscn\u001b[0m\u001b[0;34m.\u001b[0m\u001b[0mresample\u001b[0m\u001b[0;34m(\u001b[0m\u001b[0mscn\u001b[0m\u001b[0;34m.\u001b[0m\u001b[0mmin_area\u001b[0m\u001b[0;34m(\u001b[0m\u001b[0;34m)\u001b[0m\u001b[0;34m,\u001b[0m \u001b[0mresampler\u001b[0m\u001b[0;34m=\u001b[0m\u001b[0;34m'native'\u001b[0m\u001b[0;34m)\u001b[0m\u001b[0;34m\u001b[0m\u001b[0;34m\u001b[0m\u001b[0m\n\u001b[0m\u001b[1;32m      4\u001b[0m \u001b[0mnew_scn\u001b[0m\u001b[0;34m.\u001b[0m\u001b[0msave_dataset\u001b[0m\u001b[0;34m(\u001b[0m\u001b[0;34m'true_color'\u001b[0m\u001b[0;34m,\u001b[0m \u001b[0mfilename\u001b[0m\u001b[0;34m=\u001b[0m\u001b[0;34m'true_color'\u001b[0m\u001b[0;34m+\u001b[0m\u001b[0;34m'.png'\u001b[0m\u001b[0;34m)\u001b[0m\u001b[0;34m\u001b[0m\u001b[0;34m\u001b[0m\u001b[0m\n",
      "\u001b[0;32m~/miniconda3/lib/python3.7/site-packages/satpy/scene.py\u001b[0m in \u001b[0;36mmin_area\u001b[0;34m(self, datasets)\u001b[0m\n\u001b[1;32m    287\u001b[0m \u001b[0;34m\u001b[0m\u001b[0m\n\u001b[1;32m    288\u001b[0m         \"\"\"\n\u001b[0;32m--> 289\u001b[0;31m         \u001b[0;32mreturn\u001b[0m \u001b[0mself\u001b[0m\u001b[0;34m.\u001b[0m\u001b[0m_compare_areas\u001b[0m\u001b[0;34m(\u001b[0m\u001b[0mdatasets\u001b[0m\u001b[0;34m=\u001b[0m\u001b[0mdatasets\u001b[0m\u001b[0;34m,\u001b[0m \u001b[0mcompare_func\u001b[0m\u001b[0;34m=\u001b[0m\u001b[0mmin\u001b[0m\u001b[0;34m)\u001b[0m\u001b[0;34m\u001b[0m\u001b[0;34m\u001b[0m\u001b[0m\n\u001b[0m\u001b[1;32m    290\u001b[0m \u001b[0;34m\u001b[0m\u001b[0m\n\u001b[1;32m    291\u001b[0m     \u001b[0;32mdef\u001b[0m \u001b[0mavailable_dataset_ids\u001b[0m\u001b[0;34m(\u001b[0m\u001b[0mself\u001b[0m\u001b[0;34m,\u001b[0m \u001b[0mreader_name\u001b[0m\u001b[0;34m=\u001b[0m\u001b[0;32mNone\u001b[0m\u001b[0;34m,\u001b[0m \u001b[0mcomposites\u001b[0m\u001b[0;34m=\u001b[0m\u001b[0;32mFalse\u001b[0m\u001b[0;34m)\u001b[0m\u001b[0;34m:\u001b[0m\u001b[0;34m\u001b[0m\u001b[0;34m\u001b[0m\u001b[0m\n",
      "\u001b[0;32m~/miniconda3/lib/python3.7/site-packages/satpy/scene.py\u001b[0m in \u001b[0;36m_compare_areas\u001b[0;34m(self, datasets, compare_func)\u001b[0m\n\u001b[1;32m    245\u001b[0m         \u001b[0mareas\u001b[0m \u001b[0;34m=\u001b[0m \u001b[0;34m[\u001b[0m\u001b[0mx\u001b[0m \u001b[0;32mfor\u001b[0m \u001b[0mx\u001b[0m \u001b[0;32min\u001b[0m \u001b[0mareas\u001b[0m \u001b[0;32mif\u001b[0m \u001b[0mx\u001b[0m \u001b[0;32mis\u001b[0m \u001b[0;32mnot\u001b[0m \u001b[0;32mNone\u001b[0m\u001b[0;34m]\u001b[0m\u001b[0;34m\u001b[0m\u001b[0;34m\u001b[0m\u001b[0m\n\u001b[1;32m    246\u001b[0m         \u001b[0;32mif\u001b[0m \u001b[0;32mnot\u001b[0m \u001b[0mareas\u001b[0m\u001b[0;34m:\u001b[0m\u001b[0;34m\u001b[0m\u001b[0;34m\u001b[0m\u001b[0m\n\u001b[0;32m--> 247\u001b[0;31m             \u001b[0;32mraise\u001b[0m \u001b[0mValueError\u001b[0m\u001b[0;34m(\u001b[0m\u001b[0;34m\"No dataset areas available\"\u001b[0m\u001b[0;34m)\u001b[0m\u001b[0;34m\u001b[0m\u001b[0;34m\u001b[0m\u001b[0m\n\u001b[0m\u001b[1;32m    248\u001b[0m \u001b[0;34m\u001b[0m\u001b[0m\n\u001b[1;32m    249\u001b[0m         if not all(isinstance(x, type(areas[0]))\n",
      "\u001b[0;31mValueError\u001b[0m: No dataset areas available"
     ]
    }
   ],
   "source": [
    "\n",
    "scn = Scene(reader='ABI_L1b', filenames=glob('/Users/chowdahead/Downloads/GOES_Data/2019/228/*M6C0*.nc'))\n",
    "new_scn = scn.resample(scn.min_area(), resampler='native')\n",
    "new_scn.save_dataset('true_color', filename='true_color'+'.png')"
   ]
  },
  {
   "cell_type": "code",
   "execution_count": 50,
   "metadata": {},
   "outputs": [
    {
     "data": {
      "text/plain": [
       "['/Users/chowdahead/Downloads/GOES_Data/2019/228/OR_ABI-L1b-RadC-M6C03_G16_s20192282031563_e20192282034336_c20192282034395.nc',\n",
       " '/Users/chowdahead/Downloads/GOES_Data/2019/228/OR_ABI-L1b-RadC-M6C03_G16_s20192282021563_e20192282024336_c20192282024394.nc',\n",
       " '/Users/chowdahead/Downloads/GOES_Data/2019/228/OR_ABI-L1b-RadC-M6C01_G16_s20192282016563_e20192282019336_c20192282019412.nc',\n",
       " '/Users/chowdahead/Downloads/GOES_Data/2019/228/OR_ABI-L1b-RadC-M6C01_G16_s20192282021563_e20192282024336_c20192282024398.nc',\n",
       " '/Users/chowdahead/Downloads/GOES_Data/2019/228/OR_ABI-L1b-RadC-M6C03_G16_s20192282056563_e20192282059336_c20192282059406.nc',\n",
       " '/Users/chowdahead/Downloads/GOES_Data/2019/228/OR_ABI-L1b-RadC-M6C03_G16_s20192282041563_e20192282044336_c20192282044409.nc',\n",
       " '/Users/chowdahead/Downloads/GOES_Data/2019/228/OR_ABI-L1b-RadC-M6C02_G16_s20192282011563_e20192282014336_c20192282014386.nc',\n",
       " '/Users/chowdahead/Downloads/GOES_Data/2019/228/OR_ABI-L1b-RadC-M6C02_G16_s20192282021563_e20192282024336_c20192282024379.nc',\n",
       " '/Users/chowdahead/Downloads/GOES_Data/2019/228/OR_ABI-L1b-RadC-M6C02_G16_s20192282006563_e20192282009336_c20192282009396.nc',\n",
       " '/Users/chowdahead/Downloads/GOES_Data/2019/228/OR_ABI-L1b-RadC-M6C01_G16_s20192282041563_e20192282044336_c20192282044397.nc',\n",
       " '/Users/chowdahead/Downloads/GOES_Data/2019/228/OR_ABI-L1b-RadC-M6C02_G16_s20192282051563_e20192282054336_c20192282054385.nc',\n",
       " '/Users/chowdahead/Downloads/GOES_Data/2019/228/OR_ABI-L1b-RadC-M6C01_G16_s20192282051563_e20192282054336_c20192282054396.nc',\n",
       " '/Users/chowdahead/Downloads/GOES_Data/2019/228/OR_ABI-L1b-RadC-M6C02_G16_s20192282041563_e20192282044336_c20192282044384.nc',\n",
       " '/Users/chowdahead/Downloads/GOES_Data/2019/228/OR_ABI-L1b-RadC-M6C01_G16_s20192282036563_e20192282039336_c20192282039410.nc',\n",
       " '/Users/chowdahead/Downloads/GOES_Data/2019/228/OR_ABI-L1b-RadC-M6C02_G16_s20192282016563_e20192282019336_c20192282019383.nc',\n",
       " '/Users/chowdahead/Downloads/GOES_Data/2019/228/OR_ABI-L1b-RadC-M6C01_G16_s20192282011563_e20192282014336_c20192282014413.nc',\n",
       " '/Users/chowdahead/Downloads/GOES_Data/2019/228/OR_ABI-L1b-RadC-M6C01_G16_s20192282031563_e20192282034336_c20192282034438.nc',\n",
       " '/Users/chowdahead/Downloads/GOES_Data/2019/228/OR_ABI-L1b-RadC-M6C01_G16_s20192282046563_e20192282049336_c20192282049407.nc',\n",
       " '/Users/chowdahead/Downloads/GOES_Data/2019/228/OR_ABI-L1b-RadC-M6C03_G16_s20192282001563_e20192282004336_c20192282004391.nc',\n",
       " '/Users/chowdahead/Downloads/GOES_Data/2019/228/OR_ABI-L1b-RadC-M6C01_G16_s20192282026563_e20192282029336_c20192282029427.nc',\n",
       " '/Users/chowdahead/Downloads/GOES_Data/2019/228/OR_ABI-L1b-RadC-M6C02_G16_s20192282026563_e20192282029336_c20192282029405.nc',\n",
       " '/Users/chowdahead/Downloads/GOES_Data/2019/228/OR_ABI-L1b-RadC-M6C03_G16_s20192282006563_e20192282009336_c20192282009407.nc',\n",
       " '/Users/chowdahead/Downloads/GOES_Data/2019/228/OR_ABI-L1b-RadC-M6C03_G16_s20192282011563_e20192282014336_c20192282014429.nc',\n",
       " '/Users/chowdahead/Downloads/GOES_Data/2019/228/OR_ABI-L1b-RadC-M6C02_G16_s20192282046563_e20192282049336_c20192282049400.nc',\n",
       " '/Users/chowdahead/Downloads/GOES_Data/2019/228/OR_ABI-L1b-RadC-M6C02_G16_s20192282036563_e20192282039336_c20192282039386.nc',\n",
       " '/Users/chowdahead/Downloads/GOES_Data/2019/228/OR_ABI-L1b-RadC-M6C02_G16_s20192282031563_e20192282034336_c20192282034389.nc',\n",
       " '/Users/chowdahead/Downloads/GOES_Data/2019/228/OR_ABI-L1b-RadC-M6C03_G16_s20192282026563_e20192282029336_c20192282029421.nc',\n",
       " '/Users/chowdahead/Downloads/GOES_Data/2019/228/OR_ABI-L1b-RadC-M6C01_G16_s20192282006563_e20192282009336_c20192282009401.nc',\n",
       " '/Users/chowdahead/Downloads/GOES_Data/2019/228/OR_ABI-L1b-RadC-M6C01_G16_s20192282056563_e20192282059336_c20192282059394.nc',\n",
       " '/Users/chowdahead/Downloads/GOES_Data/2019/228/OR_ABI-L1b-RadC-M6C02_G16_s20192282056563_e20192282059336_c20192282059382.nc',\n",
       " '/Users/chowdahead/Downloads/GOES_Data/2019/228/OR_ABI-L1b-RadC-M6C03_G16_s20192282046563_e20192282049336_c20192282049454.nc',\n",
       " '/Users/chowdahead/Downloads/GOES_Data/2019/228/OR_ABI-L1b-RadC-M6C03_G16_s20192282036563_e20192282039336_c20192282039401.nc',\n",
       " '/Users/chowdahead/Downloads/GOES_Data/2019/228/OR_ABI-L1b-RadC-M6C03_G16_s20192282016563_e20192282019336_c20192282019418.nc',\n",
       " '/Users/chowdahead/Downloads/GOES_Data/2019/228/OR_ABI-L1b-RadC-M6C01_G16_s20192282001563_e20192282004336_c20192282004396.nc',\n",
       " '/Users/chowdahead/Downloads/GOES_Data/2019/228/OR_ABI-L1b-RadC-M6C03_G16_s20192282051563_e20192282054336_c20192282054392.nc',\n",
       " '/Users/chowdahead/Downloads/GOES_Data/2019/228/OR_ABI-L1b-RadC-M6C02_G16_s20192282001563_e20192282004336_c20192282004384.nc']"
      ]
     },
     "execution_count": 50,
     "metadata": {},
     "output_type": "execute_result"
    }
   ],
   "source": [
    "glob('/Users/chowdahead/Downloads/GOES_Data/2019/228/*M6C0*.nc')"
   ]
  },
  {
   "cell_type": "code",
   "execution_count": 49,
   "metadata": {},
   "outputs": [
    {
     "ename": "ValueError",
     "evalue": "No dataset areas available",
     "output_type": "error",
     "traceback": [
      "\u001b[0;31m---------------------------------------------------------------------------\u001b[0m",
      "\u001b[0;31mValueError\u001b[0m                                Traceback (most recent call last)",
      "\u001b[0;32m<ipython-input-49-3b9a4340de69>\u001b[0m in \u001b[0;36m<module>\u001b[0;34m\u001b[0m\n\u001b[0;32m----> 1\u001b[0;31m \u001b[0mscn\u001b[0m\u001b[0;34m.\u001b[0m\u001b[0mmin_area\u001b[0m\u001b[0;34m(\u001b[0m\u001b[0;34m)\u001b[0m\u001b[0;34m\u001b[0m\u001b[0;34m\u001b[0m\u001b[0m\n\u001b[0m",
      "\u001b[0;32m~/miniconda3/lib/python3.7/site-packages/satpy/scene.py\u001b[0m in \u001b[0;36mmin_area\u001b[0;34m(self, datasets)\u001b[0m\n\u001b[1;32m    287\u001b[0m \u001b[0;34m\u001b[0m\u001b[0m\n\u001b[1;32m    288\u001b[0m         \"\"\"\n\u001b[0;32m--> 289\u001b[0;31m         \u001b[0;32mreturn\u001b[0m \u001b[0mself\u001b[0m\u001b[0;34m.\u001b[0m\u001b[0m_compare_areas\u001b[0m\u001b[0;34m(\u001b[0m\u001b[0mdatasets\u001b[0m\u001b[0;34m=\u001b[0m\u001b[0mdatasets\u001b[0m\u001b[0;34m,\u001b[0m \u001b[0mcompare_func\u001b[0m\u001b[0;34m=\u001b[0m\u001b[0mmin\u001b[0m\u001b[0;34m)\u001b[0m\u001b[0;34m\u001b[0m\u001b[0;34m\u001b[0m\u001b[0m\n\u001b[0m\u001b[1;32m    290\u001b[0m \u001b[0;34m\u001b[0m\u001b[0m\n\u001b[1;32m    291\u001b[0m     \u001b[0;32mdef\u001b[0m \u001b[0mavailable_dataset_ids\u001b[0m\u001b[0;34m(\u001b[0m\u001b[0mself\u001b[0m\u001b[0;34m,\u001b[0m \u001b[0mreader_name\u001b[0m\u001b[0;34m=\u001b[0m\u001b[0;32mNone\u001b[0m\u001b[0;34m,\u001b[0m \u001b[0mcomposites\u001b[0m\u001b[0;34m=\u001b[0m\u001b[0;32mFalse\u001b[0m\u001b[0;34m)\u001b[0m\u001b[0;34m:\u001b[0m\u001b[0;34m\u001b[0m\u001b[0;34m\u001b[0m\u001b[0m\n",
      "\u001b[0;32m~/miniconda3/lib/python3.7/site-packages/satpy/scene.py\u001b[0m in \u001b[0;36m_compare_areas\u001b[0;34m(self, datasets, compare_func)\u001b[0m\n\u001b[1;32m    245\u001b[0m         \u001b[0mareas\u001b[0m \u001b[0;34m=\u001b[0m \u001b[0;34m[\u001b[0m\u001b[0mx\u001b[0m \u001b[0;32mfor\u001b[0m \u001b[0mx\u001b[0m \u001b[0;32min\u001b[0m \u001b[0mareas\u001b[0m \u001b[0;32mif\u001b[0m \u001b[0mx\u001b[0m \u001b[0;32mis\u001b[0m \u001b[0;32mnot\u001b[0m \u001b[0;32mNone\u001b[0m\u001b[0;34m]\u001b[0m\u001b[0;34m\u001b[0m\u001b[0;34m\u001b[0m\u001b[0m\n\u001b[1;32m    246\u001b[0m         \u001b[0;32mif\u001b[0m \u001b[0;32mnot\u001b[0m \u001b[0mareas\u001b[0m\u001b[0;34m:\u001b[0m\u001b[0;34m\u001b[0m\u001b[0;34m\u001b[0m\u001b[0m\n\u001b[0;32m--> 247\u001b[0;31m             \u001b[0;32mraise\u001b[0m \u001b[0mValueError\u001b[0m\u001b[0;34m(\u001b[0m\u001b[0;34m\"No dataset areas available\"\u001b[0m\u001b[0;34m)\u001b[0m\u001b[0;34m\u001b[0m\u001b[0;34m\u001b[0m\u001b[0m\n\u001b[0m\u001b[1;32m    248\u001b[0m \u001b[0;34m\u001b[0m\u001b[0m\n\u001b[1;32m    249\u001b[0m         if not all(isinstance(x, type(areas[0]))\n",
      "\u001b[0;31mValueError\u001b[0m: No dataset areas available"
     ]
    }
   ],
   "source": [
    "scn.min_area()"
   ]
  },
  {
   "cell_type": "code",
   "execution_count": 38,
   "metadata": {},
   "outputs": [
    {
     "data": {
      "text/plain": [
       "[DatasetID(name='C01', wavelength=(0.45, 0.47, 0.49), resolution=1000, polarization=None, calibration='radiance', level=None, modifiers=()),\n",
       " DatasetID(name='C01', wavelength=(0.45, 0.47, 0.49), resolution=1000, polarization=None, calibration='reflectance', level=None, modifiers=()),\n",
       " DatasetID(name='C02', wavelength=(0.59, 0.64, 0.69), resolution=500, polarization=None, calibration='radiance', level=None, modifiers=()),\n",
       " DatasetID(name='C02', wavelength=(0.59, 0.64, 0.69), resolution=500, polarization=None, calibration='reflectance', level=None, modifiers=()),\n",
       " DatasetID(name='C03', wavelength=(0.8455, 0.865, 0.8845), resolution=1000, polarization=None, calibration='radiance', level=None, modifiers=()),\n",
       " DatasetID(name='C03', wavelength=(0.8455, 0.865, 0.8845), resolution=1000, polarization=None, calibration='reflectance', level=None, modifiers=()),\n",
       " DatasetID(name='C04', wavelength=(1.3705, 1.378, 1.3855), resolution=2000, polarization=None, calibration='radiance', level=None, modifiers=()),\n",
       " DatasetID(name='C04', wavelength=(1.3705, 1.378, 1.3855), resolution=2000, polarization=None, calibration='reflectance', level=None, modifiers=()),\n",
       " DatasetID(name='C05', wavelength=(1.58, 1.61, 1.64), resolution=1000, polarization=None, calibration='radiance', level=None, modifiers=()),\n",
       " DatasetID(name='C05', wavelength=(1.58, 1.61, 1.64), resolution=1000, polarization=None, calibration='reflectance', level=None, modifiers=()),\n",
       " DatasetID(name='C06', wavelength=(2.225, 2.25, 2.275), resolution=2000, polarization=None, calibration='radiance', level=None, modifiers=()),\n",
       " DatasetID(name='C06', wavelength=(2.225, 2.25, 2.275), resolution=2000, polarization=None, calibration='reflectance', level=None, modifiers=()),\n",
       " DatasetID(name='C07', wavelength=(3.8, 3.9, 4.0), resolution=2000, polarization=None, calibration='radiance', level=None, modifiers=()),\n",
       " DatasetID(name='C07', wavelength=(3.8, 3.9, 4.0), resolution=2000, polarization=None, calibration='brightness_temperature', level=None, modifiers=()),\n",
       " DatasetID(name='C08', wavelength=(5.77, 6.185, 6.6), resolution=2000, polarization=None, calibration='radiance', level=None, modifiers=()),\n",
       " DatasetID(name='C08', wavelength=(5.77, 6.185, 6.6), resolution=2000, polarization=None, calibration='brightness_temperature', level=None, modifiers=()),\n",
       " DatasetID(name='C09', wavelength=(6.75, 6.95, 7.15), resolution=2000, polarization=None, calibration='radiance', level=None, modifiers=()),\n",
       " DatasetID(name='C09', wavelength=(6.75, 6.95, 7.15), resolution=2000, polarization=None, calibration='brightness_temperature', level=None, modifiers=()),\n",
       " DatasetID(name='C10', wavelength=(7.24, 7.34, 7.44), resolution=2000, polarization=None, calibration='radiance', level=None, modifiers=()),\n",
       " DatasetID(name='C10', wavelength=(7.24, 7.34, 7.44), resolution=2000, polarization=None, calibration='brightness_temperature', level=None, modifiers=()),\n",
       " DatasetID(name='C11', wavelength=(8.3, 8.5, 8.7), resolution=2000, polarization=None, calibration='radiance', level=None, modifiers=()),\n",
       " DatasetID(name='C11', wavelength=(8.3, 8.5, 8.7), resolution=2000, polarization=None, calibration='brightness_temperature', level=None, modifiers=()),\n",
       " DatasetID(name='C12', wavelength=(9.42, 9.61, 9.8), resolution=2000, polarization=None, calibration='radiance', level=None, modifiers=()),\n",
       " DatasetID(name='C12', wavelength=(9.42, 9.61, 9.8), resolution=2000, polarization=None, calibration='brightness_temperature', level=None, modifiers=()),\n",
       " DatasetID(name='C13', wavelength=(10.1, 10.35, 10.6), resolution=2000, polarization=None, calibration='radiance', level=None, modifiers=()),\n",
       " DatasetID(name='C13', wavelength=(10.1, 10.35, 10.6), resolution=2000, polarization=None, calibration='brightness_temperature', level=None, modifiers=()),\n",
       " DatasetID(name='C14', wavelength=(10.8, 11.2, 11.6), resolution=2000, polarization=None, calibration='radiance', level=None, modifiers=()),\n",
       " DatasetID(name='C14', wavelength=(10.8, 11.2, 11.6), resolution=2000, polarization=None, calibration='brightness_temperature', level=None, modifiers=()),\n",
       " DatasetID(name='C15', wavelength=(11.8, 12.3, 12.8), resolution=2000, polarization=None, calibration='radiance', level=None, modifiers=()),\n",
       " DatasetID(name='C15', wavelength=(11.8, 12.3, 12.8), resolution=2000, polarization=None, calibration='brightness_temperature', level=None, modifiers=()),\n",
       " DatasetID(name='C16', wavelength=(13.0, 13.3, 13.6), resolution=2000, polarization=None, calibration='radiance', level=None, modifiers=()),\n",
       " DatasetID(name='C16', wavelength=(13.0, 13.3, 13.6), resolution=2000, polarization=None, calibration='brightness_temperature', level=None, modifiers=())]"
      ]
     },
     "execution_count": 38,
     "metadata": {},
     "output_type": "execute_result"
    }
   ],
   "source": [
    "scn.attrs\n",
    "list(scn.all_dataset_ids())"
   ]
  },
  {
   "cell_type": "code",
   "execution_count": 39,
   "metadata": {},
   "outputs": [
    {
     "ename": "KeyError",
     "evalue": "\"No dataset matching 'DatasetID(name='C03', wavelength=None, resolution=None, polarization=None, calibration=None, level=None, modifiers=None)' found\"",
     "output_type": "error",
     "traceback": [
      "\u001b[0;31m---------------------------------------------------------------------------\u001b[0m",
      "\u001b[0;31mKeyError\u001b[0m                                  Traceback (most recent call last)",
      "\u001b[0;32m~/miniconda3/lib/python3.7/site-packages/satpy/readers/__init__.py\u001b[0m in \u001b[0;36m__getitem__\u001b[0;34m(self, item)\u001b[0m\n\u001b[1;32m    306\u001b[0m             \u001b[0;31m# short circuit - try to get the object without more work\u001b[0m\u001b[0;34m\u001b[0m\u001b[0;34m\u001b[0m\u001b[0;34m\u001b[0m\u001b[0m\n\u001b[0;32m--> 307\u001b[0;31m             \u001b[0;32mreturn\u001b[0m \u001b[0msuper\u001b[0m\u001b[0;34m(\u001b[0m\u001b[0mDatasetDict\u001b[0m\u001b[0;34m,\u001b[0m \u001b[0mself\u001b[0m\u001b[0;34m)\u001b[0m\u001b[0;34m.\u001b[0m\u001b[0m__getitem__\u001b[0m\u001b[0;34m(\u001b[0m\u001b[0mitem\u001b[0m\u001b[0;34m)\u001b[0m\u001b[0;34m\u001b[0m\u001b[0;34m\u001b[0m\u001b[0m\n\u001b[0m\u001b[1;32m    308\u001b[0m         \u001b[0;32mexcept\u001b[0m \u001b[0mKeyError\u001b[0m\u001b[0;34m:\u001b[0m\u001b[0;34m\u001b[0m\u001b[0;34m\u001b[0m\u001b[0m\n",
      "\u001b[0;31mKeyError\u001b[0m: 'C03'",
      "\nDuring handling of the above exception, another exception occurred:\n",
      "\u001b[0;31mKeyError\u001b[0m                                  Traceback (most recent call last)",
      "\u001b[0;32m<ipython-input-39-1ce488bf3311>\u001b[0m in \u001b[0;36m<module>\u001b[0;34m\u001b[0m\n\u001b[0;32m----> 1\u001b[0;31m \u001b[0mscn\u001b[0m\u001b[0;34m[\u001b[0m\u001b[0;34m'C03'\u001b[0m\u001b[0;34m]\u001b[0m\u001b[0;34m\u001b[0m\u001b[0;34m\u001b[0m\u001b[0m\n\u001b[0m",
      "\u001b[0;32m~/miniconda3/lib/python3.7/site-packages/satpy/scene.py\u001b[0m in \u001b[0;36m__getitem__\u001b[0;34m(self, key)\u001b[0m\n\u001b[1;32m    672\u001b[0m         \u001b[0;32mif\u001b[0m \u001b[0misinstance\u001b[0m\u001b[0;34m(\u001b[0m\u001b[0mkey\u001b[0m\u001b[0;34m,\u001b[0m \u001b[0mtuple\u001b[0m\u001b[0;34m)\u001b[0m \u001b[0;32mand\u001b[0m \u001b[0;32mnot\u001b[0m \u001b[0misinstance\u001b[0m\u001b[0;34m(\u001b[0m\u001b[0mkey\u001b[0m\u001b[0;34m,\u001b[0m \u001b[0mDatasetID\u001b[0m\u001b[0;34m)\u001b[0m\u001b[0;34m:\u001b[0m\u001b[0;34m\u001b[0m\u001b[0;34m\u001b[0m\u001b[0m\n\u001b[1;32m    673\u001b[0m             \u001b[0;32mreturn\u001b[0m \u001b[0mself\u001b[0m\u001b[0;34m.\u001b[0m\u001b[0mslice\u001b[0m\u001b[0;34m(\u001b[0m\u001b[0mkey\u001b[0m\u001b[0;34m)\u001b[0m\u001b[0;34m\u001b[0m\u001b[0;34m\u001b[0m\u001b[0m\n\u001b[0;32m--> 674\u001b[0;31m         \u001b[0;32mreturn\u001b[0m \u001b[0mself\u001b[0m\u001b[0;34m.\u001b[0m\u001b[0mdatasets\u001b[0m\u001b[0;34m[\u001b[0m\u001b[0mkey\u001b[0m\u001b[0;34m]\u001b[0m\u001b[0;34m\u001b[0m\u001b[0;34m\u001b[0m\u001b[0m\n\u001b[0m\u001b[1;32m    675\u001b[0m \u001b[0;34m\u001b[0m\u001b[0m\n\u001b[1;32m    676\u001b[0m     \u001b[0;32mdef\u001b[0m \u001b[0m__setitem__\u001b[0m\u001b[0;34m(\u001b[0m\u001b[0mself\u001b[0m\u001b[0;34m,\u001b[0m \u001b[0mkey\u001b[0m\u001b[0;34m,\u001b[0m \u001b[0mvalue\u001b[0m\u001b[0;34m)\u001b[0m\u001b[0;34m:\u001b[0m\u001b[0;34m\u001b[0m\u001b[0;34m\u001b[0m\u001b[0m\n",
      "\u001b[0;32m~/miniconda3/lib/python3.7/site-packages/satpy/readers/__init__.py\u001b[0m in \u001b[0;36m__getitem__\u001b[0;34m(self, item)\u001b[0m\n\u001b[1;32m    307\u001b[0m             \u001b[0;32mreturn\u001b[0m \u001b[0msuper\u001b[0m\u001b[0;34m(\u001b[0m\u001b[0mDatasetDict\u001b[0m\u001b[0;34m,\u001b[0m \u001b[0mself\u001b[0m\u001b[0;34m)\u001b[0m\u001b[0;34m.\u001b[0m\u001b[0m__getitem__\u001b[0m\u001b[0;34m(\u001b[0m\u001b[0mitem\u001b[0m\u001b[0;34m)\u001b[0m\u001b[0;34m\u001b[0m\u001b[0;34m\u001b[0m\u001b[0m\n\u001b[1;32m    308\u001b[0m         \u001b[0;32mexcept\u001b[0m \u001b[0mKeyError\u001b[0m\u001b[0;34m:\u001b[0m\u001b[0;34m\u001b[0m\u001b[0;34m\u001b[0m\u001b[0m\n\u001b[0;32m--> 309\u001b[0;31m             \u001b[0mkey\u001b[0m \u001b[0;34m=\u001b[0m \u001b[0mself\u001b[0m\u001b[0;34m.\u001b[0m\u001b[0mget_key\u001b[0m\u001b[0;34m(\u001b[0m\u001b[0mitem\u001b[0m\u001b[0;34m)\u001b[0m\u001b[0;34m\u001b[0m\u001b[0;34m\u001b[0m\u001b[0m\n\u001b[0m\u001b[1;32m    310\u001b[0m             \u001b[0;32mreturn\u001b[0m \u001b[0msuper\u001b[0m\u001b[0;34m(\u001b[0m\u001b[0mDatasetDict\u001b[0m\u001b[0;34m,\u001b[0m \u001b[0mself\u001b[0m\u001b[0;34m)\u001b[0m\u001b[0;34m.\u001b[0m\u001b[0m__getitem__\u001b[0m\u001b[0;34m(\u001b[0m\u001b[0mkey\u001b[0m\u001b[0;34m)\u001b[0m\u001b[0;34m\u001b[0m\u001b[0;34m\u001b[0m\u001b[0m\n\u001b[1;32m    311\u001b[0m \u001b[0;34m\u001b[0m\u001b[0m\n",
      "\u001b[0;32m~/miniconda3/lib/python3.7/site-packages/satpy/readers/__init__.py\u001b[0m in \u001b[0;36mget_key\u001b[0;34m(self, match_key, num_results, best, **dfilter)\u001b[0m\n\u001b[1;32m    296\u001b[0m         \"\"\"\n\u001b[1;32m    297\u001b[0m         return get_key(match_key, self.keys(), num_results=num_results,\n\u001b[0;32m--> 298\u001b[0;31m                        best=best, **dfilter)\n\u001b[0m\u001b[1;32m    299\u001b[0m \u001b[0;34m\u001b[0m\u001b[0m\n\u001b[1;32m    300\u001b[0m     \u001b[0;32mdef\u001b[0m \u001b[0mgetitem\u001b[0m\u001b[0;34m(\u001b[0m\u001b[0mself\u001b[0m\u001b[0;34m,\u001b[0m \u001b[0mitem\u001b[0m\u001b[0;34m)\u001b[0m\u001b[0;34m:\u001b[0m\u001b[0;34m\u001b[0m\u001b[0;34m\u001b[0m\u001b[0m\n",
      "\u001b[0;32m~/miniconda3/lib/python3.7/site-packages/satpy/readers/__init__.py\u001b[0m in \u001b[0;36mget_key\u001b[0;34m(key, key_container, num_results, best, resolution, calibration, polarization, level, modifiers)\u001b[0m\n\u001b[1;32m    247\u001b[0m \u001b[0;34m\u001b[0m\u001b[0m\n\u001b[1;32m    248\u001b[0m     \u001b[0;32mif\u001b[0m \u001b[0mnum_results\u001b[0m \u001b[0;34m==\u001b[0m \u001b[0;36m1\u001b[0m \u001b[0;32mand\u001b[0m \u001b[0;32mnot\u001b[0m \u001b[0mres\u001b[0m\u001b[0;34m:\u001b[0m\u001b[0;34m\u001b[0m\u001b[0;34m\u001b[0m\u001b[0m\n\u001b[0;32m--> 249\u001b[0;31m         \u001b[0;32mraise\u001b[0m \u001b[0mKeyError\u001b[0m\u001b[0;34m(\u001b[0m\u001b[0;34m\"No dataset matching '{}' found\"\u001b[0m\u001b[0;34m.\u001b[0m\u001b[0mformat\u001b[0m\u001b[0;34m(\u001b[0m\u001b[0mstr\u001b[0m\u001b[0;34m(\u001b[0m\u001b[0mkey\u001b[0m\u001b[0;34m)\u001b[0m\u001b[0;34m)\u001b[0m\u001b[0;34m)\u001b[0m\u001b[0;34m\u001b[0m\u001b[0;34m\u001b[0m\u001b[0m\n\u001b[0m\u001b[1;32m    250\u001b[0m     \u001b[0;32melif\u001b[0m \u001b[0mnum_results\u001b[0m \u001b[0;34m==\u001b[0m \u001b[0;36m1\u001b[0m \u001b[0;32mand\u001b[0m \u001b[0mlen\u001b[0m\u001b[0;34m(\u001b[0m\u001b[0mres\u001b[0m\u001b[0;34m)\u001b[0m \u001b[0;34m!=\u001b[0m \u001b[0;36m1\u001b[0m\u001b[0;34m:\u001b[0m\u001b[0;34m\u001b[0m\u001b[0;34m\u001b[0m\u001b[0m\n\u001b[1;32m    251\u001b[0m         \u001b[0;32mraise\u001b[0m \u001b[0mTooManyResults\u001b[0m\u001b[0;34m(\u001b[0m\u001b[0;34m\"No unique dataset matching {}\"\u001b[0m\u001b[0;34m.\u001b[0m\u001b[0mformat\u001b[0m\u001b[0;34m(\u001b[0m\u001b[0mstr\u001b[0m\u001b[0;34m(\u001b[0m\u001b[0mkey\u001b[0m\u001b[0;34m)\u001b[0m\u001b[0;34m)\u001b[0m\u001b[0;34m)\u001b[0m\u001b[0;34m\u001b[0m\u001b[0;34m\u001b[0m\u001b[0m\n",
      "\u001b[0;31mKeyError\u001b[0m: \"No dataset matching 'DatasetID(name='C03', wavelength=None, resolution=None, polarization=None, calibration=None, level=None, modifiers=None)' found\""
     ]
    }
   ],
   "source": [
    "scn['C03']"
   ]
  },
  {
   "cell_type": "code",
   "execution_count": 40,
   "metadata": {},
   "outputs": [
    {
     "ename": "ValueError",
     "evalue": "No dataset areas available",
     "output_type": "error",
     "traceback": [
      "\u001b[0;31m---------------------------------------------------------------------------\u001b[0m",
      "\u001b[0;31mValueError\u001b[0m                                Traceback (most recent call last)",
      "\u001b[0;32m<ipython-input-40-eead5b22a2e5>\u001b[0m in \u001b[0;36m<module>\u001b[0;34m\u001b[0m\n\u001b[1;32m      1\u001b[0m \u001b[0;31m#scn.load(['true_color'])\u001b[0m\u001b[0;34m\u001b[0m\u001b[0;34m\u001b[0m\u001b[0;34m\u001b[0m\u001b[0m\n\u001b[1;32m      2\u001b[0m \u001b[0;34m\u001b[0m\u001b[0m\n\u001b[0;32m----> 3\u001b[0;31m \u001b[0mnew_scn\u001b[0m \u001b[0;34m=\u001b[0m \u001b[0mscn\u001b[0m\u001b[0;34m.\u001b[0m\u001b[0mresample\u001b[0m\u001b[0;34m(\u001b[0m\u001b[0mscn\u001b[0m\u001b[0;34m.\u001b[0m\u001b[0mmin_area\u001b[0m\u001b[0;34m(\u001b[0m\u001b[0;34m)\u001b[0m\u001b[0;34m,\u001b[0m \u001b[0mresampler\u001b[0m\u001b[0;34m=\u001b[0m\u001b[0;34m'native'\u001b[0m\u001b[0;34m)\u001b[0m\u001b[0;34m\u001b[0m\u001b[0;34m\u001b[0m\u001b[0m\n\u001b[0m\u001b[1;32m      4\u001b[0m \u001b[0mnew_scn\u001b[0m\u001b[0;34m.\u001b[0m\u001b[0msave_dataset\u001b[0m\u001b[0;34m(\u001b[0m\u001b[0;34m'true_color'\u001b[0m\u001b[0;34m,\u001b[0m \u001b[0mfilename\u001b[0m\u001b[0;34m=\u001b[0m\u001b[0;34m'true_color'\u001b[0m\u001b[0;34m+\u001b[0m\u001b[0;34m'.png'\u001b[0m\u001b[0;34m)\u001b[0m\u001b[0;34m\u001b[0m\u001b[0;34m\u001b[0m\u001b[0m\n",
      "\u001b[0;32m~/miniconda3/lib/python3.7/site-packages/satpy/scene.py\u001b[0m in \u001b[0;36mmin_area\u001b[0;34m(self, datasets)\u001b[0m\n\u001b[1;32m    287\u001b[0m \u001b[0;34m\u001b[0m\u001b[0m\n\u001b[1;32m    288\u001b[0m         \"\"\"\n\u001b[0;32m--> 289\u001b[0;31m         \u001b[0;32mreturn\u001b[0m \u001b[0mself\u001b[0m\u001b[0;34m.\u001b[0m\u001b[0m_compare_areas\u001b[0m\u001b[0;34m(\u001b[0m\u001b[0mdatasets\u001b[0m\u001b[0;34m=\u001b[0m\u001b[0mdatasets\u001b[0m\u001b[0;34m,\u001b[0m \u001b[0mcompare_func\u001b[0m\u001b[0;34m=\u001b[0m\u001b[0mmin\u001b[0m\u001b[0;34m)\u001b[0m\u001b[0;34m\u001b[0m\u001b[0;34m\u001b[0m\u001b[0m\n\u001b[0m\u001b[1;32m    290\u001b[0m \u001b[0;34m\u001b[0m\u001b[0m\n\u001b[1;32m    291\u001b[0m     \u001b[0;32mdef\u001b[0m \u001b[0mavailable_dataset_ids\u001b[0m\u001b[0;34m(\u001b[0m\u001b[0mself\u001b[0m\u001b[0;34m,\u001b[0m \u001b[0mreader_name\u001b[0m\u001b[0;34m=\u001b[0m\u001b[0;32mNone\u001b[0m\u001b[0;34m,\u001b[0m \u001b[0mcomposites\u001b[0m\u001b[0;34m=\u001b[0m\u001b[0;32mFalse\u001b[0m\u001b[0;34m)\u001b[0m\u001b[0;34m:\u001b[0m\u001b[0;34m\u001b[0m\u001b[0;34m\u001b[0m\u001b[0m\n",
      "\u001b[0;32m~/miniconda3/lib/python3.7/site-packages/satpy/scene.py\u001b[0m in \u001b[0;36m_compare_areas\u001b[0;34m(self, datasets, compare_func)\u001b[0m\n\u001b[1;32m    245\u001b[0m         \u001b[0mareas\u001b[0m \u001b[0;34m=\u001b[0m \u001b[0;34m[\u001b[0m\u001b[0mx\u001b[0m \u001b[0;32mfor\u001b[0m \u001b[0mx\u001b[0m \u001b[0;32min\u001b[0m \u001b[0mareas\u001b[0m \u001b[0;32mif\u001b[0m \u001b[0mx\u001b[0m \u001b[0;32mis\u001b[0m \u001b[0;32mnot\u001b[0m \u001b[0;32mNone\u001b[0m\u001b[0;34m]\u001b[0m\u001b[0;34m\u001b[0m\u001b[0;34m\u001b[0m\u001b[0m\n\u001b[1;32m    246\u001b[0m         \u001b[0;32mif\u001b[0m \u001b[0;32mnot\u001b[0m \u001b[0mareas\u001b[0m\u001b[0;34m:\u001b[0m\u001b[0;34m\u001b[0m\u001b[0;34m\u001b[0m\u001b[0m\n\u001b[0;32m--> 247\u001b[0;31m             \u001b[0;32mraise\u001b[0m \u001b[0mValueError\u001b[0m\u001b[0;34m(\u001b[0m\u001b[0;34m\"No dataset areas available\"\u001b[0m\u001b[0;34m)\u001b[0m\u001b[0;34m\u001b[0m\u001b[0;34m\u001b[0m\u001b[0m\n\u001b[0m\u001b[1;32m    248\u001b[0m \u001b[0;34m\u001b[0m\u001b[0m\n\u001b[1;32m    249\u001b[0m         if not all(isinstance(x, type(areas[0]))\n",
      "\u001b[0;31mValueError\u001b[0m: No dataset areas available"
     ]
    }
   ],
   "source": [
    "#scn.load(['true_color'])\n",
    " \n",
    "new_scn = scn.resample(scn.min_area(), resampler='native')\n",
    "new_scn.save_dataset('true_color', filename='true_color'+'.png')\n"
   ]
  },
  {
   "cell_type": "code",
   "execution_count": null,
   "metadata": {},
   "outputs": [],
   "source": []
  }
 ],
 "metadata": {
  "kernelspec": {
   "display_name": "Python 3",
   "language": "python",
   "name": "python3"
  },
  "language_info": {
   "codemirror_mode": {
    "name": "ipython",
    "version": 3
   },
   "file_extension": ".py",
   "mimetype": "text/x-python",
   "name": "python",
   "nbconvert_exporter": "python",
   "pygments_lexer": "ipython3",
   "version": "3.7.3"
  }
 },
 "nbformat": 4,
 "nbformat_minor": 2
}
