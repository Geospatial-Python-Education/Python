{
 "cells": [
  {
   "cell_type": "code",
   "execution_count": 1,
   "metadata": {},
   "outputs": [],
   "source": [
    "from datetime import date"
   ]
  },
  {
   "cell_type": "code",
   "execution_count": 2,
   "metadata": {},
   "outputs": [
    {
     "name": "stdout",
     "output_type": "stream",
     "text": [
      "Year: 2019\n",
      "Month: 3\n",
      "Julian Day: 13\n"
     ]
    }
   ],
   "source": [
    "YYYY = input(\"Year: \")\n",
    "MM = input(\"Month: \")\n",
    "DD = input(\"Day: \")"
   ]
  },
  {
   "cell_type": "code",
   "execution_count": 3,
   "metadata": {},
   "outputs": [
    {
     "name": "stdout",
     "output_type": "stream",
     "text": [
      "72\n",
      "<class 'int'>\n"
     ]
    }
   ],
   "source": [
    "# Start of year for reference\n",
    "d0 = date(int(YYYY), 1, 1)\n",
    "\n",
    "# Set the date you want to convert\n",
    "d1 = date(int(YYYY), int(MM), int(DD))\n",
    "\n",
    "# \n",
    "delta = d1 - d0\n",
    "Day = delta.days+1\n",
    "print(\"Julian Day Number:\",Day)"
   ]
  }
 ],
 "metadata": {
  "kernelspec": {
   "display_name": "Python 3",
   "language": "python",
   "name": "python3"
  },
  "language_info": {
   "codemirror_mode": {
    "name": "ipython",
    "version": 3
   },
   "file_extension": ".py",
   "mimetype": "text/x-python",
   "name": "python",
   "nbconvert_exporter": "python",
   "pygments_lexer": "ipython3",
   "version": "3.7.2"
  }
 },
 "nbformat": 4,
 "nbformat_minor": 2
}
