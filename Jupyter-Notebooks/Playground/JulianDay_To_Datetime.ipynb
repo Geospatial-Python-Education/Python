{
 "cells": [
  {
   "cell_type": "code",
   "execution_count": 1,
   "metadata": {},
   "outputs": [],
   "source": [
    "import calendar\n",
    "\n",
    "def JulianDate_to_MMDDYYY(y,jd):\n",
    "    month = 1\n",
    "    day = 0\n",
    "    while jd - calendar.monthrange(y,month)[1] > 0 and month <= 12:\n",
    "        jd = jd - calendar.monthrange(y,month)[1]\n",
    "        month = month + 1\n",
    "    print(month,jd,y)"
   ]
  },
  {
   "cell_type": "code",
   "execution_count": 6,
   "metadata": {},
   "outputs": [
    {
     "name": "stdout",
     "output_type": "stream",
     "text": [
      "Year: 2019\n",
      "Julian Day: 70\n"
     ]
    }
   ],
   "source": [
    "YYYY = input(\"Year: \")\n",
    "DD = input(\"Julian Day: \")"
   ]
  },
  {
   "cell_type": "code",
   "execution_count": 9,
   "metadata": {},
   "outputs": [
    {
     "name": "stdout",
     "output_type": "stream",
     "text": [
      "Datetime:\n",
      "3 11 2019\n"
     ]
    }
   ],
   "source": [
    "print(\"Datetime:\")\n",
    "JulianDate_to_MMDDYYY(int(YYYY),int(DD))"
   ]
  },
  {
   "cell_type": "code",
   "execution_count": 6,
   "metadata": {},
   "outputs": [
    {
     "data": {
      "text/plain": [
       "31"
      ]
     },
     "execution_count": 6,
     "metadata": {},
     "output_type": "execute_result"
    }
   ],
   "source": [
    "calendar.monthrange(2019,1)[1]"
   ]
  },
  {
   "cell_type": "code",
   "execution_count": null,
   "metadata": {},
   "outputs": [],
   "source": []
  }
 ],
 "metadata": {
  "kernelspec": {
   "display_name": "Python 3",
   "language": "python",
   "name": "python3"
  },
  "language_info": {
   "codemirror_mode": {
    "name": "ipython",
    "version": 3
   },
   "file_extension": ".py",
   "mimetype": "text/x-python",
   "name": "python",
   "nbconvert_exporter": "python",
   "pygments_lexer": "ipython3",
   "version": "3.7.2"
  }
 },
 "nbformat": 4,
 "nbformat_minor": 2
}
