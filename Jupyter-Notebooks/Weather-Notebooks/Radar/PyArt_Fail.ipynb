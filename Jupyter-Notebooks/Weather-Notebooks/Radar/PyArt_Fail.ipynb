{
 "cells": [
  {
   "cell_type": "code",
   "execution_count": 1,
   "metadata": {},
   "outputs": [
    {
     "name": "stdout",
     "output_type": "stream",
     "text": [
      "\n",
      "## You are using the Python ARM Radar Toolkit (Py-ART), an open source\n",
      "## library for working with weather radar data. Py-ART is partly\n",
      "## supported by the U.S. Department of Energy as part of the Atmospheric\n",
      "## Radiation Measurement (ARM) Climate Research Facility, an Office of\n",
      "## Science user facility.\n",
      "##\n",
      "## If you use this software to prepare a publication, please cite:\n",
      "##\n",
      "##     JJ Helmus and SM Collis, JORS 2016, doi: 10.5334/jors.119\n",
      "\n"
     ]
    }
   ],
   "source": [
    "import pyart"
   ]
  },
  {
   "cell_type": "code",
   "execution_count": 2,
   "metadata": {},
   "outputs": [
    {
     "name": "stdout",
     "output_type": "stream",
     "text": [
      "/Users/chowdahead/Downloads\n"
     ]
    }
   ],
   "source": [
    "cd Downloads/"
   ]
  },
  {
   "cell_type": "code",
   "execution_count": 1,
   "metadata": {},
   "outputs": [
    {
     "name": "stdout",
     "output_type": "stream",
     "text": [
      "\n",
      "## You are using the Python ARM Radar Toolkit (Py-ART), an open source\n",
      "## library for working with weather radar data. Py-ART is partly\n",
      "## supported by the U.S. Department of Energy as part of the Atmospheric\n",
      "## Radiation Measurement (ARM) Climate Research Facility, an Office of\n",
      "## Science user facility.\n",
      "##\n",
      "## If you use this software to prepare a publication, please cite:\n",
      "##\n",
      "##     JJ Helmus and SM Collis, JORS 2016, doi: 10.5334/jors.119\n",
      "\n"
     ]
    }
   ],
   "source": [
    "import numpy as np\n",
    "import matplotlib\n",
    "import matplotlib.pyplot as plt\n",
    "from netCDF4 import num2date, date2num, Dataset\n",
    "import pyart\n",
    "import metpy"
   ]
  },
  {
   "cell_type": "code",
   "execution_count": 3,
   "metadata": {},
   "outputs": [],
   "source": [
    "from metpy.io.nexrad import Level3File\n",
    "f_TV0 = Level3File('Level3_FTG_N0V_20190526_2357.nids')"
   ]
  },
  {
   "cell_type": "code",
   "execution_count": 10,
   "metadata": {},
   "outputs": [
    {
     "data": {
      "text/plain": [
       "Level3_FTG_N0V_20190526_2357.nids: Base Velocity\n",
       "MsgHdr(code=27, date=18043, time=86294, msg_len=22754, src_id=347, dest_id=0, num_blks=3)\n",
       "ProdDesc(divider=-1, lat=39786, lon=-104546, height=5610, prod_code=27, op_mode=2, vcp=212, seq_num=12240, vol_num=38, vol_date=18043, vol_start_time=86248, prod_gen_date=18043, prod_gen_time=86294, dep1=0, dep2=0, el_num=1, dep3=5, thr1=-32766, thr2=316, thr3=301, thr4=286, thr5=276, thr6=266, thr7=261, thr8=257, thr9=0, thr10=517, thr11=522, thr12=532, thr13=542, thr14=557, thr15=572, thr16=-32765, dep4=-112, dep5=91, dep6=0, dep7=0, dep8=0, dep9=0, dep10=0, version=0, spot_blank=0, sym_off=60, graph_off=0, tab_off=0)\n",
       "[-32766, 316, 301, 286, 276, 266, 261, 257, 0, 517, 522, 532, 542, 557, 572, -32765]\n",
       "[0, 0, 5, -112, 91, 0, 0, 0, 0, 0]\n",
       "{'msg_time': datetime.datetime(2019, 5, 26, 23, 58, 14), 'vol_time': datetime.datetime(2019, 5, 26, 23, 57, 28), 'prod_time': datetime.datetime(2019, 5, 26, 23, 58, 14), 'el_angle': 0.5, 'min': -112, 'max': 91}\n",
       "FTG"
      ]
     },
     "execution_count": 10,
     "metadata": {},
     "output_type": "execute_result"
    }
   ],
   "source": [
    "f_TV0."
   ]
  },
  {
   "cell_type": "code",
   "execution_count": 4,
   "metadata": {},
   "outputs": [
    {
     "ename": "OSError",
     "evalue": "[Errno -51] NetCDF: Unknown file format: b'Level3_FTG_N0V_20190526_2357.nids'",
     "output_type": "error",
     "traceback": [
      "\u001b[0;31m---------------------------------------------------------------------------\u001b[0m",
      "\u001b[0;31mOSError\u001b[0m                                   Traceback (most recent call last)",
      "\u001b[0;32m<ipython-input-4-a84e8e5546db>\u001b[0m in \u001b[0;36m<module>\u001b[0;34m\u001b[0m\n\u001b[1;32m      1\u001b[0m \u001b[0;31m# read in the NEXRAD data, create the display\u001b[0m\u001b[0;34m\u001b[0m\u001b[0;34m\u001b[0m\u001b[0;34m\u001b[0m\u001b[0m\n\u001b[1;32m      2\u001b[0m \u001b[0mfname\u001b[0m \u001b[0;34m=\u001b[0m \u001b[0;34m'Level3_FTG_N0V_20190526_2357.nids'\u001b[0m\u001b[0;34m\u001b[0m\u001b[0;34m\u001b[0m\u001b[0m\n\u001b[0;32m----> 3\u001b[0;31m \u001b[0mgrid\u001b[0m \u001b[0;34m=\u001b[0m \u001b[0mpyart\u001b[0m\u001b[0;34m.\u001b[0m\u001b[0mio\u001b[0m\u001b[0;34m.\u001b[0m\u001b[0mread_grid\u001b[0m\u001b[0;34m(\u001b[0m\u001b[0mfname\u001b[0m\u001b[0;34m)\u001b[0m\u001b[0;34m\u001b[0m\u001b[0;34m\u001b[0m\u001b[0m\n\u001b[0m\u001b[1;32m      4\u001b[0m \u001b[0mdisplay\u001b[0m \u001b[0;34m=\u001b[0m \u001b[0mpyart\u001b[0m\u001b[0;34m.\u001b[0m\u001b[0mgraph\u001b[0m\u001b[0;34m.\u001b[0m\u001b[0mGridMapDisplay\u001b[0m\u001b[0;34m(\u001b[0m\u001b[0mgrid\u001b[0m\u001b[0;34m)\u001b[0m\u001b[0;34m\u001b[0m\u001b[0;34m\u001b[0m\u001b[0m\n",
      "\u001b[0;32m~/miniconda3/envs/test-PyArt/lib/python3.6/site-packages/pyart/io/grid_io.py\u001b[0m in \u001b[0;36mread_grid\u001b[0;34m(filename, exclude_fields, **kwargs)\u001b[0m\n\u001b[1;32m     59\u001b[0m         'ProjectionCoordinateSystem']\n\u001b[1;32m     60\u001b[0m \u001b[0;34m\u001b[0m\u001b[0m\n\u001b[0;32m---> 61\u001b[0;31m     \u001b[0mdset\u001b[0m \u001b[0;34m=\u001b[0m \u001b[0mnetCDF4\u001b[0m\u001b[0;34m.\u001b[0m\u001b[0mDataset\u001b[0m\u001b[0;34m(\u001b[0m\u001b[0mfilename\u001b[0m\u001b[0;34m,\u001b[0m \u001b[0mmode\u001b[0m\u001b[0;34m=\u001b[0m\u001b[0;34m'r'\u001b[0m\u001b[0;34m)\u001b[0m\u001b[0;34m\u001b[0m\u001b[0;34m\u001b[0m\u001b[0m\n\u001b[0m\u001b[1;32m     62\u001b[0m \u001b[0;34m\u001b[0m\u001b[0m\n\u001b[1;32m     63\u001b[0m     \u001b[0;31m# metadata\u001b[0m\u001b[0;34m\u001b[0m\u001b[0;34m\u001b[0m\u001b[0;34m\u001b[0m\u001b[0m\n",
      "\u001b[0;32mnetCDF4/_netCDF4.pyx\u001b[0m in \u001b[0;36mnetCDF4._netCDF4.Dataset.__init__\u001b[0;34m()\u001b[0m\n",
      "\u001b[0;32mnetCDF4/_netCDF4.pyx\u001b[0m in \u001b[0;36mnetCDF4._netCDF4._ensure_nc_success\u001b[0;34m()\u001b[0m\n",
      "\u001b[0;31mOSError\u001b[0m: [Errno -51] NetCDF: Unknown file format: b'Level3_FTG_N0V_20190526_2357.nids'"
     ]
    }
   ],
   "source": [
    "# read in the NEXRAD data, create the display\n",
    "fname = 'KBOU_NXUS65_GSMFTG_201903310057.nc'\n",
    "grid = pyart.io.read_grid(fname)\n",
    "display = pyart.graph.GridMapDisplay(grid)"
   ]
  },
  {
   "cell_type": "code",
   "execution_count": 2,
   "metadata": {},
   "outputs": [
    {
     "name": "stdout",
     "output_type": "stream",
     "text": [
      "Automatically created module for IPython interactive environment\n",
      "\n",
      "## You are using the Python ARM Radar Toolkit (Py-ART), an open source\n",
      "## library for working with weather radar data. Py-ART is partly\n",
      "## supported by the U.S. Department of Energy as part of the Atmospheric\n",
      "## Radiation Measurement (ARM) Climate Research Facility, an Office of\n",
      "## Science user facility.\n",
      "##\n",
      "## If you use this software to prepare a publication, please cite:\n",
      "##\n",
      "##     JJ Helmus and SM Collis, JORS 2016, doi: 10.5334/jors.119\n",
      "\n"
     ]
    },
    {
     "ename": "OSError",
     "evalue": "[Errno -51] NetCDF: Unknown file format: b'KBOU_NXUS65_GSMFTG_201903310057.nc'",
     "output_type": "error",
     "traceback": [
      "\u001b[0;31m---------------------------------------------------------------------------\u001b[0m",
      "\u001b[0;31mOSError\u001b[0m                                   Traceback (most recent call last)",
      "\u001b[0;32m<ipython-input-2-6b39f3ee0211>\u001b[0m in \u001b[0;36m<module>\u001b[0;34m\u001b[0m\n\u001b[1;32m     13\u001b[0m \u001b[0;31m# read in the NEXRAD data, create the display\u001b[0m\u001b[0;34m\u001b[0m\u001b[0;34m\u001b[0m\u001b[0;34m\u001b[0m\u001b[0m\n\u001b[1;32m     14\u001b[0m \u001b[0mfname\u001b[0m \u001b[0;34m=\u001b[0m \u001b[0;34m'KBOU_NXUS65_GSMFTG_201903310057.nc'\u001b[0m\u001b[0;34m\u001b[0m\u001b[0;34m\u001b[0m\u001b[0m\n\u001b[0;32m---> 15\u001b[0;31m \u001b[0mgrid\u001b[0m \u001b[0;34m=\u001b[0m \u001b[0mpyart\u001b[0m\u001b[0;34m.\u001b[0m\u001b[0mio\u001b[0m\u001b[0;34m.\u001b[0m\u001b[0mread_grid\u001b[0m\u001b[0;34m(\u001b[0m\u001b[0mfname\u001b[0m\u001b[0;34m)\u001b[0m\u001b[0;34m\u001b[0m\u001b[0;34m\u001b[0m\u001b[0m\n\u001b[0m\u001b[1;32m     16\u001b[0m \u001b[0mdisplay\u001b[0m \u001b[0;34m=\u001b[0m \u001b[0mpyart\u001b[0m\u001b[0;34m.\u001b[0m\u001b[0mgraph\u001b[0m\u001b[0;34m.\u001b[0m\u001b[0mGridMapDisplay\u001b[0m\u001b[0;34m(\u001b[0m\u001b[0mgrid\u001b[0m\u001b[0;34m)\u001b[0m\u001b[0;34m\u001b[0m\u001b[0;34m\u001b[0m\u001b[0m\n\u001b[1;32m     17\u001b[0m \u001b[0;34m\u001b[0m\u001b[0m\n",
      "\u001b[0;32m~/miniconda3/envs/test-PyArt/lib/python3.6/site-packages/pyart/io/grid_io.py\u001b[0m in \u001b[0;36mread_grid\u001b[0;34m(filename, exclude_fields, **kwargs)\u001b[0m\n\u001b[1;32m     59\u001b[0m         'ProjectionCoordinateSystem']\n\u001b[1;32m     60\u001b[0m \u001b[0;34m\u001b[0m\u001b[0m\n\u001b[0;32m---> 61\u001b[0;31m     \u001b[0mdset\u001b[0m \u001b[0;34m=\u001b[0m \u001b[0mnetCDF4\u001b[0m\u001b[0;34m.\u001b[0m\u001b[0mDataset\u001b[0m\u001b[0;34m(\u001b[0m\u001b[0mfilename\u001b[0m\u001b[0;34m,\u001b[0m \u001b[0mmode\u001b[0m\u001b[0;34m=\u001b[0m\u001b[0;34m'r'\u001b[0m\u001b[0;34m)\u001b[0m\u001b[0;34m\u001b[0m\u001b[0;34m\u001b[0m\u001b[0m\n\u001b[0m\u001b[1;32m     62\u001b[0m \u001b[0;34m\u001b[0m\u001b[0m\n\u001b[1;32m     63\u001b[0m     \u001b[0;31m# metadata\u001b[0m\u001b[0;34m\u001b[0m\u001b[0;34m\u001b[0m\u001b[0;34m\u001b[0m\u001b[0m\n",
      "\u001b[0;32mnetCDF4/_netCDF4.pyx\u001b[0m in \u001b[0;36mnetCDF4._netCDF4.Dataset.__init__\u001b[0;34m()\u001b[0m\n",
      "\u001b[0;32mnetCDF4/_netCDF4.pyx\u001b[0m in \u001b[0;36mnetCDF4._netCDF4._ensure_nc_success\u001b[0;34m()\u001b[0m\n",
      "\u001b[0;31mOSError\u001b[0m: [Errno -51] NetCDF: Unknown file format: b'KBOU_NXUS65_GSMFTG_201903310057.nc'"
     ]
    }
   ],
   "source": [
    "print(__doc__)\n",
    "\n",
    "# Author Jonathan J. Helmus, Cory Weber\n",
    "# License: BSD 3 clause\n",
    "\n",
    "import numpy as np\n",
    "import matplotlib\n",
    "import matplotlib.pyplot as plt\n",
    "from netCDF4 import num2date, date2num, Dataset\n",
    "import pyart\n",
    "\n",
    "\n",
    "# read in the NEXRAD data, create the display\n",
    "fname = 'KBOU_NXUS65_GSMFTG_201903310057.nc'\n",
    "grid = pyart.io.read_grid(fname)\n",
    "display = pyart.graph.GridMapDisplay(grid)\n",
    "\n",
    "# create the figure\n",
    "font = {'size': 10}\n",
    "matplotlib.rc('font', **font)\n",
    "fig = plt.figure(figsize=[10, 8])\n",
    "\n",
    "# Add Basic Title\n",
    "title = 'Basic Plot with Overlay Example Title'\n",
    "#     Xleft%, ybot%\n",
    "fig.text(0.5, 0.9, title, horizontalalignment='center', fontsize=24)\n",
    "\n",
    "# panel sizes      xleft%, ybot%, xright% ,ytop%\n",
    "map_panel_axes = [0.05, 0.15, 0.9, 0.7]\n",
    "colorbar_panel_axes = [0.15, 0.09, 0.7, .010]\n",
    "\n",
    "# parameters\n",
    "level = 5\n",
    "vmin = -8\n",
    "vmax = 64\n",
    "lat = 36.5\n",
    "lon = -98.5\n",
    "\n",
    "# panel 1, basemap, radar reflectivity and NARR overlay\n",
    "ax1 = fig.add_axes(map_panel_axes)\n",
    "display.plot_grid('REF', level=level, vmin=vmin, vmax=vmax, title_flag=False,\n",
    "                  colorbar_flag=False)\n",
    "\n",
    "# load overlay data\n",
    "url = 'narr-a_221_20110520_0000_000.nc'\n",
    "data = Dataset(url)\n",
    "\n",
    "# extract data at correct time\n",
    "grid_date = num2date(grid.time['data'], grid.time['units'])[0]\n",
    "data_time = data.variables['time']\n",
    "t_idx = abs(data_time[:] - date2num(grid_date, data_time.units)).argmin()\n",
    "prmsl = 0.01 * data.variables['prmsl'][t_idx]\n",
    "\n",
    "# plot the reanalysis on the basemap\n",
    "lons, lats = np.meshgrid(data.variables['lon'], data.variables['lat'][:])\n",
    "\n",
    "x, y = display.basemap(lons, lats)\n",
    "clevs = np.arange(900, 1100., 1.)\n",
    "\n",
    "display.basemap.contour(x, y, prmsl, clevs, colors='k', linewidths=1.)\n",
    "\n",
    "# colorbar\n",
    "cbax = fig.add_axes(colorbar_panel_axes)\n",
    "display.plot_colorbar(cax=cbax)\n",
    "\n",
    "# enable below to add cross hairs\n",
    "# display.plot_crosshairs(lon=lon, lat=lat)\n",
    "\n",
    "plt.show()\n"
   ]
  },
  {
   "cell_type": "code",
   "execution_count": 4,
   "metadata": {},
   "outputs": [
    {
     "name": "stdout",
     "output_type": "stream",
     "text": [
      "/Users/chowdahead/Downloads\n"
     ]
    }
   ],
   "source": [
    "cd Downloads/"
   ]
  },
  {
   "cell_type": "code",
   "execution_count": 10,
   "metadata": {},
   "outputs": [
    {
     "name": "stdout",
     "output_type": "stream",
     "text": [
      "Level3_Composite_N0R_20190303_0000.grib2\r\n"
     ]
    }
   ],
   "source": [
    "ls Level3_Composite_N0R_20190303_0000.grib2"
   ]
  },
  {
   "cell_type": "code",
   "execution_count": null,
   "metadata": {},
   "outputs": [],
   "source": []
  }
 ],
 "metadata": {
  "kernelspec": {
   "display_name": "Python 3",
   "language": "python",
   "name": "python3"
  },
  "language_info": {
   "codemirror_mode": {
    "name": "ipython",
    "version": 3
   },
   "file_extension": ".py",
   "mimetype": "text/x-python",
   "name": "python",
   "nbconvert_exporter": "python",
   "pygments_lexer": "ipython3",
   "version": "3.6.7"
  }
 },
 "nbformat": 4,
 "nbformat_minor": 2
}
