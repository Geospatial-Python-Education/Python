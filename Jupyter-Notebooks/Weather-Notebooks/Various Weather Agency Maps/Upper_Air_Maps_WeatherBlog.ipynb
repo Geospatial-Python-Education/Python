{
 "cells": [
  {
   "cell_type": "markdown",
   "metadata": {},
   "source": [
    "# Percent Snow Chance"
   ]
  },
  {
   "cell_type": "markdown",
   "metadata": {},
   "source": [
    "## Justin Richling\n",
    "## 01/19/19"
   ]
  },
  {
   "cell_type": "markdown",
   "metadata": {},
   "source": [
    "\n",
    "# Saved Images from NOAA's Upper Air Maps\n",
    "\n",
    "\n",
    "Search through different times and pressure levels\n",
    "\n",
    "There are several handy maps that we can grab here:\n",
    "* pressure levels: Surface, 925, 850, 700, 500, 300, and/or 250mb\n",
    "* times: 00 or 12Z\n"
   ]
  },
  {
   "cell_type": "markdown",
   "metadata": {},
   "source": [
    "Imports\n",
    "\n"
   ]
  },
  {
   "cell_type": "code",
   "execution_count": 1,
   "metadata": {},
   "outputs": [],
   "source": [
    "# Random Library Imports\n",
    "import os,glob,webbrowser\n",
    "\n",
    "# Importing Datetime Libraries\n",
    "from datetime import datetime, timedelta\n",
    "\n",
    "# More Image Manipulation Options\n",
    "from PIL import Image as PILImage\n",
    "\n",
    "# Matplotlib Plotting Libraries\n",
    "import matplotlib.pyplot as plt\n",
    "\n",
    "# Widgets\n",
    "import ipywidgets as widgets\n",
    "\n",
    "from urllib.request import urlopen\n",
    "from io import StringIO"
   ]
  },
  {
   "cell_type": "markdown",
   "metadata": {},
   "source": [
    "## Figuring out where you want the files..."
   ]
  },
  {
   "cell_type": "code",
   "execution_count": 2,
   "metadata": {},
   "outputs": [
    {
     "name": "stdout",
     "output_type": "stream",
     "text": [
      "/Users/ChowdaHead/Desktop/Weather_Blog/02_03/\n"
     ]
    }
   ],
   "source": [
    "# Pull the current time\n",
    "now = datetime.now() \n",
    "\n",
    "# Set a path to save the plots with string format for the date to set the month and day \n",
    "im_save_path =\"/Users/ChowdaHead/Desktop/Weather_Blog/\"+'{0:%m_%d}'.format(now)+\"/\"\n",
    "print(im_save_path)\n",
    "\n",
    "# Check to see if the folder already exists, if not create it\n",
    "if not os.path.isdir(im_save_path):\n",
    "    os.makedirs(im_save_path)\n",
    "\n",
    "# Uncomment if you want to automatically change to the map folder    \n",
    "#os.chdir(im_save_path)\n",
    "\n",
    "desktop = im_save_path[:26]\n",
    "#print desktop"
   ]
  },
  {
   "cell_type": "markdown",
   "metadata": {},
   "source": [
    "### Generic Image Capture from Website\n",
    "#### Arguments: \n",
    "* loc - Location where you want the saved image to be placed\n"
   ]
  },
  {
   "cell_type": "code",
   "execution_count": 26,
   "metadata": {},
   "outputs": [],
   "source": [
    "def CurrentMap(loc):\n",
    "    Year = '{:%Y}'.format(now)[-2:]\n",
    "    level = x.kwargs['level']\n",
    "    level = level.value\n",
    "    print(level)\n",
    "    hour = x.kwargs['hour']\n",
    "    hour = str(hour.value)\n",
    "    #try:   \n",
    "    page = \" https://www.spc.noaa.gov/obswx/maps/\"+level+\"_\"+\\\n",
    "                     Year+'{0:%m%d}'.format(now)+\"_\"+hour+\".gif\"\n",
    "    print(page)\n",
    "    #webbrowser.open(picture_page) \n",
    "\n",
    "# open the web page picture and read it into a variable\n",
    "    #opener = urllib.build_opener()\n",
    "        # .open() will fetch the URL\n",
    "    #webpage = opener.open(page)\n",
    "    #urlopen(page)\n",
    "        # page.read() \n",
    "    #my_picture = webpage.read()\n",
    "    \n",
    "    # Your code where you can use urlopen\n",
    "    with urlopen(page) as url:\n",
    "        my_picture = url.read()\n",
    "\n",
    "# open file for binary write and save picture\n",
    "# picture_page[-4:] extracts extension eg. .gif\n",
    "# (most image file extensions have three letters, otherwise modify)\n",
    "    #Filename = str(Year)+\"_\"+str(Month)+\\\n",
    "    #\"_\"+str(Day)+\"_\"+str(Hour)+\"_\"+str(Minute)+\"_\"+FileEnd \n",
    "    FileEnd=\"_maps_\"+level+\"_\"+hour+\".png\"\n",
    "    Filename = '{0:%Y_%m_%d}'.format(now)+FileEnd\n",
    "    \n",
    "    # fout will create and write to a new image file\n",
    "    fout = open(loc+\"/\"+Filename, \"wb\")\n",
    "    fout.write(my_picture)\n",
    "    fout.close()\n",
    "# test to see if it saved correctly\n",
    "    #webbrowser.open(Filename)  \n",
    "    \n",
    "    #except urllib2.HTTPError, err:\n",
    "    #    if err.code == 404:\n",
    "    #        logging.exception(\"No Data from website\")\n",
    "    #        pass\n",
    "    #    else:\n",
    "    #        raise\n",
    "\n",
    "    \n",
    "    #file = StringIO(urllib.urlopen(page).read())\n",
    "    \n",
    "    import urllib.request\n",
    "\n",
    "    urllib.request.urlretrieve(page, \"local-filename.jpg\")\n",
    "    img = PILImage.open(\"local-filename.jpg\")\n",
    "    fig, ax = plt.subplots(figsize=(15, 8))\n",
    "    #ax.set_title(AxisTitle+\" \"'{0:%Y %m %d %H}'.format(now))\n",
    "    ax.imshow(img, interpolation='nearest')\n",
    "    #plt.show()\n",
    "    plt.close()\n",
    "    #print Filename\n",
    "    #return Filename"
   ]
  },
  {
   "cell_type": "markdown",
   "metadata": {},
   "source": [
    "# Pull Images from Website\n",
    "---------------------------------------------\n",
    "### Credit to NOAA\n"
   ]
  },
  {
   "cell_type": "code",
   "execution_count": 14,
   "metadata": {},
   "outputs": [],
   "source": [
    "level_widget = widgets.Dropdown(description='level', options=[\"sfc\",\"925\",\"850\",\"700\",\"500\",\"300\",\"200\"])\n",
    "\n",
    "hour_widget = widgets.Dropdown(description='hour', options=[\"00\",\"12\"])"
   ]
  },
  {
   "cell_type": "code",
   "execution_count": 15,
   "metadata": {},
   "outputs": [
    {
     "data": {
      "application/vnd.jupyter.widget-view+json": {
       "model_id": "c60411718afb4ccda7dc326e1704ca54",
       "version_major": 2,
       "version_minor": 0
      },
      "text/plain": [
       "Dropdown(description='level', options=('sfc', '925', '850', '700', '500', '300', '200'), value='sfc')"
      ]
     },
     "metadata": {},
     "output_type": "display_data"
    }
   ],
   "source": [
    "x = widgets.interact_manual(level=level_widget,hour=hour_widget)\n",
    "x.kwargs[\"level\"]\n"
   ]
  },
  {
   "cell_type": "code",
   "execution_count": 16,
   "metadata": {},
   "outputs": [
    {
     "data": {
      "application/vnd.jupyter.widget-view+json": {
       "model_id": "aba098621ed841c5a493177549bdc2c9",
       "version_major": 2,
       "version_minor": 0
      },
      "text/plain": [
       "Dropdown(description='hour', options=('00', '12'), value='00')"
      ]
     },
     "metadata": {},
     "output_type": "display_data"
    }
   ],
   "source": [
    "x.kwargs[\"hour\"]"
   ]
  },
  {
   "cell_type": "code",
   "execution_count": 27,
   "metadata": {},
   "outputs": [
    {
     "name": "stdout",
     "output_type": "stream",
     "text": [
      "925\n",
      " https://www.spc.noaa.gov/obswx/maps/925_190203_12.gif\n"
     ]
    },
    {
     "data": {
      "text/plain": [
       "<ipywidgets.widgets.interaction._InteractFactory at 0x111e3a4a8>"
      ]
     },
     "execution_count": 27,
     "metadata": {},
     "output_type": "execute_result"
    }
   ],
   "source": [
    "widgets.interact_manual(CurrentMap(im_save_path))"
   ]
  },
  {
   "cell_type": "code",
   "execution_count": null,
   "metadata": {
    "collapsed": true
   },
   "outputs": [],
   "source": []
  }
 ],
 "metadata": {
  "kernelspec": {
   "display_name": "Python 3",
   "language": "python",
   "name": "python3"
  },
  "language_info": {
   "codemirror_mode": {
    "name": "ipython",
    "version": 3
   },
   "file_extension": ".py",
   "mimetype": "text/x-python",
   "name": "python",
   "nbconvert_exporter": "python",
   "pygments_lexer": "ipython3",
   "version": "3.6.8"
  }
 },
 "nbformat": 4,
 "nbformat_minor": 1
}
