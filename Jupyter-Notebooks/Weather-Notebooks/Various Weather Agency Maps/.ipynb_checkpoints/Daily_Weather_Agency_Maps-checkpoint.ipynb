{
 "cells": [
  {
   "cell_type": "markdown",
   "metadata": {},
   "source": [
    "# Daily Maps from Websites"
   ]
  },
  {
   "cell_type": "markdown",
   "metadata": {},
   "source": [
    "## Justin Richling\n",
    "## 09/20/18"
   ]
  },
  {
   "cell_type": "markdown",
   "metadata": {},
   "source": [
    "\n",
    "# Saved Images from Various Weather Websites\n",
    "\n",
    "\n",
    "Search through different weather websites and retreive the current images\n",
    "\n",
    "There are several handy maps that we can grab here:\n",
    "* Weather Warnings\n",
    "* Convection Percentages (Summer)\n",
    "* 24-Hr Snowfall Accumulations (Winter)\n",
    "* Multi Day Forecasts (Fronts and Precip Types)\n",
    "* Radar (CONUS and Colorado)\n",
    "* Duane Tower in Boulder Meteogram\n",
    "* Surface Analysis"
   ]
  },
  {
   "cell_type": "markdown",
   "metadata": {},
   "source": [
    "## Imports"
   ]
  },
  {
   "cell_type": "code",
   "execution_count": 3,
   "metadata": {},
   "outputs": [],
   "source": [
    "# Import System Control Library\n",
    "import os\n",
    "\n",
    "# Importing Datetime Libraries\n",
    "from datetime import datetime, timedelta\n",
    "\n",
    "# More Image Manipulation Options\n",
    "from PIL import Image as PILImage"
   ]
  },
  {
   "cell_type": "markdown",
   "metadata": {},
   "source": [
    "## Figuring out where you want the files..."
   ]
  },
  {
   "cell_type": "code",
   "execution_count": 26,
   "metadata": {},
   "outputs": [
    {
     "name": "stdout",
     "output_type": "stream",
     "text": [
      "/Users/chowdahead/Desktop/Weather_Blog/Daily_test/\n"
     ]
    }
   ],
   "source": [
    "# Pull the current time in case you want to make the folder name based off day\n",
    "now = datetime.now() \n",
    "\n",
    "# Set a path to save the plots with string format for the date to set the month and day \n",
    "im_save_path =\"path/to/saved/image/\"\n",
    "print(im_save_path)\n",
    "\n",
    "# Check to see if the folder already exists, if not create it\n",
    "if not os.path.isdir(im_save_path):\n",
    "    os.makedirs(im_save_path)\n",
    "\n",
    "# Uncomment if you want to automatically change to the map folder    \n",
    "#os.chdir(im_save_path)"
   ]
  },
  {
   "cell_type": "markdown",
   "metadata": {},
   "source": [
    "### Generic Image Capture from Website\n",
    "#### Arguments:\n",
    "* page - web address for saved image\n",
    "* FileEnd - What you want the end of the file to be named; specific to each map\n",
    "* loc - Location where you want the samed image to be placed"
   ]
  },
  {
   "cell_type": "code",
   "execution_count": 20,
   "metadata": {},
   "outputs": [],
   "source": [
    "def CurrentMap(page,fileEnd,loc):\n",
    "    import urllib.request\n",
    "    print(page)\n",
    "    \n",
    "# name the file\n",
    "    Filename = '{0:%Y_%m_%d_%H_}'.format(datetime.now())+fileEnd\n",
    "\n",
    "# Request the web url witht he actual url being the first argument and\n",
    "# naming the saved image as the second argument\n",
    "    urllib.request.urlretrieve(page,\n",
    "                              loc+\"/\"+filename)\n",
    "    \n",
    "    print(Filename)"
   ]
  },
  {
   "cell_type": "markdown",
   "metadata": {},
   "source": [
    "# Pull Images from Weather Websites\n",
    "---------------------------------------------\n",
    "### Credit to NOAA, NCAR, CU Boulder, WPC, SPC, NOHRSC\n"
   ]
  },
  {
   "cell_type": "code",
   "execution_count": 36,
   "metadata": {},
   "outputs": [],
   "source": [
    "#########################################################################\n",
    "# WPC Surface Anaylsis - North America\n",
    "#########################################################################\n",
    "SurfAnalNA_page=\"http://www.wpc.ncep.noaa.gov/sfc/90fwbg.gif\" \n",
    "SurfAnalNA_FileEnd=\"Current_Surf_Analy_NorthAmerica.png\"  \n",
    "SurfAnalNA = [SurfAnalNA_page,SurfAnalNA_FileEnd]\n",
    "\n",
    "\n",
    "#########################################################################\n",
    "# WPC Surface Anaylsis - CONUS\n",
    "#########################################################################\n",
    "SurfAnal_page=\"http://www.wpc.ncep.noaa.gov/sfc/namussfcwbg.gif\" \n",
    "SurfAnal_FileEnd=\"Current_Surf_Analy.png\"  \n",
    "SurfAnal = [SurfAnal_page,SurfAnal_FileEnd]\n",
    "\n",
    "\n",
    "#########################################################################\n",
    "# WPC Surface Anaylsis - CONUS Simple\n",
    "#########################################################################\n",
    "SurfAnalSimple_page=\"http://www.wpc.ncep.noaa.gov/sfc/usfntsfc12wbg.gif\"\n",
    "SurfAnalSimple_FileEnd=\"Current_Surf_Analy_SIMPLE.png\"  \n",
    "SurfAnalSimple = [SurfAnalSimple_page,SurfAnalSimple_FileEnd]\n",
    "\n",
    "\n",
    "#########################################################################\n",
    "# US Warnings\n",
    "#########################################################################\n",
    "USWarnings_page=\"http://forecast.weather.gov/wwamap/png/US.png\"\n",
    "USWarnings_FileEnd=\"US_Warnings.png\"\n",
    "USWarnings = [USWarnings_page,USWarnings_FileEnd]\n",
    "\n",
    "\n",
    "#########################################################################\n",
    "# WPC Forecast - Day 1\n",
    "#########################################################################\n",
    "SrfcForecast1_page=\"http://www.wpc.ncep.noaa.gov/noaa/noaad1.gif\"\n",
    "SrfcForecast1_FileEnd=\"SrfcForecast_Day1.png\"\n",
    "SrfcForecast1 = [SrfcForecast1_page,SrfcForecast1_FileEnd]\n",
    "\n",
    "\n",
    "#########################################################################\n",
    "# WPC Forecast - Day 2\n",
    "#########################################################################\n",
    "SrfcForecast2_page=\"http://www.wpc.ncep.noaa.gov/noaa/noaad2.gif\"\n",
    "SrfcForecast2_FileEnd=\"SrfcForecast_Day2.png\"\n",
    "SrfcForecast2 = [SrfcForecast2_page,SrfcForecast2_FileEnd]\n",
    "\n",
    "\n",
    "#########################################################################\n",
    "# WPC Forecast - Day 3\n",
    "#########################################################################\n",
    "SrfcForecast3_page=\"http://www.wpc.ncep.noaa.gov/noaa/noaad3.gif\"\n",
    "SrfcForecast3_FileEnd=\"SrfcForecast_Day3.png\"\n",
    "SrfcForecast3 = [SrfcForecast3_page,SrfcForecast3_FileEnd,]\n",
    "\n",
    "\n",
    "#########################################################################\n",
    "# WPC Fronts and Weather - Day 1\n",
    "#########################################################################\n",
    "WPCFrontsandWeather_page=\"http://www.wpc.ncep.noaa.gov/basicwx/92fndfd.gif\"\n",
    "WPCFrontsandWeather_FileEnd=\"WPCFrontsandWeather_Day1.png\"\n",
    "WPCFrontsandWeather = [WPCFrontsandWeather_page,WPCFrontsandWeather_FileEnd,]\n",
    "\n",
    "\n",
    "#########################################################################\n",
    "# WPC Fronts and Weather - Day 2\n",
    "#########################################################################\n",
    "WPCFrontsandWeather2_page=\"http://www.wpc.ncep.noaa.gov/basicwx/94fndfd.gif\"\n",
    "WPCFrontsandWeather2_FileEnd=\"WPCFrontsandWeather_Day2.png\"\n",
    "WPCFrontsandWeather2 = [WPCFrontsandWeather2_page,WPCFrontsandWeather2_FileEnd,]\n",
    "\n",
    "\n",
    "#########################################################################\n",
    "# WPC Fronts and Weather - Day 3\n",
    "#########################################################################\n",
    "WPCFrontsandWeather3_page=\"http://www.wpc.ncep.noaa.gov/basicwx/96fndfd.gif\"\n",
    "WPCFrontsandWeather3_FileEnd=\"WPCFrontsandWeather_Day3.png\"\n",
    "WPCFrontsandWeather3 = [WPCFrontsandWeather3_page,WPCFrontsandWeather3_FileEnd,]\n",
    "\n",
    "\n",
    "#########################################################################\n",
    "# WPC Fronts and Weather - Day 4\n",
    "#########################################################################\n",
    "WPCFrontsandWeather4_page=\"http://www.wpc.ncep.noaa.gov/basicwx/98fndfd.gif\"\n",
    "WPCFrontsandWeather4_FileEnd=\"WPCFrontsandWeather_Day4.png\"\n",
    "WPCFrontsandWeather4 = [WPCFrontsandWeather4_page,WPCFrontsandWeather4_FileEnd]\n",
    "\n",
    "\n",
    "#########################################################################\n",
    "# Duane Tower, CU Boulder Meteograms\n",
    "#########################################################################\n",
    "Duane_page=\"http://foehn.colorado.edu/weather/atoc1/wxobs\"\\\n",
    "        +'{0:%Y%m%d}'.format(now)+\".png\"\n",
    "Duane_FileEnd=\"Current_Duane_Meteo.png\" \n",
    "Duane = [Duane_page,Duane_FileEnd]\n",
    "\n",
    "\n",
    "#########################################################################\n",
    "# NOHRSC 24hr Snowfall Accumulation\n",
    "#########################################################################\n",
    "Snow24Hr_page=\"http://www.nohrsc.noaa.gov/snowfall_v2/data/\"+'{0:%Y%m}'.format(now)+\"/sfav2_CONUS_24h_\"+'{0:%Y%m%d}'.format(now)+\"12.png\"\n",
    "Snow24Hr_FileEnd=\"24hr_Snow.png\" \n",
    "Snow24Hr = [Snow24Hr_page,Snow24Hr_FileEnd]\n",
    "\n",
    "\n",
    "#########################################################################\n",
    "# CONUS Radar\n",
    "#########################################################################\n",
    "USRadar_page=\"http://radar.weather.gov/Conus/RadarImg/latest.gif\"\n",
    "USRadar_FileEnd=\"Current_US_Radar_LARGE.png\" \n",
    "USRadar = [USRadar_page,USRadar_FileEnd]\n",
    "\n",
    "\n",
    "#########################################################################\n",
    "# Colorado Radar\n",
    "#########################################################################\n",
    "CORockRadar_page=\"http://radar.weather.gov/Conus/RadarImg/northrockies.gif\" \n",
    "CORockRadar_FileEnd=\"Current_Rockies_Radar.png\" \n",
    "CORockRadar = [CORockRadar_page,CORockRadar_FileEnd]\n",
    "\n",
    "\n",
    "#########################################################################\n",
    "# Convection Outlook - Day 1\n",
    "#########################################################################\n",
    "ConvDay1_page=\"http://www.spc.noaa.gov/products/outlook/day1otlk_1300_prt.gif\"\n",
    "ConvDay1_FileEnd=\"ConvDay1.png\"\n",
    "ConvDay1 = [ConvDay1_page,ConvDay1_FileEnd]\n",
    "\n",
    "\n",
    "#########################################################################\n",
    "# Tornado Outlook - Day 1\n",
    "#########################################################################\n",
    "ConvDay1_Torn_page=\"http://www.spc.noaa.gov/products/outlook/day1probotlk_1300_torn_prt.gif\"\n",
    "ConvDay1_Torn_FileEnd=\"ConvDay1_Tornado.png\"\n",
    "ConvDay1_Torn = [ConvDay1_Torn_page,ConvDay1_Torn_FileEnd]\n",
    "\n",
    "\n",
    "#########################################################################\n",
    "# Wind Outlook - Day 1\n",
    "#########################################################################\n",
    "ConvDay1_Wind_page=\"http://www.spc.noaa.gov/products/outlook/day1probotlk_1300_wind_prt.gif\"\n",
    "ConvDay1_Wind_FileEnd=\"ConvDay1_Wind.png\"\n",
    "ConvDay1_Wind = [ConvDay1_Wind_page,ConvDay1_Wind_FileEnd]\n",
    "\n",
    "\n",
    "#########################################################################\n",
    "# Hail Outlook - Day 1\n",
    "#########################################################################\n",
    "ConvDay1_Hail_page=\"http://www.spc.noaa.gov/products/outlook/day1probotlk_1300_hail_prt.gif\"\n",
    "ConvDay1_Hail_FileEnd=\"ConvDay1_Hail.png\"\n",
    "ConvDay1_Hail = [ConvDay1_Hail_page,ConvDay1_Hail_FileEnd]\n",
    "\n",
    "ConvDay1_List = [ConvDay1,ConvDay1_Torn,ConvDay1_Wind,ConvDay1_Hail]\n",
    "\n",
    "\n",
    "#########################################################################\n",
    "# Convection Outlook, any - Day 2\n",
    "#########################################################################\n",
    "#https://www.spc.noaa.gov/products/outlook/day2otlk_1730.gif\n",
    "ConvDay2_page=\"http://www.spc.noaa.gov/products/outlook/day2otlk_1730.gif\"\n",
    "ConvDay2_FileEnd=\"ConvDay2.png\"\n",
    "ConvDay2 = [ConvDay2_page,ConvDay2_FileEnd]\n",
    "\n",
    "ConvDay2_any_page=\"http://www.spc.noaa.gov/products/outlook/day2probotlk_1730_any.gif\"\n",
    "ConvDay2_any_FileEnd=\"ConvDay2_AnyPercentage.png\"\n",
    "ConvDay2_any = [ConvDay2_any_page,ConvDay2_any_FileEnd]\n",
    "\n",
    "ConvDay2_List = [ConvDay2,ConvDay2_any]\n",
    "\n",
    "\n",
    "#########################################################################\n",
    "# Snow Water Equivalent\n",
    "#########################################################################\n",
    "SnowWater_page=\"http://www.nohrsc.noaa.gov/snow_model/\"+\\\n",
    "        \"images/full/National/nsm_swe/\"+'{0:%Y%m}'.format(now)+\\\n",
    "        \"/nsm_swe_\"+'{0:%Y%m%d}'.format(now)+\"05_National.jpg\"\n",
    "SnowWater_FileEnd=\"Snow_Water_Eq.png\" \n",
    "SnowWater = [SnowWater_page,SnowWater_FileEnd]\n",
    "\n",
    "\n",
    "#########################################################################\n",
    "# 24 Hour Snow Accumulation\n",
    "#########################################################################\n",
    "#Snow24Hr_page=\"http://www.nohrsc.noaa.gov/snowfall_v2/data/\"+\\\n",
    "#        str(Year)+str(Month)+\"/sfav2_CONUS_24h_\"+str(Year)+str(Month)+str(Day)+\"12.png\"\n",
    "    \n",
    "Snow24Hr_page=\"http://www.nohrsc.noaa.gov/snowfall_v2/data/\"+'{0:%Y%m}'.format(now)+\"/sfav2_CONUS_24h_\"+'{0:%Y%m%d}'.format(now)+\"12.png\"\n",
    "Snow24Hr_FileEnd=\"24hr_Snow.png\" \n",
    "Snow24Hr = [Snow24Hr_page,Snow24Hr_FileEnd]\n",
    "\n",
    "#########################################################################\n",
    "# 24 Hour Snow Accumulation\n",
    "#########################################################################\n",
    "#Snow24Hr_page=\"http://www.nohrsc.noaa.gov/snowfall_v2/data/\"+\\\n",
    "#        str(Year)+str(Month)+\"/sfav2_CONUS_24h_\"+str(Year)+str(Month)+str(Day)+\"12.png\"\n",
    "    \n",
    "Den_Forecast_Meteo_page=\"https://forecast.weather.gov/meteograms/Plotter.php?lat=39.74&lon=-104.992&\"+\\\n",
    "    \"wfo=BOU&zcode=COZ040&gset=15&gdiff=3&unit=0&tinfo=MY7&ahour=0&\"+\\\n",
    "    \"pcmd=11011111111110000000000000000000000000000000000000000000000&lg=en&indu=1!1!1!\"+\\\n",
    "    \"&dd=&bw=&hrspan=48&pqpfhr=6&psnwhr=6\"\n",
    "Den_Forecast_Meteo_FileEnd=\"Denver_Forecast_Meteogram.png\" \n",
    "Den_Forecast_Meteo = [Den_Forecast_Meteo_page,Den_Forecast_Meteo_FileEnd]\n",
    "\n",
    "\n",
    "\n",
    "\n",
    "# Making a final list of all the differnt lists that contain webpage, image name, and title\n",
    "currentList = [SurfAnal,SurfAnalNA,Den_Forecast_Meteo,\\\n",
    "SurfAnalSimple,WPCFrontsandWeather,WPCFrontsandWeather2,WPCFrontsandWeather3,WPCFrontsandWeather4,\\\n",
    "USRadar,CORockRadar,USWarnings,SrfcForecast1,SrfcForecast2,SrfcForecast3,Duane,ConvDay1,ConvDay1_Torn,\\\n",
    "ConvDay1_Wind,ConvDay1_Hail,ConvDay2,ConvDay2_any,SnowWater] #ConvDay2_any ,Snow24Hr\n",
    "\n",
    "# Same as above, just a shorter list for winter - exclude the convection maps\n",
    "winterlist = [SurfAnal,SurfAnalNA,\\\n",
    "SurfAnalSimple,WPCFrontsandWeather,WPCFrontsandWeather2,WPCFrontsandWeather3,WPCFrontsandWeather4,\\\n",
    "USRadar,CORockRadar,USWarnings,SrfcForecast1,SrfcForecast2,SrfcForecast3,Duane,SnowWater]"
   ]
  },
  {
   "cell_type": "code",
   "execution_count": 22,
   "metadata": {},
   "outputs": [
    {
     "name": "stdout",
     "output_type": "stream",
     "text": [
      "http://www.nohrsc.noaa.gov/snowfall_v2/data/201911/sfav2_CONUS_24h_2019111712.png\n",
      "2019_11_17_10_24hr Snow.png\n"
     ]
    }
   ],
   "source": [
    "#Snow24Hr\n",
    "CurrentMap(Snow24Hr[0],Snow24Hr[1],im_save_path) "
   ]
  },
  {
   "cell_type": "code",
   "execution_count": 37,
   "metadata": {},
   "outputs": [
    {
     "name": "stdout",
     "output_type": "stream",
     "text": [
      "http://www.wpc.ncep.noaa.gov/sfc/namussfcwbg.gif\n",
      "2019_11_17_11_Current_Surf_Analy.png\n",
      "http://www.wpc.ncep.noaa.gov/sfc/90fwbg.gif\n",
      "2019_11_17_11_Current_Surf_Analy_NorthAmerica.png\n",
      "https://forecast.weather.gov/meteograms/Plotter.php?lat=39.74&lon=-104.992&wfo=BOU&zcode=COZ040&gset=15&gdiff=3&unit=0&tinfo=MY7&ahour=0&pcmd=11011111111110000000000000000000000000000000000000000000000&lg=en&indu=1!1!1!&dd=&bw=&hrspan=48&pqpfhr=6&psnwhr=6\n",
      "2019_11_17_11_Denver_Forecast_Meteogram.png\n",
      "http://www.wpc.ncep.noaa.gov/sfc/usfntsfc12wbg.gif\n",
      "2019_11_17_11_Current_Surf_Analy_SIMPLE.png\n",
      "http://www.wpc.ncep.noaa.gov/basicwx/92fndfd.gif\n",
      "2019_11_17_11_WPCFrontsandWeather_Day1.png\n",
      "http://www.wpc.ncep.noaa.gov/basicwx/94fndfd.gif\n",
      "2019_11_17_11_WPCFrontsandWeather_Day2.png\n",
      "http://www.wpc.ncep.noaa.gov/basicwx/96fndfd.gif\n",
      "2019_11_17_11_WPCFrontsandWeather_Day3.png\n",
      "http://www.wpc.ncep.noaa.gov/basicwx/98fndfd.gif\n",
      "2019_11_17_11_WPCFrontsandWeather_Day4.png\n",
      "http://radar.weather.gov/Conus/RadarImg/latest.gif\n",
      "2019_11_17_11_Current_US_Radar_LARGE.png\n",
      "http://radar.weather.gov/Conus/RadarImg/northrockies.gif\n",
      "2019_11_17_11_Current_Rockies_Radar.png\n",
      "http://forecast.weather.gov/wwamap/png/US.png\n",
      "2019_11_17_11_US_Warnings.png\n",
      "http://www.wpc.ncep.noaa.gov/noaa/noaad1.gif\n",
      "2019_11_17_11_SrfcForecast_Day1.png\n",
      "http://www.wpc.ncep.noaa.gov/noaa/noaad2.gif\n",
      "2019_11_17_11_SrfcForecast_Day2.png\n",
      "http://www.wpc.ncep.noaa.gov/noaa/noaad3.gif\n",
      "2019_11_17_11_SrfcForecast_Day3.png\n",
      "http://foehn.colorado.edu/weather/atoc1/wxobs20191117.png\n",
      "2019_11_17_11_Current Duane Meteo.png\n",
      "http://www.spc.noaa.gov/products/outlook/day1otlk_1300_prt.gif\n",
      "2019_11_17_11_ConvDay1.png\n",
      "http://www.spc.noaa.gov/products/outlook/day1probotlk_1300_torn_prt.gif\n",
      "2019_11_17_11_ConvDay1_Tornado.png\n",
      "http://www.spc.noaa.gov/products/outlook/day1probotlk_1300_wind_prt.gif\n",
      "2019_11_17_11_ConvDay1_Wind.png\n",
      "http://www.spc.noaa.gov/products/outlook/day1probotlk_1300_hail_prt.gif\n",
      "2019_11_17_11_ConvDay1_Hail.png\n",
      "http://www.spc.noaa.gov/products/outlook/day2otlk_1730.gif\n",
      "2019_11_17_11_ConvDay2.png\n",
      "http://www.spc.noaa.gov/products/outlook/day2probotlk_1730_any.gif\n",
      "2019_11_17_11_ConvDay2_AnyPercentage.png\n",
      "http://www.nohrsc.noaa.gov/snow_model/images/full/National/nsm_swe/201911/nsm_swe_2019111705_National.jpg\n",
      "2019_11_17_11_Snow Water Eq.png\n",
      "http://www.wpc.ncep.noaa.gov/sfc/namussfcwbg.gif\n",
      "2019_11_17_11_Current_Surf_Analy.png\n"
     ]
    }
   ],
   "source": [
    "# Summer\n",
    "for i in range(len(currentList)):\n",
    "    CurrentMap(currentList[i][0],currentList[i][1],im_save_path) \n",
    "\n",
    "# Winter\n",
    "for i in range(0,1):\n",
    "    CurrentMap(winterlist[i][0],winterlist[i][1],im_save_path) "
   ]
  },
  {
   "cell_type": "markdown",
   "metadata": {},
   "source": [
    "# Combine 3 and 4-day surface forecasts into 2 multi-panel images>\n",
    "---------------------------------------------\n",
    "### Gives easier access to comparing future days forecasts"
   ]
  },
  {
   "cell_type": "markdown",
   "metadata": {},
   "source": [
    "4 day forecasts: old graphics \n",
    "\n",
    "<img src=\"https://www.wpc.ncep.noaa.gov/basicwx/92fndfd.gif\" width=\"30%\">\n",
    "\n",
    "3 day forecasts: updated graphics \n",
    "\n",
    "<img src=\"https://www.wpc.ncep.noaa.gov/noaa/noaad2.gif\" width=\"30%\">"
   ]
  },
  {
   "cell_type": "code",
   "execution_count": 30,
   "metadata": {},
   "outputs": [
    {
     "name": "stdout",
     "output_type": "stream",
     "text": [
      "done.\n"
     ]
    }
   ],
   "source": [
    "UL = PILImage.open(im_save_path+'{0:%Y_%m_%d_%H_}'.format(now)+WPCFrontsandWeather_FileEnd)\n",
    "UR = PILImage.open(im_save_path+'{0:%Y_%m_%d_%H_}'.format(now)+WPCFrontsandWeather2_FileEnd)\n",
    "LL = PILImage.open(im_save_path+'{0:%Y_%m_%d_%H_}'.format(now)+WPCFrontsandWeather3_FileEnd)\n",
    "LR = PILImage.open(im_save_path+'{0:%Y_%m_%d_%H_}'.format(now)+WPCFrontsandWeather4_FileEnd)\n",
    "\n",
    "new_im = PILImage.new('RGB', (2*UL.width+30,2*UL.height+100))\n",
    "\n",
    "new_im.paste(UL, (10,+10))\n",
    "new_im.paste(UR,(UL.width+20,10))\n",
    "new_im.paste(LL,(10,UL.height+50))\n",
    "new_im.paste(LR,(UL.width+20,UL.height+50))\n",
    "\n",
    "new_im.save(im_save_path+\"WPC_4_Day Forecast_\"+' {0:%d %B %Y %H:%MZ}'.format(now)+\".png\")\n",
    "\n",
    "######################################################################################################\n",
    "\n",
    "######################################################################################################\n",
    "\n",
    "UL = PILImage.open(im_save_path+'{0:%Y_%m_%d_%H_}'.format(now)+SrfcForecast1_FileEnd)\n",
    "UR = PILImage.open(im_save_path+'{0:%Y_%m_%d_%H_}'.format(now)+SrfcForecast2_FileEnd)\n",
    "LL = PILImage.open(im_save_path+'{0:%Y_%m_%d_%H_}'.format(now)+SrfcForecast3_FileEnd)\n",
    "\n",
    "new_im = PILImage.new('RGB', (2*UL.width+30,2*UL.height+100))\n",
    "\n",
    "new_im.paste(UL,(0,+20))\n",
    "new_im.paste(UR,(UL.width+20,+20))\n",
    "new_im.paste(LL,(0,UL.height+60))\n",
    "\n",
    "new_im.save(im_save_path+\"WPC_3_Day Forecast_\"+' {0:%d %B %Y %H:%MZ}'.format(now)+\".png\")\n",
    "print(\"done.\")"
   ]
  },
  {
   "cell_type": "markdown",
   "metadata": {},
   "source": [
    "## Automatically open the folder in your computer in a new finder window (Mac)"
   ]
  },
  {
   "cell_type": "code",
   "execution_count": null,
   "metadata": {
    "collapsed": true
   },
   "outputs": [],
   "source": [
    "os.chdir(im_save_path)\n",
    "os.system(\"open .\")"
   ]
  }
 ],
 "metadata": {
  "kernelspec": {
   "display_name": "Python 3",
   "language": "python",
   "name": "python3"
  },
  "language_info": {
   "codemirror_mode": {
    "name": "ipython",
    "version": 3
   },
   "file_extension": ".py",
   "mimetype": "text/x-python",
   "name": "python",
   "nbconvert_exporter": "python",
   "pygments_lexer": "ipython3",
   "version": "3.7.3"
  }
 },
 "nbformat": 4,
 "nbformat_minor": 1
}
