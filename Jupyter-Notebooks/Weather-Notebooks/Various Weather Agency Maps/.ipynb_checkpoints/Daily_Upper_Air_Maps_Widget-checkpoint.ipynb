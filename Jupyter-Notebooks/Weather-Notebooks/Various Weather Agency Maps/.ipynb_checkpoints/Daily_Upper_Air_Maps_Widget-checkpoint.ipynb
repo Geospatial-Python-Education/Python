{
 "cells": [
  {
   "cell_type": "markdown",
   "metadata": {},
   "source": [
    "# Upper Air Widget"
   ]
  },
  {
   "cell_type": "markdown",
   "metadata": {},
   "source": [
    "## Justin Richling\n",
    "## 01/19/19"
   ]
  },
  {
   "cell_type": "markdown",
   "metadata": {},
   "source": [
    "\n",
    "# Saved Images from NOAA's Upper Air Maps\n",
    "\n",
    "\n",
    "Search through different times and pressure levels\n",
    "\n",
    "There are several handy maps that we can grab here:\n",
    "* pressure levels: Surface, 925, 850, 700, 500, 300, and/or 200mb\n",
    "* times: 00 or 12Z\n"
   ]
  },
  {
   "cell_type": "markdown",
   "metadata": {},
   "source": [
    "Imports\n",
    "\n"
   ]
  },
  {
   "cell_type": "code",
   "execution_count": 2,
   "metadata": {},
   "outputs": [],
   "source": [
    "# Random Library Imports\n",
    "import os,glob,webbrowser\n",
    "\n",
    "# Importing Datetime Libraries\n",
    "from datetime import datetime, timedelta\n",
    "\n",
    "# More Image Manipulation Options\n",
    "from PIL import Image as PILImage\n",
    "\n",
    "# Matplotlib Plotting Libraries\n",
    "import matplotlib.pyplot as plt\n",
    "\n",
    "# Widgets\n",
    "import ipywidgets as widgets\n",
    "\n",
    "from urllib.request import urlopen\n",
    "from io import StringIO"
   ]
  },
  {
   "cell_type": "markdown",
   "metadata": {},
   "source": [
    "## Figuring out where you want the files..."
   ]
  },
  {
   "cell_type": "code",
   "execution_count": null,
   "metadata": {},
   "outputs": [],
   "source": [
    "# Pull the current time\n",
    "now = datetime.now() \n",
    "\n",
    "# Set a path to save the plots with string format for the date to set the month and day \n",
    "im_save_path = \"/path/to/saved/imges/\"\n",
    "print(im_save_path)\n",
    "\n",
    "# Check to see if the folder already exists, if not create it\n",
    "if not os.path.isdir(im_save_path):\n",
    "    os.makedirs(im_save_path)\n",
    "\n",
    "# Uncomment if you want to automatically change to the map folder    \n",
    "#os.chdir(im_save_path)"
   ]
  },
  {
   "cell_type": "markdown",
   "metadata": {},
   "source": [
    "### Generic Image Capture from Website\n",
    "#### Arguments: \n",
    "* loc - Location where you want the saved image to be placed\n"
   ]
  },
  {
   "cell_type": "code",
   "execution_count": 4,
   "metadata": {},
   "outputs": [],
   "source": [
    "def CurrentMap(loc):\n",
    "    Year = '{:%Y}'.format(now)[-2:]\n",
    "    level = x.kwargs['level']\n",
    "    level = level.value\n",
    "    print(level)\n",
    "    hour = x.kwargs['hour']\n",
    "    hour = str(hour.value)\n",
    "    #try:   \n",
    "    page = \" https://www.spc.noaa.gov/obswx/maps/\"+level+\"_\"+\\\n",
    "                     Year+'{0:%m%d}'.format(now)+\"_\"+hour+\".gif\"\n",
    "    print(page)\n",
    " \n",
    "    # Your code where you can use urlopen\n",
    "    with urlopen(page) as url:\n",
    "        my_picture = url.read()\n",
    "\n",
    "    FileEnd=\"_maps_\"+level+\"_\"+hour+\".png\"\n",
    "    Filename = '{0:%Y_%m_%d}'.format(now)+FileEnd\n",
    "    \n",
    "    # fout will create and write to a new image file\n",
    "    fout = open(loc+\"/\"+Filename, \"wb\")\n",
    "    fout.write(my_picture)\n",
    "    fout.close()"
   ]
  },
  {
   "cell_type": "markdown",
   "metadata": {},
   "source": [
    "# Pull Images from Website\n",
    "---------------------------------------------\n",
    "### Credit to NOAA\n"
   ]
  },
  {
   "cell_type": "code",
   "execution_count": 5,
   "metadata": {},
   "outputs": [],
   "source": [
    "level_widget = widgets.Dropdown(description='level', options=[\"sfc\",\"925\",\"850\",\"700\",\"500\",\"300\",\"200\"])\n",
    "\n",
    "hour_widget = widgets.Dropdown(description='hour', options=[\"00\",\"12\"])"
   ]
  },
  {
   "cell_type": "code",
   "execution_count": 6,
   "metadata": {},
   "outputs": [
    {
     "data": {
      "application/vnd.jupyter.widget-view+json": {
       "model_id": "9cab89b917154a88b00ae5f7edbd7797",
       "version_major": 2,
       "version_minor": 0
      },
      "text/plain": [
       "Dropdown(description='level', options=('sfc', '925', '850', '700', '500', '300', '200'), value='sfc')"
      ]
     },
     "metadata": {},
     "output_type": "display_data"
    }
   ],
   "source": [
    "x = widgets.interact_manual(level=level_widget,hour=hour_widget)\n",
    "x.kwargs[\"level\"]\n"
   ]
  },
  {
   "cell_type": "code",
   "execution_count": 7,
   "metadata": {},
   "outputs": [
    {
     "data": {
      "application/vnd.jupyter.widget-view+json": {
       "model_id": "db1029436b4047c6be68799892145a19",
       "version_major": 2,
       "version_minor": 0
      },
      "text/plain": [
       "Dropdown(description='hour', options=('00', '12'), value='00')"
      ]
     },
     "metadata": {},
     "output_type": "display_data"
    }
   ],
   "source": [
    "x.kwargs[\"hour\"]"
   ]
  },
  {
   "cell_type": "code",
   "execution_count": 18,
   "metadata": {},
   "outputs": [
    {
     "name": "stdout",
     "output_type": "stream",
     "text": [
      "925\n",
      " https://www.spc.noaa.gov/obswx/maps/925_191117_00.gif\n"
     ]
    },
    {
     "data": {
      "text/plain": [
       "<ipywidgets.widgets.interaction._InteractFactory at 0x10b043860>"
      ]
     },
     "execution_count": 18,
     "metadata": {},
     "output_type": "execute_result"
    }
   ],
   "source": [
    "widgets.interact_manual(CurrentMap(im_save_path))"
   ]
  },
  {
   "cell_type": "code",
   "execution_count": null,
   "metadata": {
    "collapsed": true
   },
   "outputs": [],
   "source": []
  }
 ],
 "metadata": {
  "kernelspec": {
   "display_name": "Python 3",
   "language": "python",
   "name": "python3"
  },
  "language_info": {
   "codemirror_mode": {
    "name": "ipython",
    "version": 3
   },
   "file_extension": ".py",
   "mimetype": "text/x-python",
   "name": "python",
   "nbconvert_exporter": "python",
   "pygments_lexer": "ipython3",
   "version": "3.7.3"
  }
 },
 "nbformat": 4,
 "nbformat_minor": 1
}
