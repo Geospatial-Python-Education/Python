{
 "cells": [
  {
   "cell_type": "markdown",
   "metadata": {},
   "source": [
    "# Satellite"
   ]
  },
  {
   "cell_type": "code",
   "execution_count": 16,
   "metadata": {},
   "outputs": [],
   "source": [
    "from __future__ import print_function\n",
    "from awips.dataaccess import DataAccessLayer\n",
    "import matplotlib.pyplot as plt\n",
    "import cartopy.crs as ccrs\n",
    "import numpy as np\n",
    "from cartopy.mpl.gridliner import LONGITUDE_FORMATTER, LATITUDE_FORMATTER\n",
    "from cartopy.feature import ShapelyFeature,NaturalEarthFeature\n",
    "from shapely.geometry import Polygon\n",
    "from shapely.ops import cascaded_union\n",
    "\n",
    "\n",
    "%matplotlib inline\n",
    "from matplotlib import patheffects\n",
    "from awips.dataaccess import DataAccessLayer\n",
    "#import cartopy.feature as cfeat\n",
    "import datetime\n",
    "\n",
    "import cartopy.feature as cfeature\n",
    "import cartopy.io.shapereader as shpreader\n",
    "\n",
    "from geopy.geocoders import Nominatim\n"
   ]
  },
  {
   "cell_type": "code",
   "execution_count": 17,
   "metadata": {},
   "outputs": [],
   "source": [
    "import GOES_IR_ColorMap as IR"
   ]
  },
  {
   "cell_type": "code",
   "execution_count": 18,
   "metadata": {},
   "outputs": [],
   "source": [
    "# Standard map plot\n",
    "def make_map(bbox, projection=ccrs.PlateCarree()):\n",
    "    fig, ax = plt.subplots(figsize=(12,12),\n",
    "            subplot_kw=dict(projection=projection))\n",
    "    #ax.set_extent(bbox)\n",
    "    ax.coastlines(resolution='50m')\n",
    "    gl = ax.gridlines(draw_labels=True)\n",
    "    gl.xlabels_top = gl.ylabels_right = False\n",
    "    gl.xformatter = LONGITUDE_FORMATTER\n",
    "    gl.yformatter = LATITUDE_FORMATTER\n",
    "    return fig, ax\n",
    "\n"
   ]
  },
  {
   "cell_type": "raw",
   "metadata": {},
   "source": [
    "# Server, Data Request Type, and Database Table\n",
    "DataAccessLayer.changeEDEXHost(\"edex-cloud.unidata.ucar.edu\")\n",
    "request = DataAccessLayer.newDataRequest('maps')\n",
    "request.addIdentifier('table', 'mapdata.county')"
   ]
  },
  {
   "cell_type": "code",
   "execution_count": 19,
   "metadata": {},
   "outputs": [],
   "source": [
    "DataAccessLayer.changeEDEXHost(\"edex-cloud.unidata.ucar.edu\")\n",
    "request = DataAccessLayer.newDataRequest()\n",
    "request.setDatatype(\"satellite\")\n"
   ]
  },
  {
   "cell_type": "code",
   "execution_count": null,
   "metadata": {
    "scrolled": false
   },
   "outputs": [],
   "source": [
    "availableSectors = DataAccessLayer.getAvailableLocationNames(request)\n",
    "availableSectors.sort()\n",
    "\n",
    "print(\"\\nAvailable sectors and products\\n\")\n",
    "for sect in availableSectors:\n",
    "    request.setLocationNames(sect)\n",
    "    availableProducts = DataAccessLayer.getAvailableParameters(request)\n",
    "    availableProducts.sort()\n",
    "    print(sect + \":\")\n",
    "    for prod in availableProducts:\n",
    "        print(\"  - \"+prod)\n"
   ]
  },
  {
   "cell_type": "code",
   "execution_count": null,
   "metadata": {},
   "outputs": [],
   "source": [
    "request.setLocationNames(\"EMESO-1\")\n",
    "availableProducts = DataAccessLayer.getAvailableParameters(request)\n",
    "availableProducts.sort()\n",
    "\n",
    "\n"
   ]
  },
  {
   "cell_type": "code",
   "execution_count": null,
   "metadata": {},
   "outputs": [],
   "source": [
    "house = request.setLocationNames(\"EMESO-1\")"
   ]
  },
  {
   "cell_type": "code",
   "execution_count": null,
   "metadata": {},
   "outputs": [],
   "source": [
    "print(type(availableProducts))\n",
    "print(availableProducts.index('CH-13-10.35um'),type(availableProducts.index('CH-13-10.35um')))\n",
    "list(availableProducts)#,np.where(availableProducts[:]=='CH-13-10.35um')"
   ]
  },
  {
   "cell_type": "code",
   "execution_count": null,
   "metadata": {},
   "outputs": [],
   "source": [
    "request.setParameters(availableProducts[15])\n",
    "print(availableProducts[15])"
   ]
  },
  {
   "cell_type": "code",
   "execution_count": null,
   "metadata": {},
   "outputs": [],
   "source": [
    "availableProducts[15].title()"
   ]
  },
  {
   "cell_type": "code",
   "execution_count": null,
   "metadata": {},
   "outputs": [],
   "source": [
    "times = DataAccessLayer.getAvailableTimes(request)"
   ]
  },
  {
   "cell_type": "raw",
   "metadata": {},
   "source": [
    "utc = datetime.datetime.utcnow()\n",
    "times = DataAccessLayer.getAvailableTimes(request)\n",
    "hourdiff = utc - datetime.datetime.strptime(str(times[-1]),'%Y-%m-%d %H:%M')\n",
    "hours,days = hourdiff.seconds/3600,hourdiff.days\n",
    "minute = str((hourdiff.seconds - (3600 * hours)) / 60)\n",
    "offsetStr = ''\n",
    "if hours > 0:\n",
    "    offsetStr += str(hours) + \"hr \"\n",
    "offsetStr += str(minute) + \"m ago\"\n",
    "if days > 1:\n",
    "    offsetStr = str(days) + \" days ago\"\n",
    "\n",
    "print(\"Found \"+ str(len(times)) +\" available times\")\n",
    "print(\"  \"+str(times[0]) + \"\\n    to\\n  \" + str(times[-1]))\n",
    "print(\"Using \"+str(times[-1]) + \" (\"+offsetStr+\")\")"
   ]
  },
  {
   "cell_type": "code",
   "execution_count": null,
   "metadata": {},
   "outputs": [],
   "source": [
    "len(times),times[0],times[-1]"
   ]
  },
  {
   "cell_type": "code",
   "execution_count": null,
   "metadata": {},
   "outputs": [],
   "source": [
    "response = DataAccessLayer.getGridData(request, [times[-1]])\n",
    "grid = response[0]\n",
    "data = grid.getRawData()\n",
    "#data = np.ma.masked_where(data<10,data)\n",
    "lons,lats = grid.getLatLonCoords()\n",
    "lats = np.nan_to_num(lats)\n",
    "lons = np.nan_to_num(lons)\n",
    "GOES_bbox = [lons.min(), lons.max(), lats.min(), lats.max()]\n",
    "#bbox = [-130.,-60,10.,60.]\n",
    "#bbox = [-110.,-90,30.,45.]\n",
    "print(\"grid size \" + str(data.shape))\n",
    "print(\"grid extent \" + str(list(bbox)))"
   ]
  },
  {
   "cell_type": "code",
   "execution_count": null,
   "metadata": {},
   "outputs": [],
   "source": []
  },
  {
   "cell_type": "code",
   "execution_count": null,
   "metadata": {},
   "outputs": [],
   "source": []
  },
  {
   "cell_type": "code",
   "execution_count": null,
   "metadata": {},
   "outputs": [],
   "source": []
  },
  {
   "cell_type": "markdown",
   "metadata": {},
   "source": [
    "# GOES Plotting Function for any (fingers crossed) of the Available Products (Ch 13,Visible, CAPE, etc.) of any Sector (CONUS, Meso-1/2, etc.)"
   ]
  },
  {
   "cell_type": "code",
   "execution_count": 4,
   "metadata": {},
   "outputs": [],
   "source": [
    "def GOES(Sector,Channel,my_cmap,i,Limit=None,vmin=None,vmax=None,User_Extent=None,counties=None,roads=None):\n",
    "    \"\"\"\n",
    "    GOES East or West Mesoscale Sector 1 or 2\n",
    "    * The fucntion will allow for very flexible plotting whether it is:\n",
    "        * GOES East/West, Meso-1/2, IR/Vis/WV,etc.\n",
    "            * ie \"EMESO-1\" for East Meso Floater 1 and availableProducts[15] = Channel 13 IR\n",
    "   \n",
    "   * Optional Arguments are:\n",
    "       * Data Lower Limit\n",
    "       * Plotting Max and Min Values (ie for Ch13 162, and 330 respectively)\n",
    "       * Plotting Lat/Lon Extent\n",
    "           - [lon.min, lon.max, lat.min, lat.max]\n",
    "           - Plots the Whole Lat/Lon Box for Given Sector by Default\n",
    "   \"\"\"\n",
    "    \n",
    "    \n",
    "    #DataAccessLayer.changeEDEXHost(\"edex-cloud.unidata.ucar.edu\")\n",
    "    #request = DataAccessLayer.newDataRequest()\n",
    "    #request.setDatatype(\"satellite\")\n",
    "    #availableSectors = DataAccessLayer.getAvailableLocationNames(request)\n",
    "    #availableSectors.sort()\n",
    "    #request.setLocationNames(Sector)\n",
    "    #availableProducts = DataAccessLayer.getAvailableParameters(request)\n",
    "    #availableProducts.sort()\n",
    "    #CH = availableProducts.index(Channel)\n",
    "    #print(\"Index of list: \",availableProducts.index(Channel),\n",
    "    #      \"Data type:\",type(availableProducts.index(Channel)))\n",
    "    #request.setParameters(availableProducts[CH])\n",
    "    #print(availableProducts[CH])\n",
    "    #times = DataAccessLayer.getAvailableTimes(request)\n",
    "    response = DataAccessLayer.getGridData(request, [i])\n",
    "    grid = response[0]\n",
    "    data = grid.getRawData()\n",
    "    #data = np.ma.masked_where(data>9000,data)\n",
    "    if Limit != None:\n",
    "        data = np.ma.masked_where(data<Limit,data)\n",
    "    lons,lats = grid.getLatLonCoords()\n",
    "    lats = np.nan_to_num(lats)\n",
    "    lons = np.nan_to_num(lons)\n",
    "    GOES_bbox = [lons.min(), lons.max(), lats.min(), lats.max()]\n",
    "    \n",
    "    # Create new figure\n",
    "    fig = plt.figure(figsize=(17., 11.))\n",
    "\n",
    "    # Add the map and set the extent\n",
    "    ax = plt.subplot(111, projection=ccrs.PlateCarree())\n",
    "\n",
    "    \n",
    "    # Map Features: Coastlines, Country/State/County Boundaries, \n",
    "    ###################################################################################################\n",
    "    ax.coastlines(resolution='50m')\n",
    "\n",
    "    import cartopy.feature as cfeature\n",
    "    import cartopy.io.shapereader as shpreader\n",
    "    political_boundaries = cfeature.NaturalEarthFeature(category='cultural',\n",
    "                                   name='admin_0_boundary_lines_land',\n",
    "                                   scale='50m', facecolor='none')\n",
    "    \n",
    "    state_borders = cfeature.NaturalEarthFeature(\n",
    "                category='cultural', name='admin_1_states_provinces_lines',\n",
    "                scale='50m', facecolor='none')\n",
    "    ax.add_feature(state_borders, edgecolor='b', linewidth=1, zorder=3)\n",
    "    country_borders = cfeature.NaturalEarthFeature(category='cultural',\n",
    "                name='admin_0_countries',scale='50m', facecolor='none')\n",
    "    ax.add_feature(country_borders,edgecolor='b',linewidth=0.2)\n",
    "    \n",
    "    if counties != None:\n",
    "        reader = shpreader.Reader('/Users/chowdahead/Downloads/countyl010g_shp_nt00964/countyl010g.shp')\n",
    "        counties = list(reader.geometries())\n",
    "        COUNTIES = cfeat.ShapelyFeature(counties,ccrs.PlateCarree())\n",
    "        ax.add_feature(COUNTIES, facecolor='none',edgecolor='r')\n",
    "    \n",
    "    if roads != None:\n",
    "        reader = shpreader.Reader('/Users/chowdahead/Downloads/tl_2016_us_primaryroads/tl_2016_us_primaryroads.shp')\n",
    "        Roads = list(reader.geometries())\n",
    "        ROADS = cfeature.ShapelyFeature(Roads,ccrs.PlateCarree())\n",
    "        ax.add_feature(ROADS, facecolor='none',edgecolor='red',linestyle='--',linewidth=0.5)\n",
    "    \n",
    "    \n",
    "    # GOES Data Plotting\n",
    "    ###################################################################################################\n",
    "    cs = ax.pcolormesh(lons, lats, data, cmap=my_cmap,vmin=vmin,vmax=vmax)\n",
    "    #cs = ax.pcolormesh(lons, lats, data, cmap=IR.IR_Colormap(),vmin=162.,vmax=330.) #cmap=IR.IR_Colormap(),vmin=162.,vmax=330.\n",
    "    #cbar = fig.colorbar(cs, shrink=0.9, orientation='horizontal',fraction=0.031,pad=0.005,aspect=30)\n",
    "    cbar = fig.colorbar(cs,fraction=0.046, pad=0.04,orientation='horizontal')\n",
    "    #cbar.set_label(str(grid.getLocationName())+\" \" \\\n",
    "    #               +str(grid.getParameter())+\" \" \\\n",
    "    #               +str(grid.getDataTime().getRefTime()))\n",
    "    #plt.tight_layout()\n",
    "    \n",
    "    # Set File Time as Plot Label in bottom left and right corners\n",
    "    # White text with black border with some matplotlib effects\n",
    "    ###################################################################################################\n",
    "    text_time = ax.text(.995, 0.01, \n",
    "            str(grid.getDataTime())+\"Z\",\n",
    "            horizontalalignment='right', transform=ax.transAxes,\n",
    "            color='white', fontsize=20, weight='bold',zorder=15)\n",
    "\n",
    "    text_time2 = ax.text(0.005, 0.01, \n",
    "            Sector+\": \"+Channel,\n",
    "            horizontalalignment='left', transform=ax.transAxes,\n",
    "            color='white', fontsize=20, weight='bold',zorder=15)\n",
    "\n",
    "    outline_effect = [patheffects.withStroke(linewidth=5, foreground='black')]\n",
    "    text_time.set_path_effects(outline_effect)\n",
    "    text_time2.set_path_effects(outline_effect)\n",
    "\n",
    "    if User_Extent !=None:\n",
    "        print(\"User grid extent: \",User_Extent)\n",
    "        print(\"User grid size \" + str(data.shape))\n",
    "        ax.set_extent(User_Extent,ccrs.PlateCarree())\n",
    "    plt.savefig('/Users/chowdahead/Desktop/'+Sector+\"_\"+Channel+\"_\"+str(grid.getDataTime())+\".png\",bbox_inches=\"tight\")\n",
    "    plt.close(fig)\n",
    "    return cs"
   ]
  },
  {
   "cell_type": "code",
   "execution_count": 20,
   "metadata": {},
   "outputs": [],
   "source": [
    "#Sector = \"GOES-East\"\n",
    "Sector = \"EMESO-2\"\n",
    "Channel = \"CH-13-10.35um\"\n",
    "#Channel = \"Imager Visible\""
   ]
  },
  {
   "cell_type": "code",
   "execution_count": 21,
   "metadata": {},
   "outputs": [
    {
     "name": "stdout",
     "output_type": "stream",
     "text": [
      "Index of list:  15 Data type: <class 'int'>\n",
      "CH-13-10.35um\n"
     ]
    }
   ],
   "source": [
    "DataAccessLayer.changeEDEXHost(\"edex-cloud.unidata.ucar.edu\")\n",
    "request = DataAccessLayer.newDataRequest()\n",
    "request.setDatatype(\"satellite\")\n",
    "availableSectors = DataAccessLayer.getAvailableLocationNames(request)\n",
    "availableSectors.sort()\n",
    "request.setLocationNames(Sector)\n",
    "availableProducts = DataAccessLayer.getAvailableParameters(request)\n",
    "availableProducts.sort()\n",
    "CH = availableProducts.index(Channel)\n",
    "print(\"Index of list: \",availableProducts.index(Channel),\n",
    "    \"Data type:\",type(availableProducts.index(Channel)))\n",
    "request.setParameters(availableProducts[CH])\n",
    "print(availableProducts[CH])\n",
    "times = DataAccessLayer.getAvailableTimes(request)"
   ]
  },
  {
   "cell_type": "code",
   "execution_count": 26,
   "metadata": {},
   "outputs": [],
   "source": [
    "for i in range(126,137):\n",
    "    GOES(Sector,Channel,IR.IR_Colormap(),times[-i],vmin=162.,vmax=330.,roads=\"ahh\")\n"
   ]
  },
  {
   "cell_type": "code",
   "execution_count": 7,
   "metadata": {},
   "outputs": [
    {
     "ename": "ThriftRequestException",
     "evalue": "b'java.lang.OutOfMemoryError' exception thrown: b'Java heap space'\n\tat com.raytheon.uf.common.geospatial.LatLonReprojection.getLatLons(LatLonReprojection.java:179)\n\tat com.raytheon.uf.common.dataaccess.response.GetGridDataResponse.<init>(GetGridDataResponse.java:107)\n\tat com.raytheon.uf.edex.dataaccess.handler.GetGridDataHandler.handleRequest(GetGridDataHandler.java:67)\n\tat com.raytheon.uf.edex.dataaccess.handler.GetGridDataHandler.handleRequest(GetGridDataHandler.java:1)\n\tat com.raytheon.uf.edex.requestsrv.RequestServiceExecutor.execute(RequestServiceExecutor.java:155)\n\tat com.raytheon.uf.edex.requestsrv.serialization.SerializingStreamExecutor.execute(SerializingStreamExecutor.java:107)\n\tat com.raytheon.uf.edex.requestsrv.serialization.ByteLimitingStreamExecutor.execute(ByteLimitingStreamExecutor.java:76)\n\tat com.raytheon.uf.edex.requestsrv.http.HttpRequestServiceExecutor.execute(HttpRequestServiceExecutor.java:102)\n\tat sun.reflect.GeneratedMethodAccessor132.invoke()\n\tat sun.reflect.DelegatingMethodAccessorImpl.invoke(DelegatingMethodAccessorImpl.java:43)\n\tat java.lang.reflect.Method.invoke(Method.java:498)\n\tat org.apache.camel.component.bean.MethodInfo.invoke(MethodInfo.java:458)\n\tat org.apache.camel.component.bean.MethodInfo$1.doProceed(MethodInfo.java:289)\n\tat org.apache.camel.component.bean.MethodInfo$1.proceed(MethodInfo.java:262)\n\tat org.apache.camel.component.bean.BeanProcessor.process(BeanProcessor.java:178)\n\tat org.apache.camel.component.bean.BeanProducer.process(BeanProducer.java:41)\n\tat org.apache.camel.processor.SendProcessor.process(SendProcessor.java:145)\n\tat org.apache.camel.util.AsyncProcessorHelper.process(AsyncProcessorHelper.java:109)\n\tat org.apache.camel.processor.SendProcessor.process(SendProcessor.java:116)\n\tat com.raytheon.uf.edex.esb.camel.MessageProducer$2.process(MessageProducer.java:439)\n\tat org.apache.camel.processor.DelegateAsyncProcessor.process(DelegateAsyncProcessor.java:110)\n\tat org.apache.camel.processor.RedeliveryErrorHandler.process(RedeliveryErrorHandler.java:542)\n\tat org.apache.camel.processor.CamelInternalProcessor.process(CamelInternalProcessor.java:197)\n\tat org.apache.camel.processor.Pipeline.process(Pipeline.java:120)\n\tat org.apache.camel.processor.Pipeline.process(Pipeline.java:83)\n\tat org.apache.camel.processor.CamelInternalProcessor.process(CamelInternalProcessor.java:197)\n\tat org.apache.camel.component.jetty.CamelContinuationServlet.doService(CamelContinuationServlet.java:191)\n\tat org.apache.camel.http.common.CamelServlet.service(CamelServlet.java:74)\n\tat javax.servlet.http.HttpServlet.service(HttpServlet.java:790)\n\tat org.eclipse.jetty.servlet.ServletHolder.handle(ServletHolder.java:812)\n\tat org.eclipse.jetty.servlet.ServletHandler.doHandle(ServletHandler.java:587)\n\tat org.eclipse.jetty.server.handler.ContextHandler.doHandle(ContextHandler.java:1127)\n",
     "output_type": "error",
     "traceback": [
      "\u001b[0;31m---------------------------------------------------------------------------\u001b[0m",
      "\u001b[0;31mThriftRequestException\u001b[0m                    Traceback (most recent call last)",
      "\u001b[0;32m<ipython-input-7-34346433d460>\u001b[0m in \u001b[0;36m<module>\u001b[0;34m\u001b[0m\n\u001b[1;32m      1\u001b[0m \u001b[0;32mfor\u001b[0m \u001b[0mi\u001b[0m \u001b[0;32min\u001b[0m \u001b[0mrange\u001b[0m\u001b[0;34m(\u001b[0m\u001b[0;36m1\u001b[0m\u001b[0;34m,\u001b[0m\u001b[0;36m2\u001b[0m\u001b[0;34m)\u001b[0m\u001b[0;34m:\u001b[0m\u001b[0;34m\u001b[0m\u001b[0;34m\u001b[0m\u001b[0m\n\u001b[0;32m----> 2\u001b[0;31m     \u001b[0mGOES\u001b[0m\u001b[0;34m(\u001b[0m\u001b[0mSector\u001b[0m\u001b[0;34m,\u001b[0m\u001b[0mChannel\u001b[0m\u001b[0;34m,\u001b[0m\u001b[0;34m\"Greys\"\u001b[0m\u001b[0;34m,\u001b[0m\u001b[0mtimes\u001b[0m\u001b[0;34m[\u001b[0m\u001b[0;34m-\u001b[0m\u001b[0mi\u001b[0m\u001b[0;34m]\u001b[0m\u001b[0;34m,\u001b[0m\u001b[0mroads\u001b[0m\u001b[0;34m=\u001b[0m\u001b[0;34m\"\"\u001b[0m\u001b[0;34m,\u001b[0m\u001b[0mUser_Extent\u001b[0m\u001b[0;34m=\u001b[0m\u001b[0;34m[\u001b[0m\u001b[0;34m-\u001b[0m\u001b[0;36m110.\u001b[0m\u001b[0;34m-\u001b[0m\u001b[0;36m95\u001b[0m\u001b[0;34m,\u001b[0m\u001b[0;36m35\u001b[0m\u001b[0;34m,\u001b[0m\u001b[0;36m42\u001b[0m\u001b[0;34m]\u001b[0m\u001b[0;34m)\u001b[0m\u001b[0;34m\u001b[0m\u001b[0;34m\u001b[0m\u001b[0m\n\u001b[0m\u001b[1;32m      3\u001b[0m     \u001b[0;31m#vmin=162.,vmax=330.\u001b[0m\u001b[0;34m\u001b[0m\u001b[0;34m\u001b[0m\u001b[0;34m\u001b[0m\u001b[0m\n",
      "\u001b[0;32m<ipython-input-4-b376b5a34bf6>\u001b[0m in \u001b[0;36mGOES\u001b[0;34m(Sector, Channel, my_cmap, i, Limit, vmin, vmax, User_Extent, counties, roads)\u001b[0m\n\u001b[1;32m     29\u001b[0m     \u001b[0;31m#print(availableProducts[CH])\u001b[0m\u001b[0;34m\u001b[0m\u001b[0;34m\u001b[0m\u001b[0;34m\u001b[0m\u001b[0m\n\u001b[1;32m     30\u001b[0m     \u001b[0;31m#times = DataAccessLayer.getAvailableTimes(request)\u001b[0m\u001b[0;34m\u001b[0m\u001b[0;34m\u001b[0m\u001b[0;34m\u001b[0m\u001b[0m\n\u001b[0;32m---> 31\u001b[0;31m     \u001b[0mresponse\u001b[0m \u001b[0;34m=\u001b[0m \u001b[0mDataAccessLayer\u001b[0m\u001b[0;34m.\u001b[0m\u001b[0mgetGridData\u001b[0m\u001b[0;34m(\u001b[0m\u001b[0mrequest\u001b[0m\u001b[0;34m,\u001b[0m \u001b[0;34m[\u001b[0m\u001b[0mi\u001b[0m\u001b[0;34m]\u001b[0m\u001b[0;34m)\u001b[0m\u001b[0;34m\u001b[0m\u001b[0;34m\u001b[0m\u001b[0m\n\u001b[0m\u001b[1;32m     32\u001b[0m     \u001b[0mgrid\u001b[0m \u001b[0;34m=\u001b[0m \u001b[0mresponse\u001b[0m\u001b[0;34m[\u001b[0m\u001b[0;36m0\u001b[0m\u001b[0;34m]\u001b[0m\u001b[0;34m\u001b[0m\u001b[0;34m\u001b[0m\u001b[0m\n\u001b[1;32m     33\u001b[0m     \u001b[0mdata\u001b[0m \u001b[0;34m=\u001b[0m \u001b[0mgrid\u001b[0m\u001b[0;34m.\u001b[0m\u001b[0mgetRawData\u001b[0m\u001b[0;34m(\u001b[0m\u001b[0;34m)\u001b[0m\u001b[0;34m\u001b[0m\u001b[0;34m\u001b[0m\u001b[0m\n",
      "\u001b[0;32m~/miniconda3/envs/py-awips/lib/python3.7/site-packages/awips/dataaccess/DataAccessLayer.py\u001b[0m in \u001b[0;36mgetGridData\u001b[0;34m(request, times)\u001b[0m\n\u001b[1;32m    212\u001b[0m             \u001b[0ma\u001b[0m \u001b[0mlist\u001b[0m \u001b[0mof\u001b[0m \u001b[0mIGridData\u001b[0m\u001b[0;34m\u001b[0m\u001b[0;34m\u001b[0m\u001b[0m\n\u001b[1;32m    213\u001b[0m     \"\"\"\n\u001b[0;32m--> 214\u001b[0;31m     \u001b[0;32mreturn\u001b[0m \u001b[0mrouter\u001b[0m\u001b[0;34m.\u001b[0m\u001b[0mgetGridData\u001b[0m\u001b[0;34m(\u001b[0m\u001b[0mrequest\u001b[0m\u001b[0;34m,\u001b[0m \u001b[0mtimes\u001b[0m\u001b[0;34m)\u001b[0m\u001b[0;34m\u001b[0m\u001b[0;34m\u001b[0m\u001b[0m\n\u001b[0m\u001b[1;32m    215\u001b[0m \u001b[0;34m\u001b[0m\u001b[0m\n\u001b[1;32m    216\u001b[0m \u001b[0;34m\u001b[0m\u001b[0m\n",
      "\u001b[0;32m~/miniconda3/envs/py-awips/lib/python3.7/site-packages/awips/dataaccess/ThriftClientRouter.py\u001b[0m in \u001b[0;36mgetGridData\u001b[0;34m(self, request, times)\u001b[0m\n\u001b[1;32m    100\u001b[0m         \u001b[0;32mexcept\u001b[0m \u001b[0mTypeError\u001b[0m\u001b[0;34m:\u001b[0m\u001b[0;34m\u001b[0m\u001b[0;34m\u001b[0m\u001b[0m\n\u001b[1;32m    101\u001b[0m             \u001b[0mgridDataRequest\u001b[0m\u001b[0;34m.\u001b[0m\u001b[0msetRequestedPeriod\u001b[0m\u001b[0;34m(\u001b[0m\u001b[0mtimes\u001b[0m\u001b[0;34m)\u001b[0m\u001b[0;34m\u001b[0m\u001b[0;34m\u001b[0m\u001b[0m\n\u001b[0;32m--> 102\u001b[0;31m         \u001b[0mresponse\u001b[0m \u001b[0;34m=\u001b[0m \u001b[0mself\u001b[0m\u001b[0;34m.\u001b[0m\u001b[0m_client\u001b[0m\u001b[0;34m.\u001b[0m\u001b[0msendRequest\u001b[0m\u001b[0;34m(\u001b[0m\u001b[0mgridDataRequest\u001b[0m\u001b[0;34m)\u001b[0m\u001b[0;34m\u001b[0m\u001b[0;34m\u001b[0m\u001b[0m\n\u001b[0m\u001b[1;32m    103\u001b[0m \u001b[0;34m\u001b[0m\u001b[0m\n\u001b[1;32m    104\u001b[0m         \u001b[0mlocSpecificData\u001b[0m \u001b[0;34m=\u001b[0m \u001b[0;34m{\u001b[0m\u001b[0;34m}\u001b[0m\u001b[0;34m\u001b[0m\u001b[0;34m\u001b[0m\u001b[0m\n",
      "\u001b[0;32m~/miniconda3/envs/py-awips/lib/python3.7/site-packages/awips/ThriftClient.py\u001b[0m in \u001b[0;36msendRequest\u001b[0;34m(self, request, uri)\u001b[0m\n\u001b[1;32m     66\u001b[0m         \u001b[0;32mtry\u001b[0m\u001b[0;34m:\u001b[0m\u001b[0;34m\u001b[0m\u001b[0;34m\u001b[0m\u001b[0m\n\u001b[1;32m     67\u001b[0m             \u001b[0mforceError\u001b[0m \u001b[0;34m=\u001b[0m \u001b[0mrval\u001b[0m\u001b[0;34m.\u001b[0m\u001b[0mgetException\u001b[0m\u001b[0;34m(\u001b[0m\u001b[0;34m)\u001b[0m\u001b[0;34m\u001b[0m\u001b[0;34m\u001b[0m\u001b[0m\n\u001b[0;32m---> 68\u001b[0;31m             \u001b[0;32mraise\u001b[0m \u001b[0mThriftRequestException\u001b[0m\u001b[0;34m(\u001b[0m\u001b[0mforceError\u001b[0m\u001b[0;34m)\u001b[0m\u001b[0;34m\u001b[0m\u001b[0;34m\u001b[0m\u001b[0m\n\u001b[0m\u001b[1;32m     69\u001b[0m         \u001b[0;32mexcept\u001b[0m \u001b[0mAttributeError\u001b[0m\u001b[0;34m:\u001b[0m\u001b[0;34m\u001b[0m\u001b[0;34m\u001b[0m\u001b[0m\n\u001b[1;32m     70\u001b[0m             \u001b[0;32mpass\u001b[0m\u001b[0;34m\u001b[0m\u001b[0;34m\u001b[0m\u001b[0m\n",
      "\u001b[0;31mThriftRequestException\u001b[0m: b'java.lang.OutOfMemoryError' exception thrown: b'Java heap space'\n\tat com.raytheon.uf.common.geospatial.LatLonReprojection.getLatLons(LatLonReprojection.java:179)\n\tat com.raytheon.uf.common.dataaccess.response.GetGridDataResponse.<init>(GetGridDataResponse.java:107)\n\tat com.raytheon.uf.edex.dataaccess.handler.GetGridDataHandler.handleRequest(GetGridDataHandler.java:67)\n\tat com.raytheon.uf.edex.dataaccess.handler.GetGridDataHandler.handleRequest(GetGridDataHandler.java:1)\n\tat com.raytheon.uf.edex.requestsrv.RequestServiceExecutor.execute(RequestServiceExecutor.java:155)\n\tat com.raytheon.uf.edex.requestsrv.serialization.SerializingStreamExecutor.execute(SerializingStreamExecutor.java:107)\n\tat com.raytheon.uf.edex.requestsrv.serialization.ByteLimitingStreamExecutor.execute(ByteLimitingStreamExecutor.java:76)\n\tat com.raytheon.uf.edex.requestsrv.http.HttpRequestServiceExecutor.execute(HttpRequestServiceExecutor.java:102)\n\tat sun.reflect.GeneratedMethodAccessor132.invoke()\n\tat sun.reflect.DelegatingMethodAccessorImpl.invoke(DelegatingMethodAccessorImpl.java:43)\n\tat java.lang.reflect.Method.invoke(Method.java:498)\n\tat org.apache.camel.component.bean.MethodInfo.invoke(MethodInfo.java:458)\n\tat org.apache.camel.component.bean.MethodInfo$1.doProceed(MethodInfo.java:289)\n\tat org.apache.camel.component.bean.MethodInfo$1.proceed(MethodInfo.java:262)\n\tat org.apache.camel.component.bean.BeanProcessor.process(BeanProcessor.java:178)\n\tat org.apache.camel.component.bean.BeanProducer.process(BeanProducer.java:41)\n\tat org.apache.camel.processor.SendProcessor.process(SendProcessor.java:145)\n\tat org.apache.camel.util.AsyncProcessorHelper.process(AsyncProcessorHelper.java:109)\n\tat org.apache.camel.processor.SendProcessor.process(SendProcessor.java:116)\n\tat com.raytheon.uf.edex.esb.camel.MessageProducer$2.process(MessageProducer.java:439)\n\tat org.apache.camel.processor.DelegateAsyncProcessor.process(DelegateAsyncProcessor.java:110)\n\tat org.apache.camel.processor.RedeliveryErrorHandler.process(RedeliveryErrorHandler.java:542)\n\tat org.apache.camel.processor.CamelInternalProcessor.process(CamelInternalProcessor.java:197)\n\tat org.apache.camel.processor.Pipeline.process(Pipeline.java:120)\n\tat org.apache.camel.processor.Pipeline.process(Pipeline.java:83)\n\tat org.apache.camel.processor.CamelInternalProcessor.process(CamelInternalProcessor.java:197)\n\tat org.apache.camel.component.jetty.CamelContinuationServlet.doService(CamelContinuationServlet.java:191)\n\tat org.apache.camel.http.common.CamelServlet.service(CamelServlet.java:74)\n\tat javax.servlet.http.HttpServlet.service(HttpServlet.java:790)\n\tat org.eclipse.jetty.servlet.ServletHolder.handle(ServletHolder.java:812)\n\tat org.eclipse.jetty.servlet.ServletHandler.doHandle(ServletHandler.java:587)\n\tat org.eclipse.jetty.server.handler.ContextHandler.doHandle(ContextHandler.java:1127)\n"
     ]
    }
   ],
   "source": [
    "for i in range(1,2):\n",
    "    GOES(Sector,Channel,\"Greys\",times[-i],roads=\"\",User_Extent=[-110.-95,35,42])\n",
    "    #vmin=162.,vmax=330."
   ]
  },
  {
   "cell_type": "code",
   "execution_count": null,
   "metadata": {},
   "outputs": [],
   "source": [
    "%%time\n",
    "\n",
    "if Sector ==\"ECONUS\" or \"WCONUS\":\n",
    "    extent = [-130,-65,10,55]\n",
    "if Sector !=\"ECONUS\" or \"WCONUS\":\n",
    "    extent = None\n",
    "#extent = [-110,-92,30,42]\n",
    "GOES(Sector,Channel,IR.IR_Colormap(),times[-1],vmin=162.,vmax=330.,roads=\"\",User_Extent=extent)\n"
   ]
  },
  {
   "cell_type": "code",
   "execution_count": null,
   "metadata": {},
   "outputs": [],
   "source": []
  },
  {
   "cell_type": "code",
   "execution_count": null,
   "metadata": {},
   "outputs": [],
   "source": []
  },
  {
   "cell_type": "code",
   "execution_count": null,
   "metadata": {},
   "outputs": [],
   "source": [
    "DataAccessLayer.changeEDEXHost(\"edex-cloud.unidata.ucar.edu\")\n",
    "request = DataAccessLayer.newDataRequest()\n",
    "request.setDatatype(\"satellite\")\n",
    "availableSectors = DataAccessLayer.getAvailableLocationNames(request)\n",
    "availableSectors.sort()\n",
    "request.setLocationNames(\"EMESO-1\")\n",
    "availableProducts = DataAccessLayer.getAvailableParameters(request)\n",
    "availableProducts.sort()\n",
    "request.setParameters(availableProducts[15])\n",
    "print(availableProducts[15])\n",
    "times = DataAccessLayer.getAvailableTimes(request)\n",
    "response = DataAccessLayer.getGridData(request, [times[-1]])\n",
    "grid = response[0]\n",
    "data = grid.getRawData()\n",
    "#data = np.ma.masked_where(data<10,data)\n",
    "lons,lats = grid.getLatLonCoords()\n",
    "lats = np.nan_to_num(lats)\n",
    "lons = np.nan_to_num(lons)\n",
    "GOES_bbox = [lons.min(), lons.max(), lats.min(), lats.max()]\n",
    "#bbox = [-130.,-60,10.,60.]\n",
    "#bbox = [-110.,-90,30.,45.]\n",
    "print(\"grid size \" + str(data.shape))\n",
    "print(\"grid extent \" + str(list(bbox)))\n",
    "\n",
    "\n",
    "\n",
    "\n",
    "\n",
    "fig, ax = make_map(bbox=bbox)\n",
    "# State boundaries\n",
    "state_borders = cfeature.NaturalEarthFeature(\n",
    "                category='cultural', name='admin_1_states_provinces_lines',\n",
    "                scale='50m', facecolor='none')\n",
    "ax.add_feature(state_borders, edgecolor='b', linewidth=1, zorder=3)\n",
    "country_borders = cfeature.NaturalEarthFeature(category='cultural',\n",
    "            name='admin_0_countries',scale='50m', facecolor='none')\n",
    "\n",
    "import cartopy.feature as cfeature\n",
    "import cartopy.io.shapereader as shpreader\n",
    "#reader = shpreader.Reader('/Users/chowdahead/Downloads/countyl010g_shp_nt00964/countyl010g.shp')\n",
    "#counties = list(reader.geometries())\n",
    "#COUNTIES = cfeat.ShapelyFeature(counties,ccrs.PlateCarree())\n",
    "#ax.add_feature(COUNTIES, facecolor='none',edgecolor='r')\n",
    "\n",
    "reader = shpreader.Reader('/Users/chowdahead/Downloads/tl_2016_us_primaryroads/tl_2016_us_primaryroads.shp')\n",
    "Roads = list(reader.geometries())\n",
    "ROADS = cfeature.ShapelyFeature(Roads,ccrs.PlateCarree())\n",
    "ax.add_feature(ROADS, facecolor='none',edgecolor='red',linestyle='--',linewidth=0.5)\n",
    "\n",
    "ax.add_feature(country_borders,edgecolor='b',linewidth=0.2)\n",
    "#ax.add_feature(states, linestyle='-',color='r')\n",
    "\n",
    "\n",
    "cs = ax.pcolormesh(lons, lats, data, cmap=IR.IR_Colormap(),vmin=162.,vmax=330.) #cmap=IR.IR_Colormap(),vmin=162.,vmax=330.\n",
    "cbar = fig.colorbar(cs, shrink=0.9, orientation='horizontal',fraction=0.031,pad=0.005,aspect=30)\n",
    "#cbar.set_label(str(grid.getLocationName())+\" \" \\\n",
    "#               +str(grid.getParameter())+\" \" \\\n",
    "#               +str(grid.getDataTime().getRefTime()))\n",
    "\n",
    "#divider = make_axes_locatable(ax)\n",
    "#cax = divider.append_axes(\"right\", size=\"5%\", pad=0.05,map_projection=ccrs.PlateCarree())\n",
    "#plt.colorbar(cs, cax=cax)\n",
    "\n",
    "#plt.tight_layout()\n",
    "# Label the plot\n",
    "text_time = ax.text(.995, 0.01, \n",
    "        str(grid.getDataTime())+\"Z\",\n",
    "        horizontalalignment='right', transform=ax.transAxes,\n",
    "        color='white', fontsize=20, weight='bold',zorder=15)\n",
    "\n",
    "text_time2 = ax.text(0.005, 0.01, \n",
    "        \"GOES Meso\",\n",
    "        horizontalalignment='left', transform=ax.transAxes,\n",
    "        color='white', fontsize=20, weight='bold',zorder=15)\n",
    "\n",
    "outline_effect = [patheffects.withStroke(linewidth=5, foreground='black')]\n",
    "text_time.set_path_effects(outline_effect)\n",
    "text_time2.set_path_effects(outline_effect)"
   ]
  },
  {
   "cell_type": "code",
   "execution_count": null,
   "metadata": {},
   "outputs": [],
   "source": [
    "str(grid.getDataTime())[:]"
   ]
  },
  {
   "cell_type": "code",
   "execution_count": null,
   "metadata": {},
   "outputs": [],
   "source": [
    "str(times[i].getRefTime())[:-7]"
   ]
  },
  {
   "cell_type": "code",
   "execution_count": null,
   "metadata": {
    "scrolled": false
   },
   "outputs": [],
   "source": [
    "%%time\n",
    "\n",
    "# Create new figure\n",
    "fig = plt.figure(figsize=(17., 11.))\n",
    "\n",
    "# Add the map and set the extent\n",
    "ax = plt.subplot(111, projection=ccrs.PlateCarree())\n",
    "ax.coastlines(resolution='50m')\n",
    "\n",
    "political_boundaries = NaturalEarthFeature(category='cultural',\n",
    "                               name='admin_0_boundary_lines_land',\n",
    "                               scale='50m', facecolor='none')\n",
    "states = NaturalEarthFeature(category='cultural',\n",
    "                               name='admin_1_states_provinces_lines',\n",
    "                               scale='50m', facecolor='none')\n",
    "ax.add_feature(political_boundaries, linestyle='-', edgecolor='black')\n",
    "ax.add_feature(states, linestyle='-', edgecolor='black',linewidth=2)\n",
    "\n",
    "state_borders = cfeature.NaturalEarthFeature(\n",
    "                category='cultural', name='admin_1_states_provinces_lines',\n",
    "                scale='50m', facecolor='none')\n",
    "ax.add_feature(state_borders, edgecolor='b', linewidth=1, zorder=3)\n",
    "country_borders = cfeature.NaturalEarthFeature(category='cultural',\n",
    "            name='admin_0_countries',scale='50m', facecolor='none')\n",
    "\n",
    "# load the shapefile, use the name 'states'\n",
    "reader = shpreader.Reader('/Users/chowdahead/Downloads/tl_2016_us_primaryroads/tl_2016_us_primaryroads.shp')\n",
    "counties = list(reader.geometries())\n",
    "COUNTIES = cfeature.ShapelyFeature(counties,ccrs.PlateCarree())\n",
    "ax.add_feature(COUNTIES, facecolor='none',edgecolor='r')\n",
    "\n",
    "# Access server for Satellite Image\n",
    "##################################################################################################### \n",
    "DataAccessLayer.changeEDEXHost(\"edex-cloud.unidata.ucar.edu\")\n",
    "request = DataAccessLayer.newDataRequest()\n",
    "request.setDatatype(\"satellite\")\n",
    "availableSectors = DataAccessLayer.getAvailableLocationNames(request)\n",
    "availableSectors.sort()\n",
    "request.setLocationNames(\"EMESO-1\")\n",
    "availableProducts = DataAccessLayer.getAvailableParameters(request)\n",
    "availableProducts.sort()\n",
    "request.setParameters(availableProducts[15])\n",
    "print(availableProducts[15])\n",
    "times = DataAccessLayer.getAvailableTimes(request)\n",
    "response = DataAccessLayer.getGridData(request, [times[-1]])\n",
    "grid = response[0]\n",
    "data = grid.getRawData()\n",
    "#data = np.ma.masked_where(data<10,data)\n",
    "lons,lats = grid.getLatLonCoords()\n",
    "lats = np.nan_to_num(lats)\n",
    "lons = np.nan_to_num(lons)\n",
    "GOES_bbox = [lons.min(), lons.max(), lats.min(), lats.max()]\n",
    "#bbox = [-130.,-60,10.,60.]\n",
    "#bbox = [-110.,-90,30.,45.]\n",
    "print(\"grid size \" + str(data.shape))\n",
    "print(\"grid extent \" + str(list(bbox)))\n",
    "\n",
    "\n",
    "# Access server for County Warning Areas\n",
    "#####################################################################################################    \n",
    "# Server, Data Request Type, and Database Table\n",
    "DataAccessLayer.changeEDEXHost(\"edex-cloud.unidata.ucar.edu\")\n",
    "request = DataAccessLayer.newDataRequest('maps')\n",
    "request.addIdentifier('table', 'mapdata.county')\n",
    "\n",
    "# Define a WFO ID for location\n",
    "# tie this ID to the mapdata.county column \"cwa\" for filtering\n",
    "cwa = 'ABR'\n",
    "request.setLocationNames(cwa)\n",
    "request.addIdentifier('cwa', cwa)\n",
    "\n",
    "# enable location filtering (inLocation)\n",
    "# locationField is tied to the above cwa definition (BOU)\n",
    "request.addIdentifier('geomField', 'the_geom')\n",
    "request.addIdentifier('inLocation', 'true')\n",
    "request.addIdentifier('locationField', 'cwa')\n",
    "\n",
    "# This is essentially the same as \"'\"select count(*) from mapdata.cwa where cwa='BOU';\" (=1)\n",
    "\n",
    "# Get response and create dict of county geometries\n",
    "response = DataAccessLayer.getGeometryData(request, [])\n",
    "counties = np.array([])\n",
    "for ob in response:\n",
    "    counties = np.append(counties,ob.getGeometry())\n",
    "print(\"Using \" + str(len(counties)) + \" county MultiPolygons\")\n",
    "\n",
    "# All WFO counties merged to a single Polygon\n",
    "merged_counties = cascaded_union(counties)\n",
    "envelope = merged_counties.buffer(2)\n",
    "boundaries=[merged_counties]\n",
    "\n",
    "# Get bounds of this merged Polygon to use as buffered map extent\n",
    "bounds = merged_counties.bounds\n",
    "bbox=[bounds[0]-1,bounds[2]+1,bounds[1]-1.5,bounds[3]+1.5]\n",
    "\n",
    "\n",
    "#fig, ax = make_map(bbox=bbox)\n",
    "\n",
    "for i, geom in enumerate(boundaries):\n",
    "    gbounds = Polygon(geom)\n",
    "    intersection = gbounds.intersection\n",
    "    geoms = (intersection(geom)\n",
    "         for geom in boundaries\n",
    "         if gbounds.intersects(geom))\n",
    "    shape_feature = ShapelyFeature(geoms,ccrs.PlateCarree(), \n",
    "                        facecolor='none', linestyle=\"-\",linewidth=3.,edgecolor='#cc5000')\n",
    "    ax.add_feature(shape_feature)\n",
    "\n",
    "\n",
    "# Get city info for plotting major cities in and around the CWA\n",
    "#####################################################################################################\n",
    "request = DataAccessLayer.newDataRequest('maps', envelope=envelope)\n",
    "request.addIdentifier('table', 'mapdata.city')\n",
    "request.addIdentifier('geomField', 'the_geom')\n",
    "request.setParameters('name','population','prog_disc')\n",
    "cities = DataAccessLayer.getGeometryData(request, [])\n",
    "print(\"Found \" + str(len(cities)) + \" city Points\")\n",
    "\n",
    "citylist = []\n",
    "cityname = []\n",
    "# For BOU, progressive disclosure values above 50 and pop above 5000 looks good\n",
    "for ob in cities:\n",
    "    if ((ob.getNumber(\"prog_disc\")>50) and ob.getString(\"population\") !=\"None\"):\n",
    "        if int(ob.getString(\"population\")) > 5000:\n",
    "    #if ((ob.getNumber(\"prog_disc\")>7000)):\n",
    "            #print(ob.getNumber(\"prog_disc\"))\n",
    "            citylist.append(ob.getGeometry())\n",
    "            cityname.append(ob.getString(\"name\"))\n",
    "            #print(\"city pops: \",ob.getString(\"population\"))\n",
    "citylist.append(ob.getGeometry())\n",
    "cityname.append(ob.getString(\"name\"))\n",
    "print(\"Using \" + str(len(cityname)) + \" city Points\")\n",
    "#print(list(cityname))\n",
    "\n",
    "geolocator = Nominatim()\n",
    "for city in cityname:\n",
    "    #print(city)\n",
    "    loc = geolocator.geocode(city)\n",
    "    try:\n",
    "        #bounds[0],bounds[2],bounds[1],bounds[3]\n",
    "        if bounds[0] < loc.longitude < bounds[2] and bounds[1] < loc.latitude < bounds[3]:\n",
    "            print(city,loc.longitude,loc.latitude)\n",
    "            ax.plot(loc.longitude, loc.latitude,marker='+',color='k',markersize=10,zorder=15)\n",
    "            ax.text(loc.longitude-0.05, loc.latitude+0.05,city,color='k',zorder=15)#linewidth=4,\n",
    "    except:\n",
    "        \"nothing?\"\n",
    "\"\"\"\n",
    "# Topo map\n",
    "#####################################################################################################       \n",
    "import numpy.ma as ma\n",
    "request = DataAccessLayer.newDataRequest()\n",
    "request.setDatatype(\"topo\")\n",
    "request.addIdentifier(\"group\", \"/\")\n",
    "request.addIdentifier(\"dataset\", \"full\")\n",
    "request.setEnvelope(envelope)\n",
    "gridData = DataAccessLayer.getGridData(request)\n",
    "print(gridData)\n",
    "print(\"Number of grid records: \" + str(len(gridData)))\n",
    "print(\"Sample grid data shape:\\n\" + str(gridData[0].getRawData().shape) + \"\\n\")\n",
    "print(\"Sample grid data:\\n\" + str(gridData[0].getRawData()) + \"\\n\")\n",
    "\n",
    "\n",
    "#fig, ax = make_map(bbox=bbox)\n",
    "grid=gridData[0]\n",
    "topo=ma.masked_invalid(grid.getRawData()) \n",
    "lon, lat = grid.getLatLonCoords()\n",
    "print(topo.min())\n",
    "print(topo.max())\n",
    "\n",
    "# Plot topography\n",
    "cs = ax.contourf(lon, lat, topo, 80, cmap=plt.get_cmap('terrain'),alpha=0.1)\n",
    "#cbar = fig.colorbar(cs, extend='both', shrink=0.5, orientation='horizontal')\n",
    "#cbar.set_label(\"topography height in meters\")\n",
    "\"\"\"\n",
    "        \n",
    "# Plotting the GOES data\n",
    "#####################################################################################################\n",
    "cs = ax.pcolormesh(lons, lats, data, cmap=IR.IR_Colormap(),vmin=162.,vmax=330.) #cmap=IR.IR_Colormap(),vmin=162.,vmax=330.\n",
    "cbar = fig.colorbar(cs, fraction=0.031, orientation='horizontal',pad=0.005,aspect=30)\n",
    "\n",
    "\n",
    "# Plot CWA counties\n",
    "#####################################################################################################\n",
    "for i, geom in enumerate(counties):\n",
    "    cbounds = Polygon(geom)\n",
    "    intersection = cbounds.intersection\n",
    "    geoms = (intersection(geom)\n",
    "         for geom in counties\n",
    "         if cbounds.intersects(geom))\n",
    "    shape_feature = ShapelyFeature(geoms,ccrs.PlateCarree(), \n",
    "                        facecolor='none', linestyle=\":\",edgecolor='#cc5300')#'#86989B'\n",
    "    ax.add_feature(shape_feature)\n",
    "        \n",
    "# For GOES lats/lons\n",
    "#ax.set_extent([lons.min(), lons.max(), lats.min(), lats.max()],ccrs.PlateCarree())\n",
    "\n",
    "# For CWA lats/lons\n",
    "ax.set_extent([bounds[0]-4,bounds[2]+4,bounds[1]-6,bounds[3]+6],ccrs.PlateCarree())\n",
    "\n",
    "# Label the plot\n",
    "text_time = ax.text(.995, 0.01, \n",
    "        str(grid.getDataTime())+\"Z\",\n",
    "        horizontalalignment='right', transform=ax.transAxes,\n",
    "        color='white', fontsize=20, weight='bold',zorder=15)\n",
    "\n",
    "text_time2 = ax.text(0.005, 0.01, \n",
    "        \"GOES \\n CWA: \"+cwa,\n",
    "        horizontalalignment='left', transform=ax.transAxes,\n",
    "        color='white', fontsize=20, weight='bold',zorder=15)\n",
    "#Sector+\": \"+Channel+\" - CWA: \"+cwa\n",
    "\n",
    "\n",
    "outline_effect = [patheffects.withStroke(linewidth=5, foreground='black')]\n",
    "text_time.set_path_effects(outline_effect)\n",
    "text_time2.set_path_effects(outline_effect)\n",
    "title = str(grid.getDataTime())[:-2].replace(\":\",\"\").replace(\" \",\"_\")\n",
    "#plt.show()\n",
    "plt.savefig(\"/Users/chowdahead/Desktop/GOES_cwa_\"+cwa+\"_\"+\n",
    "    title+\"Z\"+\".png\",bbox_inches=\"tight\",dpi=200)"
   ]
  },
  {
   "cell_type": "code",
   "execution_count": null,
   "metadata": {},
   "outputs": [],
   "source": [
    "str(grid.getDataTime())"
   ]
  },
  {
   "cell_type": "code",
   "execution_count": null,
   "metadata": {},
   "outputs": [],
   "source": [
    "lon.min(),lat.min(),lon.max(),lat.max()"
   ]
  },
  {
   "cell_type": "code",
   "execution_count": null,
   "metadata": {},
   "outputs": [],
   "source": [
    "bounds[0],bounds[2],bounds[1],bounds[3]\n"
   ]
  },
  {
   "cell_type": "code",
   "execution_count": null,
   "metadata": {},
   "outputs": [],
   "source": [
    "lons.min(), lons.max(), lats.min(), lats.max()"
   ]
  },
  {
   "cell_type": "code",
   "execution_count": null,
   "metadata": {},
   "outputs": [],
   "source": [
    "from netCDF4 import Dataset\n",
    "import numpy as np\n",
    "import os\n",
    "\n",
    "# navigate to directory with .nc data files (raw radiance files in my case)\n",
    "os.chdir('/Users/chowdahead/Downloads/')\n",
    "full_direc = os.listdir()\n",
    "nc_files = [ii for ii in full_direc if ii.endswith('.nc')]\n",
    "nc_indx = 0\n",
    "g16_data_file = nc_files[nc_indx] # select .nc file\n",
    "print(nc_files[nc_indx]) # print file name\n",
    "\n",
    "# designate dataset\n",
    "g16nc = Dataset(g16_data_file, 'r')\n",
    "\n",
    "# GOES-R projection info and retrieving relevant constants\n",
    "proj_info = g16nc.variables['goes_imager_projection']\n",
    "lon_origin = proj_info.longitude_of_projection_origin\n",
    "H = proj_info.perspective_point_height+proj_info.semi_major_axis\n",
    "r_eq = proj_info.semi_major_axis\n",
    "r_pol = proj_info.semi_minor_axis\n",
    "\n",
    "# Data info\n",
    "lat_rad_1d = g16nc.variables['x'][:]\n",
    "lon_rad_1d = g16nc.variables['y'][:]\n",
    "\n",
    "# close file when finished\n",
    "g16nc.close()\n",
    "g16nc = None\n",
    "\n",
    "# create meshgrid filled with radian angles\n",
    "lat_rad,lon_rad = np.meshgrid(lat_rad_1d,lon_rad_1d)\n",
    "\n",
    "# lat/lon calc routine from satellite radian angle vectors\n",
    "\n",
    "lambda_0 = (lon_origin*np.pi)/180.0\n",
    "\n",
    "a_var = np.power(np.sin(lat_rad),2.0) + (np.power(np.cos(lat_rad),2.0)*(np.power(np.cos(lon_rad),2.0)+(((r_eq*r_eq)/(r_pol*r_pol))*np.power(np.sin(lon_rad),2.0))))\n",
    "b_var = -2.0*H*np.cos(lat_rad)*np.cos(lon_rad)\n",
    "c_var = (H**2.0)-(r_eq**2.0)\n",
    "\n",
    "r_s = (-1.0*b_var - np.sqrt((b_var**2)-(4.0*a_var*c_var)))/(2.0*a_var)\n",
    "\n",
    "s_x = r_s*np.cos(lat_rad)*np.cos(lon_rad)\n",
    "s_y = - r_s*np.sin(lat_rad)\n",
    "s_z = r_s*np.cos(lat_rad)*np.sin(lon_rad)\n",
    "\n",
    "lat = (180.0/np.pi)*(np.arctan(((r_eq*r_eq)/(r_pol*r_pol))*((s_z/np.sqrt(((H-s_x)*(H-s_x))+(s_y*s_y))))))\n",
    "lon = (lambda_0 - np.arctan(s_y/(H-s_x)))*(180.0/np.pi)\n",
    "\n",
    "\n",
    "# print test coordinates\n",
    "print('{} N, {} W'.format(lat[318,1849],abs(lon[318,1849])))"
   ]
  },
  {
   "cell_type": "code",
   "execution_count": null,
   "metadata": {},
   "outputs": [],
   "source": []
  },
  {
   "cell_type": "code",
   "execution_count": null,
   "metadata": {},
   "outputs": [],
   "source": []
  },
  {
   "cell_type": "code",
   "execution_count": null,
   "metadata": {},
   "outputs": [],
   "source": []
  },
  {
   "cell_type": "code",
   "execution_count": null,
   "metadata": {},
   "outputs": [],
   "source": [
    "cd ~/Desktop/"
   ]
  },
  {
   "cell_type": "markdown",
   "metadata": {},
   "source": [
    "# Animation"
   ]
  },
  {
   "cell_type": "code",
   "execution_count": null,
   "metadata": {},
   "outputs": [],
   "source": [
    "import glob"
   ]
  },
  {
   "cell_type": "code",
   "execution_count": null,
   "metadata": {},
   "outputs": [],
   "source": [
    "glob.glob(\"*EMESO-2*\")"
   ]
  },
  {
   "cell_type": "code",
   "execution_count": null,
   "metadata": {},
   "outputs": [],
   "source": [
    "if Sector ==\"ECONUS\" or \"WCONUS\":\n",
    "    extent = [-130,-65,10,55]\n",
    "if Sector !=\"ECONUS\" or \"WCONUS\":\n",
    "    extent = None"
   ]
  },
  {
   "cell_type": "code",
   "execution_count": null,
   "metadata": {},
   "outputs": [],
   "source": [
    "meshes = []\n",
    "for i in range(1,6):\n",
    "    cs = GOES(Sector,Channel,IR.IR_Colormap(),times[-i],vmin=162.,vmax=330.,roads=\"\",User_Extent=extent)\n",
    "    # Collect the things we've plotted so we can animate\n",
    "    meshes.append(cs)\n"
   ]
  },
  {
   "cell_type": "code",
   "execution_count": null,
   "metadata": {},
   "outputs": [],
   "source": []
  },
  {
   "cell_type": "code",
   "execution_count": null,
   "metadata": {},
   "outputs": [],
   "source": [
    "# Set up matplotlib to do the conversion to HTML5 video\n",
    "import matplotlib\n",
    "matplotlib.rcParams['animation.html'] = 'html5'"
   ]
  },
  {
   "cell_type": "code",
   "execution_count": null,
   "metadata": {},
   "outputs": [],
   "source": [
    "# Create an animation\n",
    "fig = plt.figure(figsize=(10, 10))\n",
    "from matplotlib.animation import ArtistAnimation\n",
    "ArtistAnimation(fig,meshes,blit = False)\n"
   ]
  },
  {
   "cell_type": "code",
   "execution_count": null,
   "metadata": {},
   "outputs": [],
   "source": [
    "matplotlib.animation.FileMovieWriter(meshes)"
   ]
  },
  {
   "cell_type": "code",
   "execution_count": null,
   "metadata": {},
   "outputs": [],
   "source": []
  }
 ],
 "metadata": {
  "kernelspec": {
   "display_name": "Python 3",
   "language": "python",
   "name": "python3"
  },
  "language_info": {
   "codemirror_mode": {
    "name": "ipython",
    "version": 3
   },
   "file_extension": ".py",
   "mimetype": "text/x-python",
   "name": "python",
   "nbconvert_exporter": "python",
   "pygments_lexer": "ipython3",
   "version": "3.7.2"
  }
 },
 "nbformat": 4,
 "nbformat_minor": 2
}
