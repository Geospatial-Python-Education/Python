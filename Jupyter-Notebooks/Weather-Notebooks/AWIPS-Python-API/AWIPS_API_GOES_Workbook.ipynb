{
 "cells": [
  {
   "cell_type": "markdown",
   "metadata": {},
   "source": [
    "# Satellite"
   ]
  },
  {
   "cell_type": "code",
   "execution_count": 1,
   "metadata": {},
   "outputs": [],
   "source": [
    "from __future__ import print_function\n",
    "from awips.dataaccess import DataAccessLayer\n",
    "import matplotlib.pyplot as plt\n",
    "import cartopy.crs as ccrs\n",
    "import numpy as np\n",
    "from cartopy.mpl.gridliner import LONGITUDE_FORMATTER, LATITUDE_FORMATTER\n",
    "from cartopy.feature import ShapelyFeature,NaturalEarthFeature\n",
    "from shapely.geometry import Polygon\n",
    "from shapely.ops import cascaded_union\n",
    "\n",
    "\n",
    "%matplotlib inline\n",
    "from matplotlib import patheffects\n",
    "from awips.dataaccess import DataAccessLayer\n",
    "#import cartopy.feature as cfeat\n",
    "import datetime\n",
    "\n",
    "import cartopy.feature as cfeature\n",
    "import cartopy.io.shapereader as shpreader\n",
    "\n",
    "from geopy.geocoders import Nominatim\n"
   ]
  },
  {
   "cell_type": "code",
   "execution_count": 2,
   "metadata": {},
   "outputs": [
    {
     "name": "stdout",
     "output_type": "stream",
     "text": [
      "For plotting (ie pcolormesh, imshow, etc.) set the max/min:\n",
      "vmin=162.  vmax=330.\n"
     ]
    }
   ],
   "source": [
    "import GOES_IR_ColorMap as IR"
   ]
  },
  {
   "cell_type": "code",
   "execution_count": 3,
   "metadata": {},
   "outputs": [],
   "source": [
    "# Standard map plot\n",
    "def make_map(bbox, projection=ccrs.PlateCarree()):\n",
    "    fig, ax = plt.subplots(figsize=(12,12),\n",
    "            subplot_kw=dict(projection=projection))\n",
    "    #ax.set_extent(bbox)\n",
    "    ax.coastlines(resolution='50m')\n",
    "    gl = ax.gridlines(draw_labels=True)\n",
    "    gl.xlabels_top = gl.ylabels_right = False\n",
    "    gl.xformatter = LONGITUDE_FORMATTER\n",
    "    gl.yformatter = LATITUDE_FORMATTER\n",
    "    return fig, ax\n",
    "\n"
   ]
  },
  {
   "cell_type": "raw",
   "metadata": {},
   "source": [
    "# Server, Data Request Type, and Database Table\n",
    "DataAccessLayer.changeEDEXHost(\"edex-cloud.unidata.ucar.edu\")\n",
    "request = DataAccessLayer.newDataRequest('maps')\n",
    "request.addIdentifier('table', 'mapdata.county')"
   ]
  },
  {
   "cell_type": "code",
   "execution_count": null,
   "metadata": {},
   "outputs": [],
   "source": [
    "DataAccessLayer.changeEDEXHost(\"edex-cloud.unidata.ucar.edu\")\n",
    "request = DataAccessLayer.newDataRequest()\n",
    "request.setDatatype(\"satellite\")\n"
   ]
  },
  {
   "cell_type": "code",
   "execution_count": null,
   "metadata": {
    "scrolled": false
   },
   "outputs": [],
   "source": [
    "availableSectors = DataAccessLayer.getAvailableLocationNames(request)\n",
    "availableSectors.sort()\n",
    "\n",
    "print(\"\\nAvailable sectors and products\\n\")\n",
    "for sect in availableSectors:\n",
    "    request.setLocationNames(sect)\n",
    "    availableProducts = DataAccessLayer.getAvailableParameters(request)\n",
    "    availableProducts.sort()\n",
    "    print(sect + \":\")\n",
    "    for prod in availableProducts:\n",
    "        print(\"  - \"+prod)\n"
   ]
  },
  {
   "cell_type": "code",
   "execution_count": null,
   "metadata": {},
   "outputs": [],
   "source": [
    "request.setLocationNames(\"EMESO-1\")\n",
    "availableProducts = DataAccessLayer.getAvailableParameters(request)\n",
    "availableProducts.sort()\n",
    "\n",
    "\n"
   ]
  },
  {
   "cell_type": "code",
   "execution_count": null,
   "metadata": {},
   "outputs": [],
   "source": [
    "house = request.setLocationNames(\"EMESO-1\")"
   ]
  },
  {
   "cell_type": "code",
   "execution_count": null,
   "metadata": {},
   "outputs": [],
   "source": [
    "print(type(availableProducts))\n",
    "print(availableProducts.index('CH-13-10.35um'),type(availableProducts.index('CH-13-10.35um')))\n",
    "list(availableProducts)#,np.where(availableProducts[:]=='CH-13-10.35um')"
   ]
  },
  {
   "cell_type": "code",
   "execution_count": null,
   "metadata": {},
   "outputs": [],
   "source": [
    "request.setParameters(availableProducts[15])\n",
    "print(availableProducts[15])"
   ]
  },
  {
   "cell_type": "code",
   "execution_count": null,
   "metadata": {},
   "outputs": [],
   "source": [
    "availableProducts[15].title()"
   ]
  },
  {
   "cell_type": "code",
   "execution_count": null,
   "metadata": {},
   "outputs": [],
   "source": [
    "times = DataAccessLayer.getAvailableTimes(request)"
   ]
  },
  {
   "cell_type": "raw",
   "metadata": {},
   "source": [
    "utc = datetime.datetime.utcnow()\n",
    "times = DataAccessLayer.getAvailableTimes(request)\n",
    "hourdiff = utc - datetime.datetime.strptime(str(times[-1]),'%Y-%m-%d %H:%M')\n",
    "hours,days = hourdiff.seconds/3600,hourdiff.days\n",
    "minute = str((hourdiff.seconds - (3600 * hours)) / 60)\n",
    "offsetStr = ''\n",
    "if hours > 0:\n",
    "    offsetStr += str(hours) + \"hr \"\n",
    "offsetStr += str(minute) + \"m ago\"\n",
    "if days > 1:\n",
    "    offsetStr = str(days) + \" days ago\"\n",
    "\n",
    "print(\"Found \"+ str(len(times)) +\" available times\")\n",
    "print(\"  \"+str(times[0]) + \"\\n    to\\n  \" + str(times[-1]))\n",
    "print(\"Using \"+str(times[-1]) + \" (\"+offsetStr+\")\")"
   ]
  },
  {
   "cell_type": "code",
   "execution_count": null,
   "metadata": {},
   "outputs": [],
   "source": [
    "len(times),times[0],times[-1]"
   ]
  },
  {
   "cell_type": "code",
   "execution_count": 142,
   "metadata": {},
   "outputs": [
    {
     "name": "stdout",
     "output_type": "stream",
     "text": [
      "grid size (1500, 2500)\n",
      "grid extent [-151.65356, 0.0, 0.0, 56.640198]\n"
     ]
    }
   ],
   "source": [
    "response = DataAccessLayer.getGridData(request, [times[-1]])\n",
    "grid = response[0]\n",
    "data = grid.getRawData()\n",
    "#data = np.ma.masked_where(data<10,data)\n",
    "lons,lats = grid.getLatLonCoords()\n",
    "lats = np.nan_to_num(lats)\n",
    "lons = np.nan_to_num(lons)\n",
    "GOES_bbox = [lons.min(), lons.max(), lats.min(), lats.max()]\n",
    "#bbox = [-130.,-60,10.,60.]\n",
    "#bbox = [-110.,-90,30.,45.]\n",
    "print(\"grid size \" + str(data.shape))\n",
    "print(\"grid extent \" + str(list(GOES_bbox)))"
   ]
  },
  {
   "cell_type": "code",
   "execution_count": null,
   "metadata": {},
   "outputs": [],
   "source": []
  },
  {
   "cell_type": "code",
   "execution_count": 23,
   "metadata": {},
   "outputs": [],
   "source": [
    "import pandas as pd\n",
    "import matplotlib.pyplot as plt\n",
    "df  = pd.read_csv(\"/Users/chowdahead/Downloads/yesterday_hail.csv\")"
   ]
  },
  {
   "cell_type": "code",
   "execution_count": 24,
   "metadata": {},
   "outputs": [
    {
     "data": {
      "text/plain": [
       "'Comments'"
      ]
     },
     "execution_count": 24,
     "metadata": {},
     "output_type": "execute_result"
    }
   ],
   "source": [
    "df.columns[-1]"
   ]
  },
  {
   "cell_type": "code",
   "execution_count": null,
   "metadata": {},
   "outputs": [],
   "source": [
    "df[]"
   ]
  },
  {
   "cell_type": "code",
   "execution_count": 20,
   "metadata": {},
   "outputs": [
    {
     "data": {
      "text/plain": [
       "(0    -102.20\n",
       " 1    -101.85\n",
       " 2    -101.76\n",
       " 3    -102.21\n",
       " 4    -101.64\n",
       " 5    -102.13\n",
       " 6    -102.13\n",
       " 7    -102.14\n",
       " 8    -102.08\n",
       " 9    -102.05\n",
       " 10   -102.07\n",
       " 11   -102.14\n",
       " 12   -101.92\n",
       " 13   -101.89\n",
       " 14   -102.13\n",
       " 15   -102.65\n",
       " 16   -101.64\n",
       " 17    -81.69\n",
       " 18   -101.64\n",
       " 19   -102.68\n",
       " 20   -101.53\n",
       " 21   -101.54\n",
       " 22   -101.48\n",
       " 23    -93.81\n",
       " 24   -101.98\n",
       " 25   -101.44\n",
       " 26   -101.98\n",
       " 27    -93.67\n",
       " 28    -85.80\n",
       " 29    -93.67\n",
       "        ...  \n",
       " 40   -100.96\n",
       " 41    -93.38\n",
       " 42    -86.68\n",
       " 43   -101.04\n",
       " 44    -96.57\n",
       " 45   -102.42\n",
       " 46   -100.65\n",
       " 47   -100.65\n",
       " 48   -102.27\n",
       " 49    -93.02\n",
       " 50    -92.95\n",
       " 51    -87.29\n",
       " 52    -92.83\n",
       " 53    -92.93\n",
       " 54    -92.83\n",
       " 55    -87.21\n",
       " 56   -100.41\n",
       " 57   -101.48\n",
       " 58   -101.75\n",
       " 59   -101.75\n",
       " 60   -104.97\n",
       " 61   -104.91\n",
       " 62   -105.01\n",
       " 63   -104.96\n",
       " 64   -104.92\n",
       " 65   -104.92\n",
       " 66   -105.00\n",
       " 67   -104.94\n",
       " 68   -104.90\n",
       " 69   -103.10\n",
       " Name: Lon, Length: 70, dtype: float64, 0     42.37\n",
       " 1     42.23\n",
       " 2     42.15\n",
       " 3     41.51\n",
       " 4     40.91\n",
       " 5     41.57\n",
       " 6     41.57\n",
       " 7     41.33\n",
       " 8     41.24\n",
       " 9     41.30\n",
       " 10    41.06\n",
       " 11    41.11\n",
       " 12    41.29\n",
       " 13    41.10\n",
       " 14    41.06\n",
       " 15    40.03\n",
       " 16    40.91\n",
       " 17    35.78\n",
       " 18    40.91\n",
       " 19    40.09\n",
       " 20    40.84\n",
       " 21    40.78\n",
       " 22    40.74\n",
       " 23    44.20\n",
       " 24    40.49\n",
       " 25    40.51\n",
       " 26    40.44\n",
       " 27    44.20\n",
       " 28    36.66\n",
       " 29    44.20\n",
       "       ...  \n",
       " 40    40.20\n",
       " 41    43.98\n",
       " 42    35.79\n",
       " 43    39.81\n",
       " 44    33.63\n",
       " 45    39.30\n",
       " 46    39.96\n",
       " 47    39.96\n",
       " 48    39.25\n",
       " 49    43.82\n",
       " 50    44.81\n",
       " 51    35.44\n",
       " 52    44.54\n",
       " 53    44.57\n",
       " 54    43.58\n",
       " 55    35.34\n",
       " 56    38.80\n",
       " 57    32.25\n",
       " 58    37.98\n",
       " 59    37.98\n",
       " 60    40.45\n",
       " 61    40.48\n",
       " 62    40.24\n",
       " 63    40.12\n",
       " 64    40.09\n",
       " 65    40.09\n",
       " 66    40.09\n",
       " 67    40.09\n",
       " 68    40.08\n",
       " 69    35.61\n",
       " Name: Lat, Length: 70, dtype: float64)"
      ]
     },
     "execution_count": 20,
     "metadata": {},
     "output_type": "execute_result"
    }
   ],
   "source": [
    "df[\"Lon\"],df[\"Lat\"]"
   ]
  },
  {
   "cell_type": "markdown",
   "metadata": {},
   "source": [
    "# GOES Plotting Function for any (fingers crossed) of the Available Products (Ch 13,Visible, CAPE, etc.) of any Sector (CONUS, Meso-1/2, etc.)"
   ]
  },
  {
   "cell_type": "code",
   "execution_count": 25,
   "metadata": {},
   "outputs": [],
   "source": [
    "def GOES(Sector,Channel,my_cmap,i,save_path,Limit=None,vmin=None,vmax=None,User_Extent=None,counties=None,roads=None,\n",
    "        dfLat=None,dfLon=None):\n",
    "    \"\"\"\n",
    "    GOES East or West Mesoscale Sector 1 or 2\n",
    "    * The fucntion will allow for very flexible plotting whether it is:\n",
    "        * GOES East/West, Meso-1/2, IR/Vis/WV,etc.\n",
    "            * ie \"EMESO-1\" for East Meso Floater 1 and availableProducts[15] = Channel 13 IR\n",
    "   \n",
    "   * Optional Arguments are:\n",
    "       * Data Lower Limit\n",
    "       * Plotting Max and Min Values (ie for Ch13 162, and 330 respectively)\n",
    "       * Plotting Lat/Lon Extent\n",
    "           - [lon.min, lon.max, lat.min, lat.max]\n",
    "           - Plots the Whole Lat/Lon Box for Given Sector by Default\n",
    "   \"\"\"\n",
    "    \n",
    "    #import pandas as pd\n",
    "    #import matplotlib.pyplot as plt\n",
    "    #df  = pd.read_csv(\"/Users/chowdahead/Downloads/190813_rpts_hail.csv\")\n",
    "    #DataAccessLayer.changeEDEXHost(\"edex-cloud.unidata.ucar.edu\")\n",
    "    #request = DataAccessLayer.newDataRequest()\n",
    "    #request.setDatatype(\"satellite\")\n",
    "    #availableSectors = DataAccessLayer.getAvailableLocationNames(request)\n",
    "    #availableSectors.sort()\n",
    "    #request.setLocationNames(Sector)\n",
    "    #availableProducts = DataAccessLayer.getAvailableParameters(request)\n",
    "    #availableProducts.sort()\n",
    "    #CH = availableProducts.index(Channel)\n",
    "    #print(\"Index of list: \",availableProducts.index(Channel),\n",
    "    #      \"Data type:\",type(availableProducts.index(Channel)))\n",
    "    #request.setParameters(availableProducts[CH])\n",
    "    #print(availableProducts[CH])\n",
    "    #times = DataAccessLayer.getAvailableTimes(request)\n",
    "    response = DataAccessLayer.getGridData(request, [i])\n",
    "    grid = response[0]\n",
    "    data = grid.getRawData()\n",
    "    #data = np.ma.masked_where(data>9000,data)\n",
    "    if Limit != None:\n",
    "        data = np.ma.masked_where(data<Limit,data)\n",
    "    lons,lats = grid.getLatLonCoords()\n",
    "    lats = np.nan_to_num(lats)\n",
    "    lons = np.nan_to_num(lons)\n",
    "    GOES_bbox = [lons.min(), lons.max(), lats.min(), lats.max()]\n",
    "    \n",
    "    # Create new figure\n",
    "    fig = plt.figure(figsize=(17., 11.))\n",
    "\n",
    "    # Add the map and set the extent\n",
    "    ax = plt.subplot(111, projection=ccrs.PlateCarree())\n",
    "\n",
    "    \n",
    "    # Map Features: Coastlines, Country/State/County Boundaries, \n",
    "    ###################################################################################################\n",
    "    ax.coastlines(resolution='50m')\n",
    "\n",
    "    import cartopy.feature as cfeature\n",
    "    import cartopy.io.shapereader as shpreader\n",
    "    political_boundaries = cfeature.NaturalEarthFeature(category='cultural',\n",
    "                                   name='admin_0_boundary_lines_land',\n",
    "                                   scale='50m', facecolor='none')\n",
    "    \n",
    "    state_borders = cfeature.NaturalEarthFeature(\n",
    "                category='cultural', name='admin_1_states_provinces_lines',\n",
    "                scale='50m', facecolor='none')\n",
    "    ax.add_feature(state_borders, edgecolor='b', linewidth=1, zorder=3)\n",
    "    country_borders = cfeature.NaturalEarthFeature(category='cultural',\n",
    "                name='admin_0_countries',scale='50m', facecolor='none')\n",
    "    ax.add_feature(country_borders,edgecolor='b',linewidth=0.2)\n",
    "    \n",
    "    if counties != None:\n",
    "        reader = shpreader.Reader('/Users/chowdahead/Downloads/countyl010g_shp_nt00964/countyl010g.shp')\n",
    "        counties = list(reader.geometries())\n",
    "        COUNTIES = cfeat.ShapelyFeature(counties,ccrs.PlateCarree())\n",
    "        ax.add_feature(COUNTIES, facecolor='none',edgecolor='r')\n",
    "    \n",
    "    if roads != None:\n",
    "        reader = shpreader.Reader('/Users/chowdahead/Downloads/tl_2016_us_primaryroads/tl_2016_us_primaryroads.shp')\n",
    "        Roads = list(reader.geometries())\n",
    "        ROADS = cfeature.ShapelyFeature(Roads,ccrs.PlateCarree())\n",
    "        ax.add_feature(ROADS, facecolor='none',edgecolor='red',linestyle='--',linewidth=0.5)\n",
    "    \n",
    "    \n",
    "    semi_major=6378137.0 \n",
    "    semi_minor=6356752.31414 \n",
    "    central_lon=-75.0 \n",
    "    sat_height=35786023.0\n",
    "    globe = ccrs.Globe(semimajor_axis=semi_major, semiminor_axis=semi_minor)\n",
    "    crs = ccrs.Geostationary(central_longitude=central_lon, satellite_height=sat_height,globe=globe)#, globe=globe\n",
    "    # GOES Data Plotting\n",
    "    ###################################################################################################\n",
    "    cs = ax.pcolormesh(lons, lats, data, cmap=my_cmap,vmin=vmin,vmax=vmax)#,transform=crs\n",
    "    #cs = ax.pcolormesh(lons, lats, data, cmap=IR.IR_Colormap(),vmin=162.,vmax=330.) #cmap=IR.IR_Colormap(),vmin=162.,vmax=330.\n",
    "    #cbar = fig.colorbar(cs, shrink=0.9, orientation='horizontal',fraction=0.031,pad=0.005,aspect=30)\n",
    "    cbar = fig.colorbar(cs,fraction=0.046, pad=0.04,orientation='horizontal')\n",
    "    #cbar.set_label(str(grid.getLocationName())+\" \" \\\n",
    "    #               +str(grid.getParameter())+\" \" \\\n",
    "    #               +str(grid.getDataTime().getRefTime()))\n",
    "    #plt.tight_layout()\n",
    "    \n",
    "    # Set File Time as Plot Label in bottom left and right corners\n",
    "    # White text with black border with some matplotlib effects\n",
    "    ###################################################################################################\n",
    "    text_time = ax.text(.995, 0.01, \n",
    "            str(grid.getDataTime())+\"Z\",\n",
    "            horizontalalignment='right', transform=ax.transAxes,\n",
    "            color='white', fontsize=20, weight='bold',zorder=15)\n",
    "\n",
    "    text_time2 = ax.text(0.005, 0.01, \n",
    "            Sector+\": \"+Channel,\n",
    "            horizontalalignment='left', transform=ax.transAxes,\n",
    "            color='white', fontsize=20, weight='bold',zorder=15)\n",
    "\n",
    "    outline_effect = [patheffects.withStroke(linewidth=5, foreground='black')]\n",
    "    text_time.set_path_effects(outline_effect)\n",
    "    text_time2.set_path_effects(outline_effect)\n",
    "\n",
    "    \n",
    "    #for i in range(len(df)):\n",
    "    if dfLon or dfLat != None:\n",
    "        ax.plot(dfLon, dfLat,marker='*',color='k',markersize=10,transform=ccrs.PlateCarree())\n",
    "    \n",
    "    \n",
    "    \n",
    "    if User_Extent !=None:\n",
    "        #print(\"User grid extent: \",User_Extent)\n",
    "        #print(\"User grid size \" + str(data.shape))\n",
    "        ax.set_extent(User_Extent,ccrs.PlateCarree())\n",
    "    Time = str(grid.getDataTime()).replace(\":\",\"_\")\n",
    "    print(Time)\n",
    "    Time = Time.replace(\" \",\"_\")\n",
    "    print(Time)\n",
    "    Time = Time.replace(\"-\",\"_\")\n",
    "    print(Time)\n",
    "    #plt.savefig('/Users/chowdahead/Desktop/GOES/'+Sector+\"/\"+Sector+\"_\"+Channel+\"_\"+str(grid.getDataTime())+\".png\",bbox_inches=\"tight\")\n",
    "    plt.savefig(save_path+Sector+\"_\"+Channel+\"_\"+Time+\".png\",bbox_inches=\"tight\")\n",
    "    plt.close(fig)\n",
    "    return cs"
   ]
  },
  {
   "cell_type": "code",
   "execution_count": 15,
   "metadata": {},
   "outputs": [
    {
     "ename": "NameError",
     "evalue": "name 'grid' is not defined",
     "output_type": "error",
     "traceback": [
      "\u001b[0;31m---------------------------------------------------------------------------\u001b[0m",
      "\u001b[0;31mNameError\u001b[0m                                 Traceback (most recent call last)",
      "\u001b[0;32m<ipython-input-15-3721cbd63e71>\u001b[0m in \u001b[0;36m<module>\u001b[0;34m\u001b[0m\n\u001b[0;32m----> 1\u001b[0;31m \u001b[0mgrid\u001b[0m\u001b[0;34m.\u001b[0m\u001b[0mgetDataTime\u001b[0m\u001b[0;34m(\u001b[0m\u001b[0;34m)\u001b[0m\u001b[0;34m\u001b[0m\u001b[0;34m\u001b[0m\u001b[0m\n\u001b[0m",
      "\u001b[0;31mNameError\u001b[0m: name 'grid' is not defined"
     ]
    }
   ],
   "source": [
    "grid.getDataTime()"
   ]
  },
  {
   "cell_type": "code",
   "execution_count": 10,
   "metadata": {},
   "outputs": [],
   "source": [
    "#Sector = \"GOES-East\"\n",
    "Sector = \"ECONUS\"\n",
    "Channel = \"CH-13-10.35um\"\n",
    "#Channel = \"Imager Visible\""
   ]
  },
  {
   "cell_type": "code",
   "execution_count": 11,
   "metadata": {},
   "outputs": [
    {
     "name": "stdout",
     "output_type": "stream",
     "text": [
      "Index of list:  16 Data type: <class 'int'>\n",
      "CH-13-10.35um\n"
     ]
    }
   ],
   "source": [
    "DataAccessLayer.changeEDEXHost(\"edex-cloud.unidata.ucar.edu\")\n",
    "request = DataAccessLayer.newDataRequest()\n",
    "request.setDatatype(\"satellite\")\n",
    "availableSectors = DataAccessLayer.getAvailableLocationNames(request)\n",
    "availableSectors.sort()\n",
    "request.setLocationNames(Sector)\n",
    "availableProducts = DataAccessLayer.getAvailableParameters(request)\n",
    "availableProducts.sort()\n",
    "CH = availableProducts.index(Channel)\n",
    "print(\"Index of list: \",availableProducts.index(Channel),\n",
    "    \"Data type:\",type(availableProducts.index(Channel)))\n",
    "request.setParameters(availableProducts[CH])\n",
    "print(availableProducts[CH])\n",
    "times = DataAccessLayer.getAvailableTimes(request)"
   ]
  },
  {
   "cell_type": "code",
   "execution_count": 52,
   "metadata": {},
   "outputs": [
    {
     "data": {
      "text/plain": [
       "(array([], dtype=int64),)"
      ]
     },
     "execution_count": 52,
     "metadata": {},
     "output_type": "execute_result"
    }
   ],
   "source": [
    "df[\"Lat\"][6],df[\"Lon\"][6]\n",
    "np.where(35.<df[\"Lat\"].all()<45.)"
   ]
  },
  {
   "cell_type": "code",
   "execution_count": null,
   "metadata": {},
   "outputs": [],
   "source": [
    "-108.,-92,35,45"
   ]
  },
  {
   "cell_type": "code",
   "execution_count": 92,
   "metadata": {},
   "outputs": [
    {
     "data": {
      "text/plain": [
       "(array([ 0,  1,  2,  6,  7,  8,  9, 10, 11, 12, 14, 15, 16, 17, 18, 22, 23,\n",
       "        24, 25, 26, 27, 28, 29, 30, 31, 32, 33, 34, 35, 36, 37, 38, 39, 40,\n",
       "        41, 42, 43]),)"
      ]
     },
     "execution_count": 92,
     "metadata": {},
     "output_type": "execute_result"
    }
   ],
   "source": [
    "idx = (df[\"Lat\"]>35)&(df[\"Lat\"]<45)\n",
    "np.where(idx)"
   ]
  },
  {
   "cell_type": "code",
   "execution_count": 93,
   "metadata": {},
   "outputs": [
    {
     "data": {
      "text/plain": [
       "(array([ 0,  1,  2,  7,  8,  9, 10, 11, 12, 13, 14, 15, 16, 17, 18, 19, 20,\n",
       "        21, 22, 23, 24, 25, 26, 27, 28, 29, 30, 31, 32, 33, 34, 35, 36, 37,\n",
       "        38, 39, 40, 41, 42, 43]),)"
      ]
     },
     "execution_count": 93,
     "metadata": {},
     "output_type": "execute_result"
    }
   ],
   "source": [
    "idx2 = (df[\"Lon\"]>-108)&(df[\"Lon\"]<-92)\n",
    "np.where(idx2)"
   ]
  },
  {
   "cell_type": "code",
   "execution_count": 94,
   "metadata": {},
   "outputs": [
    {
     "name": "stdout",
     "output_type": "stream",
     "text": [
      "(array([ 0,  1,  2,  3,  4,  5,  7,  8,  9, 10, 11, 12, 14, 15, 16, 17, 18,\n",
      "       22, 23, 24, 25, 26, 27, 28, 29, 30, 31, 32, 33, 34, 35, 36, 37, 38,\n",
      "       39, 40, 41, 42, 43]),)\n",
      "0     1833\n",
      "1     1840\n",
      "2     1842\n",
      "3     1856\n",
      "4     1858\n",
      "5     1947\n",
      "7     2315\n",
      "8     2350\n",
      "9        4\n",
      "10       9\n",
      "11      15\n",
      "12      20\n",
      "14     110\n",
      "15     112\n",
      "16     115\n",
      "17     115\n",
      "18     116\n",
      "22     215\n",
      "23     221\n",
      "24     228\n",
      "25     246\n",
      "26     300\n",
      "27     305\n",
      "28     310\n",
      "29     315\n",
      "30     357\n",
      "31     414\n",
      "32     415\n",
      "33     417\n",
      "34     419\n",
      "35     425\n",
      "36     445\n",
      "37     615\n",
      "38     645\n",
      "39     737\n",
      "40     754\n",
      "41     803\n",
      "42     824\n",
      "43     900\n",
      "Name: Time, dtype: int64\n"
     ]
    }
   ],
   "source": [
    "ah = np.where(idx==idx2)\n",
    "print(ah)\n",
    "for i in range(len(ah)):\n",
    "    print(df[\"Time\"][ah[i]])"
   ]
  },
  {
   "cell_type": "code",
   "execution_count": 49,
   "metadata": {},
   "outputs": [
    {
     "data": {
      "text/plain": [
       "0     43.93\n",
       "1     43.93\n",
       "2     43.90\n",
       "3     32.95\n",
       "4     32.98\n",
       "5     32.43\n",
       "6     42.12\n",
       "7     40.11\n",
       "8     39.93\n",
       "9     39.81\n",
       "10    39.71\n",
       "11    39.84\n",
       "12    39.64\n",
       "13    45.90\n",
       "14    39.30\n",
       "15    39.30\n",
       "16    39.29\n",
       "17    39.39\n",
       "18    39.30\n",
       "19    45.37\n",
       "20    45.29\n",
       "21    45.26\n",
       "22    38.83\n",
       "23    38.82\n",
       "24    38.84\n",
       "25    38.81\n",
       "26    38.49\n",
       "27    44.90\n",
       "28    38.47\n",
       "29    44.85\n",
       "30    44.39\n",
       "31    44.28\n",
       "32    44.28\n",
       "33    44.29\n",
       "34    44.30\n",
       "35    44.37\n",
       "36    44.30\n",
       "37    43.67\n",
       "38    43.50\n",
       "39    43.31\n",
       "40    43.50\n",
       "41    43.64\n",
       "42    43.30\n",
       "43    43.09\n",
       "Name: Lat, dtype: float64"
      ]
     },
     "execution_count": 49,
     "metadata": {},
     "output_type": "execute_result"
    }
   ],
   "source": [
    "df[\"Lat\"]"
   ]
  },
  {
   "cell_type": "code",
   "execution_count": 63,
   "metadata": {},
   "outputs": [
    {
     "data": {
      "text/plain": [
       "0    -103.57\n",
       "1    -103.55\n",
       "2    -103.54\n",
       "3     -80.16\n",
       "4     -80.17\n",
       "5     -80.73\n",
       "6     -85.53\n",
       "7    -102.32\n",
       "8    -102.28\n",
       "9    -102.45\n",
       "10   -102.29\n",
       "11   -102.39\n",
       "12   -102.40\n",
       "13   -105.66\n",
       "14   -102.60\n",
       "15   -102.60\n",
       "16   -102.43\n",
       "17   -102.53\n",
       "18   -102.60\n",
       "19   -105.04\n",
       "20   -105.02\n",
       "21   -104.89\n",
       "22   -102.35\n",
       "23   -102.36\n",
       "24   -102.30\n",
       "25   -102.43\n",
       "26   -102.29\n",
       "27   -104.56\n",
       "28   -102.20\n",
       "29   -104.56\n",
       "30   -105.54\n",
       "31   -105.44\n",
       "32   -105.51\n",
       "33   -105.49\n",
       "34   -105.36\n",
       "35   -103.98\n",
       "36   -103.87\n",
       "37   -104.56\n",
       "38   -104.42\n",
       "39   -103.82\n",
       "40   -104.20\n",
       "41   -104.84\n",
       "42   -103.84\n",
       "43   -104.54\n",
       "Name: Lon, dtype: float64"
      ]
     },
     "execution_count": 63,
     "metadata": {},
     "output_type": "execute_result"
    }
   ],
   "source": [
    "df[\"Lon\"]"
   ]
  },
  {
   "cell_type": "code",
   "execution_count": 28,
   "metadata": {},
   "outputs": [
    {
     "data": {
      "text/plain": [
       "0     1833\n",
       "1     1840\n",
       "2     1842\n",
       "3     1856\n",
       "4     1858\n",
       "5     1947\n",
       "6     2035\n",
       "7     2315\n",
       "8     2350\n",
       "9        4\n",
       "10       9\n",
       "11      15\n",
       "12      20\n",
       "13      25\n",
       "14     110\n",
       "15     112\n",
       "16     115\n",
       "17     115\n",
       "18     116\n",
       "19     150\n",
       "20     201\n",
       "21     212\n",
       "22     215\n",
       "23     221\n",
       "24     228\n",
       "25     246\n",
       "26     300\n",
       "27     305\n",
       "28     310\n",
       "29     315\n",
       "30     357\n",
       "31     414\n",
       "32     415\n",
       "33     417\n",
       "34     419\n",
       "35     425\n",
       "36     445\n",
       "37     615\n",
       "38     645\n",
       "39     737\n",
       "40     754\n",
       "41     803\n",
       "42     824\n",
       "43     900\n",
       "Name: Time, dtype: int64"
      ]
     },
     "execution_count": 28,
     "metadata": {},
     "output_type": "execute_result"
    }
   ],
   "source": [
    "df[\"Time\"]"
   ]
  },
  {
   "cell_type": "code",
   "execution_count": 125,
   "metadata": {},
   "outputs": [
    {
     "name": "stdout",
     "output_type": "stream",
     "text": [
      "2019-08-15 21:01:55\n"
     ]
    },
    {
     "data": {
      "text/plain": [
       "((array([11]),), 15)"
      ]
     },
     "execution_count": 125,
     "metadata": {},
     "output_type": "execute_result"
    }
   ],
   "source": [
    "print(times[-1])\n",
    "np.where(df[\"Time\"]==15),df[\"Time\"][11]"
   ]
  },
  {
   "cell_type": "code",
   "execution_count": 106,
   "metadata": {},
   "outputs": [
    {
     "name": "stdout",
     "output_type": "stream",
     "text": [
      "User grid extent:  [-108.0, -92, 35, 45]\n",
      "User grid size (1500, 2500)\n"
     ]
    },
    {
     "data": {
      "text/plain": [
       "<matplotlib.collections.QuadMesh at 0xb3c31fe48>"
      ]
     },
     "execution_count": 106,
     "metadata": {},
     "output_type": "execute_result"
    }
   ],
   "source": [
    "GOES(Sector,Channel,IR.IR_Colormap(),times[-250],vmin=162.,vmax=330.,roads=\"ahh\",User_Extent=[-110.,-85,30,45],\n",
    "        dfLat=df[\"Lat\"][11],dfLon=df[\"Lon\"][11])"
   ]
  },
  {
   "cell_type": "code",
   "execution_count": 26,
   "metadata": {},
   "outputs": [
    {
     "name": "stdout",
     "output_type": "stream",
     "text": [
      "2019-08-17 20_26_56\n",
      "2019-08-17_20_26_56\n",
      "2019_08_17_20_26_56\n"
     ]
    },
    {
     "data": {
      "text/plain": [
       "<matplotlib.collections.QuadMesh at 0xd26559da0>"
      ]
     },
     "execution_count": 26,
     "metadata": {},
     "output_type": "execute_result"
    }
   ],
   "source": [
    "GOES(Sector,Channel,IR.IR_Colormap(),times[-1],'/Users/chowdahead/Desktop/GOES/ECONUS/08_17/',\n",
    "         vmin=162.,vmax=330.,roads=\"ahh\",User_Extent=[-110.,-80,30,50])"
   ]
  },
  {
   "cell_type": "code",
   "execution_count": 13,
   "metadata": {},
   "outputs": [
    {
     "name": "stdout",
     "output_type": "stream",
     "text": [
      "next.\n",
      "next.\n",
      "next.\n",
      "next.\n",
      "next.\n",
      "next.\n",
      "next.\n",
      "next.\n",
      "next.\n",
      "next.\n",
      "next.\n",
      "next.\n",
      "next.\n",
      "next.\n",
      "next.\n",
      "next.\n",
      "next.\n",
      "next.\n",
      "next.\n",
      "next.\n",
      "next.\n",
      "next.\n",
      "next.\n",
      "next.\n",
      "next.\n",
      "next.\n",
      "next.\n",
      "next.\n",
      "next.\n",
      "next.\n",
      "next.\n",
      "next.\n",
      "next.\n",
      "next.\n",
      "next.\n",
      "next.\n",
      "next.\n",
      "next.\n",
      "next.\n",
      "next.\n",
      "next.\n",
      "next.\n",
      "next.\n",
      "next.\n",
      "next.\n",
      "next.\n",
      "next.\n",
      "next.\n",
      "next.\n",
      "next.\n",
      "next.\n",
      "next.\n",
      "next.\n",
      "next.\n",
      "next.\n",
      "next.\n",
      "next.\n",
      "next.\n",
      "next.\n",
      "next.\n",
      "next.\n",
      "next.\n",
      "next.\n",
      "next.\n",
      "next.\n",
      "next.\n",
      "next.\n",
      "next.\n",
      "next.\n",
      "next.\n",
      "next.\n",
      "next.\n",
      "next.\n",
      "next.\n",
      "next.\n",
      "next.\n",
      "next.\n",
      "next.\n",
      "next.\n",
      "next.\n",
      "next.\n",
      "next.\n",
      "next.\n",
      "next.\n",
      "next.\n",
      "next.\n",
      "next.\n",
      "next.\n",
      "next.\n",
      "next.\n",
      "next.\n",
      "next.\n",
      "next.\n",
      "next.\n",
      "next.\n",
      "next.\n",
      "next.\n",
      "next.\n",
      "next.\n",
      "next.\n",
      "next.\n",
      "next.\n",
      "next.\n",
      "next.\n",
      "next.\n",
      "next.\n",
      "next.\n",
      "next.\n",
      "next.\n",
      "next.\n",
      "next.\n",
      "next.\n",
      "next.\n",
      "next.\n",
      "next.\n",
      "next.\n",
      "next.\n",
      "next.\n",
      "next.\n",
      "next.\n",
      "next.\n",
      "next.\n",
      "next.\n",
      "next.\n",
      "next.\n",
      "next.\n",
      "next.\n",
      "next.\n",
      "next.\n",
      "next.\n",
      "next.\n",
      "next.\n",
      "next.\n",
      "next.\n",
      "next.\n",
      "next.\n",
      "next.\n",
      "next.\n",
      "next.\n",
      "next.\n",
      "next.\n",
      "next.\n",
      "next.\n",
      "next.\n",
      "next.\n",
      "next.\n",
      "next.\n",
      "next.\n",
      "next.\n",
      "next.\n"
     ]
    }
   ],
   "source": [
    "for i in range(100,250):\n",
    "    GOES(Sector,Channel,IR.IR_Colormap(),times[-i],'/Users/chowdahead/Desktop/GOES/ECONUS/08_17/',\n",
    "         vmin=162.,vmax=330.,roads=\"ahh\",User_Extent=[-110.,-80,30,50])\n",
    "    print(\"next.\")"
   ]
  },
  {
   "cell_type": "code",
   "execution_count": 14,
   "metadata": {},
   "outputs": [
    {
     "name": "stdout",
     "output_type": "stream",
     "text": [
      "next.\n",
      "next.\n",
      "next.\n",
      "next.\n",
      "next.\n",
      "next.\n",
      "next.\n",
      "next.\n",
      "next.\n",
      "next.\n",
      "next.\n",
      "next.\n",
      "next.\n",
      "next.\n",
      "next.\n",
      "next.\n",
      "next.\n",
      "next.\n",
      "next.\n",
      "next.\n",
      "next.\n",
      "next.\n",
      "next.\n",
      "next.\n",
      "next.\n",
      "next.\n",
      "next.\n",
      "next.\n",
      "next.\n",
      "next.\n",
      "next.\n",
      "next.\n",
      "next.\n",
      "next.\n",
      "next.\n",
      "next.\n",
      "next.\n",
      "next.\n",
      "next.\n",
      "next.\n",
      "next.\n",
      "next.\n",
      "next.\n",
      "next.\n",
      "next.\n",
      "next.\n",
      "next.\n",
      "next.\n",
      "next.\n",
      "next.\n"
     ]
    }
   ],
   "source": [
    "for i in range(250,300):\n",
    "    GOES(Sector,Channel,IR.IR_Colormap(),times[-i],'/Users/chowdahead/Desktop/GOES/ECONUS/08_17/',\n",
    "         vmin=162.,vmax=330.,roads=\"ahh\",User_Extent=[-110.,-80,30,50])\n",
    "    print(\"next.\")"
   ]
  },
  {
   "cell_type": "code",
   "execution_count": null,
   "metadata": {},
   "outputs": [],
   "source": [
    "for i in range(1,61):\n",
    "    GOES(Sector,Channel,IR.IR_Colormap(),times[-i],vmin=162.,vmax=330.,roads=\"ahh\",User_Extent=[-108.,-92,35,45],\n",
    "        dfLat=df[\"Lat\"][22],dfLon=df[\"Lon\"][22])\n"
   ]
  },
  {
   "cell_type": "raw",
   "metadata": {},
   "source": [
    "for i in range(1,2):\n",
    "    GOES(Sector,Channel,\"Greys\",times[-i],roads=\"\",User_Extent=[-110.-95,35,42])\n",
    "    #vmin=162.,vmax=330."
   ]
  },
  {
   "cell_type": "code",
   "execution_count": null,
   "metadata": {},
   "outputs": [],
   "source": [
    "%%time\n",
    "\n",
    "if Sector ==\"ECONUS\" or \"WCONUS\":\n",
    "    extent = [-130,-65,10,55]\n",
    "if Sector !=\"ECONUS\" or \"WCONUS\":\n",
    "    extent = None\n",
    "#extent = [-110,-92,30,42]\n",
    "GOES(Sector,Channel,IR.IR_Colormap(),times[-1],vmin=162.,vmax=330.,roads=\"\",User_Extent=extent)\n"
   ]
  },
  {
   "cell_type": "code",
   "execution_count": null,
   "metadata": {},
   "outputs": [],
   "source": []
  },
  {
   "cell_type": "code",
   "execution_count": null,
   "metadata": {},
   "outputs": [],
   "source": []
  },
  {
   "cell_type": "code",
   "execution_count": null,
   "metadata": {},
   "outputs": [],
   "source": [
    "DataAccessLayer.changeEDEXHost(\"edex-cloud.unidata.ucar.edu\")\n",
    "request = DataAccessLayer.newDataRequest()\n",
    "request.setDatatype(\"satellite\")\n",
    "availableSectors = DataAccessLayer.getAvailableLocationNames(request)\n",
    "availableSectors.sort()\n",
    "request.setLocationNames(\"EMESO-1\")\n",
    "availableProducts = DataAccessLayer.getAvailableParameters(request)\n",
    "availableProducts.sort()\n",
    "request.setParameters(availableProducts[15])\n",
    "print(availableProducts[15])\n",
    "times = DataAccessLayer.getAvailableTimes(request)\n",
    "response = DataAccessLayer.getGridData(request, [times[-1]])\n",
    "grid = response[0]\n",
    "data = grid.getRawData()\n",
    "#data = np.ma.masked_where(data<10,data)\n",
    "lons,lats = grid.getLatLonCoords()\n",
    "lats = np.nan_to_num(lats)\n",
    "lons = np.nan_to_num(lons)\n",
    "GOES_bbox = [lons.min(), lons.max(), lats.min(), lats.max()]\n",
    "#bbox = [-130.,-60,10.,60.]\n",
    "#bbox = [-110.,-90,30.,45.]\n",
    "print(\"grid size \" + str(data.shape))\n",
    "print(\"grid extent \" + str(list(bbox)))\n",
    "\n",
    "\n",
    "\n",
    "\n",
    "\n",
    "fig, ax = make_map(bbox=bbox)\n",
    "# State boundaries\n",
    "state_borders = cfeature.NaturalEarthFeature(\n",
    "                category='cultural', name='admin_1_states_provinces_lines',\n",
    "                scale='50m', facecolor='none')\n",
    "ax.add_feature(state_borders, edgecolor='b', linewidth=1, zorder=3)\n",
    "country_borders = cfeature.NaturalEarthFeature(category='cultural',\n",
    "            name='admin_0_countries',scale='50m', facecolor='none')\n",
    "\n",
    "import cartopy.feature as cfeature\n",
    "import cartopy.io.shapereader as shpreader\n",
    "#reader = shpreader.Reader('/Users/chowdahead/Downloads/countyl010g_shp_nt00964/countyl010g.shp')\n",
    "#counties = list(reader.geometries())\n",
    "#COUNTIES = cfeat.ShapelyFeature(counties,ccrs.PlateCarree())\n",
    "#ax.add_feature(COUNTIES, facecolor='none',edgecolor='r')\n",
    "\n",
    "reader = shpreader.Reader('/Users/chowdahead/Downloads/tl_2016_us_primaryroads/tl_2016_us_primaryroads.shp')\n",
    "Roads = list(reader.geometries())\n",
    "ROADS = cfeature.ShapelyFeature(Roads,ccrs.PlateCarree())\n",
    "ax.add_feature(ROADS, facecolor='none',edgecolor='red',linestyle='--',linewidth=0.5)\n",
    "\n",
    "ax.add_feature(country_borders,edgecolor='b',linewidth=0.2)\n",
    "#ax.add_feature(states, linestyle='-',color='r')\n",
    "\n",
    "\n",
    "cs = ax.pcolormesh(lons, lats, data, cmap=IR.IR_Colormap(),vmin=162.,vmax=330.) #cmap=IR.IR_Colormap(),vmin=162.,vmax=330.\n",
    "cbar = fig.colorbar(cs, shrink=0.9, orientation='horizontal',fraction=0.031,pad=0.005,aspect=30)\n",
    "#cbar.set_label(str(grid.getLocationName())+\" \" \\\n",
    "#               +str(grid.getParameter())+\" \" \\\n",
    "#               +str(grid.getDataTime().getRefTime()))\n",
    "\n",
    "#divider = make_axes_locatable(ax)\n",
    "#cax = divider.append_axes(\"right\", size=\"5%\", pad=0.05,map_projection=ccrs.PlateCarree())\n",
    "#plt.colorbar(cs, cax=cax)\n",
    "\n",
    "#plt.tight_layout()\n",
    "# Label the plot\n",
    "text_time = ax.text(.995, 0.01, \n",
    "        str(grid.getDataTime())+\"Z\",\n",
    "        horizontalalignment='right', transform=ax.transAxes,\n",
    "        color='white', fontsize=20, weight='bold',zorder=15)\n",
    "\n",
    "text_time2 = ax.text(0.005, 0.01, \n",
    "        \"GOES Meso\",\n",
    "        horizontalalignment='left', transform=ax.transAxes,\n",
    "        color='white', fontsize=20, weight='bold',zorder=15)\n",
    "\n",
    "outline_effect = [patheffects.withStroke(linewidth=5, foreground='black')]\n",
    "text_time.set_path_effects(outline_effect)\n",
    "text_time2.set_path_effects(outline_effect)"
   ]
  },
  {
   "cell_type": "code",
   "execution_count": null,
   "metadata": {},
   "outputs": [],
   "source": [
    "str(grid.getDataTime())[:]"
   ]
  },
  {
   "cell_type": "code",
   "execution_count": null,
   "metadata": {},
   "outputs": [],
   "source": [
    "str(times[i].getRefTime())[:-7]"
   ]
  },
  {
   "cell_type": "code",
   "execution_count": null,
   "metadata": {
    "scrolled": false
   },
   "outputs": [],
   "source": [
    "%%time\n",
    "\n",
    "# Create new figure\n",
    "fig = plt.figure(figsize=(17., 11.))\n",
    "\n",
    "# Add the map and set the extent\n",
    "ax = plt.subplot(111, projection=ccrs.PlateCarree())\n",
    "ax.coastlines(resolution='50m')\n",
    "\n",
    "political_boundaries = NaturalEarthFeature(category='cultural',\n",
    "                               name='admin_0_boundary_lines_land',\n",
    "                               scale='50m', facecolor='none')\n",
    "states = NaturalEarthFeature(category='cultural',\n",
    "                               name='admin_1_states_provinces_lines',\n",
    "                               scale='50m', facecolor='none')\n",
    "ax.add_feature(political_boundaries, linestyle='-', edgecolor='black')\n",
    "ax.add_feature(states, linestyle='-', edgecolor='black',linewidth=2)\n",
    "\n",
    "state_borders = cfeature.NaturalEarthFeature(\n",
    "                category='cultural', name='admin_1_states_provinces_lines',\n",
    "                scale='50m', facecolor='none')\n",
    "ax.add_feature(state_borders, edgecolor='b', linewidth=1, zorder=3)\n",
    "country_borders = cfeature.NaturalEarthFeature(category='cultural',\n",
    "            name='admin_0_countries',scale='50m', facecolor='none')\n",
    "\n",
    "# load the shapefile, use the name 'states'\n",
    "reader = shpreader.Reader('/Users/chowdahead/Downloads/tl_2016_us_primaryroads/tl_2016_us_primaryroads.shp')\n",
    "counties = list(reader.geometries())\n",
    "COUNTIES = cfeature.ShapelyFeature(counties,ccrs.PlateCarree())\n",
    "ax.add_feature(COUNTIES, facecolor='none',edgecolor='r')\n",
    "\n",
    "# Access server for Satellite Image\n",
    "##################################################################################################### \n",
    "DataAccessLayer.changeEDEXHost(\"edex-cloud.unidata.ucar.edu\")\n",
    "request = DataAccessLayer.newDataRequest()\n",
    "request.setDatatype(\"satellite\")\n",
    "availableSectors = DataAccessLayer.getAvailableLocationNames(request)\n",
    "availableSectors.sort()\n",
    "request.setLocationNames(\"EMESO-1\")\n",
    "availableProducts = DataAccessLayer.getAvailableParameters(request)\n",
    "availableProducts.sort()\n",
    "request.setParameters(availableProducts[15])\n",
    "print(availableProducts[15])\n",
    "times = DataAccessLayer.getAvailableTimes(request)\n",
    "response = DataAccessLayer.getGridData(request, [times[-1]])\n",
    "grid = response[0]\n",
    "data = grid.getRawData()\n",
    "#data = np.ma.masked_where(data<10,data)\n",
    "lons,lats = grid.getLatLonCoords()\n",
    "lats = np.nan_to_num(lats)\n",
    "lons = np.nan_to_num(lons)\n",
    "GOES_bbox = [lons.min(), lons.max(), lats.min(), lats.max()]\n",
    "#bbox = [-130.,-60,10.,60.]\n",
    "#bbox = [-110.,-90,30.,45.]\n",
    "print(\"grid size \" + str(data.shape))\n",
    "print(\"grid extent \" + str(list(GOES_bbox)))\n",
    "\n",
    "\n",
    "# Access server for County Warning Areas\n",
    "#####################################################################################################    \n",
    "# Server, Data Request Type, and Database Table\n",
    "DataAccessLayer.changeEDEXHost(\"edex-cloud.unidata.ucar.edu\")\n",
    "request = DataAccessLayer.newDataRequest('maps')\n",
    "request.addIdentifier('table', 'mapdata.county')\n",
    "\n",
    "# Define a WFO ID for location\n",
    "# tie this ID to the mapdata.county column \"cwa\" for filtering\n",
    "cwa = 'ABR'\n",
    "request.setLocationNames(cwa)\n",
    "request.addIdentifier('cwa', cwa)\n",
    "\n",
    "# enable location filtering (inLocation)\n",
    "# locationField is tied to the above cwa definition (BOU)\n",
    "request.addIdentifier('geomField', 'the_geom')\n",
    "request.addIdentifier('inLocation', 'true')\n",
    "request.addIdentifier('locationField', 'cwa')\n",
    "\n",
    "# This is essentially the same as \"'\"select count(*) from mapdata.cwa where cwa='BOU';\" (=1)\n",
    "\n",
    "# Get response and create dict of county geometries\n",
    "response = DataAccessLayer.getGeometryData(request, [])\n",
    "counties = np.array([])\n",
    "for ob in response:\n",
    "    counties = np.append(counties,ob.getGeometry())\n",
    "print(\"Using \" + str(len(counties)) + \" county MultiPolygons\")\n",
    "\n",
    "# All WFO counties merged to a single Polygon\n",
    "merged_counties = cascaded_union(counties)\n",
    "envelope = merged_counties.buffer(2)\n",
    "boundaries=[merged_counties]\n",
    "\n",
    "# Get bounds of this merged Polygon to use as buffered map extent\n",
    "bounds = merged_counties.bounds\n",
    "bbox=[bounds[0]-1,bounds[2]+1,bounds[1]-1.5,bounds[3]+1.5]\n",
    "\n",
    "\n",
    "#fig, ax = make_map(bbox=bbox)\n",
    "\n",
    "for i, geom in enumerate(boundaries):\n",
    "    gbounds = Polygon(geom)\n",
    "    intersection = gbounds.intersection\n",
    "    geoms = (intersection(geom)\n",
    "         for geom in boundaries\n",
    "         if gbounds.intersects(geom))\n",
    "    shape_feature = ShapelyFeature(geoms,ccrs.PlateCarree(), \n",
    "                        facecolor='none', linestyle=\"-\",linewidth=3.,edgecolor='#cc5000')\n",
    "    ax.add_feature(shape_feature)\n",
    "\n",
    "\n",
    "# Get city info for plotting major cities in and around the CWA\n",
    "#####################################################################################################\n",
    "request = DataAccessLayer.newDataRequest('maps', envelope=envelope)\n",
    "request.addIdentifier('table', 'mapdata.city')\n",
    "request.addIdentifier('geomField', 'the_geom')\n",
    "request.setParameters('name','population','prog_disc')\n",
    "cities = DataAccessLayer.getGeometryData(request, [])\n",
    "print(\"Found \" + str(len(cities)) + \" city Points\")\n",
    "\n",
    "citylist = []\n",
    "cityname = []\n",
    "# For BOU, progressive disclosure values above 50 and pop above 5000 looks good\n",
    "for ob in cities:\n",
    "    if ((ob.getNumber(\"prog_disc\")>50) and ob.getString(\"population\") !=\"None\"):\n",
    "        if int(ob.getString(\"population\")) > 5000:\n",
    "    #if ((ob.getNumber(\"prog_disc\")>7000)):\n",
    "            #print(ob.getNumber(\"prog_disc\"))\n",
    "            citylist.append(ob.getGeometry())\n",
    "            cityname.append(ob.getString(\"name\"))\n",
    "            #print(\"city pops: \",ob.getString(\"population\"))\n",
    "citylist.append(ob.getGeometry())\n",
    "cityname.append(ob.getString(\"name\"))\n",
    "print(\"Using \" + str(len(cityname)) + \" city Points\")\n",
    "#print(list(cityname))\n",
    "\n",
    "geolocator = Nominatim()\n",
    "for city in cityname:\n",
    "    #print(city)\n",
    "    loc = geolocator.geocode(city)\n",
    "    try:\n",
    "        #bounds[0],bounds[2],bounds[1],bounds[3]\n",
    "        if bounds[0] < loc.longitude < bounds[2] and bounds[1] < loc.latitude < bounds[3]:\n",
    "            print(city,loc.longitude,loc.latitude)\n",
    "            ax.plot(loc.longitude, loc.latitude,marker='+',color='k',markersize=10,zorder=15)\n",
    "            ax.text(loc.longitude-0.05, loc.latitude+0.05,city,color='k',zorder=15)#linewidth=4,\n",
    "    except:\n",
    "        \"nothing?\"\n",
    "\"\"\"\n",
    "# Topo map\n",
    "#####################################################################################################       \n",
    "import numpy.ma as ma\n",
    "request = DataAccessLayer.newDataRequest()\n",
    "request.setDatatype(\"topo\")\n",
    "request.addIdentifier(\"group\", \"/\")\n",
    "request.addIdentifier(\"dataset\", \"full\")\n",
    "request.setEnvelope(envelope)\n",
    "gridData = DataAccessLayer.getGridData(request)\n",
    "print(gridData)\n",
    "print(\"Number of grid records: \" + str(len(gridData)))\n",
    "print(\"Sample grid data shape:\\n\" + str(gridData[0].getRawData().shape) + \"\\n\")\n",
    "print(\"Sample grid data:\\n\" + str(gridData[0].getRawData()) + \"\\n\")\n",
    "\n",
    "\n",
    "#fig, ax = make_map(bbox=bbox)\n",
    "grid=gridData[0]\n",
    "topo=ma.masked_invalid(grid.getRawData()) \n",
    "lon, lat = grid.getLatLonCoords()\n",
    "print(topo.min())\n",
    "print(topo.max())\n",
    "\n",
    "# Plot topography\n",
    "cs = ax.contourf(lon, lat, topo, 80, cmap=plt.get_cmap('terrain'),alpha=0.1)\n",
    "#cbar = fig.colorbar(cs, extend='both', shrink=0.5, orientation='horizontal')\n",
    "#cbar.set_label(\"topography height in meters\")\n",
    "\"\"\"\n",
    "        \n",
    "# Plotting the GOES data\n",
    "#####################################################################################################\n",
    "cs = ax.pcolormesh(lons, lats, data, cmap=IR.IR_Colormap(),vmin=162.,vmax=330.) #cmap=IR.IR_Colormap(),vmin=162.,vmax=330.\n",
    "cbar = fig.colorbar(cs, fraction=0.031, orientation='horizontal',pad=0.005,aspect=30)\n",
    "\n",
    "\n",
    "# Plot CWA counties\n",
    "#####################################################################################################\n",
    "for i, geom in enumerate(counties):\n",
    "    cbounds = Polygon(geom)\n",
    "    intersection = cbounds.intersection\n",
    "    geoms = (intersection(geom)\n",
    "         for geom in counties\n",
    "         if cbounds.intersects(geom))\n",
    "    shape_feature = ShapelyFeature(geoms,ccrs.PlateCarree(), \n",
    "                        facecolor='none', linestyle=\":\",edgecolor='#cc5300')#'#86989B'\n",
    "    ax.add_feature(shape_feature)\n",
    "        \n",
    "# For GOES lats/lons\n",
    "#ax.set_extent([lons.min(), lons.max(), lats.min(), lats.max()],ccrs.PlateCarree())\n",
    "\n",
    "# For CWA lats/lons\n",
    "ax.set_extent([bounds[0]-4,bounds[2]+4,bounds[1]-6,bounds[3]+6],ccrs.PlateCarree())\n",
    "\n",
    "# Label the plot\n",
    "text_time = ax.text(.995, 0.01, \n",
    "        str(grid.getDataTime())+\"Z\",\n",
    "        horizontalalignment='right', transform=ax.transAxes,\n",
    "        color='white', fontsize=20, weight='bold',zorder=15)\n",
    "\n",
    "text_time2 = ax.text(0.005, 0.01, \n",
    "        \"GOES \\n CWA: \"+cwa,\n",
    "        horizontalalignment='left', transform=ax.transAxes,\n",
    "        color='white', fontsize=20, weight='bold',zorder=15)\n",
    "#Sector+\": \"+Channel+\" - CWA: \"+cwa\n",
    "\n",
    "\n",
    "outline_effect = [patheffects.withStroke(linewidth=5, foreground='black')]\n",
    "text_time.set_path_effects(outline_effect)\n",
    "text_time2.set_path_effects(outline_effect)\n",
    "title = str(grid.getDataTime())[:-2].replace(\":\",\"\").replace(\" \",\"_\")\n",
    "#plt.show()\n",
    "plt.savefig(\"/Users/chowdahead/Desktop/GOES_cwa_\"+cwa+\"_\"+\n",
    "    title+\"Z\"+\".png\",bbox_inches=\"tight\",dpi=200)"
   ]
  },
  {
   "cell_type": "code",
   "execution_count": null,
   "metadata": {},
   "outputs": [],
   "source": [
    "text_time2 = ax2.text(loc.longitude-0.05, loc.latitude+0.05, \n",
    "            city,\n",
    "            horizontalalignment='left', transform=ccrs.PlateCarree(),\n",
    "            color='white', fontsize=8, weight='bold',zorder=15)\n",
    "\n",
    "    outline_effect = [patheffects.withStroke(linewidth=3, foreground='black')]\n",
    "    text_time2.set_path_effects(outline_effect)"
   ]
  },
  {
   "cell_type": "code",
   "execution_count": null,
   "metadata": {},
   "outputs": [],
   "source": [
    "lon.min(),lat.min(),lon.max(),lat.max()"
   ]
  },
  {
   "cell_type": "code",
   "execution_count": null,
   "metadata": {},
   "outputs": [],
   "source": [
    "bounds[0],bounds[2],bounds[1],bounds[3]\n"
   ]
  },
  {
   "cell_type": "code",
   "execution_count": null,
   "metadata": {},
   "outputs": [],
   "source": [
    "lons.min(), lons.max(), lats.min(), lats.max()"
   ]
  },
  {
   "cell_type": "code",
   "execution_count": null,
   "metadata": {},
   "outputs": [],
   "source": [
    "from netCDF4 import Dataset\n",
    "import numpy as np\n",
    "import os\n",
    "\n",
    "# navigate to directory with .nc data files (raw radiance files in my case)\n",
    "os.chdir('/Users/chowdahead/Downloads/')\n",
    "full_direc = os.listdir()\n",
    "nc_files = [ii for ii in full_direc if ii.endswith('.nc')]\n",
    "nc_indx = 0\n",
    "g16_data_file = nc_files[nc_indx] # select .nc file\n",
    "print(nc_files[nc_indx]) # print file name\n",
    "\n",
    "# designate dataset\n",
    "g16nc = Dataset(g16_data_file, 'r')\n",
    "\n",
    "# GOES-R projection info and retrieving relevant constants\n",
    "proj_info = g16nc.variables['goes_imager_projection']\n",
    "lon_origin = proj_info.longitude_of_projection_origin\n",
    "H = proj_info.perspective_point_height+proj_info.semi_major_axis\n",
    "r_eq = proj_info.semi_major_axis\n",
    "r_pol = proj_info.semi_minor_axis\n",
    "\n",
    "# Data info\n",
    "lat_rad_1d = g16nc.variables['x'][:]\n",
    "lon_rad_1d = g16nc.variables['y'][:]\n",
    "\n",
    "# close file when finished\n",
    "g16nc.close()\n",
    "g16nc = None\n",
    "\n",
    "# create meshgrid filled with radian angles\n",
    "lat_rad,lon_rad = np.meshgrid(lat_rad_1d,lon_rad_1d)\n",
    "\n",
    "# lat/lon calc routine from satellite radian angle vectors\n",
    "\n",
    "lambda_0 = (lon_origin*np.pi)/180.0\n",
    "\n",
    "a_var = np.power(np.sin(lat_rad),2.0) + (np.power(np.cos(lat_rad),2.0)*(np.power(np.cos(lon_rad),2.0)+(((r_eq*r_eq)/(r_pol*r_pol))*np.power(np.sin(lon_rad),2.0))))\n",
    "b_var = -2.0*H*np.cos(lat_rad)*np.cos(lon_rad)\n",
    "c_var = (H**2.0)-(r_eq**2.0)\n",
    "\n",
    "r_s = (-1.0*b_var - np.sqrt((b_var**2)-(4.0*a_var*c_var)))/(2.0*a_var)\n",
    "\n",
    "s_x = r_s*np.cos(lat_rad)*np.cos(lon_rad)\n",
    "s_y = - r_s*np.sin(lat_rad)\n",
    "s_z = r_s*np.cos(lat_rad)*np.sin(lon_rad)\n",
    "\n",
    "lat = (180.0/np.pi)*(np.arctan(((r_eq*r_eq)/(r_pol*r_pol))*((s_z/np.sqrt(((H-s_x)*(H-s_x))+(s_y*s_y))))))\n",
    "lon = (lambda_0 - np.arctan(s_y/(H-s_x)))*(180.0/np.pi)\n",
    "\n",
    "\n",
    "# print test coordinates\n",
    "print('{} N, {} W'.format(lat[318,1849],abs(lon[318,1849])))"
   ]
  },
  {
   "cell_type": "code",
   "execution_count": null,
   "metadata": {},
   "outputs": [],
   "source": []
  },
  {
   "cell_type": "code",
   "execution_count": null,
   "metadata": {},
   "outputs": [],
   "source": []
  },
  {
   "cell_type": "code",
   "execution_count": null,
   "metadata": {},
   "outputs": [],
   "source": []
  },
  {
   "cell_type": "code",
   "execution_count": null,
   "metadata": {},
   "outputs": [],
   "source": [
    "cd ~/Desktop/"
   ]
  },
  {
   "cell_type": "markdown",
   "metadata": {},
   "source": [
    "# Animation"
   ]
  },
  {
   "cell_type": "code",
   "execution_count": null,
   "metadata": {},
   "outputs": [],
   "source": [
    "import glob"
   ]
  },
  {
   "cell_type": "code",
   "execution_count": null,
   "metadata": {},
   "outputs": [],
   "source": [
    "glob.glob(\"*EMESO-2*\")"
   ]
  },
  {
   "cell_type": "code",
   "execution_count": null,
   "metadata": {},
   "outputs": [],
   "source": [
    "if Sector ==\"ECONUS\" or \"WCONUS\":\n",
    "    extent = [-130,-65,10,55]\n",
    "if Sector !=\"ECONUS\" or \"WCONUS\":\n",
    "    extent = None"
   ]
  },
  {
   "cell_type": "code",
   "execution_count": null,
   "metadata": {},
   "outputs": [],
   "source": [
    "meshes = []\n",
    "for i in range(1,6):\n",
    "    cs = GOES(Sector,Channel,IR.IR_Colormap(),times[-i],vmin=162.,vmax=330.,roads=\"\",User_Extent=extent)\n",
    "    # Collect the things we've plotted so we can animate\n",
    "    meshes.append(cs)\n"
   ]
  },
  {
   "cell_type": "code",
   "execution_count": null,
   "metadata": {},
   "outputs": [],
   "source": []
  },
  {
   "cell_type": "code",
   "execution_count": null,
   "metadata": {},
   "outputs": [],
   "source": [
    "# Set up matplotlib to do the conversion to HTML5 video\n",
    "import matplotlib\n",
    "matplotlib.rcParams['animation.html'] = 'html5'"
   ]
  },
  {
   "cell_type": "code",
   "execution_count": null,
   "metadata": {},
   "outputs": [],
   "source": [
    "# Create an animation\n",
    "fig = plt.figure(figsize=(10, 10))\n",
    "from matplotlib.animation import ArtistAnimation\n",
    "ArtistAnimation(fig,meshes,blit = False)\n"
   ]
  },
  {
   "cell_type": "code",
   "execution_count": null,
   "metadata": {},
   "outputs": [],
   "source": [
    "matplotlib.animation.FileMovieWriter(meshes)"
   ]
  },
  {
   "cell_type": "code",
   "execution_count": null,
   "metadata": {},
   "outputs": [],
   "source": []
  }
 ],
 "metadata": {
  "kernelspec": {
   "display_name": "Python 3",
   "language": "python",
   "name": "python3"
  },
  "language_info": {
   "codemirror_mode": {
    "name": "ipython",
    "version": 3
   },
   "file_extension": ".py",
   "mimetype": "text/x-python",
   "name": "python",
   "nbconvert_exporter": "python",
   "pygments_lexer": "ipython3",
   "version": "3.7.2"
  }
 },
 "nbformat": 4,
 "nbformat_minor": 2
}
