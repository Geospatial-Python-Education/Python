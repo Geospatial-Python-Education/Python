{
 "cells": [
  {
   "cell_type": "markdown",
   "metadata": {},
   "source": [
    "# Copying GOES netCDF Files via rclone and Amazon Web Serives"
   ]
  },
  {
   "cell_type": "markdown",
   "metadata": {},
   "source": [
    "## Start by listing the directories in the GOES-16 bucket\n",
    "* lsd means list only directories\n",
    "* publicAWS is the remote name I chose for my setup\n",
    "     - taken from setup instructions at https://github.com/blaylockbk/pyBKB_v3/blob/master/rclone_howto.md"
   ]
  },
  {
   "cell_type": "code",
   "execution_count": 1,
   "metadata": {},
   "outputs": [
    {
     "name": "stdout",
     "output_type": "stream",
     "text": [
      "           0 2019-07-17 10:18:54        -1 00\r\n",
      "           0 2019-07-17 10:18:54        -1 01\r\n",
      "           0 2019-07-17 10:18:54        -1 02\r\n",
      "           0 2019-07-17 10:18:54        -1 03\r\n",
      "           0 2019-07-17 10:18:54        -1 04\r\n",
      "           0 2019-07-17 10:18:54        -1 05\r\n",
      "           0 2019-07-17 10:18:54        -1 06\r\n",
      "           0 2019-07-17 10:18:54        -1 07\r\n",
      "           0 2019-07-17 10:18:54        -1 08\r\n",
      "           0 2019-07-17 10:18:54        -1 09\r\n",
      "           0 2019-07-17 10:18:54        -1 10\r\n",
      "           0 2019-07-17 10:18:54        -1 11\r\n",
      "           0 2019-07-17 10:18:54        -1 12\r\n",
      "           0 2019-07-17 10:18:54        -1 13\r\n",
      "           0 2019-07-17 10:18:54        -1 14\r\n",
      "           0 2019-07-17 10:18:54        -1 15\r\n",
      "           0 2019-07-17 10:18:54        -1 16\r\n",
      "           0 2019-07-17 10:18:54        -1 17\r\n",
      "           0 2019-07-17 10:18:54        -1 18\r\n",
      "           0 2019-07-17 10:18:54        -1 19\r\n",
      "           0 2019-07-17 10:18:54        -1 20\r\n",
      "           0 2019-07-17 10:18:54        -1 21\r\n",
      "           0 2019-07-17 10:18:54        -1 22\r\n",
      "           0 2019-07-17 10:18:54        -1 23\r\n"
     ]
    }
   ],
   "source": [
    "! rclone lsd publicAWS:noaa-goes16/ABI-L1b-RadC/2019/191/"
   ]
  },
  {
   "cell_type": "code",
   "execution_count": 2,
   "metadata": {},
   "outputs": [],
   "source": [
    "! rclone copy publicAWS:noaa-nexrad-level2/2019/05//KFTG/KFTG20190404_000446_V06 ./"
   ]
  },
  {
   "cell_type": "code",
   "execution_count": 3,
   "metadata": {},
   "outputs": [
    {
     "name": "stdout",
     "output_type": "stream",
     "text": [
      "\u001b[1m\u001b[34m03_12\u001b[m\u001b[m/\r\n",
      "AWIPS.ipynb\r\n",
      "\u001b[1m\u001b[34mApplications\u001b[m\u001b[m/\r\n",
      "CO_Bomb_SPC_Sfc_Analysis.ipynb\r\n",
      "Color_Bar.ipynb\r\n",
      "Color_Bar.py\r\n",
      "Daily_Notebooks_WeatherBlog.ipynb\r\n",
      "Datetime_To_JulianDay.ipynb\r\n",
      "Datetime_To_JulianDay.py\r\n",
      "\u001b[1m\u001b[34mDesktop\u001b[m\u001b[m/\r\n",
      "\u001b[1m\u001b[34mDocuments\u001b[m\u001b[m/\r\n",
      "\u001b[1m\u001b[34mDownloads\u001b[m\u001b[m/\r\n",
      "GFS_Archived_Thredds.ipynb\r\n",
      "GFS_Forecast_Thredds_WXChallenge.ipynb\r\n",
      "GFS_Forecast_Thredds_WeatherBlog-Copy1.ipynb\r\n",
      "GFS_Forecast_Thredds_WeatherBlog.ipynb\r\n",
      "GOES-16_Images_WeatherBlog.ipynb\r\n",
      "GOES-16_Images_Workbook.ipynb\r\n",
      "GOES-17_Images_WeatherBlog.ipynb\r\n",
      "GOES_GLM_Basic_WeatherBlog.ipynb\r\n",
      "GOES_Images_IR.ipynb\r\n",
      "GOES_Images_TrueColor.ipynb\r\n",
      "GOES_Images_Visible-Copy1.ipynb\r\n",
      "GOES_Images_Visible.ipynb\r\n",
      "GOES_Images_WV.ipynb\r\n",
      "GOES_Thredds_Current_GOES-Copy1.ipynb\r\n",
      "GOES_Thredds_Current_GOES.ipynb\r\n",
      "GOES_Thredds_Current_GOES.py\r\n",
      "\u001b[1m\u001b[34mGoogle Drive\u001b[m\u001b[m/\r\n",
      "HDF.ipynb\r\n",
      "Hi_Lo.ipynb\r\n",
      "Hi_Lo.py\r\n",
      "JulianDay_To_Datetime.ipynb\r\n",
      "JulianDay_To_Datetime.py\r\n",
      "\u001b[1m\u001b[34mJupyter Notebook\u001b[m\u001b[m/\r\n",
      "KFTG20190404_000446_V06\r\n",
      "\u001b[1m\u001b[34mLibrary\u001b[m\u001b[m/\r\n",
      "Maps_Current.ipynb\r\n",
      "Maps_Current.py\r\n",
      "Maps_Current_WeatherBlog.ipynb\r\n",
      "Maps_Current_WeatherBlog.py\r\n",
      "MetPy_AWS_Radar_Final.ipynb\r\n",
      "MetPy_AWS_Radar_WORKS!-Copy1.ipynb\r\n",
      "MetPy_AWS_Radar_WORKS!.ipynb\r\n",
      "MetPy_Basic_Sounding.ipynb\r\n",
      "MetPy_Basic_Sounding_WeatherBlog.ipynb\r\n",
      "\u001b[1m\u001b[34mModel_Notebooks\u001b[m\u001b[m/\r\n",
      "Montgomery_Stream_Function.ipynb\r\n",
      "\u001b[1m\u001b[34mMovies\u001b[m\u001b[m/\r\n",
      "\u001b[1m\u001b[34mMusic\u001b[m\u001b[m/\r\n",
      "NAM_Forecast_Thredds_WeatherBlog.ipynb\r\n",
      "POES_draft.ipynb\r\n",
      "Pandas_RAL_CSV_WORKS.ipynb\r\n",
      "\u001b[1m\u001b[34mPictures\u001b[m\u001b[m/\r\n",
      "Plot_and_Subplot.ipynb\r\n",
      "Precipitation_Map.ipynb\r\n",
      "\u001b[1m\u001b[34mPublic\u001b[m\u001b[m/\r\n",
      "PyArt_Fail.ipynb\r\n",
      "Q-Vectors_draft.ipynb\r\n",
      "RAP_Forecast_Thredds_WeatherBlog.ipynb\r\n",
      "Radar_Current_Quick.ipynb\r\n",
      "Resized_wwwspcnoaagovclimoreports190312_rptshtml-clipped.png\r\n",
      "Resized_wwwspcnoaagovclimoreports190312_rptshtml-full.png\r\n",
      "Resized_wwwspcnoaagovclimoreports190314_rptshtml-full.png\r\n",
      "Resized_wwwspcnoaagovproductsmdmd0169html-clipped.png\r\n",
      "Resized_wwwspcnoaagovproductsmdmd0169html-thumb.png\r\n",
      "Resized_wwwspcnoaagovproductsmdmd0170html-clipped.png\r\n",
      "Resized_wwwspcnoaagovproductsmdmd0170html-thumb.png\r\n",
      "Resized_wwwweathergov-clipped.png\r\n",
      "Resized_wwwweathergov-full.png\r\n",
      "Running_Datetime-Julian_Notbeooks_WORKS.ipynb\r\n",
      "\u001b[1m\u001b[34mSHARPpy\u001b[m\u001b[m/\r\n",
      "SPC_Upper_Air_WeatherBlog_NEEDS_FIXING.ipynb\r\n",
      "Snow_Percent_WeatherBlog.ipynb\r\n",
      "Sounding_MTR_2410_HW.ipynb\r\n",
      "Thredds_Archived_CONUS_Composite_Radar.ipynb\r\n",
      "Thredds_CONUS_Composite_Radar.ipynb\r\n",
      "Thredds_CONUS_Composite_Radar_Final.ipynb\r\n",
      "Thredds_CONUS_Composite_Radar_GOES_draft.ipynb\r\n",
      "Thredds_GOES.ipynb\r\n",
      "Thredds_Obs_draft_NOT_WORKING_YET.ipynb\r\n",
      "Thredds_Widget_Blog.ipynb\r\n",
      "Untitled.ipynb\r\n",
      "Untitled1.ipynb\r\n",
      "Untitled2.ipynb\r\n",
      "Untitled3.ipynb\r\n",
      "Untitled4.ipynb\r\n",
      "Untitled5.ipynb\r\n",
      "Untitled6.ipynb\r\n",
      "\u001b[1m\u001b[34mUsers\u001b[m\u001b[m/\r\n",
      "Warnings_CROPPED.png\r\n",
      "\u001b[1m\u001b[34m__pycache__\u001b[m\u001b[m/\r\n",
      "\u001b[1m\u001b[34meclipse-workspace\u001b[m\u001b[m/\r\n",
      "fileUserschowdaheadDownloadsGFS_Forecast_Thredds_WeatherBloghtml-clipped.png\r\n",
      "fileUserschowdaheadDownloadsGFS_Forecast_Thredds_WeatherBloghtml-full.png\r\n",
      "fileUserschowdaheadDownloadsGFS_Forecast_Thredds_WeatherBloghtml-thumb.png\r\n",
      "forecastweathergovproductphpsiteBOU-clipped.png\r\n",
      "forecastweathergovproductphpsiteBOU-full.png\r\n",
      "forecastweathergovproductphpsiteBOU-thumb.png\r\n",
      "himawari_COMET_KMA.ipynb\r\n",
      "\u001b[1m\u001b[34mholoviews-examples\u001b[m\u001b[m/\r\n",
      "im_save_path\r\n",
      "local-filename.jpg\r\n",
      "\u001b[1m\u001b[34mminiconda3\u001b[m\u001b[m/\r\n",
      "netCDF_Files_Demo.ipynb\r\n",
      "parallel_proccessing_intro.ipynb\r\n",
      "rclone_AWS_GOES.ipynb\r\n",
      "rclone_AWS_GOES_data_DRAFT.ipynb\r\n",
      "satpy_fail.ipynb\r\n",
      "satpy_notworking.ipynb\r\n",
      "temp.nc\r\n",
      "wwwspcnoaagovclimoreports190312_rptshtml-clipped.png\r\n",
      "wwwspcnoaagovclimoreports190312_rptshtml-full.png\r\n",
      "wwwspcnoaagovclimoreports190312_rptshtml-thumb.png\r\n",
      "wwwspcnoaagovclimoreports190314_rptshtml-clipped.png\r\n",
      "wwwspcnoaagovclimoreports190314_rptshtml-full.png\r\n",
      "wwwspcnoaagovclimoreports190314_rptshtml-thumb.png\r\n",
      "wwwspcnoaagovproductsmdmd0169html-clipped.png\r\n",
      "wwwspcnoaagovproductsmdmd0169html-full.png\r\n",
      "wwwspcnoaagovproductsmdmd0169html-thumb.png\r\n",
      "wwwspcnoaagovproductsmdmd0170html-clipped.png\r\n",
      "wwwspcnoaagovproductsmdmd0170html-full.png\r\n",
      "wwwspcnoaagovproductsmdmd0170html-thumb.png\r\n",
      "wwwweathergov-clipped.png\r\n",
      "wwwweathergov-full.png\r\n",
      "wwwweathergov-thumb.png\r\n",
      "wxPython_NOT_WORKING.ipynb\r\n"
     ]
    }
   ],
   "source": [
    "ls"
   ]
  },
  {
   "cell_type": "code",
   "execution_count": 4,
   "metadata": {},
   "outputs": [
    {
     "name": "stdout",
     "output_type": "stream",
     "text": [
      "           0 2019-05-23 16:28:01        -1 ABI-L1b-RadC\r\n",
      "           0 2019-05-23 16:28:01        -1 ABI-L1b-RadF\r\n",
      "           0 2019-05-23 16:28:01        -1 ABI-L1b-RadM\r\n",
      "           0 2019-05-23 16:28:01        -1 ABI-L2-CMIPC\r\n",
      "           0 2019-05-23 16:28:01        -1 ABI-L2-CMIPF\r\n",
      "           0 2019-05-23 16:28:01        -1 ABI-L2-CMIPM\r\n",
      "           0 2019-05-23 16:28:01        -1 ABI-L2-MCMIPC\r\n",
      "           0 2019-05-23 16:28:01        -1 ABI-L2-MCMIPF\r\n",
      "           0 2019-05-23 16:28:01        -1 ABI-L2-MCMIPM\r\n",
      "           0 2019-05-23 16:28:01        -1 GLM-L2-LCFA\r\n"
     ]
    }
   ],
   "source": [
    "! rclone lsd publicAWS:noaa-goes16/"
   ]
  },
  {
   "cell_type": "code",
   "execution_count": 5,
   "metadata": {},
   "outputs": [
    {
     "name": "stdout",
     "output_type": "stream",
     "text": [
      "           0 2019-05-23 16:28:03        -1 ABI-L1b-RadC\r\n",
      "           0 2019-05-23 16:28:03        -1 ABI-L1b-RadF\r\n",
      "           0 2019-05-23 16:28:03        -1 ABI-L1b-RadM\r\n",
      "           0 2019-05-23 16:28:03        -1 ABI-L2-CMIPC\r\n",
      "           0 2019-05-23 16:28:03        -1 ABI-L2-CMIPF\r\n",
      "           0 2019-05-23 16:28:03        -1 ABI-L2-CMIPM\r\n",
      "           0 2019-05-23 16:28:03        -1 ABI-L2-MCMIPC\r\n",
      "           0 2019-05-23 16:28:03        -1 ABI-L2-MCMIPF\r\n",
      "           0 2019-05-23 16:28:03        -1 ABI-L2-MCMIPM\r\n",
      "           0 2019-05-23 16:28:03        -1 GLM-L2-LCFA\r\n"
     ]
    }
   ],
   "source": [
    "! rclone lsd publicAWS:noaa-goes17/"
   ]
  },
  {
   "cell_type": "markdown",
   "metadata": {},
   "source": [
    "## List all the years available"
   ]
  },
  {
   "cell_type": "code",
   "execution_count": 6,
   "metadata": {},
   "outputs": [
    {
     "name": "stdout",
     "output_type": "stream",
     "text": [
      "           0 2019-05-23 16:28:06        -1 2000\r\n",
      "           0 2019-05-23 16:28:06        -1 2017\r\n",
      "           0 2019-05-23 16:28:06        -1 2018\r\n",
      "           0 2019-05-23 16:28:06        -1 2019\r\n"
     ]
    }
   ],
   "source": [
    "! rclone lsd publicAWS:noaa-goes16/ABI-L1b-RadC/"
   ]
  },
  {
   "cell_type": "markdown",
   "metadata": {},
   "source": [
    "## List the days available \n",
    "### -Note- these are Julian day numbers"
   ]
  },
  {
   "cell_type": "code",
   "execution_count": 7,
   "metadata": {},
   "outputs": [
    {
     "name": "stdout",
     "output_type": "stream",
     "text": [
      "           0 2019-05-23 16:28:14        -1 001\r\n",
      "           0 2019-05-23 16:28:14        -1 002\r\n",
      "           0 2019-05-23 16:28:14        -1 003\r\n",
      "           0 2019-05-23 16:28:14        -1 004\r\n",
      "           0 2019-05-23 16:28:14        -1 005\r\n",
      "           0 2019-05-23 16:28:14        -1 006\r\n",
      "           0 2019-05-23 16:28:14        -1 007\r\n",
      "           0 2019-05-23 16:28:14        -1 008\r\n",
      "           0 2019-05-23 16:28:14        -1 009\r\n",
      "           0 2019-05-23 16:28:14        -1 010\r\n",
      "           0 2019-05-23 16:28:14        -1 011\r\n",
      "           0 2019-05-23 16:28:14        -1 012\r\n",
      "           0 2019-05-23 16:28:14        -1 013\r\n",
      "           0 2019-05-23 16:28:14        -1 014\r\n",
      "           0 2019-05-23 16:28:14        -1 015\r\n",
      "           0 2019-05-23 16:28:14        -1 016\r\n",
      "           0 2019-05-23 16:28:14        -1 017\r\n",
      "           0 2019-05-23 16:28:14        -1 018\r\n",
      "           0 2019-05-23 16:28:14        -1 019\r\n",
      "           0 2019-05-23 16:28:14        -1 020\r\n",
      "           0 2019-05-23 16:28:14        -1 021\r\n",
      "           0 2019-05-23 16:28:14        -1 022\r\n",
      "           0 2019-05-23 16:28:14        -1 023\r\n",
      "           0 2019-05-23 16:28:14        -1 024\r\n",
      "           0 2019-05-23 16:28:14        -1 025\r\n",
      "           0 2019-05-23 16:28:14        -1 026\r\n",
      "           0 2019-05-23 16:28:14        -1 027\r\n",
      "           0 2019-05-23 16:28:14        -1 028\r\n",
      "           0 2019-05-23 16:28:14        -1 029\r\n",
      "           0 2019-05-23 16:28:14        -1 030\r\n",
      "           0 2019-05-23 16:28:14        -1 031\r\n",
      "           0 2019-05-23 16:28:14        -1 032\r\n",
      "           0 2019-05-23 16:28:14        -1 033\r\n",
      "           0 2019-05-23 16:28:14        -1 034\r\n",
      "           0 2019-05-23 16:28:14        -1 035\r\n",
      "           0 2019-05-23 16:28:14        -1 036\r\n",
      "           0 2019-05-23 16:28:14        -1 037\r\n",
      "           0 2019-05-23 16:28:14        -1 038\r\n",
      "           0 2019-05-23 16:28:14        -1 039\r\n",
      "           0 2019-05-23 16:28:14        -1 040\r\n",
      "           0 2019-05-23 16:28:14        -1 041\r\n",
      "           0 2019-05-23 16:28:14        -1 042\r\n",
      "           0 2019-05-23 16:28:14        -1 043\r\n",
      "           0 2019-05-23 16:28:14        -1 044\r\n",
      "           0 2019-05-23 16:28:14        -1 045\r\n",
      "           0 2019-05-23 16:28:14        -1 046\r\n",
      "           0 2019-05-23 16:28:14        -1 047\r\n",
      "           0 2019-05-23 16:28:14        -1 048\r\n",
      "           0 2019-05-23 16:28:14        -1 049\r\n",
      "           0 2019-05-23 16:28:14        -1 050\r\n",
      "           0 2019-05-23 16:28:14        -1 051\r\n",
      "           0 2019-05-23 16:28:14        -1 052\r\n",
      "           0 2019-05-23 16:28:14        -1 053\r\n",
      "           0 2019-05-23 16:28:14        -1 054\r\n",
      "           0 2019-05-23 16:28:14        -1 055\r\n",
      "           0 2019-05-23 16:28:14        -1 056\r\n",
      "           0 2019-05-23 16:28:14        -1 057\r\n",
      "           0 2019-05-23 16:28:14        -1 058\r\n",
      "           0 2019-05-23 16:28:14        -1 059\r\n",
      "           0 2019-05-23 16:28:14        -1 060\r\n",
      "           0 2019-05-23 16:28:14        -1 061\r\n",
      "           0 2019-05-23 16:28:14        -1 062\r\n",
      "           0 2019-05-23 16:28:14        -1 063\r\n",
      "           0 2019-05-23 16:28:14        -1 064\r\n",
      "           0 2019-05-23 16:28:14        -1 065\r\n",
      "           0 2019-05-23 16:28:14        -1 066\r\n",
      "           0 2019-05-23 16:28:14        -1 067\r\n",
      "           0 2019-05-23 16:28:14        -1 068\r\n",
      "           0 2019-05-23 16:28:14        -1 069\r\n",
      "           0 2019-05-23 16:28:14        -1 070\r\n",
      "           0 2019-05-23 16:28:14        -1 071\r\n",
      "           0 2019-05-23 16:28:14        -1 072\r\n",
      "           0 2019-05-23 16:28:14        -1 073\r\n",
      "           0 2019-05-23 16:28:14        -1 074\r\n",
      "           0 2019-05-23 16:28:14        -1 075\r\n",
      "           0 2019-05-23 16:28:14        -1 076\r\n",
      "           0 2019-05-23 16:28:14        -1 077\r\n",
      "           0 2019-05-23 16:28:14        -1 078\r\n",
      "           0 2019-05-23 16:28:14        -1 079\r\n",
      "           0 2019-05-23 16:28:14        -1 080\r\n",
      "           0 2019-05-23 16:28:14        -1 081\r\n",
      "           0 2019-05-23 16:28:14        -1 082\r\n",
      "           0 2019-05-23 16:28:14        -1 083\r\n",
      "           0 2019-05-23 16:28:14        -1 084\r\n",
      "           0 2019-05-23 16:28:14        -1 085\r\n",
      "           0 2019-05-23 16:28:14        -1 086\r\n",
      "           0 2019-05-23 16:28:14        -1 087\r\n",
      "           0 2019-05-23 16:28:14        -1 088\r\n",
      "           0 2019-05-23 16:28:14        -1 089\r\n",
      "           0 2019-05-23 16:28:14        -1 090\r\n",
      "           0 2019-05-23 16:28:14        -1 091\r\n",
      "           0 2019-05-23 16:28:14        -1 092\r\n",
      "           0 2019-05-23 16:28:14        -1 093\r\n",
      "           0 2019-05-23 16:28:14        -1 094\r\n",
      "           0 2019-05-23 16:28:14        -1 095\r\n",
      "           0 2019-05-23 16:28:14        -1 096\r\n",
      "           0 2019-05-23 16:28:14        -1 097\r\n",
      "           0 2019-05-23 16:28:14        -1 098\r\n",
      "           0 2019-05-23 16:28:14        -1 099\r\n",
      "           0 2019-05-23 16:28:14        -1 100\r\n",
      "           0 2019-05-23 16:28:14        -1 101\r\n",
      "           0 2019-05-23 16:28:14        -1 102\r\n",
      "           0 2019-05-23 16:28:14        -1 103\r\n",
      "           0 2019-05-23 16:28:14        -1 104\r\n",
      "           0 2019-05-23 16:28:14        -1 105\r\n",
      "           0 2019-05-23 16:28:14        -1 106\r\n",
      "           0 2019-05-23 16:28:14        -1 107\r\n",
      "           0 2019-05-23 16:28:14        -1 108\r\n",
      "           0 2019-05-23 16:28:14        -1 109\r\n",
      "           0 2019-05-23 16:28:14        -1 110\r\n",
      "           0 2019-05-23 16:28:14        -1 111\r\n",
      "           0 2019-05-23 16:28:14        -1 112\r\n",
      "           0 2019-05-23 16:28:14        -1 113\r\n",
      "           0 2019-05-23 16:28:14        -1 114\r\n",
      "           0 2019-05-23 16:28:14        -1 115\r\n",
      "           0 2019-05-23 16:28:14        -1 116\r\n",
      "           0 2019-05-23 16:28:14        -1 117\r\n",
      "           0 2019-05-23 16:28:14        -1 118\r\n",
      "           0 2019-05-23 16:28:14        -1 119\r\n",
      "           0 2019-05-23 16:28:14        -1 120\r\n",
      "           0 2019-05-23 16:28:14        -1 121\r\n",
      "           0 2019-05-23 16:28:14        -1 122\r\n",
      "           0 2019-05-23 16:28:14        -1 123\r\n",
      "           0 2019-05-23 16:28:14        -1 124\r\n",
      "           0 2019-05-23 16:28:14        -1 125\r\n",
      "           0 2019-05-23 16:28:14        -1 126\r\n",
      "           0 2019-05-23 16:28:14        -1 127\r\n",
      "           0 2019-05-23 16:28:14        -1 128\r\n",
      "           0 2019-05-23 16:28:14        -1 129\r\n",
      "           0 2019-05-23 16:28:14        -1 130\r\n",
      "           0 2019-05-23 16:28:14        -1 131\r\n",
      "           0 2019-05-23 16:28:14        -1 132\r\n",
      "           0 2019-05-23 16:28:14        -1 133\r\n",
      "           0 2019-05-23 16:28:14        -1 134\r\n",
      "           0 2019-05-23 16:28:14        -1 135\r\n",
      "           0 2019-05-23 16:28:14        -1 136\r\n",
      "           0 2019-05-23 16:28:14        -1 137\r\n",
      "           0 2019-05-23 16:28:14        -1 138\r\n",
      "           0 2019-05-23 16:28:14        -1 139\r\n",
      "           0 2019-05-23 16:28:14        -1 140\r\n",
      "           0 2019-05-23 16:28:14        -1 141\r\n",
      "           0 2019-05-23 16:28:14        -1 142\r\n",
      "           0 2019-05-23 16:28:14        -1 143\r\n"
     ]
    }
   ],
   "source": [
    "! rclone lsd publicAWS:noaa-goes16/ABI-L1b-RadC/2019/"
   ]
  },
  {
   "cell_type": "markdown",
   "metadata": {},
   "source": [
    "## List all the hour directories for the given day\n",
    "* Source: https://www.science-emergence.com/Articles/MODIS-Convert-Julian-Date-to-MMDDYYYY-Date-format-using-python/"
   ]
  },
  {
   "cell_type": "code",
   "execution_count": 18,
   "metadata": {},
   "outputs": [
    {
     "name": "stdout",
     "output_type": "stream",
     "text": [
      "6 23 2018\n"
     ]
    }
   ],
   "source": [
    "import calendar\n",
    "\n",
    "def JulianDate_to_MMDDYYY(y,jd):\n",
    "    month = 1\n",
    "    day = 0\n",
    "    while jd - calendar.monthrange(y,month)[1] > 0 and month <= 12:\n",
    "        jd = jd - calendar.monthrange(y,month)[1]\n",
    "        month = month + 1\n",
    "    print(month,jd,y)\n",
    "\n",
    "JulianDate_to_MMDDYYY(2018,174)\n"
   ]
  },
  {
   "cell_type": "code",
   "execution_count": 10,
   "metadata": {},
   "outputs": [],
   "source": [
    "from datetime import date"
   ]
  },
  {
   "cell_type": "code",
   "execution_count": 11,
   "metadata": {},
   "outputs": [
    {
     "name": "stdout",
     "output_type": "stream",
     "text": [
      "142\n",
      "<class 'int'>\n"
     ]
    }
   ],
   "source": [
    "# Start of year for reference\n",
    "d0 = date(2019, 1, 1)\n",
    "\n",
    "# Set the date you want to convert\n",
    "d1 = date(2019, 5, 22)\n",
    "\n",
    "# \n",
    "delta = d1 - d0\n",
    "print(delta.days+1)\n",
    "Day = delta.days+1\n",
    "print(type(Day))"
   ]
  },
  {
   "cell_type": "code",
   "execution_count": 12,
   "metadata": {},
   "outputs": [
    {
     "name": "stdout",
     "output_type": "stream",
     "text": [
      "  4894153 OR_ABI-L1b-RadC-M6C14_G16_s20191000051195_e20191000053568_c20191000054008.nc\r\n"
     ]
    }
   ],
   "source": [
    "! rclone ls publicAWS:noaa-goes16/ABI-L1b-RadC/2019/100/00/OR_ABI-L1b-RadC-M6C14_G16_s20191000051195_e20191000053568_c20191000054008.nc\n",
    "    "
   ]
  },
  {
   "cell_type": "code",
   "execution_count": 16,
   "metadata": {},
   "outputs": [],
   "source": [
    "a = 'these'\n",
    "b = 'are positional'\n",
    "c = ''.join(['py','th','on',' ','va','ri','ab','le','s']) + '!'"
   ]
  },
  {
   "cell_type": "code",
   "execution_count": 35,
   "metadata": {},
   "outputs": [
    {
     "name": "stdout",
     "output_type": "stream",
     "text": [
      "a=these b=are positional c=python variables!\n"
     ]
    }
   ],
   "source": [
    "%%bash -s \"$a\" \"$b\" \"$c\"\n",
    "echo \"a=$1 b=$2 c=$3\"\n"
   ]
  },
  {
   "cell_type": "markdown",
   "metadata": {},
   "source": [
    "## Finally, copy all the files for that day.\n",
    "* --include will allow for the glob * argument to select particular files\n",
    "* the { } allow for Python variables to be run as strings in teh rclone commands\n",
    "* the ./ argument at the end is the path where the files will be downloaded to"
   ]
  },
  {
   "cell_type": "code",
   "execution_count": 22,
   "metadata": {},
   "outputs": [
    {
     "name": "stdout",
     "output_type": "stream",
     "text": [
      "           0 2019-07-18 12:20:06        -1 ABI-L1b-RadC\r\n",
      "           0 2019-07-18 12:20:06        -1 ABI-L1b-RadF\r\n",
      "           0 2019-07-18 12:20:06        -1 ABI-L1b-RadM\r\n",
      "           0 2019-07-18 12:20:06        -1 ABI-L2-CMIPC\r\n",
      "           0 2019-07-18 12:20:06        -1 ABI-L2-CMIPF\r\n",
      "           0 2019-07-18 12:20:06        -1 ABI-L2-CMIPM\r\n",
      "           0 2019-07-18 12:20:06        -1 ABI-L2-FDCC\r\n",
      "           0 2019-07-18 12:20:06        -1 ABI-L2-FDCF\r\n",
      "           0 2019-07-18 12:20:06        -1 ABI-L2-MCMIPC\r\n",
      "           0 2019-07-18 12:20:06        -1 ABI-L2-MCMIPF\r\n",
      "           0 2019-07-18 12:20:06        -1 ABI-L2-MCMIPM\r\n",
      "           0 2019-07-18 12:20:06        -1 GLM-L2-LCFA\r\n"
     ]
    }
   ],
   "source": [
    "! rclone lsd publicAWS:noaa-goes17/"
   ]
  },
  {
   "cell_type": "code",
   "execution_count": 2,
   "metadata": {},
   "outputs": [
    {
     "name": "stdout",
     "output_type": "stream",
     "text": [
      "           0 2019-08-07 15:11:48        -1 2018\r\n",
      "           0 2019-08-07 15:11:48        -1 2019\r\n"
     ]
    }
   ],
   "source": [
    "! rclone lsd publicAWS:noaa-goes17/ABI-L2-MCMIPC/"
   ]
  },
  {
   "cell_type": "code",
   "execution_count": 5,
   "metadata": {},
   "outputs": [
    {
     "name": "stdout",
     "output_type": "stream",
     "text": [
      " 65281561 OR_ABI-L2-MCMIPC-M3_G16_s20183001802195_e20183001804567_c20183001805094.nc\r\n",
      " 65261838 OR_ABI-L2-MCMIPC-M3_G16_s20183001807195_e20183001809568_c20183001810084.nc\r\n",
      " 65255634 OR_ABI-L2-MCMIPC-M3_G16_s20183001812195_e20183001814567_c20183001815077.nc\r\n",
      " 65251994 OR_ABI-L2-MCMIPC-M3_G16_s20183001817195_e20183001819567_c20183001820086.nc\r\n",
      " 65241906 OR_ABI-L2-MCMIPC-M3_G16_s20183001822195_e20183001824567_c20183001825081.nc\r\n",
      " 65230631 OR_ABI-L2-MCMIPC-M3_G16_s20183001827195_e20183001829567_c20183001830076.nc\r\n",
      " 65223487 OR_ABI-L2-MCMIPC-M3_G16_s20183001832194_e20183001834567_c20183001835092.nc\r\n",
      " 65220899 OR_ABI-L2-MCMIPC-M3_G16_s20183001837194_e20183001839567_c20183001840082.nc\r\n",
      " 65218711 OR_ABI-L2-MCMIPC-M3_G16_s20183001842194_e20183001844567_c20183001845074.nc\r\n",
      " 65218420 OR_ABI-L2-MCMIPC-M3_G16_s20183001847194_e20183001849567_c20183001850092.nc\r\n",
      " 65218299 OR_ABI-L2-MCMIPC-M3_G16_s20183001852194_e20183001854567_c20183001855082.nc\r\n",
      " 65212966 OR_ABI-L2-MCMIPC-M3_G16_s20183001857194_e20183001859567_c20183001900073.nc\r\n"
     ]
    }
   ],
   "source": [
    "! rclone ls publicAWS:noaa-goes16/ABI-L2-MCMIPC/2018/300/18/"
   ]
  },
  {
   "cell_type": "code",
   "execution_count": 1,
   "metadata": {},
   "outputs": [
    {
     "name": "stdout",
     "output_type": "stream",
     "text": [
      " 15033821 OR_ABI-L1b-RadC-M6C01_G16_s20191851801261_e20191851804034_c20191851804081.nc\r\n",
      " 15055199 OR_ABI-L1b-RadC-M6C01_G16_s20191851806261_e20191851809034_c20191851809079.nc\r\n",
      " 15074201 OR_ABI-L1b-RadC-M6C01_G16_s20191851811261_e20191851814034_c20191851814083.nc\r\n",
      " 15094612 OR_ABI-L1b-RadC-M6C01_G16_s20191851816261_e20191851819034_c20191851819082.nc\r\n",
      " 15111912 OR_ABI-L1b-RadC-M6C01_G16_s20191851821261_e20191851824034_c20191851824081.nc\r\n",
      " 15126424 OR_ABI-L1b-RadC-M6C01_G16_s20191851826261_e20191851829034_c20191851829080.nc\r\n",
      " 15135624 OR_ABI-L1b-RadC-M6C01_G16_s20191851831261_e20191851834034_c20191851834083.nc\r\n",
      " 15136358 OR_ABI-L1b-RadC-M6C01_G16_s20191851836261_e20191851839034_c20191851839081.nc\r\n",
      " 15130867 OR_ABI-L1b-RadC-M6C01_G16_s20191851841261_e20191851844034_c20191851844081.nc\r\n",
      " 15115812 OR_ABI-L1b-RadC-M6C01_G16_s20191851846261_e20191851849034_c20191851849083.nc\r\n",
      " 15097068 OR_ABI-L1b-RadC-M6C01_G16_s20191851851261_e20191851854034_c20191851854083.nc\r\n",
      " 15068539 OR_ABI-L1b-RadC-M6C01_G16_s20191851856261_e20191851859034_c20191851859079.nc\r\n"
     ]
    }
   ],
   "source": [
    "! rclone --include \"OR_ABI-L1b-RadC-M6C01*.nc\" ls publicAWS:noaa-goes16/ABI-L1b-RadC/2019/185/18/"
   ]
  },
  {
   "cell_type": "code",
   "execution_count": 15,
   "metadata": {},
   "outputs": [],
   "source": [
    "Year = 2019\n",
    "Julian_Day = 191"
   ]
  },
  {
   "cell_type": "code",
   "execution_count": 24,
   "metadata": {},
   "outputs": [
    {
     "name": "stdout",
     "output_type": "stream",
     "text": [
      "/Users/chowdahead/Downloads/GOES_Data\n"
     ]
    }
   ],
   "source": [
    "cd ~/Downloads/GOES_Data/"
   ]
  },
  {
   "cell_type": "code",
   "execution_count": 27,
   "metadata": {},
   "outputs": [
    {
     "name": "stdout",
     "output_type": "stream",
     "text": [
      "CPU times: user 6.57 s, sys: 2.08 s, total: 8.65 s\n",
      "Wall time: 3min 20s\n"
     ]
    }
   ],
   "source": [
    "%%time\n",
    "! rclone --include \"OR_ABI-L2-MCMIPC-M6_G16*.nc\" copy publicAWS:noaa-goes16/ABI-L2-MCMIPC/2019/185/18/ /Users/chowdahead/Downloads/GOES_Data/2019/185/18/"
   ]
  },
  {
   "cell_type": "code",
   "execution_count": 6,
   "metadata": {},
   "outputs": [
    {
     "name": "stdout",
     "output_type": "stream",
     "text": [
      "Usage:\r\n",
      "  rclone copy source:path dest:path [flags]\r\n",
      "\r\n",
      "Flags:\r\n",
      "  -h, --help   help for copy\r\n",
      "\r\n",
      "Use \"rclone [command] --help\" for more information about a command.\r\n",
      "Use \"rclone help flags\" for to see the global flags.\r\n",
      "Use \"rclone help backends\" for a list of supported services.\r\n",
      "Command copy needs 2 arguments minimum: you provided 1 non flag arguments: [\"publicAWS:noaa-goes16/ABI-L2-MCMIPC/2019/185/18/\"]\r\n"
     ]
    }
   ],
   "source": [
    "! rclone --include \"OR_ABI-L2-MCMIPC-M6_G16*.nc\" copy publicAWS:noaa-goes16/ABI-L2-MCMIPC/2019/185/18/"
   ]
  },
  {
   "cell_type": "code",
   "execution_count": null,
   "metadata": {},
   "outputs": [],
   "source": []
  }
 ],
 "metadata": {
  "kernelspec": {
   "display_name": "Python 3",
   "language": "python",
   "name": "python3"
  },
  "language_info": {
   "codemirror_mode": {
    "name": "ipython",
    "version": 3
   },
   "file_extension": ".py",
   "mimetype": "text/x-python",
   "name": "python",
   "nbconvert_exporter": "python",
   "pygments_lexer": "ipython3",
   "version": "3.7.3"
  }
 },
 "nbformat": 4,
 "nbformat_minor": 2
}
