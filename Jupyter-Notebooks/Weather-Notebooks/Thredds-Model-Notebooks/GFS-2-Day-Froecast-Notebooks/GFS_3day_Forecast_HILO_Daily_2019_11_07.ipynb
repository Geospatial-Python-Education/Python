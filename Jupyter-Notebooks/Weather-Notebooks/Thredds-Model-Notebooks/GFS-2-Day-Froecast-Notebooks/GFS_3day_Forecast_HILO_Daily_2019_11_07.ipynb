{
 "cells": [
  {
   "cell_type": "markdown",
   "metadata": {},
   "source": [
    "# GFS Forecast Maps from Thredds Server via NCSS and Siphon\n",
    "# MSLP w/ Highs and Lows and Thickness"
   ]
  },
  {
   "cell_type": "markdown",
   "metadata": {},
   "source": [
    "## Justin Richling\n",
    "## 11/07/19\n",
    "* Included updates to THREDDS catalog heirarchy"
   ]
  },
  {
   "cell_type": "markdown",
   "metadata": {},
   "source": [
    "https://doi.org/10.6084/m9.figshare.5244637.v1"
   ]
  },
  {
   "cell_type": "code",
   "execution_count": 1,
   "metadata": {},
   "outputs": [],
   "source": [
    "# System Tools\n",
    "import os\n",
    "\n",
    "# Importing Datetime Libraries\n",
    "from datetime import datetime, timedelta\n",
    "\n",
    "# CartoPy Map Plotting Libraires\n",
    "import cartopy.crs as ccrs\n",
    "import cartopy.feature as cfeature\n",
    "\n",
    "# Numerical and Scientific Libraries\n",
    "import numpy as np\n",
    "from scipy.ndimage import gaussian_filter\n",
    "\n",
    "# Accessing Data from XLM Catalog via Siphon Libraries\n",
    "from siphon.catalog import TDSCatalog\n",
    "from siphon.ncss import NCSS\n",
    "\n",
    "# MetPy Libraries\n",
    "from metpy.plots import add_metpy_logo\n",
    "\n",
    "# NetCDF Libraries\n",
    "from netCDF4 import num2date\n",
    "\n",
    "# Matplotlib Plotting Libraries\n",
    "import matplotlib.pyplot as plt\n",
    "from matplotlib import patheffects\n",
    "\n",
    "# Warnings\n",
    "import warnings\n",
    "warnings.filterwarnings('ignore')"
   ]
  },
  {
   "cell_type": "code",
   "execution_count": 2,
   "metadata": {},
   "outputs": [],
   "source": [
    "# Set the font \n",
    "font = {'family': 'serif',\n",
    "        'color':  'darkred',\n",
    "        'weight': 'normal',\n",
    "        'size': 18,\n",
    "        }"
   ]
  },
  {
   "cell_type": "markdown",
   "metadata": {},
   "source": [
    "## Helper Functions"
   ]
  },
  {
   "cell_type": "code",
   "execution_count": 3,
   "metadata": {},
   "outputs": [],
   "source": [
    "# Thanks to the crew over at Metpy for this handy little function\n",
    "def find_time_var(var, time_basename='time'):\n",
    "    for coord_name in var.coordinates.split():\n",
    "        if coord_name.startswith(time_basename):\n",
    "            return coord_name\n",
    "    raise ValueError('No time variable found for ' + var.name)"
   ]
  },
  {
   "cell_type": "code",
   "execution_count": 4,
   "metadata": {},
   "outputs": [],
   "source": [
    "# MetPy Function\n",
    "def plot_maxmin_points(AX,lon, lat, data, extrema, nsize, symbol, color='k',\n",
    "                       plotValue=True, transform=None):\n",
    "    \"\"\"\n",
    "    This function will find and plot relative maximum and minimum for a 2D grid. The function\n",
    "    can be used to plot an H for maximum values (e.g., High pressure) and an L for minimum\n",
    "    values (e.g., low pressue). It is best to used filetered data to obtain  a synoptic scale\n",
    "    max/min value. The symbol text can be set to a string value and optionally the color of the\n",
    "    symbol and any plotted value can be set with the parameter color\n",
    "    lon = plotting longitude values (2D)\n",
    "    lat = plotting latitude values (2D)\n",
    "    data = 2D data that you wish to plot the max/min symbol placement\n",
    "    extrema = Either a value of max for Maximum Values or min for Minimum Values\n",
    "    nsize = Size of the grid box to filter the max and min values to plot a reasonable number\n",
    "    symbol = String to be placed at location of max/min value\n",
    "    color = String matplotlib colorname to plot the symbol (and numerica value, if plotted)\n",
    "    plot_value = Boolean (True/False) of whether to plot the numeric value of max/min point\n",
    "    The max/min symbol will be plotted on the current axes within the bounding frame\n",
    "    (e.g., clip_on=True)\n",
    "    \"\"\"\n",
    "    from scipy.ndimage.filters import maximum_filter, minimum_filter\n",
    "\n",
    "    if (extrema == 'max'):\n",
    "        data_ext = maximum_filter(data, nsize, mode='nearest')\n",
    "    elif (extrema == 'min'):\n",
    "        data_ext = minimum_filter(data, nsize, mode='nearest')\n",
    "    else:\n",
    "        raise ValueError('Value for hilo must be either max or min')\n",
    "    \n",
    "    mxy, mxx = np.where(data_ext == data)\n",
    "    #print(mxy,mxx)\n",
    "\n",
    "    for i in range(len(mxy)):\n",
    "        #ax.text(lon[mxy[i], mxx[i]], lat[mxy[i], mxx[i]], symbol, color=color, size=24,\n",
    "        #        clip_on=True, horizontalalignment='center', verticalalignment='center',\n",
    "        #        transform=transform)\n",
    "        #ax.text(lon[mxy[i], mxx[i]], lat[mxy[i], mxx[i]],\n",
    "        #        '\\n' + str(np.int(data[mxy[i], mxx[i]])),\n",
    "        #        color=color, size=12, clip_on=True, fontweight='bold',\n",
    "        #        horizontalalignment='center', verticalalignment='top', transform=transform)\n",
    "        outline_effect = [patheffects.withStroke(linewidth=2.5, foreground='black')]\n",
    "        \n",
    "        A = AX.text(lon[mxx[i]], lat[mxy[i]], symbol, color=color, size=24,\n",
    "                clip_on=True, horizontalalignment='center', verticalalignment='center',\n",
    "                transform=transform)\n",
    "        A.set_path_effects(outline_effect)\n",
    "        \n",
    "        B = AX.text(lon[mxx[i]], lat[mxy[i]]-0.66,\n",
    "                str(np.int(data[mxy[i], mxx[i]])),\n",
    "                color=color, size=12, clip_on=True, fontweight='bold',\n",
    "                horizontalalignment='center', verticalalignment='top', transform=transform)\n",
    "        B.set_path_effects(outline_effect)\n",
    "        \n",
    "        \n",
    "        #AX.text(lon[mxx[i]], lat[mxy[i]],\n",
    "        #        '\\n' + str(np.int(data[mxy[i], mxx[i]])),\n",
    "        #        color=color, size=12, clip_on=True, fontweight='bold',\n",
    "        #        horizontalalignment='center', verticalalignment='top', transform=transform)\n",
    "        \n",
    "        #text_time = ax.text(.995, 0.01, \n",
    "        #    Time,\n",
    "        #    horizontalalignment='right', transform=ax.transAxes,\n",
    "        #    color='white', fontsize=12, weight='bold',zorder=15)\n",
    "\n",
    "        #text_time2 = ax.text(0.005, 0.01, \n",
    "        #            \"NWS Radar (dbz)\",\n",
    "        #            horizontalalignment='left', transform=ax.transAxes,\n",
    "        #            color='white', fontsize=12, weight='bold',zorder=15)\n",
    "\n",
    "        #outline_effect = [patheffects.withStroke(linewidth=5, foreground='black')]\n",
    "        #a.set_path_effects(outline_effect)\n",
    "        #b.set_path_effects(outline_effect)"
   ]
  },
  {
   "cell_type": "markdown",
   "metadata": {},
   "source": [
    "<h2>----------------------------------------------//---------------------------------------------------------</h2>"
   ]
  },
  {
   "cell_type": "markdown",
   "metadata": {},
   "source": [
    "## Set the Map Projection"
   ]
  },
  {
   "cell_type": "code",
   "execution_count": 5,
   "metadata": {},
   "outputs": [],
   "source": [
    "# Set Projection of Data\n",
    "datacrs = ccrs.PlateCarree()\n",
    "\n",
    "# Set Projection of Plot\n",
    "plotcrs = ccrs.LambertConformal(central_latitude=[30, 60], central_longitude=-100)\n",
    "\n",
    "# Add Map Features\n",
    "states_provinces = cfeature.NaturalEarthFeature(category='cultural',\n",
    "    name='admin_1_states_provinces_lakes',scale='50m', facecolor='none')\n",
    "\n",
    "country_borders = cfeature.NaturalEarthFeature(category='cultural',\n",
    "    name='admin_0_countries',scale='50m', facecolor='none')\n",
    "\n",
    "# Colorbar Axis Placement (under figure)\n",
    "colorbar_axis = [0.183, 0.09, 0.659, 0.03] # [left, bottom, width, height]\n",
    "\n",
    "# Lat/Lon Extents [lon0,lon1,lat0,lat1]\n",
    "extent = [-130., -70, 20., 60.]"
   ]
  },
  {
   "cell_type": "markdown",
   "metadata": {},
   "source": [
    "<h2>----------------------------------------------//---------------------------------------------------------</h2>"
   ]
  },
  {
   "cell_type": "markdown",
   "metadata": {},
   "source": [
    "## Figure out where the saved maps will go"
   ]
  },
  {
   "cell_type": "code",
   "execution_count": 6,
   "metadata": {},
   "outputs": [
    {
     "name": "stdout",
     "output_type": "stream",
     "text": [
      "12 2019 11\n",
      "/Users/chowdahead/Desktop/Weather_Blog/2019/11_12/\n"
     ]
    }
   ],
   "source": [
    "now = datetime.utcnow()\n",
    "#now = datetime(2019,4,10,0,0)\n",
    "today_day = int('{0:%d}'.format(now))\n",
    "today_year = int('{0:%Y}'.format(now))\n",
    "today_month = int('{0:%m}'.format(now))\n",
    "print(today_day,today_year,today_month)\n",
    "\n",
    "\n",
    "# Set a path to save the plots with string format for the date to set the month and day\n",
    "im_save_path =\"/path/to/saved/images/\"\n",
    "im_save_path =\"/Users/chowdahead/Desktop/Weather_Blog/{}/{}_{}/\".format(today_year,today_month,today_day)\n",
    "print(im_save_path)\n",
    "\n",
    "# Check to see if the folder already exists, if not create it\n",
    "if not os.path.isdir(im_save_path):\n",
    "    os.makedirs(im_save_path)\n",
    "\n",
    "# Uncomment if you want to automatically change to the map folder    \n",
    "#os.chdir(im_save_path)"
   ]
  },
  {
   "cell_type": "markdown",
   "metadata": {},
   "source": [
    "<h2>----------------------------------------------//---------------------------------------------------------</h2>\n",
    "<h2>----------------------------------------------//---------------------------------------------------------</h2>"
   ]
  },
  {
   "cell_type": "markdown",
   "metadata": {
    "collapsed": true
   },
   "source": [
    "<h1><font style=\"font-size:32px\"><center>-- Plotting all of the GFS forecast hours for the current day --</center></font></h1>"
   ]
  },
  {
   "cell_type": "markdown",
   "metadata": {},
   "source": [
    "<h2><font><center>-- Highs/Lows and 1000-500mb Thickness --</center></font></h2>"
   ]
  },
  {
   "cell_type": "markdown",
   "metadata": {},
   "source": [
    "<h2>----------------------------------------------//---------------------------------------------------------</h2>"
   ]
  },
  {
   "cell_type": "code",
   "execution_count": 17,
   "metadata": {},
   "outputs": [
    {
     "name": "stdout",
     "output_type": "stream",
     "text": [
      "2019-11-12 00:00:00\n",
      "done.\n"
     ]
    }
   ],
   "source": [
    "# Request the GFS data from the thredds server\n",
    "gfs = TDSCatalog('http://thredds-jetstream.unidata.ucar.edu/thredds/catalog/grib/'\n",
    "                 'NCEP/GFS/Global_0p5deg/catalog.xml')\n",
    "\n",
    "dataset = list(gfs.datasets.values())[1]\n",
    "#print(dataset.access_urls)\n",
    "\n",
    "# Create NCSS object to access the NetcdfSubset\n",
    "ncss = NCSS(dataset.access_urls['NetcdfSubset'])\n",
    "\n",
    "# get current date and time\n",
    "#now = forecast_times[0]\n",
    "now = datetime(today_year,today_month,today_day,0,0)\n",
    "# define time range you want the data for\n",
    "start = now\n",
    "print(start)\n",
    "delt_t = 48\n",
    "end = now + timedelta(hours=delt_t)\n",
    "\n",
    "query = ncss.query()\n",
    "query.time_range(start, end)\n",
    "query.lonlat_box(north=60, south=20, east=310, west=230)\n",
    "query.accept('netcdf4')\n",
    "query.variables(\"MSLP_Eta_model_reduction_msl\",\"Geopotential_height_isobaric\")\n",
    "\n",
    "\n",
    "# Request data for the variables you want to use\n",
    "data = ncss.get_data(query)\n",
    "\n",
    "# Pull out the lat and lon data\n",
    "lats = data.variables['lat'][:]\n",
    "lons = data.variables['lon'][:]\n",
    "\n",
    "# Get time into a datetime object\n",
    "time_var = data.variables[find_time_var(data.variables['MSLP_Eta_model_reduction_msl'])]\n",
    "time_var = num2date(time_var[:], time_var.units).tolist()\n",
    "time_strings = [t.strftime('%m/%d %H:%M') for t in time_var]\n",
    "\n",
    "# Combine 1D latitude and longitudes into a 2D grid of locations\n",
    "lon_2d, lat_2d = np.meshgrid(lons, lats)\n",
    "\n",
    "time_var = data.variables[find_time_var(data.variables[\"MSLP_Eta_model_reduction_msl\"])]\n",
    "time_final = num2date(time_var[:].squeeze(), time_var.units)\n",
    "\n",
    "mslp_name = \"MSLP_Eta_model_reduction_msl\"\n",
    "hgt_name = \"Geopotential_height_isobaric\"\n",
    "\n",
    "mslp = data.variables[mslp_name][:]/100\n",
    "hgt = data.variables[hgt_name][:]\n",
    "\n",
    "print(\"done.\")"
   ]
  },
  {
   "cell_type": "code",
   "execution_count": 31,
   "metadata": {},
   "outputs": [],
   "source": [
    "def HiLo_Thck(time_index):\n",
    "    time = time_strings[time_index]\n",
    "    \n",
    "    kw_clabels = {'fontsize': 11, 'inline': True, 'inline_spacing': 5, 'fmt': '%i',\n",
    "              'rightside_up': True, 'use_clabeltext': True}\n",
    "    \n",
    "    fig = plt.figure(figsize=(17., 11.))\n",
    "\n",
    "    add_metpy_logo(fig, 25, 925, size='small')\n",
    "\n",
    "# Add the map \n",
    "    ax = plt.subplot(111, projection=plotcrs)\n",
    "\n",
    "# Set extent and plot map lines\n",
    "    ax.set_extent(extent, datacrs)\n",
    "    \n",
    "    ax.coastlines(resolution='50m')\n",
    "\n",
    "    import cartopy.feature as cfeature\n",
    "    import cartopy.io.shapereader as shpreader\n",
    "    political_boundaries = cfeature.NaturalEarthFeature(category='cultural',\n",
    "                                   name='admin_0_boundary_lines_land',\n",
    "                                   scale='50m', facecolor='none')\n",
    "    \n",
    "    state_borders = cfeature.NaturalEarthFeature(\n",
    "                category='cultural', name='admin_1_states_provinces_lines',\n",
    "                scale='50m', facecolor='none')\n",
    "    ax.add_feature(state_borders, edgecolor='b', linewidth=1, zorder=3)\n",
    "    country_borders = cfeature.NaturalEarthFeature(category='cultural',\n",
    "                name='admin_0_countries',scale='50m', facecolor='none')\n",
    "    ax.add_feature(country_borders,edgecolor='b',linewidth=0.2)\n",
    "    \n",
    "# Add state/country boundaries to plot\n",
    "    ax.add_feature(cfeature.STATES)\n",
    "    ax.add_feature(cfeature.BORDERS)\n",
    "    \n",
    "    \n",
    "    file_time = str(time_final[i]).replace(\"-\",\"_\")\n",
    "    file_time = file_time.replace(\" \",\"_\")\n",
    "    file_time = file_time.replace(\":\",\"\")\n",
    "    file_time = file_time[:-2]\n",
    "    file_time = file_time+\"Z\"\n",
    "    \n",
    "    \n",
    "    title_time = \"{}\".format(today_year)+'-'+time_strings[i].replace(\"/\",\"-\")[:-5]\n",
    "    print(file_time)\n",
    "\n",
    "    init_hour = time_strings[0].replace(\"/\",\"-\")[-5:]+\"Z\"\n",
    "    forecast_hour = time_strings[i][-5:]+\"Z\"\n",
    "    \n",
    "    hgt_500 = hgt[time_strings.index(time),data.variables[\"isobaric6\"][:].tolist().index(50000),:,:]\n",
    "    hgt_1000 = hgt[time_strings.index(time),data.variables[\"isobaric6\"][:].tolist().index(100000),:,:]\n",
    "    thickness_1000_500 = gaussian_filter(hgt_500 - hgt_1000, sigma=3.0)\n",
    "\n",
    "# Plot Title\n",
    "    ax.set_title('GFS: MSLP w/ Highs/Lows, 1000-500mb Thickness (m)'+'\\n'+title_time, size=16, loc='left',fontdict=font)\n",
    "    ax.set_title('Init Hour: '+str(init_hour)+'\\nForecast Hour: '+str(forecast_hour), size=16, \n",
    "                 loc='right',fontdict=font)\n",
    "\n",
    "    \n",
    "                                            # 1000-500mb Thickness\n",
    "#---------------------------------------------------------------------------------------------------\n",
    "    clevs = (np.arange(0, 5400, 60), np.arange(5400,5401,1), np.arange(5460, 7000, 60))\n",
    "    colors = ('tab:blue', 'b', 'tab:red')\n",
    "    \n",
    "    for clevthick, color in zip(clevs, colors):\n",
    "        cs = ax.contour(lons, lats, thickness_1000_500, levels=clevthick, colors=color,\n",
    "                    linewidths=1.0, linestyles='dashed', transform=datacrs)\n",
    "        plt.clabel(cs, **kw_clabels)\n",
    "\n",
    "                                            # MSLP\n",
    "#---------------------------------------------------------------------------------------------------\n",
    "    clevmslp = np.arange(800., 1120., 4)\n",
    "    cs2 = ax.contour(lons, lats, mslp[time_strings.index(time),:,:], clevmslp, colors='k', linewidths=1.25,\n",
    "                 linestyles='solid', transform=datacrs)\n",
    "    plt.clabel(cs2, **kw_clabels)\n",
    "\n",
    "                                            # High and Low Symbols\n",
    "#---------------------------------------------------------------------------------------------------\n",
    "    plot_maxmin_points(ax,lons, lats, mslp[time_strings.index(time),:,:], 'max', 50, symbol='H', color='b',  transform=datacrs)\n",
    "    plot_maxmin_points(ax,lons, lats, mslp[time_strings.index(time),:,:], 'min', 25, symbol='L', color='r', transform=datacrs)\n",
    "    \n",
    "    GFS_HILO = im_save_path+\"GFS/HILO/\"\n",
    "    if not os.path.isdir(GFS_HILO):\n",
    "        os.makedirs(GFS_HILO)\n",
    "    outfile=GFS_HILO+\"HL_Thickness_Model_\"+file_time+\".png\"\n",
    "    fig.savefig(outfile,bbox_inches='tight',dpi=120)\n",
    "    plt.close(fig)"
   ]
  },
  {
   "cell_type": "code",
   "execution_count": 32,
   "metadata": {
    "scrolled": false
   },
   "outputs": [
    {
     "name": "stdout",
     "output_type": "stream",
     "text": [
      "2019_11_12_0000Z\n",
      "next.\n",
      "2019_11_12_0300Z\n",
      "next.\n",
      "2019_11_12_0600Z\n",
      "next.\n",
      "2019_11_12_0900Z\n",
      "next.\n",
      "2019_11_12_1200Z\n",
      "next.\n",
      "2019_11_12_1500Z\n",
      "next.\n",
      "2019_11_12_1800Z\n",
      "next.\n",
      "2019_11_12_2100Z\n",
      "next.\n",
      "2019_11_13_0000Z\n",
      "next.\n",
      "2019_11_13_0300Z\n",
      "next.\n",
      "2019_11_13_0600Z\n",
      "next.\n",
      "2019_11_13_0900Z\n",
      "next.\n",
      "2019_11_13_1200Z\n",
      "next.\n",
      "2019_11_13_1500Z\n",
      "next.\n",
      "2019_11_13_1800Z\n",
      "next.\n",
      "2019_11_13_2100Z\n",
      "next.\n",
      "All done.\n"
     ]
    }
   ],
   "source": [
    "# PV_Flux(time_index,PV=None,UpFlux=None,MSLP=None,mb500=None)\n",
    "    \n",
    "for i in range(0,int(delt_t/3)):\n",
    "    HiLo_Thck(i)\n",
    "    print(\"next.\")\n",
    "print(\"All done.\")"
   ]
  },
  {
   "cell_type": "code",
   "execution_count": null,
   "metadata": {},
   "outputs": [],
   "source": []
  }
 ],
 "metadata": {
  "kernelspec": {
   "display_name": "Python 3",
   "language": "python",
   "name": "python3"
  },
  "language_info": {
   "codemirror_mode": {
    "name": "ipython",
    "version": 3
   },
   "file_extension": ".py",
   "mimetype": "text/x-python",
   "name": "python",
   "nbconvert_exporter": "python",
   "pygments_lexer": "ipython3",
   "version": "3.7.3"
  }
 },
 "nbformat": 4,
 "nbformat_minor": 2
}
