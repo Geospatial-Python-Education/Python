{
 "cells": [
  {
   "cell_type": "markdown",
   "metadata": {},
   "source": [
    "# NDFD Forecast Maps from Thredds Server via NCSS and Siphon\n",
    "# 6-Hour Precip Accumulation\n",
    "### National Digital Forecast Database"
   ]
  },
  {
   "cell_type": "markdown",
   "metadata": {},
   "source": [
    "## Justin Richling\n",
    "## 11/15/18"
   ]
  },
  {
   "cell_type": "markdown",
   "metadata": {},
   "source": [
    "https://doi.org/10.6084/m9.figshare.5244637.v1"
   ]
  },
  {
   "cell_type": "code",
   "execution_count": 1,
   "metadata": {},
   "outputs": [],
   "source": [
    "# System Tools\n",
    "import os\n",
    "\n",
    "# Importing Datetime Libraries\n",
    "from datetime import datetime, timedelta\n",
    "\n",
    "# CartoPy Map Plotting Libraires\n",
    "import cartopy.crs as ccrs\n",
    "import cartopy.feature as cfeature\n",
    "\n",
    "# Numerical and Scientific Libraries\n",
    "import numpy as np\n",
    "from scipy.ndimage import gaussian_filter\n",
    "\n",
    "# Accessing Data from XLM Catalog via Siphon Libraries\n",
    "from siphon.catalog import TDSCatalog\n",
    "from siphon.ncss import NCSS\n",
    "\n",
    "# MetPy Libraries\n",
    "from metpy.plots import add_metpy_logo\n",
    "\n",
    "# NetCDF Libraries\n",
    "from netCDF4 import num2date\n",
    "\n",
    "# Matplotlib Plotting Libraries\n",
    "import matplotlib.pyplot as plt\n",
    "from matplotlib import patheffects\n",
    "\n",
    "# Warnings\n",
    "import warnings\n",
    "warnings.filterwarnings('ignore')"
   ]
  },
  {
   "cell_type": "code",
   "execution_count": 2,
   "metadata": {},
   "outputs": [],
   "source": [
    "# Set the font \n",
    "font = {'family': 'serif',\n",
    "        'color':  'darkred',\n",
    "        'weight': 'normal',\n",
    "        'size': 18,\n",
    "        }"
   ]
  },
  {
   "cell_type": "markdown",
   "metadata": {},
   "source": [
    "## Helper Functions"
   ]
  },
  {
   "cell_type": "code",
   "execution_count": 3,
   "metadata": {},
   "outputs": [],
   "source": [
    "# Thanks to the crew over at Metpy for this handy little function\n",
    "def find_time_var(var, time_basename='time'):\n",
    "    for coord_name in var.coordinates.split():\n",
    "        if coord_name.startswith(time_basename):\n",
    "            return coord_name\n",
    "    raise ValueError('No time variable found for ' + var.name)"
   ]
  },
  {
   "cell_type": "markdown",
   "metadata": {},
   "source": [
    "<h2>----------------------------------------------//---------------------------------------------------------</h2>"
   ]
  },
  {
   "cell_type": "markdown",
   "metadata": {},
   "source": [
    "## Set the Map Projection"
   ]
  },
  {
   "cell_type": "code",
   "execution_count": 4,
   "metadata": {},
   "outputs": [],
   "source": [
    "# Set Projection of Data\n",
    "datacrs = ccrs.PlateCarree()\n",
    "\n",
    "# Set Projection of Plot\n",
    "plotcrs = ccrs.LambertConformal(central_latitude=[30, 60], central_longitude=-100)\n",
    "\n",
    "# Add Map Features\n",
    "states_provinces = cfeature.NaturalEarthFeature(category='cultural',\n",
    "    name='admin_1_states_provinces_lakes',scale='50m', facecolor='none')\n",
    "\n",
    "country_borders = cfeature.NaturalEarthFeature(category='cultural',\n",
    "    name='admin_0_countries',scale='50m', facecolor='none')\n",
    "\n",
    "# Colorbar Axis Placement (under figure)\n",
    "colorbar_axis = [0.183, 0.09, 0.659, 0.03] # [left, bottom, width, height]\n",
    "\n",
    "# Lat/Lon Extents [lon0,lon1,lat0,lat1]\n",
    "extent = [-130., -70, 20., 60.]"
   ]
  },
  {
   "cell_type": "code",
   "execution_count": 5,
   "metadata": {},
   "outputs": [
    {
     "name": "stdout",
     "output_type": "stream",
     "text": [
      "19 2019 11\n",
      "/Users/chowdahead/Desktop/Weather_Blog/2019/11_19/\n"
     ]
    }
   ],
   "source": [
    "now = datetime.utcnow()\n",
    "#now = datetime(2019,4,10,0,0)\n",
    "today_day = int('{0:%d}'.format(now))\n",
    "today_year = int('{0:%Y}'.format(now))\n",
    "today_month = int('{0:%m}'.format(now))\n",
    "print(today_day,today_year,today_month)\n",
    "\n",
    "\n",
    "# Set a path to save the plots with string format for the date to set the month and day\n",
    "im_save_path =\"/path/to/saved/images/\"\n",
    "im_save_path =f\"/Users/chowdahead/Desktop/Weather_Blog/{today_year}/{today_month}_{today_day}/\"\n",
    "print(im_save_path)\n",
    "\n",
    "# Check to see if the folder already exists, if not create it\n",
    "if not os.path.isdir(im_save_path):\n",
    "    os.makedirs(im_save_path)\n",
    "\n",
    "# Uncomment if you want to automatically change to the map folder    \n",
    "#os.chdir(im_save_path)"
   ]
  },
  {
   "cell_type": "markdown",
   "metadata": {},
   "source": [
    "<h2>----------------------------------------------//---------------------------------------------------------</h2>"
   ]
  },
  {
   "cell_type": "markdown",
   "metadata": {},
   "source": [
    "<h1><font><center>-- 6-Hour Precipitation Accumulation --</center></font></h1>"
   ]
  },
  {
   "cell_type": "code",
   "execution_count": 7,
   "metadata": {},
   "outputs": [
    {
     "name": "stdout",
     "output_type": "stream",
     "text": [
      "2019-11-19 00:00:00\n",
      "done.\n"
     ]
    }
   ],
   "source": [
    "precip_name = \"Precipitation_rate_surface\"\n",
    "\n",
    "# Request the GFS data from the thredds server\n",
    "gfs = TDSCatalog('http://thredds-jetstream.unidata.ucar.edu/thredds/catalog/grib/'\n",
    "                 'NCEP/GFS/Global_0p5deg/catalog.xml')\n",
    "\n",
    "dataset = list(gfs.datasets.values())[1]\n",
    "#print(dataset.access_urls)\n",
    "\n",
    "# Create NCSS object to access the NetcdfSubset\n",
    "ncss = NCSS(dataset.access_urls['NetcdfSubset'])\n",
    "\n",
    "# get current date and time\n",
    "#now = forecast_times[0]\n",
    "now = datetime(today_year,today_month,today_day,0,0)\n",
    "# define time range you want the data for\n",
    "start = now\n",
    "print(start)\n",
    "delt_t = 48\n",
    "end = now + timedelta(hours=delt_t)\n",
    "\n",
    "query = ncss.query()\n",
    "query.time_range(start, end)\n",
    "query.lonlat_box(north=60, south=20, east=310, west=230)\n",
    "query.accept('netcdf4')\n",
    "query.variables(precip_name)\n",
    "\n",
    "\n",
    "# Request data for the variables you want to use\n",
    "data = ncss.get_data(query)\n",
    "\n",
    "# Pull out the lat and lon data\n",
    "lats = data.variables['lat'][:]\n",
    "lons = data.variables['lon'][:]\n",
    "\n",
    "# Get time into a datetime object\n",
    "time_var = data.variables[find_time_var(data.variables[precip_name])]\n",
    "time_var = num2date(time_var[:], time_var.units).tolist()\n",
    "time_strings = [t.strftime('%m/%d %H:%M') for t in time_var]\n",
    "\n",
    "# Combine 1D latitude and longitudes into a 2D grid of locations\n",
    "lon_2d, lat_2d = np.meshgrid(lons, lats)\n",
    "\n",
    "time_var = data.variables[find_time_var(data.variables[precip_name])]\n",
    "time_final = num2date(time_var[:].squeeze(), time_var.units)\n",
    "\n",
    "\n",
    "\n",
    "\n",
    "precip = data.variables[precip_name][:]\n",
    "Unit = data.variables[precip_name].units\n",
    "Unit = Unit.replace(\".\",\" \").replace(\"-2\",\"^{-2}\").replace(\"-1\",\"^{-1}\")\n",
    "Unit = \"$\"+Unit+\"$\"\n",
    "\n",
    "print(\"done.\")"
   ]
  },
  {
   "cell_type": "code",
   "execution_count": 14,
   "metadata": {},
   "outputs": [],
   "source": [
    "def Precip_Water(time_index):\n",
    "    time = time_strings[time_index]\n",
    "    \n",
    "    kw_clabels = {'fontsize': 11, 'inline': True, 'inline_spacing': 5, 'fmt': '%i',\n",
    "              'rightside_up': True, 'use_clabeltext': True}\n",
    "    \n",
    "    fig = plt.figure(figsize=(17., 11.))\n",
    "\n",
    "    add_metpy_logo(fig, 45, 975, size='small')\n",
    "\n",
    "# Add the map \n",
    "    ax = plt.subplot(111, projection=plotcrs)\n",
    "\n",
    "# Set extent and plot map lines\n",
    "    ax.set_extent(extent, datacrs)\n",
    "    \n",
    "    ax.coastlines(resolution='50m')\n",
    "\n",
    "    import cartopy.feature as cfeature\n",
    "    import cartopy.io.shapereader as shpreader\n",
    "    political_boundaries = cfeature.NaturalEarthFeature(category='cultural',\n",
    "                                   name='admin_0_boundary_lines_land',\n",
    "                                   scale='50m', facecolor='none')\n",
    "    \n",
    "    state_borders = cfeature.NaturalEarthFeature(\n",
    "                category='cultural', name='admin_1_states_provinces_lines',\n",
    "                scale='50m', facecolor='none')\n",
    "    ax.add_feature(state_borders, edgecolor='b', linewidth=1, zorder=3)\n",
    "    country_borders = cfeature.NaturalEarthFeature(category='cultural',\n",
    "                name='admin_0_countries',scale='50m', facecolor='none')\n",
    "    ax.add_feature(country_borders,edgecolor='b',linewidth=0.2)\n",
    "    \n",
    "# Add state/country boundaries to plot\n",
    "    ax.add_feature(cfeature.STATES)\n",
    "    ax.add_feature(cfeature.BORDERS)\n",
    "    \n",
    "    \n",
    "    file_time = str(time_final[i]).replace(\"-\",\"_\")\n",
    "    file_time = file_time.replace(\" \",\"_\")\n",
    "    file_time = file_time.replace(\":\",\"\")\n",
    "    file_time = file_time[:-2]\n",
    "    file_time = file_time+\"Z\"\n",
    "    \n",
    "    \n",
    "    title_time = \"{}\".format(today_year)+'-'+time_strings[i].replace(\"/\",\"-\")[:-5]\n",
    "    print(file_time)\n",
    "\n",
    "    init_hour = time_strings[0].replace(\"/\",\"-\")[-5:]+\"Z\"\n",
    "    forecast_hour = time_strings[i][-5:]+\"Z\"\n",
    "    \n",
    "    \n",
    "\n",
    "# Plot Title\n",
    "    ax.set_title('GFS: Precipital Water '+ \"(\"+Unit+\")\"+'\\n'+title_time, size=16, loc='left',fontdict=font)\n",
    "    #ax.set_title('GFS: Precipital Water'+'\\n'+title_time, size=16, loc='left',fontdict=font)\n",
    "    ax.set_title('Init Hour: '+str(init_hour)+'\\nForecast Hour: '+str(forecast_hour), size=16, \n",
    "                 loc='right',fontdict=font)\n",
    "\n",
    "    print(time_strings.index(time))\n",
    "                                            # Precipital Water\n",
    "#---------------------------------------------------------------------------------------------------\n",
    "    clevs = np.arange(0.00005, 0.0065, 0.00005)\n",
    "    cs2 = ax.contourf(lons, lats, precip[time_strings.index(time),:,:], 100, cmap='terrain_r',\n",
    "                  transform=datacrs)\n",
    "    #plt.clabel(cs2, **kw_clabels)\n",
    "    cbaxes = fig.add_axes(colorbar_axis) # [left, bottom, width, height]\n",
    "\n",
    "    cbar = plt.colorbar(cs2, orientation='horizontal',cax=cbaxes)\n",
    "\n",
    "    GFS_HILO = im_save_path+\"GFS/PrecipWater/\"\n",
    "    if not os.path.isdir(GFS_HILO):\n",
    "        os.makedirs(GFS_HILO)\n",
    "    outfile=GFS_HILO+\"GFS_0p5_Precip_Water_Entire\"+file_time+\".png\"\n",
    "    fig.savefig(outfile,bbox_inches='tight',dpi=120)\n",
    "    plt.close(fig)"
   ]
  },
  {
   "cell_type": "code",
   "execution_count": 11,
   "metadata": {},
   "outputs": [],
   "source": [
    "def Precip_Water(time_index):\n",
    "                                    # Setup Contour Label Options\n",
    "#---------------------------------------------------------------------------------------------------    \n",
    "    kw_clabels = {'fontsize': 11, 'inline': True, 'inline_spacing': 5, 'fmt': '%i',\n",
    "              'rightside_up': True, 'use_clabeltext': True}\n",
    "\n",
    "                                    # Setup Figure\n",
    "#---------------------------------------------------------------------------------------------------    \n",
    "    fig = plt.figure(figsize=(17., 11.))\n",
    "\n",
    "    add_metpy_logo(fig, 25, 950, size='small')\n",
    "\n",
    "                                    # Add the Map \n",
    "#---------------------------------------------------------------------------------------------------\n",
    "    ax = plt.subplot(111, projection=plotcrs)\n",
    "\n",
    "# Set extent and plot map lines\n",
    "    ax.set_extent(extent, datacrs)\n",
    "    \n",
    "    ax.coastlines(resolution='50m')\n",
    "\n",
    "                            # Add State/Country Boundaries to Plot\n",
    "#---------------------------------------------------------------------------------------------------    \n",
    "    state_borders = cfeature.NaturalEarthFeature(\n",
    "                category='cultural', name='admin_1_states_provinces_lines',\n",
    "                scale='50m', facecolor='none')\n",
    "    ax.add_feature(state_borders, edgecolor='b', linewidth=1, zorder=3)\n",
    "    \n",
    "    country_borders = cfeature.NaturalEarthFeature(category='cultural',\n",
    "                name='admin_0_countries',scale='50m', facecolor='none')\n",
    "    ax.add_feature(country_borders,edgecolor='b',linewidth=0.2)\n",
    "    \n",
    "    ax.add_feature(cfeature.STATES)\n",
    "    ax.add_feature(cfeature.BORDERS)\n",
    "        \n",
    "                                    # File and Title Times\n",
    "#---------------------------------------------------------------------------------------------------\n",
    "    # Time index for data variables\n",
    "    time = time_strings[time_index]\n",
    "    \n",
    "    # Set string for saved image file name\n",
    "    file_time = str(time_final[0]).replace(\"-\",\"_\").replace(\" \",\"_\").replace(\":\",\"\")[:-2]+\"Z\"\n",
    "    \n",
    "    # Set forecast date and hour  \n",
    "    forecast_date = \"{}\".format(today_year)+'-'+time_strings[time_index].replace(\"/\",\"-\")[:-5]\n",
    "    forecast_hour = time_strings[time_index][-5:]+\"Z\"\n",
    "    \n",
    "    # Set initialization date and hour \n",
    "    init_date = \"{}\".format(today_year)+'-'+time_strings[0].replace(\"/\",\"-\")[:-5]\n",
    "    init_hour = time_strings[0].replace(\"/\",\"-\")[-5:]+\"Z\"\n",
    "    \n",
    "    \n",
    "                                        # Plot Title\n",
    "#---------------------------------------------------------------------------------------------------\n",
    "    #ax.set_title('GFS: Precipital Water '+ \"(\"+Unit+\")\"+'\\n'+title_time, size=16, loc='left',fontdict=font)\n",
    "    ax.set_title('GFS 0.5$^{o}$ Global: Precipital Water '+ \"(\"+Unit+\")\", \n",
    "                 size=16, loc='left',fontdict=font)\n",
    "    \n",
    "    ax.set_title(f\"Init Hour: {init_date} {init_hour}\\nForecast Hour: {forecast_date} {forecast_hour}\",\n",
    "                 size=16, loc='right',fontdict=font)\n",
    "\n",
    "    \n",
    "                                            # Precipital Water\n",
    "#---------------------------------------------------------------------------------------------------\n",
    "    clevs = np.arange(0.00005, 0.0065, 0.00005)\n",
    "    cs2 = ax.contourf(lons, lats, precip[time_strings.index(time),:,:], 100, cmap='terrain_r',\n",
    "                  transform=datacrs)\n",
    "    #plt.clabel(cs2, **kw_clabels)\n",
    "    cbaxes = fig.add_axes(colorbar_axis) # [left, bottom, width, height]\n",
    "\n",
    "    cbar = plt.colorbar(cs2, orientation='horizontal',cax=cbaxes)\n",
    "\n",
    "\n",
    "                                        # Save Figure\n",
    "#---------------------------------------------------------------------------------------------------    \n",
    "    time_index *= 3\n",
    "    if time_index < 10:\n",
    "        times = f\"0{time_index}\"\n",
    "    else:\n",
    "        times = f\"{time_index}\"\n",
    "        \n",
    "    GFS_TPW = im_save_path+\"GFS/PrecipWater/\"\n",
    "    if not os.path.isdir(GFS_TPW):\n",
    "        os.makedirs(GFS_TPW)\n",
    "    outfile = f\"{GFS_TPW}GFS_0p5_Precip_Water_Entire_{file_time}_F{times}.png\"\n",
    "    fig.savefig(outfile,bbox_inches='tight',dpi=120)\n",
    "    plt.close(fig)"
   ]
  },
  {
   "cell_type": "code",
   "execution_count": 12,
   "metadata": {
    "scrolled": false
   },
   "outputs": [
    {
     "name": "stdout",
     "output_type": "stream",
     "text": [
      "next.\n",
      "next.\n",
      "next.\n",
      "next.\n",
      "next.\n",
      "next.\n",
      "next.\n",
      "next.\n",
      "next.\n",
      "next.\n",
      "next.\n",
      "next.\n",
      "next.\n",
      "next.\n",
      "next.\n",
      "next.\n",
      "All done.\n"
     ]
    }
   ],
   "source": [
    "for i in range(0,int(delt_t/3)):\n",
    "    Precip_Water(i)\n",
    "    print(\"next.\")\n",
    "print(\"All done.\")"
   ]
  },
  {
   "cell_type": "code",
   "execution_count": null,
   "metadata": {},
   "outputs": [],
   "source": []
  }
 ],
 "metadata": {
  "kernelspec": {
   "display_name": "Python 3",
   "language": "python",
   "name": "python3"
  },
  "language_info": {
   "codemirror_mode": {
    "name": "ipython",
    "version": 3
   },
   "file_extension": ".py",
   "mimetype": "text/x-python",
   "name": "python",
   "nbconvert_exporter": "python",
   "pygments_lexer": "ipython3",
   "version": "3.7.3"
  }
 },
 "nbformat": 4,
 "nbformat_minor": 2
}
