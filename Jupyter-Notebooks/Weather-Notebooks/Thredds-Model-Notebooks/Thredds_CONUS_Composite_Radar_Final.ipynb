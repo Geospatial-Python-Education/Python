{
 "cells": [
  {
   "cell_type": "markdown",
   "metadata": {},
   "source": [
    "![CONUS_Radar_2019_05_21_1200Z.png](Jupyter_Images/CONUS_Radar_2019_05_21_1200Z.png)\n",
    "CONUS_Radar_2019_05_21_1200Z.png"
   ]
  },
  {
   "cell_type": "code",
   "execution_count": 1,
   "metadata": {},
   "outputs": [],
   "source": [
    "from netCDF4 import Dataset\n",
    "from netCDF4 import num2date\n",
    "import glob, os\n",
    "\n",
    "import matplotlib.pyplot as plt\n",
    "\n",
    "import cartopy.feature as cfeature\n",
    "\n",
    "import cartopy.crs as ccrs\n",
    "\n",
    "import numpy as np\n",
    "\n",
    "from matplotlib import patheffects\n",
    "\n",
    "from siphon.catalog import TDSCatalog"
   ]
  },
  {
   "cell_type": "markdown",
   "metadata": {},
   "source": [
    "## THREDDS Catalog Data Access"
   ]
  },
  {
   "cell_type": "code",
   "execution_count": 2,
   "metadata": {},
   "outputs": [
    {
     "name": "stderr",
     "output_type": "stream",
     "text": [
      "/Users/chowdahead/miniconda3/lib/python3.7/site-packages/dask/config.py:168: YAMLLoadWarning: calling yaml.load() without Loader=... is deprecated, as the default Loader is unsafe. Please read https://msg.pyyaml.org/load for full details.\n",
      "  data = yaml.load(f.read()) or {}\n",
      "/Users/chowdahead/miniconda3/lib/python3.7/site-packages/distributed/config.py:20: YAMLLoadWarning: calling yaml.load() without Loader=... is deprecated, as the default Loader is unsafe. Please read https://msg.pyyaml.org/load for full details.\n",
      "  defaults = yaml.load(f)\n"
     ]
    }
   ],
   "source": [
    "from metpy.plots import ctables\n",
    "mycmap = ctables.registry.get_colortable(\"NWSReflectivity\")"
   ]
  },
  {
   "cell_type": "code",
   "execution_count": 3,
   "metadata": {},
   "outputs": [
    {
     "data": {
      "text/plain": [
       "Unidata NEXRAD Composites (GINI)"
      ]
     },
     "execution_count": 3,
     "metadata": {},
     "output_type": "execute_result"
    }
   ],
   "source": [
    "from siphon.catalog import TDSCatalog\n",
    "top_cat = TDSCatalog('http://thredds.ucar.edu/thredds/catalog.xml')\n",
    "ref = top_cat.catalog_refs['Radar Data']\n",
    "\n",
    "new_cat = ref.follow()\n",
    "model = new_cat.catalog_refs[3]\n",
    "model"
   ]
  },
  {
   "cell_type": "code",
   "execution_count": 8,
   "metadata": {},
   "outputs": [],
   "source": [
    "def Map(Year,Month,Day,Hour,Min):\n",
    "    \n",
    "    from siphon.catalog import TDSCatalog\n",
    "    top_cat = TDSCatalog('http://thredds.ucar.edu/thredds/catalog.xml')\n",
    "    ref = top_cat.catalog_refs['Radar Data']\n",
    "\n",
    "    new_cat = ref.follow()\n",
    "    model = new_cat.catalog_refs[4]\n",
    "    gfs_cat = model.follow()\n",
    "\n",
    "    ds = gfs_cat.datasets[0]\n",
    "    subset = ds.subset()\n",
    "    query_data = subset.query()\n",
    "        #query_data.lonlat_box(west=-130, east=-50, south=10, north=60)\n",
    "    from datetime import datetime, timedelta\n",
    "    #now = datetime.utcnow()\n",
    "    now = datetime(Year,Month,Day,Hour,Min)\n",
    "    #print(now)\n",
    "        # Allow for NetCDF files\n",
    "    query_data.accept('netcdf4')\n",
    "    #query_data.lonlat_box(west=-129, east=-64, south=21, north=48)\n",
    "    query_data.time(now)\n",
    "    query_data.variables('Base_reflectivity_surface_layer').add_lonlat()\n",
    "\n",
    "    # Finally attempt to access the data\n",
    "    data = subset.get_data(query_data)\n",
    "    #print(list(data.variables))\n",
    "\n",
    "    time = data.variables['time']\n",
    "    lon = data.variables['lon']\n",
    "    lat = data.variables['lat']\n",
    "    dtime = num2date(time[:],time.units)\n",
    "    X = data.variables['x'][:]\n",
    "    Y = data.variables['y'][:]\n",
    "\n",
    "    Time = dtime[0].strftime('%Y-%m-%d %H:%MZ')\n",
    "    print(Time)\n",
    "    reflec_data = data.variables['Base_reflectivity_surface_layer']\n",
    "    reflec = data.variables['Base_reflectivity_surface_layer'][:]\n",
    "\n",
    "    \n",
    "    \n",
    "    fig = plt.figure(figsize=(17., 11.))\n",
    "\n",
    "\n",
    "    # Add state and country boundaries to plot\n",
    "    states_boundaries = cfeature.NaturalEarthFeature(category='cultural',\n",
    "            name='admin_1_states_provinces_lakes',scale='50m', facecolor='none')\n",
    "\n",
    "    country_borders = cfeature.NaturalEarthFeature(category='cultural',\n",
    "            name='admin_0_countries',scale='50m', facecolor='none')\n",
    "\n",
    "    plot_proj = ccrs.LambertConformal(central_latitude=[30, 60], central_longitude=-100)\n",
    "\n",
    "    #plotcrs = ccrs.LambertConformal(central_longitude=cent_lon)\n",
    "    #pl = ccrs.PlateCarree(central_longitude=cent_lon)\n",
    "\n",
    "\n",
    "    ax = plt.subplot(111,projection=ccrs.LambertConformal())\n",
    "\n",
    "    ax.add_feature(states_boundaries,edgecolor='b',linewidth=1)\n",
    "    ax.add_feature(country_borders,edgecolor='b',linewidth=1)\n",
    "\n",
    "    # Lat/Lon Extents [lon0,lon1,lat0,lat1]\n",
    "    extent = [-130., -70, 20., 60.]\n",
    "    ax.set_extent(extent,ccrs.PlateCarree()) \n",
    "\n",
    "    #ax.imshow(reflec[0,:,:],cmap='nipy_spectral',interpolation='nearest',\n",
    "    #          extent=(-129.,-64,22,48),transform=ccrs.PlateCarree()) #transform=ccrs.PlateCarree()\n",
    "\n",
    "    #ax.contourf(lon[:],lat[:],reflec[0,:,:],cmap='nipy_spectral',transform=ccrs.PlateCarree())\n",
    "    RADAR_levs = np.arange(0,75,1)\n",
    "    cs = ax.pcolormesh(lon[:], lat[:], reflec[0,:,:], cmap=mycmap,transform=ccrs.PlateCarree(),vmin=0, vmax=75)\n",
    "    cbar = plt.colorbar(cs, orientation='vertical',pad=0.005,aspect=50)\n",
    "    text_time = ax.text(.995, 0.01, \n",
    "            Time,\n",
    "            horizontalalignment='right', transform=ax.transAxes,\n",
    "            color='white', fontsize=15, weight='bold')\n",
    "\n",
    "    text_time2 = ax.text(0.005, 0.01, \n",
    "                \"NWS Radar (dbz)\",\n",
    "                horizontalalignment='left', transform=ax.transAxes,\n",
    "                color='white', fontsize=15, weight='bold')\n",
    "\n",
    "    outline_effect = [patheffects.withStroke(linewidth=5, foreground='black')]\n",
    "    text_time.set_path_effects(outline_effect)\n",
    "    text_time2.set_path_effects(outline_effect)\n",
    "\n",
    "    # Plot Title\n",
    "    #plt.title('NWS Radar (dbz)',loc='left',fontsize=16)\n",
    "    #plt.title(Time,loc='right',fontsize=16)\n",
    "    #plt.show()\n",
    "    #plt.savefig(\"/Users/chowdahead/Desktop/Radar/Radar_plot_Lamb_data_Lamb_COLORMESH.png\",\n",
    "    #           bbox_inches='tight')\n",
    "    plt.savefig(\"/Users/chowdahead/Desktop/Weather_Blog/Radar/CONUS_Radar_\"\\\n",
    "                        +Time[0:10].replace(\"-\",\"_\")+\"_\"+Time[-6:].replace(\":\",\"\")+\".png\",bbox_inches=\"tight\")\n",
    "    plt.close(fig)\n",
    "\n",
    "\n"
   ]
  },
  {
   "cell_type": "code",
   "execution_count": 9,
   "metadata": {},
   "outputs": [
    {
     "name": "stdout",
     "output_type": "stream",
     "text": [
      "2019-07-12 12:00Z\n"
     ]
    }
   ],
   "source": [
    "Map(2019,7,12,12,0)"
   ]
  },
  {
   "cell_type": "raw",
   "metadata": {},
   "source": [
    "for i in range(16,19):\n",
    "    for j in range(12):\n",
    "        Map(2019,5,7,i,j*5)"
   ]
  },
  {
   "cell_type": "code",
   "execution_count": null,
   "metadata": {},
   "outputs": [],
   "source": []
  }
 ],
 "metadata": {
  "kernelspec": {
   "display_name": "Python 3",
   "language": "python",
   "name": "python3"
  },
  "language_info": {
   "codemirror_mode": {
    "name": "ipython",
    "version": 3
   },
   "file_extension": ".py",
   "mimetype": "text/x-python",
   "name": "python",
   "nbconvert_exporter": "python",
   "pygments_lexer": "ipython3",
   "version": "3.7.3"
  }
 },
 "nbformat": 4,
 "nbformat_minor": 2
}
