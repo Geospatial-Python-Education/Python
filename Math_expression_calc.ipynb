{
 "cells": [
  {
   "cell_type": "code",
   "execution_count": null,
   "metadata": {},
   "outputs": [],
   "source": [
    "import matplotlib.pyplot as plt\n",
    "import numpy as np\n",
    "from sympy import *"
   ]
  },
  {
   "cell_type": "code",
   "execution_count": 93,
   "metadata": {},
   "outputs": [
    {
     "name": "stdin",
     "output_type": "stream",
     "text": [
      "math expression:  x**3+25\n",
      "value:  2\n"
     ]
    },
    {
     "name": "stdout",
     "output_type": "stream",
     "text": [
      "33.0\n"
     ]
    }
   ],
   "source": [
    "expression = input(\"math expression: \")\n",
    "value = float(input(\"value: \"))\n",
    "\n",
    "code = '''\n",
    "def eq(x):\n",
    "    f = lambda x: {:s}\n",
    "    d = f(x)\n",
    "    return d\n",
    "'''.format(expression)\n",
    "#print(eq('x'))\n",
    "exec(code)\n",
    "\n",
    "print(eq(value))"
   ]
  },
  {
   "cell_type": "markdown",
   "metadata": {},
   "source": [
    "<h2>----------------------------------------</h2>\n",
    "<font color=red>!!Warning: Never use exec() in most practices!!</font>"
   ]
  },
  {
   "cell_type": "code",
   "execution_count": 131,
   "metadata": {},
   "outputs": [
    {
     "name": "stdout",
     "output_type": "stream",
     "text": [
      "x^{3} + 25\n"
     ]
    }
   ],
   "source": [
    "exec(\"print(f'{expression}')\")"
   ]
  },
  {
   "cell_type": "code",
   "execution_count": 132,
   "metadata": {},
   "outputs": [
    {
     "name": "stdout",
     "output_type": "stream",
     "text": [
      "x^{3} + 25\n"
     ]
    }
   ],
   "source": [
    "exec('print(\"%s\" % expression)')"
   ]
  },
  {
   "cell_type": "code",
   "execution_count": 94,
   "metadata": {},
   "outputs": [],
   "source": [
    "X = np.array(np.linspace(0,40,40))\n",
    "#Y = eq(X)"
   ]
  },
  {
   "cell_type": "code",
   "execution_count": 129,
   "metadata": {},
   "outputs": [],
   "source": [
    "expression = sympy.latex(eval(expression))\n",
    "expression_label = \"$\"+expression+\"$\""
   ]
  },
  {
   "cell_type": "code",
   "execution_count": 133,
   "metadata": {},
   "outputs": [
    {
     "data": {
      "image/png": "[encoded data removed]",
      "text/plain": [
       "<Figure size 432x288 with 1 Axes>"
      ]
     },
     "metadata": {
      "needs_background": "light"
     },
     "output_type": "display_data"
    }
   ],
   "source": [
    "plt.scatter(X,eq(X),c=\"r\")\n",
    "plt.plot(X,eq(X),c=\"k\")\n",
    "plt.ylabel(expression_label)\n",
    "plt.xlabel(\"x\")\n",
    "plt.show()"
   ]
  }
 ],
 "metadata": {
  "kernelspec": {
   "display_name": "Python 3",
   "language": "python",
   "name": "python3"
  },
  "language_info": {
   "codemirror_mode": {
    "name": "ipython",
    "version": 3
   },
   "file_extension": ".py",
   "mimetype": "text/x-python",
   "name": "python",
   "nbconvert_exporter": "python",
   "pygments_lexer": "ipython3",
   "version": "3.7.3"
  }
 },
 "nbformat": 4,
 "nbformat_minor": 4
}
